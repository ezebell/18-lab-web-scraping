{
 "cells": [
  {
   "cell_type": "markdown",
   "metadata": {},
   "source": [
    "# Web Scraping Lab\n",
    "\n",
    "You will find in this notebook some scrapy exercises to practise your scraping skills.\n",
    "\n",
    "**Tips:**\n",
    "\n",
    "- Check the response status code for each request to ensure you have obtained the intended contennt.\n",
    "- Print the response text in each request to understand the kind of info you are getting and its format.\n",
    "- Check for patterns in the response text to extract the data/info requested in each question.\n",
    "- Visit each url and take a look at its source through Chrome DevTools. You'll need to identify the html tags, special class names etc. used for the html content you are expected to extract."
   ]
  },
  {
   "cell_type": "markdown",
   "metadata": {},
   "source": [
    "- [Requests library](http://docs.python-requests.org/en/master/#the-user-guide) documentation \n",
    "- [Beautiful Soup Doc](https://www.crummy.com/software/BeautifulSoup/bs4/doc/)\n",
    "- [Urllib](https://docs.python.org/3/library/urllib.html#module-urllib)\n",
    "- [re lib](https://docs.python.org/3/library/re.html)\n",
    "- [lxml lib](https://lxml.de/)\n",
    "- [Scrapy](https://scrapy.org/)\n",
    "- [List of HTTP status codes](https://en.wikipedia.org/wiki/List_of_HTTP_status_codes)\n",
    "- [HTML basics](http://www.simplehtmlguide.com/cheatsheet.php)\n",
    "- [CSS basics](https://www.cssbasics.com/#page_start)"
   ]
  },
  {
   "cell_type": "markdown",
   "metadata": {},
   "source": [
    "#### Below are the libraries and modules you may need. `requests`,  `BeautifulSoup` and `pandas` are imported for you. If you prefer to use additional libraries feel free to uncomment them."
   ]
  },
  {
   "cell_type": "code",
   "execution_count": 14,
   "metadata": {},
   "outputs": [],
   "source": [
    "import requests\n",
    "from bs4 import BeautifulSoup\n",
    "import pandas as pd\n",
    "# from pprint import pprint\n",
    "# from lxml import html\n",
    "# from lxml.html import fromstring\n",
    "# import urllib.request\n",
    "# from urllib.request import urlopen\n",
    "# import random\n",
    "# import re\n",
    "# import scrapy"
   ]
  },
  {
   "cell_type": "markdown",
   "metadata": {},
   "source": [
    "#### Download, parse (using BeautifulSoup), and print the content from the Trending Developers page from GitHub:"
   ]
  },
  {
   "cell_type": "code",
   "execution_count": 15,
   "metadata": {},
   "outputs": [],
   "source": [
    "# This is the url you will scrape in this exercise\n",
    "url = 'https://github.com/trending/developers'"
   ]
  },
  {
   "cell_type": "code",
   "execution_count": 16,
   "metadata": {},
   "outputs": [
    {
     "data": {
      "text/plain": [
       "'\\n\\n\\n\\n\\n\\n\\n\\n\\n\\n\\n\\n\\n\\n\\n\\nTrending  developers on GitHub today · GitHub\\n\\n\\n\\n\\n\\n\\n\\n\\n\\n\\n\\n\\n\\n\\n\\n\\n\\n\\n\\n\\n\\n\\n\\n\\n\\n\\n\\n\\n\\n\\n\\n\\n\\n\\n\\n\\n\\n\\n\\n\\n\\n\\n\\n\\n\\n\\n\\n\\n\\n\\n\\n\\n\\n\\n\\n\\n\\n\\n\\n\\nSkip to content\\n\\n\\n\\n\\n\\n\\n\\n\\n\\n\\n\\n\\n\\n                Sign\\xa0up\\n              \\n\\n\\n\\n\\n\\n\\n\\n\\n\\n\\n\\n\\n\\n\\n\\n\\n                    Why GitHub?\\n                    \\n\\n\\n\\n\\nFeatures →\\n\\nCode review\\nProject management\\nIntegrations\\nActions\\nPackages\\nSecurity\\nTeam management\\nHosting\\nMobile\\n\\n\\nCustomer stories →\\nSecurity →\\n\\n\\n\\n\\n\\nTeam\\n\\n\\nEnterprise\\n\\n\\n\\n\\n                    Explore\\n                    \\n\\n\\n\\n\\n\\nExplore GitHub →\\n\\nLearn & contribute\\n\\nTopics\\nCollections\\nTrending\\nLearning Lab\\nOpen source guides\\n\\nConnect with others\\n\\nEvents\\nCommunity forum\\nGitHub Education\\n\\n\\n\\n\\n\\nMarketplace\\n\\n\\n\\n\\n                    Pricing\\n                    \\n\\n\\n\\n\\nPlans →\\n\\nCompare plans\\nContact Sales\\n\\n\\nNonprofit →\\nEducation →\\n\\n\\n\\n\\n\\n\\n\\n\\n\\n\\n\\n\\n\\n\\n\\n\\n\\n\\n\\n\\n\\n\\n\\n\\n\\n\\n\\n\\n\\n\\n        Search\\n      \\n\\n        All GitHub\\n      \\n↵\\n\\n\\n      Jump to\\n      ↵\\n\\n\\n\\n\\n\\n\\nNo suggested jump to results\\n\\n\\n\\n\\n\\n\\n\\n\\n\\n\\n\\n\\n\\n\\n\\n        Search\\n      \\n\\n        All GitHub\\n      \\n↵\\n\\n\\n      Jump to\\n      ↵\\n\\n\\n\\n\\n\\n\\n\\n\\n\\n\\n\\n\\n\\n\\n\\n        Search\\n      \\n\\n        All GitHub\\n      \\n↵\\n\\n\\n      Jump to\\n      ↵\\n\\n\\n\\n\\n\\n\\n \\n\\n\\n\\n          Sign\\xa0in\\n        \\n\\n              Sign\\xa0up\\n            \\n\\n\\n\\n\\n\\n\\n\\n\\n\\n\\n\\n\\n\\n{{ message }}\\n\\n\\n\\n\\n\\n\\n\\n\\n\\n\\nExplore\\nTopics\\nTrending\\nCollections\\nEvents\\nGitHub Sponsors\\n\\n\\n              Get email updates\\n \\n\\n\\n\\n\\n\\nTrending\\n\\n      These are the developers building the hot tools today.\\n    \\n\\n\\n\\n\\n\\n\\nRepositories\\nDevelopers\\n\\n\\n\\n\\n\\n    Language:\\n\\n    \\n        Any\\n \\n\\n\\n\\n        Select a language\\n\\n\\n\\n\\n\\n\\n\\n\\n\\n\\n\\n\\n\\n\\n\\n              C++\\n \\n\\n\\n              HTML\\n \\n\\n\\n              Java\\n \\n\\n\\n              JavaScript\\n \\n\\n\\n              PHP\\n \\n\\n\\n              Python\\n \\n\\n\\n              Ruby\\n \\n\\n\\n              Unknown languages\\n \\n\\n\\n              1C Enterprise\\n \\n\\n\\n              4D\\n \\n\\n\\n              ABAP\\n \\n\\n\\n              ABNF\\n \\n\\n\\n              ActionScript\\n \\n\\n\\n              Ada\\n \\n\\n\\n              Adobe Font Metrics\\n \\n\\n\\n              Agda\\n \\n\\n\\n              AGS Script\\n \\n\\n\\n              Alloy\\n \\n\\n\\n              Alpine Abuild\\n \\n\\n\\n              Altium Designer\\n \\n\\n\\n              AMPL\\n \\n\\n\\n              AngelScript\\n \\n\\n\\n              Ant Build System\\n \\n\\n\\n              ANTLR\\n \\n\\n\\n              ApacheConf\\n \\n\\n\\n              Apex\\n \\n\\n\\n              API Blueprint\\n \\n\\n\\n              APL\\n \\n\\n\\n              Apollo Guidance Computer\\n \\n\\n\\n              AppleScript\\n \\n\\n\\n              Arc\\n \\n\\n\\n              AsciiDoc\\n \\n\\n\\n              ASN.1\\n \\n\\n\\n              ASP\\n \\n\\n\\n              AspectJ\\n \\n\\n\\n              Assembly\\n \\n\\n\\n              Asymptote\\n \\n\\n\\n              ATS\\n \\n\\n\\n              Augeas\\n \\n\\n\\n              AutoHotkey\\n \\n\\n\\n              AutoIt\\n \\n\\n\\n              Awk\\n \\n\\n\\n              Ballerina\\n \\n\\n\\n              Batchfile\\n \\n\\n\\n              Befunge\\n \\n\\n\\n              BibTeX\\n \\n\\n\\n              Bison\\n \\n\\n\\n              BitBake\\n \\n\\n\\n              Blade\\n \\n\\n\\n              BlitzBasic\\n \\n\\n\\n              BlitzMax\\n \\n\\n\\n              Bluespec\\n \\n\\n\\n              Boo\\n \\n\\n\\n              Brainfuck\\n \\n\\n\\n              Brightscript\\n \\n\\n\\n              Zeek\\n \\n\\n\\n              C\\n \\n\\n\\n              C#\\n \\n\\n\\n              C++\\n \\n\\n\\n              C-ObjDump\\n \\n\\n\\n              C2hs Haskell\\n \\n\\n\\n              Cabal Config\\n \\n\\n\\n              Cap\\'n Proto\\n \\n\\n\\n              CartoCSS\\n \\n\\n\\n              Ceylon\\n \\n\\n\\n              Chapel\\n \\n\\n\\n              Charity\\n \\n\\n\\n              ChucK\\n \\n\\n\\n              Cirru\\n \\n\\n\\n              Clarion\\n \\n\\n\\n              Clean\\n \\n\\n\\n              Click\\n \\n\\n\\n              CLIPS\\n \\n\\n\\n              Clojure\\n \\n\\n\\n              Closure Templates\\n \\n\\n\\n              Cloud Firestore Security Rules\\n \\n\\n\\n              CMake\\n \\n\\n\\n              COBOL\\n \\n\\n\\n              CodeQL\\n \\n\\n\\n              CoffeeScript\\n \\n\\n\\n              ColdFusion\\n \\n\\n\\n              ColdFusion CFC\\n \\n\\n\\n              COLLADA\\n \\n\\n\\n              Common Lisp\\n \\n\\n\\n              Common Workflow Language\\n \\n\\n\\n              Component Pascal\\n \\n\\n\\n              CoNLL-U\\n \\n\\n\\n              Cool\\n \\n\\n\\n              Coq\\n \\n\\n\\n              Cpp-ObjDump\\n \\n\\n\\n              Creole\\n \\n\\n\\n              Crystal\\n \\n\\n\\n              CSON\\n \\n\\n\\n              Csound\\n \\n\\n\\n              Csound Document\\n \\n\\n\\n              Csound Score\\n \\n\\n\\n              CSS\\n \\n\\n\\n              CSV\\n \\n\\n\\n              Cuda\\n \\n\\n\\n              cURL Config\\n \\n\\n\\n              CWeb\\n \\n\\n\\n              Cycript\\n \\n\\n\\n              Cython\\n \\n\\n\\n              D\\n \\n\\n\\n              D-ObjDump\\n \\n\\n\\n              Dafny\\n \\n\\n\\n              Darcs Patch\\n \\n\\n\\n              Dart\\n \\n\\n\\n              DataWeave\\n \\n\\n\\n              desktop\\n \\n\\n\\n              Dhall\\n \\n\\n\\n              Diff\\n \\n\\n\\n              DIGITAL Command Language\\n \\n\\n\\n              dircolors\\n \\n\\n\\n              DirectX 3D File\\n \\n\\n\\n              DM\\n \\n\\n\\n              DNS Zone\\n \\n\\n\\n              Dockerfile\\n \\n\\n\\n              Dogescript\\n \\n\\n\\n              DTrace\\n \\n\\n\\n              Dylan\\n \\n\\n\\n              E\\n \\n\\n\\n              Eagle\\n \\n\\n\\n              Easybuild\\n \\n\\n\\n              EBNF\\n \\n\\n\\n              eC\\n \\n\\n\\n              Ecere Projects\\n \\n\\n\\n              ECL\\n \\n\\n\\n              ECLiPSe\\n \\n\\n\\n              EditorConfig\\n \\n\\n\\n              Edje Data Collection\\n \\n\\n\\n              edn\\n \\n\\n\\n              Eiffel\\n \\n\\n\\n              EJS\\n \\n\\n\\n              Elixir\\n \\n\\n\\n              Elm\\n \\n\\n\\n              Emacs Lisp\\n \\n\\n\\n              EmberScript\\n \\n\\n\\n              EML\\n \\n\\n\\n              EQ\\n \\n\\n\\n              Erlang\\n \\n\\n\\n              F#\\n \\n\\n\\n              F*\\n \\n\\n\\n              Factor\\n \\n\\n\\n              Fancy\\n \\n\\n\\n              Fantom\\n \\n\\n\\n              Faust\\n \\n\\n\\n              FIGlet Font\\n \\n\\n\\n              Filebench WML\\n \\n\\n\\n              Filterscript\\n \\n\\n\\n              fish\\n \\n\\n\\n              FLUX\\n \\n\\n\\n              Formatted\\n \\n\\n\\n              Forth\\n \\n\\n\\n              Fortran\\n \\n\\n\\n              Fortran Free Form\\n \\n\\n\\n              FreeMarker\\n \\n\\n\\n              Frege\\n \\n\\n\\n              Futhark\\n \\n\\n\\n              G-code\\n \\n\\n\\n              Game Maker Language\\n \\n\\n\\n              GAML\\n \\n\\n\\n              GAMS\\n \\n\\n\\n              GAP\\n \\n\\n\\n              GCC Machine Description\\n \\n\\n\\n              GDB\\n \\n\\n\\n              GDScript\\n \\n\\n\\n              GEDCOM\\n \\n\\n\\n              Genie\\n \\n\\n\\n              Genshi\\n \\n\\n\\n              Gentoo Ebuild\\n \\n\\n\\n              Gentoo Eclass\\n \\n\\n\\n              Gerber Image\\n \\n\\n\\n              Gettext Catalog\\n \\n\\n\\n              Gherkin\\n \\n\\n\\n              Git Attributes\\n \\n\\n\\n              Git Config\\n \\n\\n\\n              GLSL\\n \\n\\n\\n              Glyph\\n \\n\\n\\n              Glyph Bitmap Distribution Format\\n \\n\\n\\n              GN\\n \\n\\n\\n              Gnuplot\\n \\n\\n\\n              Go\\n \\n\\n\\n              Golo\\n \\n\\n\\n              Gosu\\n \\n\\n\\n              Grace\\n \\n\\n\\n              Gradle\\n \\n\\n\\n              Grammatical Framework\\n \\n\\n\\n              Graph Modeling Language\\n \\n\\n\\n              GraphQL\\n \\n\\n\\n              Graphviz (DOT)\\n \\n\\n\\n              Groovy\\n \\n\\n\\n              Groovy Server Pages\\n \\n\\n\\n              Hack\\n \\n\\n\\n              Haml\\n \\n\\n\\n              Handlebars\\n \\n\\n\\n              HAProxy\\n \\n\\n\\n              Harbour\\n \\n\\n\\n              Haskell\\n \\n\\n\\n              Haxe\\n \\n\\n\\n              HCL\\n \\n\\n\\n              HiveQL\\n \\n\\n\\n              HLSL\\n \\n\\n\\n              HolyC\\n \\n\\n\\n              HTML\\n \\n\\n\\n              HTML+Django\\n \\n\\n\\n              HTML+ECR\\n \\n\\n\\n              HTML+EEX\\n \\n\\n\\n              HTML+ERB\\n \\n\\n\\n              HTML+PHP\\n \\n\\n\\n              HTML+Razor\\n \\n\\n\\n              HTTP\\n \\n\\n\\n              HXML\\n \\n\\n\\n              Hy\\n \\n\\n\\n              HyPhy\\n \\n\\n\\n              IDL\\n \\n\\n\\n              Idris\\n \\n\\n\\n              Ignore List\\n \\n\\n\\n              IGOR Pro\\n \\n\\n\\n              Inform 7\\n \\n\\n\\n              INI\\n \\n\\n\\n              Inno Setup\\n \\n\\n\\n              Io\\n \\n\\n\\n              Ioke\\n \\n\\n\\n              IRC log\\n \\n\\n\\n              Isabelle\\n \\n\\n\\n              Isabelle ROOT\\n \\n\\n\\n              J\\n \\n\\n\\n              Jasmin\\n \\n\\n\\n              Java\\n \\n\\n\\n              Java Properties\\n \\n\\n\\n              Java Server Pages\\n \\n\\n\\n              JavaScript\\n \\n\\n\\n              JavaScript+ERB\\n \\n\\n\\n              JFlex\\n \\n\\n\\n              Jison\\n \\n\\n\\n              Jison Lex\\n \\n\\n\\n              Jolie\\n \\n\\n\\n              JSON\\n \\n\\n\\n              JSON with Comments\\n \\n\\n\\n              JSON5\\n \\n\\n\\n              JSONiq\\n \\n\\n\\n              JSONLD\\n \\n\\n\\n              Jsonnet\\n \\n\\n\\n              JSX\\n \\n\\n\\n              Julia\\n \\n\\n\\n              Jupyter Notebook\\n \\n\\n\\n              KiCad Layout\\n \\n\\n\\n              KiCad Legacy Layout\\n \\n\\n\\n              KiCad Schematic\\n \\n\\n\\n              Kit\\n \\n\\n\\n              Kotlin\\n \\n\\n\\n              KRL\\n \\n\\n\\n              LabVIEW\\n \\n\\n\\n              Lasso\\n \\n\\n\\n              Latte\\n \\n\\n\\n              Lean\\n \\n\\n\\n              Less\\n \\n\\n\\n              Lex\\n \\n\\n\\n              LFE\\n \\n\\n\\n              LilyPond\\n \\n\\n\\n              Limbo\\n \\n\\n\\n              Linker Script\\n \\n\\n\\n              Linux Kernel Module\\n \\n\\n\\n              Liquid\\n \\n\\n\\n              Literate Agda\\n \\n\\n\\n              Literate CoffeeScript\\n \\n\\n\\n              Literate Haskell\\n \\n\\n\\n              LiveScript\\n \\n\\n\\n              LLVM\\n \\n\\n\\n              Logos\\n \\n\\n\\n              Logtalk\\n \\n\\n\\n              LOLCODE\\n \\n\\n\\n              LookML\\n \\n\\n\\n              LoomScript\\n \\n\\n\\n              LSL\\n \\n\\n\\n              LTspice Symbol\\n \\n\\n\\n              Lua\\n \\n\\n\\n              M\\n \\n\\n\\n              M4\\n \\n\\n\\n              M4Sugar\\n \\n\\n\\n              Macaulay2\\n \\n\\n\\n              Makefile\\n \\n\\n\\n              Mako\\n \\n\\n\\n              Markdown\\n \\n\\n\\n              Marko\\n \\n\\n\\n              Mask\\n \\n\\n\\n              Mathematica\\n \\n\\n\\n              MATLAB\\n \\n\\n\\n              Maven POM\\n \\n\\n\\n              Max\\n \\n\\n\\n              MAXScript\\n \\n\\n\\n              mcfunction\\n \\n\\n\\n              MediaWiki\\n \\n\\n\\n              Mercury\\n \\n\\n\\n              Meson\\n \\n\\n\\n              Metal\\n \\n\\n\\n              Microsoft Developer Studio Project\\n \\n\\n\\n              MiniD\\n \\n\\n\\n              Mirah\\n \\n\\n\\n              mIRC Script\\n \\n\\n\\n              MLIR\\n \\n\\n\\n              Modelica\\n \\n\\n\\n              Modula-2\\n \\n\\n\\n              Modula-3\\n \\n\\n\\n              Module Management System\\n \\n\\n\\n              Monkey\\n \\n\\n\\n              Moocode\\n \\n\\n\\n              MoonScript\\n \\n\\n\\n              Motorola 68K Assembly\\n \\n\\n\\n              MQL4\\n \\n\\n\\n              MQL5\\n \\n\\n\\n              MTML\\n \\n\\n\\n              MUF\\n \\n\\n\\n              mupad\\n \\n\\n\\n              Muse\\n \\n\\n\\n              Myghty\\n \\n\\n\\n              nanorc\\n \\n\\n\\n              NASL\\n \\n\\n\\n              NCL\\n \\n\\n\\n              Nearley\\n \\n\\n\\n              Nemerle\\n \\n\\n\\n              nesC\\n \\n\\n\\n              NetLinx\\n \\n\\n\\n              NetLinx+ERB\\n \\n\\n\\n              NetLogo\\n \\n\\n\\n              NewLisp\\n \\n\\n\\n              Nextflow\\n \\n\\n\\n              Nginx\\n \\n\\n\\n              Nim\\n \\n\\n\\n              Ninja\\n \\n\\n\\n              Nit\\n \\n\\n\\n              Nix\\n \\n\\n\\n              NL\\n \\n\\n\\n              NPM Config\\n \\n\\n\\n              NSIS\\n \\n\\n\\n              Nu\\n \\n\\n\\n              NumPy\\n \\n\\n\\n              ObjDump\\n \\n\\n\\n              Object Data Instance Notation\\n \\n\\n\\n              Objective-C\\n \\n\\n\\n              Objective-C++\\n \\n\\n\\n              Objective-J\\n \\n\\n\\n              ObjectScript\\n \\n\\n\\n              OCaml\\n \\n\\n\\n              Odin\\n \\n\\n\\n              Omgrofl\\n \\n\\n\\n              ooc\\n \\n\\n\\n              Opa\\n \\n\\n\\n              Opal\\n \\n\\n\\n              Open Policy Agent\\n \\n\\n\\n              OpenCL\\n \\n\\n\\n              OpenEdge ABL\\n \\n\\n\\n              OpenQASM\\n \\n\\n\\n              OpenRC runscript\\n \\n\\n\\n              OpenSCAD\\n \\n\\n\\n              OpenStep Property List\\n \\n\\n\\n              OpenType Feature File\\n \\n\\n\\n              Org\\n \\n\\n\\n              Ox\\n \\n\\n\\n              Oxygene\\n \\n\\n\\n              Oz\\n \\n\\n\\n              P4\\n \\n\\n\\n              Pan\\n \\n\\n\\n              Papyrus\\n \\n\\n\\n              Parrot\\n \\n\\n\\n              Parrot Assembly\\n \\n\\n\\n              Parrot Internal Representation\\n \\n\\n\\n              Pascal\\n \\n\\n\\n              Pawn\\n \\n\\n\\n              Pep8\\n \\n\\n\\n              Perl\\n \\n\\n\\n              PHP\\n \\n\\n\\n              Pic\\n \\n\\n\\n              Pickle\\n \\n\\n\\n              PicoLisp\\n \\n\\n\\n              PigLatin\\n \\n\\n\\n              Pike\\n \\n\\n\\n              PlantUML\\n \\n\\n\\n              PLpgSQL\\n \\n\\n\\n              PLSQL\\n \\n\\n\\n              Pod\\n \\n\\n\\n              Pod 6\\n \\n\\n\\n              PogoScript\\n \\n\\n\\n              Pony\\n \\n\\n\\n              PostCSS\\n \\n\\n\\n              PostScript\\n \\n\\n\\n              POV-Ray SDL\\n \\n\\n\\n              PowerBuilder\\n \\n\\n\\n              PowerShell\\n \\n\\n\\n              Prisma\\n \\n\\n\\n              Processing\\n \\n\\n\\n              Proguard\\n \\n\\n\\n              Prolog\\n \\n\\n\\n              Propeller Spin\\n \\n\\n\\n              Protocol Buffer\\n \\n\\n\\n              Public Key\\n \\n\\n\\n              Pug\\n \\n\\n\\n              Puppet\\n \\n\\n\\n              Pure Data\\n \\n\\n\\n              PureBasic\\n \\n\\n\\n              PureScript\\n \\n\\n\\n              Python\\n \\n\\n\\n              Python console\\n \\n\\n\\n              Python traceback\\n \\n\\n\\n              q\\n \\n\\n\\n              QMake\\n \\n\\n\\n              QML\\n \\n\\n\\n              Quake\\n \\n\\n\\n              R\\n \\n\\n\\n              Racket\\n \\n\\n\\n              Ragel\\n \\n\\n\\n              Raku\\n \\n\\n\\n              RAML\\n \\n\\n\\n              Rascal\\n \\n\\n\\n              Raw token data\\n \\n\\n\\n              RDoc\\n \\n\\n\\n              Readline Config\\n \\n\\n\\n              REALbasic\\n \\n\\n\\n              Reason\\n \\n\\n\\n              Rebol\\n \\n\\n\\n              Red\\n \\n\\n\\n              Redcode\\n \\n\\n\\n              Regular Expression\\n \\n\\n\\n              Ren\\'Py\\n \\n\\n\\n              RenderScript\\n \\n\\n\\n              reStructuredText\\n \\n\\n\\n              REXX\\n \\n\\n\\n              RHTML\\n \\n\\n\\n              Rich Text Format\\n \\n\\n\\n              Ring\\n \\n\\n\\n              Riot\\n \\n\\n\\n              RMarkdown\\n \\n\\n\\n              RobotFramework\\n \\n\\n\\n              Roff\\n \\n\\n\\n              Roff Manpage\\n \\n\\n\\n              Rouge\\n \\n\\n\\n              RPC\\n \\n\\n\\n              RPM Spec\\n \\n\\n\\n              Ruby\\n \\n\\n\\n              RUNOFF\\n \\n\\n\\n              Rust\\n \\n\\n\\n              Sage\\n \\n\\n\\n              SaltStack\\n \\n\\n\\n              SAS\\n \\n\\n\\n              Sass\\n \\n\\n\\n              Scala\\n \\n\\n\\n              Scaml\\n \\n\\n\\n              Scheme\\n \\n\\n\\n              Scilab\\n \\n\\n\\n              SCSS\\n \\n\\n\\n              sed\\n \\n\\n\\n              Self\\n \\n\\n\\n              ShaderLab\\n \\n\\n\\n              Shell\\n \\n\\n\\n              ShellSession\\n \\n\\n\\n              Shen\\n \\n\\n\\n              Sieve\\n \\n\\n\\n              Slash\\n \\n\\n\\n              Slice\\n \\n\\n\\n              Slim\\n \\n\\n\\n              Smali\\n \\n\\n\\n              Smalltalk\\n \\n\\n\\n              Smarty\\n \\n\\n\\n              SmPL\\n \\n\\n\\n              SMT\\n \\n\\n\\n              Solidity\\n \\n\\n\\n              SourcePawn\\n \\n\\n\\n              SPARQL\\n \\n\\n\\n              Spline Font Database\\n \\n\\n\\n              SQF\\n \\n\\n\\n              SQL\\n \\n\\n\\n              SQLPL\\n \\n\\n\\n              Squirrel\\n \\n\\n\\n              SRecode Template\\n \\n\\n\\n              SSH Config\\n \\n\\n\\n              Stan\\n \\n\\n\\n              Standard ML\\n \\n\\n\\n              Starlark\\n \\n\\n\\n              Stata\\n \\n\\n\\n              STON\\n \\n\\n\\n              Stylus\\n \\n\\n\\n              SubRip Text\\n \\n\\n\\n              SugarSS\\n \\n\\n\\n              SuperCollider\\n \\n\\n\\n              Svelte\\n \\n\\n\\n              SVG\\n \\n\\n\\n              Swift\\n \\n\\n\\n              SWIG\\n \\n\\n\\n              SystemVerilog\\n \\n\\n\\n              Tcl\\n \\n\\n\\n              Tcsh\\n \\n\\n\\n              Tea\\n \\n\\n\\n              Terra\\n \\n\\n\\n              TeX\\n \\n\\n\\n              Texinfo\\n \\n\\n\\n              Text\\n \\n\\n\\n              Textile\\n \\n\\n\\n              Thrift\\n \\n\\n\\n              TI Program\\n \\n\\n\\n              TLA\\n \\n\\n\\n              TOML\\n \\n\\n\\n              TSQL\\n \\n\\n\\n              TSX\\n \\n\\n\\n              Turing\\n \\n\\n\\n              Turtle\\n \\n\\n\\n              Twig\\n \\n\\n\\n              TXL\\n \\n\\n\\n              Type Language\\n \\n\\n\\n              TypeScript\\n \\n\\n\\n              Unified Parallel C\\n \\n\\n\\n              Unity3D Asset\\n \\n\\n\\n              Unix Assembly\\n \\n\\n\\n              Uno\\n \\n\\n\\n              UnrealScript\\n \\n\\n\\n              UrWeb\\n \\n\\n\\n              V\\n \\n\\n\\n              Vala\\n \\n\\n\\n              VBA\\n \\n\\n\\n              VBScript\\n \\n\\n\\n              VCL\\n \\n\\n\\n              Verilog\\n \\n\\n\\n              VHDL\\n \\n\\n\\n              Vim script\\n \\n\\n\\n              Vim Snippet\\n \\n\\n\\n              Visual Basic .NET\\n \\n\\n\\n              Visual Basic .NET\\n \\n\\n\\n              Volt\\n \\n\\n\\n              Vue\\n \\n\\n\\n              Wavefront Material\\n \\n\\n\\n              Wavefront Object\\n \\n\\n\\n              wdl\\n \\n\\n\\n              Web Ontology Language\\n \\n\\n\\n              WebAssembly\\n \\n\\n\\n              WebIDL\\n \\n\\n\\n              WebVTT\\n \\n\\n\\n              Wget Config\\n \\n\\n\\n              Windows Registry Entries\\n \\n\\n\\n              wisp\\n \\n\\n\\n              Wollok\\n \\n\\n\\n              World of Warcraft Addon Data\\n \\n\\n\\n              X BitMap\\n \\n\\n\\n              X Font Directory Index\\n \\n\\n\\n              X PixMap\\n \\n\\n\\n              X10\\n \\n\\n\\n              xBase\\n \\n\\n\\n              XC\\n \\n\\n\\n              XCompose\\n \\n\\n\\n              XML\\n \\n\\n\\n              XML Property List\\n \\n\\n\\n              Xojo\\n \\n\\n\\n              XPages\\n \\n\\n\\n              XProc\\n \\n\\n\\n              XQuery\\n \\n\\n\\n              XS\\n \\n\\n\\n              XSLT\\n \\n\\n\\n              Xtend\\n \\n\\n\\n              Yacc\\n \\n\\n\\n              YAML\\n \\n\\n\\n              YANG\\n \\n\\n\\n              YARA\\n \\n\\n\\n              YASnippet\\n \\n\\n\\n              ZAP\\n \\n\\n\\n              Zeek\\n \\n\\n\\n              ZenScript\\n \\n\\n\\n              Zephir\\n \\n\\n\\n              Zig\\n \\n\\n\\n              ZIL\\n \\n\\n\\n              Zimpl\\n \\n\\n\\n\\n\\n\\n\\n\\n\\n\\n\\n    Date range:\\n\\n    \\n      Today\\n \\n\\n\\n\\n        Adjust time span\\n\\n\\n\\n\\n\\n\\n\\n\\n\\n            Today\\n \\n\\n\\n            This week\\n \\n\\n\\n            This month\\n \\n\\n\\n\\n\\n\\n\\n\\n\\n    1\\n\\n\\n\\n\\n \\n\\n\\n\\n\\n\\n            Lars Hvam\\n \\n\\n\\n              larshp\\n \\n\\n\\n\\n\\nPopular repo\\n\\n\\n\\n      abapGit\\n \\n\\n      Git client for ABAP\\n    \\n\\n\\n\\n\\n\\n\\n\\n\\n\\nFollow\\n\\n\\n\\n\\n\\n\\n\\n\\n\\n    2\\n\\n\\n\\n\\n \\n\\n\\n\\n\\n\\n            PySimpleGUI\\n \\n\\n\\n              PySimpleGUI\\n \\n\\n\\n\\n\\nPopular repo\\n\\n\\n\\n      PySimpleGUI\\n \\n\\n      Launched in 2018 Actively developed and supported. Supports tkinter, Qt, WxPython, Remi (in browser). Create custom layout GUI\\'s simply. Python 2.7 & 3 Support. 200+ Demo programs & Cookbook for rapid start. Extensive documentation. Examples using Machine Learning(GUI, OpenCV Integration, Chatterbot), Floating Desktop Widgets, Matplotlib + Pyplo…\\n    \\n\\n\\n\\n\\n\\n\\n\\n\\n\\nFollow\\n\\n\\n\\n\\n\\n\\n\\n\\n\\n    3\\n\\n\\n\\n\\n \\n\\n\\n\\n\\n\\n            Michael Waskom\\n \\n\\n\\n              mwaskom\\n \\n\\n\\n\\n\\nPopular repo\\n\\n\\n\\n      seaborn\\n \\n\\n      Statistical data visualization using matplotlib\\n    \\n\\n\\n\\n\\n\\n\\n\\n\\n\\nFollow\\n\\n\\n\\n\\n\\n\\n\\n\\n\\n    4\\n\\n\\n\\n\\n \\n\\n\\n\\n\\n\\n            José Padilla\\n \\n\\n\\n              jpadilla\\n \\n\\n\\n\\n\\nPopular repo\\n\\n\\n\\n      pyjwt\\n \\n\\n      JSON Web Token implementation in Python\\n    \\n\\n\\n\\n\\n\\n\\n\\n\\n\\n              Sponsor\\n \\n\\n\\n\\n\\nFollow\\n\\n\\n\\n\\n\\n\\n\\n\\n\\n    5\\n\\n\\n\\n\\n \\n\\n\\n\\n\\n\\n            Nuno Maduro\\n \\n\\n\\n              nunomaduro\\n \\n\\n\\n\\n\\nPopular repo\\n\\n\\n\\n      larastan\\n \\n\\n⚗️ Adds static analysis to Laravel improving developer productivity and code quality\\n    \\n\\n\\n\\n\\n\\n\\n\\n\\n\\n              Sponsor\\n \\n\\n\\n\\n\\nFollow\\n\\n\\n\\n\\n\\n\\n\\n\\n\\n    6\\n\\n\\n\\n\\n \\n\\n\\n\\n\\n\\n            Robert Mosolgo\\n \\n\\n\\n              rmosolgo\\n \\n\\n\\n\\n\\nPopular repo\\n\\n\\n\\n      graphql-ruby\\n \\n\\n      Ruby implementation of GraphQL \\n    \\n\\n\\n\\n\\n\\n\\n\\n\\n\\nFollow\\n\\n\\n\\n\\n\\n\\n\\n\\n\\n    7\\n\\n\\n\\n\\n \\n\\n\\n\\n\\n\\n            Hamel Husain\\n \\n\\n\\n              hamelsmu\\n \\n\\n\\n\\n\\nPopular repo\\n\\n\\n\\n      code_search\\n \\n\\n      Code For Medium Article: \"How To Create Natural Language Semantic Search for Arbitrary Objects With Deep\\xa0Learning\"\\n    \\n\\n\\n\\n\\n\\n\\n\\n\\n\\nFollow\\n\\n\\n\\n\\n\\n\\n\\n\\n\\n    8\\n\\n\\n\\n\\n \\n\\n\\n\\n\\n\\n            Steve Sanderson\\n \\n\\n\\n              SteveSandersonMS\\n \\n\\n\\n\\n\\nPopular repo\\n\\n\\n\\n      CarChecker\\n \\n\\n      A sample Blazor WebAssembly application that includes authentication, in-browser data storage, offline support, localization, responsive layouts, and more. For a video walkthrough, see this link:\\n    \\n\\n\\n\\n\\n\\n\\n\\n\\n\\nFollow\\n\\n\\n\\n\\n\\n\\n\\n\\n\\n    9\\n\\n\\n\\n\\n \\n\\n\\n\\n\\n\\n            Micah Lee\\n \\n\\n\\n              micahflee\\n \\n\\n\\n\\n\\nPopular repo\\n\\n\\n\\n      onionshare\\n \\n\\n      Securely and anonymously send and receive files, and publish onion sites\\n    \\n\\n\\n\\n\\n\\n\\n\\n\\n\\nFollow\\n\\n\\n\\n\\n\\n\\n\\n\\n\\n    10\\n\\n\\n\\n\\n \\n\\n\\n\\n\\n\\n            Sylvain Gugger\\n \\n\\n\\n              sgugger\\n \\n\\n\\n\\n\\nPopular repo\\n\\n\\n\\n      Deep-Learning\\n \\n\\n      A few notebooks about deep learning in pytorch\\n    \\n\\n\\n\\n\\n\\n\\n\\n\\n\\nFollow\\n\\n\\n\\n\\n\\n\\n\\n\\n\\n    11\\n\\n\\n\\n\\n \\n\\n\\n\\n\\n\\n            Florian\\n \\n\\n\\n              1technophile\\n \\n\\n\\n\\n\\nPopular repo\\n\\n\\n\\n      OpenMQTTGateway\\n \\n\\n      MQTT gateway for ESP8266, ESP32, Sonoff RF Bridge or Arduino with bidirectional 433mhz/315mhz/868mhz, Infrared communications, BLE, beacons detection, mi flora / mi jia / LYWSD02/ Mi Scale compatibility, SMS & LORA.\\n    \\n\\n\\n\\n\\n\\n\\n\\n\\n\\nFollow\\n\\n\\n\\n\\n\\n\\n\\n\\n\\n    12\\n\\n\\n\\n\\n \\n\\n\\n\\n\\n\\n            Felipe Fialho\\n \\n\\n\\n              felipefialho\\n \\n\\n\\n\\n\\nPopular repo\\n\\n\\n\\n      awesome-made-by-brazilians\\n \\n\\n🇧🇷 A collection of amazing open source projects built by brazilian developers\\n    \\n\\n\\n\\n\\n\\n\\n\\n\\n\\nFollow\\n\\n\\n\\n\\n\\n\\n\\n\\n\\n    13\\n\\n\\n\\n\\n \\n\\n\\n\\n\\n\\n            Karol Wrótniak\\n \\n\\n\\n              koral--\\n \\n\\n\\n\\n\\nPopular repo\\n\\n\\n\\n      android-gif-drawable\\n \\n\\n      Views and Drawable for displaying animated GIFs on Android\\n    \\n\\n\\n\\n\\n\\n\\n\\n\\n\\nFollow\\n\\n\\n\\n\\n\\n\\n\\n\\n\\n    14\\n\\n\\n\\n\\n \\n\\n\\n\\n\\n\\n            Ahmet Alp Balkan\\n \\n\\n\\n              ahmetb\\n \\n\\n\\n\\n\\nPopular repo\\n\\n\\n\\n      kubectx\\n \\n\\n      Faster way to switch between clusters and namespaces in kubectl\\n    \\n\\n\\n\\n\\n\\n\\n\\n\\n\\nFollow\\n\\n\\n\\n\\n\\n\\n\\n\\n\\n    15\\n\\n\\n\\n\\n \\n\\n\\n\\n\\n\\n            Ika\\n \\n\\n\\n              ikatyang\\n \\n\\n\\n\\n\\nPopular repo\\n\\n\\n\\n      emoji-cheat-sheet\\n \\n\\n      A markdown version emoji cheat sheet\\n    \\n\\n\\n\\n\\n\\n\\n\\n\\n\\nFollow\\n\\n\\n\\n\\n\\n\\n\\n\\n\\n    16\\n\\n\\n\\n\\n \\n\\n\\n\\n\\n\\n            Evan Wallace\\n \\n\\n\\n              evanw\\n \\n\\n\\n\\n\\nPopular repo\\n\\n\\n\\n      esbuild\\n \\n\\n      An extremely fast JavaScript bundler and minifier\\n    \\n\\n\\n\\n\\n\\n\\n\\n\\n\\nFollow\\n\\n\\n\\n\\n\\n\\n\\n\\n\\n    17\\n\\n\\n\\n\\n \\n\\n\\n\\n\\n\\n            Nisar Hassan Naqvi\\n \\n\\n\\n              nisarhassan12\\n \\n\\n\\n\\n\\nPopular repo\\n\\n\\n\\n      portfolio-template\\n \\n\\n      A beautiful minimal and accessible portfolio template for Developers.\\n    \\n\\n\\n\\n\\n\\n\\n\\n\\n\\nFollow\\n\\n\\n\\n\\n\\n\\n\\n\\n\\n    18\\n\\n\\n\\n\\n \\n\\n\\n\\n\\n\\n            Mathew Sachin\\n \\n\\n\\n              MathewSachin\\n \\n\\n\\n\\n\\nPopular repo\\n\\n\\n\\n      Captura\\n \\n\\n      Capture Screen, Audio, Cursor, Mouse Clicks and Keystrokes\\n    \\n\\n\\n\\n\\n\\n\\n\\n\\n\\nFollow\\n\\n\\n\\n\\n\\n\\n\\n\\n\\n    19\\n\\n\\n\\n\\n \\n\\n\\n\\n\\n\\n            Jesse Duffield\\n \\n\\n\\n              jesseduffield\\n \\n\\n\\n\\n\\nPopular repo\\n\\n\\n\\n      horcrux\\n \\n\\n      Split your file into encrypted fragments so that you don\\'t need to remember a passcode\\n    \\n\\n\\n\\n\\n\\n\\n\\n\\n\\n              Sponsor\\n \\n\\n\\n\\n\\nFollow\\n\\n\\n\\n\\n\\n\\n\\n\\n\\n    20\\n\\n\\n\\n\\n \\n\\n\\n\\n\\n\\n            Tim Suchanek\\n \\n\\n\\n              timsuchanek\\n \\n\\n\\n\\n\\nPopular repo\\n\\n\\n\\n      n-plus-one\\n \\n\\n      How Prisma solves the N+1 Problem - Prisma Day 2020\\n    \\n\\n\\n\\n\\n\\n\\n\\n\\n\\nFollow\\n\\n\\n\\n\\n\\n\\n\\n\\n\\n    21\\n\\n\\n\\n\\n \\n\\n\\n\\n\\n\\n            Shu Uesugi\\n \\n\\n\\n              chibicode\\n \\n\\n\\n\\n\\nPopular repo\\n\\n\\n\\n      TypeScript-for-Beginner-Programmers\\n \\n\\n      TypeScript for Beginner Programmers\\n    \\n\\n\\n\\n\\n\\n\\n\\n\\n\\nFollow\\n\\n\\n\\n\\n\\n\\n\\n\\n\\n    22\\n\\n\\n\\n\\n \\n\\n\\n\\n\\n\\n            Katashin\\n \\n\\n\\n              ktsn\\n \\n\\n\\n\\n\\nPopular repo\\n\\n\\n\\n      vuex-class\\n \\n\\n      Binding helpers for Vuex and vue-class-component\\n    \\n\\n\\n\\n\\n\\n\\n\\n\\n\\nFollow\\n\\n\\n\\n\\n\\n\\n\\n\\n\\n    23\\n\\n\\n\\n\\n \\n\\n\\n\\n\\n\\n            Rob Garrison\\n \\n\\n\\n              Mottie\\n \\n\\n\\n\\n\\nPopular repo\\n\\n\\n\\n      GitHub-userscripts\\n \\n\\n      Userscripts to add functionality to GitHub\\n    \\n\\n\\n\\n\\n\\n\\n\\n\\n\\nFollow\\n\\n\\n\\n\\n\\n\\n\\n\\n\\n    24\\n\\n\\n\\n\\n \\n\\n\\n\\n\\n\\n            Iván López\\n \\n\\n\\n              ilopmar\\n \\n\\n\\n\\n Object Computing, Inc. (OCI)\\n\\n\\n\\n\\n\\n\\n\\n\\nFollow\\n\\n\\n\\n\\n\\n\\n\\n\\n\\n    25\\n\\n\\n\\n\\n \\n\\n\\n\\n\\n\\n            Francois Zaninotto\\n \\n\\n\\n              fzaninotto\\n \\n\\n\\n\\n\\nPopular repo\\n\\n\\n\\n      Faker\\n \\n\\n      Faker is a PHP library that generates fake data for you\\n    \\n\\n\\n\\n\\n\\n\\n\\n\\n\\nFollow\\n\\n\\n\\n\\n\\n\\n\\n\\n\\n\\n\\n\\n\\n\\n\\n\\n\\n\\n\\n\\n\\nProduct\\n\\nFeatures\\nSecurity\\nTeam\\nEnterprise\\nCustomer stories\\nThe ReadME Project\\nPricing\\nResources\\nRoadmap\\n\\n\\n\\nPlatform\\n\\nDeveloper API\\nPartners\\nAtom\\nElectron\\nGitHub Desktop\\n\\n\\n\\nSupport\\n\\nHelp\\nCommunity Forum\\nProfessional Services\\nLearning Lab\\nStatus\\nContact GitHub\\n\\n\\n\\nCompany\\n\\nAbout\\nBlog\\nCareers\\nPress\\nSocial Impact\\nShop\\n\\n\\n\\n\\n\\n\\n\\n\\n\\n\\nTwitter\\n\\n\\n\\n\\n\\nFacebook\\n\\n\\n\\n\\n\\nYouTube\\n\\n\\n\\n\\n\\nLinkedIn\\n\\n\\n\\n\\n\\nGitHub\\n\\n\\n\\n\\n© 2020 GitHub, Inc.\\nTerms\\nPrivacy\\nSite Map\\nWhat is Git?\\n\\n\\n\\n\\n\\n\\n\\n\\n\\n    You can’t perform that action at this time.\\n  \\n\\n\\n\\n\\n\\n\\n\\n\\n\\n\\n\\n\\n\\n\\n\\n\\n\\nYou signed in with another tab or window. Reload to refresh your session.\\nYou signed out in another tab or window. Reload to refresh your session.\\n\\n\\n\\n\\n\\n\\n\\n\\n\\n\\n\\n\\n\\n\\n\\n\\n\\n\\n'"
      ]
     },
     "execution_count": 16,
     "metadata": {},
     "output_type": "execute_result"
    }
   ],
   "source": [
    "#your code\n",
    "\n",
    "req = requests.get(url)\n",
    "soup = BeautifulSoup(req.content, 'html.parser')\n",
    "soup.text"
   ]
  },
  {
   "cell_type": "markdown",
   "metadata": {},
   "source": [
    "#### Display the names of the trending developers retrieved in the previous step.\n",
    "\n",
    "Your output should be a Python list of developer names. Each name should not contain any html tag.\n",
    "\n",
    "**Instructions:**\n",
    "\n",
    "1. Find out the html tag and class names used for the developer names. You can achieve this using Chrome DevTools.\n",
    "\n",
    "1. Use BeautifulSoup to extract all the html elements that contain the developer names.\n",
    "\n",
    "1. Use string manipulation techniques to replace whitespaces and linebreaks (i.e. `\\n`) in the *text* of each html element. Use a list to store the clean names.\n",
    "\n",
    "1. Print the list of names.\n",
    "\n",
    "Your output should look like below:\n",
    "\n",
    "```\n",
    "['trimstray (@trimstray)',\n",
    " 'joewalnes (JoeWalnes)',\n",
    " 'charlax (Charles-AxelDein)',\n",
    " 'ForrestKnight (ForrestKnight)',\n",
    " 'revery-ui (revery-ui)',\n",
    " 'alibaba (Alibaba)',\n",
    " 'Microsoft (Microsoft)',\n",
    " 'github (GitHub)',\n",
    " 'facebook (Facebook)',\n",
    " 'boazsegev (Bo)',\n",
    " 'google (Google)',\n",
    " 'cloudfetch',\n",
    " 'sindresorhus (SindreSorhus)',\n",
    " 'tensorflow',\n",
    " 'apache (TheApacheSoftwareFoundation)',\n",
    " 'DevonCrawford (DevonCrawford)',\n",
    " 'ARMmbed (ArmMbed)',\n",
    " 'vuejs (vuejs)',\n",
    " 'fastai (fast.ai)',\n",
    " 'QiShaoXuan (Qi)',\n",
    " 'joelparkerhenderson (JoelParkerHenderson)',\n",
    " 'torvalds (LinusTorvalds)',\n",
    " 'CyC2018',\n",
    " 'komeiji-satori (神楽坂覚々)',\n",
    " 'script-8']\n",
    " ```"
   ]
  },
  {
   "cell_type": "code",
   "execution_count": 17,
   "metadata": {},
   "outputs": [
    {
     "name": "stdout",
     "output_type": "stream",
     "text": [
      "['Lars Hvam', 'PySimpleGUI', 'Michael Waskom', 'José Padilla', 'Nuno Maduro', 'Robert Mosolgo', 'Hamel Husain', 'Steve Sanderson', 'Micah Lee', 'Sylvain Gugger', 'Florian', 'Felipe Fialho', 'Karol Wrótniak', 'Ahmet Alp Balkan', 'Ika', 'Evan Wallace', 'Nisar Hassan Naqvi', 'Mathew Sachin', 'Jesse Duffield', 'Tim Suchanek', 'Shu Uesugi', 'Katashin', 'Rob Garrison', 'Iván López', 'Francois Zaninotto']\n"
     ]
    }
   ],
   "source": [
    "#your code\n",
    "\n",
    "dev = soup.find_all('h1', attrs={'class':'h3 lh-condensed'})\n",
    "\n",
    "dev_list=[]\n",
    "\n",
    "for i in dev:\n",
    "    dev_list.append(i.text.strip())\n",
    "    \n",
    "print(dev_list)"
   ]
  },
  {
   "cell_type": "markdown",
   "metadata": {},
   "source": [
    "#### Display the trending Python repositories in GitHub\n",
    "\n",
    "The steps to solve this problem is similar to the previous one except that you need to find out the repository names instead of developer names."
   ]
  },
  {
   "cell_type": "code",
   "execution_count": 18,
   "metadata": {},
   "outputs": [],
   "source": [
    "# This is the url you will scrape in this exercise\n",
    "url = 'https://github.com/trending/python?since=daily'"
   ]
  },
  {
   "cell_type": "code",
   "execution_count": 19,
   "metadata": {},
   "outputs": [
    {
     "data": {
      "text/plain": [
       "'\\n\\n\\n\\n\\n\\n\\n\\n\\n\\n\\n\\n\\n\\n\\n\\nTrending Python repositories on GitHub today · GitHub\\n\\n\\n\\n\\n\\n\\n\\n\\n\\n\\n\\n\\n\\n\\n\\n\\n\\n\\n\\n\\n\\n\\n\\n\\n\\n\\n\\n\\n\\n\\n\\n\\n\\n\\n\\n\\n\\n\\n\\n\\n\\n\\n\\n\\n\\n\\n\\n\\n\\n\\n\\n\\n\\n\\n\\n\\n\\n\\n\\n\\nSkip to content\\n\\n\\n\\n\\n\\n\\n\\n\\n\\n\\n\\n\\n\\n                Sign\\xa0up\\n              \\n\\n\\n\\n\\n\\n\\n\\n\\n\\n\\n\\n\\n\\n\\n\\n\\n                    Why GitHub?\\n                    \\n\\n\\n\\n\\nFeatures →\\n\\nCode review\\nProject management\\nIntegrations\\nActions\\nPackages\\nSecurity\\nTeam management\\nHosting\\nMobile\\n\\n\\nCustomer stories →\\nSecurity →\\n\\n\\n\\n\\n\\nTeam\\n\\n\\nEnterprise\\n\\n\\n\\n\\n                    Explore\\n                    \\n\\n\\n\\n\\n\\nExplore GitHub →\\n\\nLearn & contribute\\n\\nTopics\\nCollections\\nTrending\\nLearning Lab\\nOpen source guides\\n\\nConnect with others\\n\\nEvents\\nCommunity forum\\nGitHub Education\\n\\n\\n\\n\\n\\nMarketplace\\n\\n\\n\\n\\n                    Pricing\\n                    \\n\\n\\n\\n\\nPlans →\\n\\nCompare plans\\nContact Sales\\n\\n\\nNonprofit →\\nEducation →\\n\\n\\n\\n\\n\\n\\n\\n\\n\\n\\n\\n\\n\\n\\n\\n\\n\\n\\n\\n\\n\\n\\n\\n\\n\\n\\n\\n\\n\\n\\n        Search\\n      \\n\\n        All GitHub\\n      \\n↵\\n\\n\\n      Jump to\\n      ↵\\n\\n\\n\\n\\n\\n\\nNo suggested jump to results\\n\\n\\n\\n\\n\\n\\n\\n\\n\\n\\n\\n\\n\\n\\n\\n        Search\\n      \\n\\n        All GitHub\\n      \\n↵\\n\\n\\n      Jump to\\n      ↵\\n\\n\\n\\n\\n\\n\\n\\n\\n\\n\\n\\n\\n\\n\\n\\n        Search\\n      \\n\\n        All GitHub\\n      \\n↵\\n\\n\\n      Jump to\\n      ↵\\n\\n\\n\\n\\n\\n\\n \\n\\n\\n\\n          Sign\\xa0in\\n        \\n\\n              Sign\\xa0up\\n            \\n\\n\\n\\n\\n\\n\\n\\n\\n\\n\\n\\n\\n\\n{{ message }}\\n\\n\\n\\n\\n\\n\\n\\n\\n\\n\\nExplore\\nTopics\\nTrending\\nCollections\\nEvents\\nGitHub Sponsors\\n\\n\\n              Get email updates\\n \\n\\n\\n\\n\\n\\nTrending\\n\\n      See what the GitHub community is most excited about today.\\n    \\n\\n\\n\\n\\n\\n\\nRepositories\\nDevelopers\\n\\n\\n\\n\\n\\n    Spoken Language:\\n\\n    \\n        Any\\n \\n\\n\\n\\n        Select a spoken language\\n\\n\\n\\n\\n\\n\\n\\n\\n\\n\\n\\n\\n\\n\\n\\n              Abkhazian\\n \\n\\n\\n              Afar\\n \\n\\n\\n              Afrikaans\\n \\n\\n\\n              Akan\\n \\n\\n\\n              Albanian\\n \\n\\n\\n              Amharic\\n \\n\\n\\n              Arabic\\n \\n\\n\\n              Aragonese\\n \\n\\n\\n              Armenian\\n \\n\\n\\n              Assamese\\n \\n\\n\\n              Avaric\\n \\n\\n\\n              Avestan\\n \\n\\n\\n              Aymara\\n \\n\\n\\n              Azerbaijani\\n \\n\\n\\n              Bambara\\n \\n\\n\\n              Bashkir\\n \\n\\n\\n              Basque\\n \\n\\n\\n              Belarusian\\n \\n\\n\\n              Bengali\\n \\n\\n\\n              Bihari languages\\n \\n\\n\\n              Bislama\\n \\n\\n\\n              Bosnian\\n \\n\\n\\n              Breton\\n \\n\\n\\n              Bulgarian\\n \\n\\n\\n              Burmese\\n \\n\\n\\n              Catalan, Valencian\\n \\n\\n\\n              Chamorro\\n \\n\\n\\n              Chechen\\n \\n\\n\\n              Chichewa, Chewa, Nyanja\\n \\n\\n\\n              Chinese\\n \\n\\n\\n              Chuvash\\n \\n\\n\\n              Cornish\\n \\n\\n\\n              Corsican\\n \\n\\n\\n              Cree\\n \\n\\n\\n              Croatian\\n \\n\\n\\n              Czech\\n \\n\\n\\n              Danish\\n \\n\\n\\n              Divehi, Dhivehi, Maldivian\\n \\n\\n\\n              Dutch, Flemish\\n \\n\\n\\n              Dzongkha\\n \\n\\n\\n              English\\n \\n\\n\\n              Esperanto\\n \\n\\n\\n              Estonian\\n \\n\\n\\n              Ewe\\n \\n\\n\\n              Faroese\\n \\n\\n\\n              Fijian\\n \\n\\n\\n              Finnish\\n \\n\\n\\n              French\\n \\n\\n\\n              Fulah\\n \\n\\n\\n              Galician\\n \\n\\n\\n              Georgian\\n \\n\\n\\n              German\\n \\n\\n\\n              Greek, Modern\\n \\n\\n\\n              Guarani\\n \\n\\n\\n              Gujarati\\n \\n\\n\\n              Haitian, Haitian Creole\\n \\n\\n\\n              Hausa\\n \\n\\n\\n              Hebrew\\n \\n\\n\\n              Herero\\n \\n\\n\\n              Hindi\\n \\n\\n\\n              Hiri Motu\\n \\n\\n\\n              Hungarian\\n \\n\\n\\n              Interlingua (International Auxil...\\n \\n\\n\\n              Indonesian\\n \\n\\n\\n              Interlingue, Occidental\\n \\n\\n\\n              Irish\\n \\n\\n\\n              Igbo\\n \\n\\n\\n              Inupiaq\\n \\n\\n\\n              Ido\\n \\n\\n\\n              Icelandic\\n \\n\\n\\n              Italian\\n \\n\\n\\n              Inuktitut\\n \\n\\n\\n              Japanese\\n \\n\\n\\n              Javanese\\n \\n\\n\\n              Kalaallisut, Greenlandic\\n \\n\\n\\n              Kannada\\n \\n\\n\\n              Kanuri\\n \\n\\n\\n              Kashmiri\\n \\n\\n\\n              Kazakh\\n \\n\\n\\n              Central Khmer\\n \\n\\n\\n              Kikuyu, Gikuyu\\n \\n\\n\\n              Kinyarwanda\\n \\n\\n\\n              Kirghiz, Kyrgyz\\n \\n\\n\\n              Komi\\n \\n\\n\\n              Kongo\\n \\n\\n\\n              Korean\\n \\n\\n\\n              Kurdish\\n \\n\\n\\n              Kuanyama, Kwanyama\\n \\n\\n\\n              Latin\\n \\n\\n\\n              Luxembourgish, Letzeburgesch\\n \\n\\n\\n              Ganda\\n \\n\\n\\n              Limburgan, Limburger, Limburgish\\n \\n\\n\\n              Lingala\\n \\n\\n\\n              Lao\\n \\n\\n\\n              Lithuanian\\n \\n\\n\\n              Luba-Katanga\\n \\n\\n\\n              Latvian\\n \\n\\n\\n              Manx\\n \\n\\n\\n              Macedonian\\n \\n\\n\\n              Malagasy\\n \\n\\n\\n              Malay\\n \\n\\n\\n              Malayalam\\n \\n\\n\\n              Maltese\\n \\n\\n\\n              Maori\\n \\n\\n\\n              Marathi\\n \\n\\n\\n              Marshallese\\n \\n\\n\\n              Mongolian\\n \\n\\n\\n              Nauru\\n \\n\\n\\n              Navajo, Navaho\\n \\n\\n\\n              North Ndebele\\n \\n\\n\\n              Nepali\\n \\n\\n\\n              Ndonga\\n \\n\\n\\n              Norwegian Bokmål\\n \\n\\n\\n              Norwegian Nynorsk\\n \\n\\n\\n              Norwegian\\n \\n\\n\\n              Sichuan Yi, Nuosu\\n \\n\\n\\n              South Ndebele\\n \\n\\n\\n              Occitan\\n \\n\\n\\n              Ojibwa\\n \\n\\n\\n              Church Slavic, Old Slavonic, Chu...\\n \\n\\n\\n              Oromo\\n \\n\\n\\n              Oriya\\n \\n\\n\\n              Ossetian, Ossetic\\n \\n\\n\\n              Punjabi, Panjabi\\n \\n\\n\\n              Pali\\n \\n\\n\\n              Persian\\n \\n\\n\\n              Polish\\n \\n\\n\\n              Pashto, Pushto\\n \\n\\n\\n              Portuguese\\n \\n\\n\\n              Quechua\\n \\n\\n\\n              Romansh\\n \\n\\n\\n              Rundi\\n \\n\\n\\n              Romanian, Moldavian, Moldovan\\n \\n\\n\\n              Russian\\n \\n\\n\\n              Sanskrit\\n \\n\\n\\n              Sardinian\\n \\n\\n\\n              Sindhi\\n \\n\\n\\n              Northern Sami\\n \\n\\n\\n              Samoan\\n \\n\\n\\n              Sango\\n \\n\\n\\n              Serbian\\n \\n\\n\\n              Gaelic, Scottish Gaelic\\n \\n\\n\\n              Shona\\n \\n\\n\\n              Sinhala, Sinhalese\\n \\n\\n\\n              Slovak\\n \\n\\n\\n              Slovenian\\n \\n\\n\\n              Somali\\n \\n\\n\\n              Southern Sotho\\n \\n\\n\\n              Spanish, Castilian\\n \\n\\n\\n              Sundanese\\n \\n\\n\\n              Swahili\\n \\n\\n\\n              Swati\\n \\n\\n\\n              Swedish\\n \\n\\n\\n              Tamil\\n \\n\\n\\n              Telugu\\n \\n\\n\\n              Tajik\\n \\n\\n\\n              Thai\\n \\n\\n\\n              Tigrinya\\n \\n\\n\\n              Tibetan\\n \\n\\n\\n              Turkmen\\n \\n\\n\\n              Tagalog\\n \\n\\n\\n              Tswana\\n \\n\\n\\n              Tonga (Tonga Islands)\\n \\n\\n\\n              Turkish\\n \\n\\n\\n              Tsonga\\n \\n\\n\\n              Tatar\\n \\n\\n\\n              Twi\\n \\n\\n\\n              Tahitian\\n \\n\\n\\n              Uighur, Uyghur\\n \\n\\n\\n              Ukrainian\\n \\n\\n\\n              Urdu\\n \\n\\n\\n              Uzbek\\n \\n\\n\\n              Venda\\n \\n\\n\\n              Vietnamese\\n \\n\\n\\n              Volapük\\n \\n\\n\\n              Walloon\\n \\n\\n\\n              Welsh\\n \\n\\n\\n              Wolof\\n \\n\\n\\n              Western Frisian\\n \\n\\n\\n              Xhosa\\n \\n\\n\\n              Yiddish\\n \\n\\n\\n              Yoruba\\n \\n\\n\\n              Zhuang, Chuang\\n \\n\\n\\n              Zulu\\n \\n\\n\\n\\n\\n\\n\\n\\n\\n\\n\\n    Language:\\n\\n    \\n        Python\\n \\n\\n\\n\\n        Select a language\\n\\n\\n\\n\\n\\n\\n\\n\\n\\n\\n\\n\\n\\n\\n            Clear language\\n \\n\\n\\n\\n\\n              C++\\n \\n\\n\\n              HTML\\n \\n\\n\\n              Java\\n \\n\\n\\n              JavaScript\\n \\n\\n\\n              PHP\\n \\n\\n\\n              Python\\n \\n\\n\\n              Ruby\\n \\n\\n\\n              Unknown languages\\n \\n\\n\\n              1C Enterprise\\n \\n\\n\\n              4D\\n \\n\\n\\n              ABAP\\n \\n\\n\\n              ABNF\\n \\n\\n\\n              ActionScript\\n \\n\\n\\n              Ada\\n \\n\\n\\n              Adobe Font Metrics\\n \\n\\n\\n              Agda\\n \\n\\n\\n              AGS Script\\n \\n\\n\\n              Alloy\\n \\n\\n\\n              Alpine Abuild\\n \\n\\n\\n              Altium Designer\\n \\n\\n\\n              AMPL\\n \\n\\n\\n              AngelScript\\n \\n\\n\\n              Ant Build System\\n \\n\\n\\n              ANTLR\\n \\n\\n\\n              ApacheConf\\n \\n\\n\\n              Apex\\n \\n\\n\\n              API Blueprint\\n \\n\\n\\n              APL\\n \\n\\n\\n              Apollo Guidance Computer\\n \\n\\n\\n              AppleScript\\n \\n\\n\\n              Arc\\n \\n\\n\\n              AsciiDoc\\n \\n\\n\\n              ASN.1\\n \\n\\n\\n              ASP\\n \\n\\n\\n              AspectJ\\n \\n\\n\\n              Assembly\\n \\n\\n\\n              Asymptote\\n \\n\\n\\n              ATS\\n \\n\\n\\n              Augeas\\n \\n\\n\\n              AutoHotkey\\n \\n\\n\\n              AutoIt\\n \\n\\n\\n              Awk\\n \\n\\n\\n              Ballerina\\n \\n\\n\\n              Batchfile\\n \\n\\n\\n              Befunge\\n \\n\\n\\n              BibTeX\\n \\n\\n\\n              Bison\\n \\n\\n\\n              BitBake\\n \\n\\n\\n              Blade\\n \\n\\n\\n              BlitzBasic\\n \\n\\n\\n              BlitzMax\\n \\n\\n\\n              Bluespec\\n \\n\\n\\n              Boo\\n \\n\\n\\n              Brainfuck\\n \\n\\n\\n              Brightscript\\n \\n\\n\\n              Zeek\\n \\n\\n\\n              C\\n \\n\\n\\n              C#\\n \\n\\n\\n              C++\\n \\n\\n\\n              C-ObjDump\\n \\n\\n\\n              C2hs Haskell\\n \\n\\n\\n              Cabal Config\\n \\n\\n\\n              Cap\\'n Proto\\n \\n\\n\\n              CartoCSS\\n \\n\\n\\n              Ceylon\\n \\n\\n\\n              Chapel\\n \\n\\n\\n              Charity\\n \\n\\n\\n              ChucK\\n \\n\\n\\n              Cirru\\n \\n\\n\\n              Clarion\\n \\n\\n\\n              Clean\\n \\n\\n\\n              Click\\n \\n\\n\\n              CLIPS\\n \\n\\n\\n              Clojure\\n \\n\\n\\n              Closure Templates\\n \\n\\n\\n              Cloud Firestore Security Rules\\n \\n\\n\\n              CMake\\n \\n\\n\\n              COBOL\\n \\n\\n\\n              CodeQL\\n \\n\\n\\n              CoffeeScript\\n \\n\\n\\n              ColdFusion\\n \\n\\n\\n              ColdFusion CFC\\n \\n\\n\\n              COLLADA\\n \\n\\n\\n              Common Lisp\\n \\n\\n\\n              Common Workflow Language\\n \\n\\n\\n              Component Pascal\\n \\n\\n\\n              CoNLL-U\\n \\n\\n\\n              Cool\\n \\n\\n\\n              Coq\\n \\n\\n\\n              Cpp-ObjDump\\n \\n\\n\\n              Creole\\n \\n\\n\\n              Crystal\\n \\n\\n\\n              CSON\\n \\n\\n\\n              Csound\\n \\n\\n\\n              Csound Document\\n \\n\\n\\n              Csound Score\\n \\n\\n\\n              CSS\\n \\n\\n\\n              CSV\\n \\n\\n\\n              Cuda\\n \\n\\n\\n              cURL Config\\n \\n\\n\\n              CWeb\\n \\n\\n\\n              Cycript\\n \\n\\n\\n              Cython\\n \\n\\n\\n              D\\n \\n\\n\\n              D-ObjDump\\n \\n\\n\\n              Dafny\\n \\n\\n\\n              Darcs Patch\\n \\n\\n\\n              Dart\\n \\n\\n\\n              DataWeave\\n \\n\\n\\n              desktop\\n \\n\\n\\n              Dhall\\n \\n\\n\\n              Diff\\n \\n\\n\\n              DIGITAL Command Language\\n \\n\\n\\n              dircolors\\n \\n\\n\\n              DirectX 3D File\\n \\n\\n\\n              DM\\n \\n\\n\\n              DNS Zone\\n \\n\\n\\n              Dockerfile\\n \\n\\n\\n              Dogescript\\n \\n\\n\\n              DTrace\\n \\n\\n\\n              Dylan\\n \\n\\n\\n              E\\n \\n\\n\\n              Eagle\\n \\n\\n\\n              Easybuild\\n \\n\\n\\n              EBNF\\n \\n\\n\\n              eC\\n \\n\\n\\n              Ecere Projects\\n \\n\\n\\n              ECL\\n \\n\\n\\n              ECLiPSe\\n \\n\\n\\n              EditorConfig\\n \\n\\n\\n              Edje Data Collection\\n \\n\\n\\n              edn\\n \\n\\n\\n              Eiffel\\n \\n\\n\\n              EJS\\n \\n\\n\\n              Elixir\\n \\n\\n\\n              Elm\\n \\n\\n\\n              Emacs Lisp\\n \\n\\n\\n              EmberScript\\n \\n\\n\\n              EML\\n \\n\\n\\n              EQ\\n \\n\\n\\n              Erlang\\n \\n\\n\\n              F#\\n \\n\\n\\n              F*\\n \\n\\n\\n              Factor\\n \\n\\n\\n              Fancy\\n \\n\\n\\n              Fantom\\n \\n\\n\\n              Faust\\n \\n\\n\\n              FIGlet Font\\n \\n\\n\\n              Filebench WML\\n \\n\\n\\n              Filterscript\\n \\n\\n\\n              fish\\n \\n\\n\\n              FLUX\\n \\n\\n\\n              Formatted\\n \\n\\n\\n              Forth\\n \\n\\n\\n              Fortran\\n \\n\\n\\n              Fortran Free Form\\n \\n\\n\\n              FreeMarker\\n \\n\\n\\n              Frege\\n \\n\\n\\n              Futhark\\n \\n\\n\\n              G-code\\n \\n\\n\\n              Game Maker Language\\n \\n\\n\\n              GAML\\n \\n\\n\\n              GAMS\\n \\n\\n\\n              GAP\\n \\n\\n\\n              GCC Machine Description\\n \\n\\n\\n              GDB\\n \\n\\n\\n              GDScript\\n \\n\\n\\n              GEDCOM\\n \\n\\n\\n              Genie\\n \\n\\n\\n              Genshi\\n \\n\\n\\n              Gentoo Ebuild\\n \\n\\n\\n              Gentoo Eclass\\n \\n\\n\\n              Gerber Image\\n \\n\\n\\n              Gettext Catalog\\n \\n\\n\\n              Gherkin\\n \\n\\n\\n              Git Attributes\\n \\n\\n\\n              Git Config\\n \\n\\n\\n              GLSL\\n \\n\\n\\n              Glyph\\n \\n\\n\\n              Glyph Bitmap Distribution Format\\n \\n\\n\\n              GN\\n \\n\\n\\n              Gnuplot\\n \\n\\n\\n              Go\\n \\n\\n\\n              Golo\\n \\n\\n\\n              Gosu\\n \\n\\n\\n              Grace\\n \\n\\n\\n              Gradle\\n \\n\\n\\n              Grammatical Framework\\n \\n\\n\\n              Graph Modeling Language\\n \\n\\n\\n              GraphQL\\n \\n\\n\\n              Graphviz (DOT)\\n \\n\\n\\n              Groovy\\n \\n\\n\\n              Groovy Server Pages\\n \\n\\n\\n              Hack\\n \\n\\n\\n              Haml\\n \\n\\n\\n              Handlebars\\n \\n\\n\\n              HAProxy\\n \\n\\n\\n              Harbour\\n \\n\\n\\n              Haskell\\n \\n\\n\\n              Haxe\\n \\n\\n\\n              HCL\\n \\n\\n\\n              HiveQL\\n \\n\\n\\n              HLSL\\n \\n\\n\\n              HolyC\\n \\n\\n\\n              HTML\\n \\n\\n\\n              HTML+Django\\n \\n\\n\\n              HTML+ECR\\n \\n\\n\\n              HTML+EEX\\n \\n\\n\\n              HTML+ERB\\n \\n\\n\\n              HTML+PHP\\n \\n\\n\\n              HTML+Razor\\n \\n\\n\\n              HTTP\\n \\n\\n\\n              HXML\\n \\n\\n\\n              Hy\\n \\n\\n\\n              HyPhy\\n \\n\\n\\n              IDL\\n \\n\\n\\n              Idris\\n \\n\\n\\n              Ignore List\\n \\n\\n\\n              IGOR Pro\\n \\n\\n\\n              Inform 7\\n \\n\\n\\n              INI\\n \\n\\n\\n              Inno Setup\\n \\n\\n\\n              Io\\n \\n\\n\\n              Ioke\\n \\n\\n\\n              IRC log\\n \\n\\n\\n              Isabelle\\n \\n\\n\\n              Isabelle ROOT\\n \\n\\n\\n              J\\n \\n\\n\\n              Jasmin\\n \\n\\n\\n              Java\\n \\n\\n\\n              Java Properties\\n \\n\\n\\n              Java Server Pages\\n \\n\\n\\n              JavaScript\\n \\n\\n\\n              JavaScript+ERB\\n \\n\\n\\n              JFlex\\n \\n\\n\\n              Jison\\n \\n\\n\\n              Jison Lex\\n \\n\\n\\n              Jolie\\n \\n\\n\\n              JSON\\n \\n\\n\\n              JSON with Comments\\n \\n\\n\\n              JSON5\\n \\n\\n\\n              JSONiq\\n \\n\\n\\n              JSONLD\\n \\n\\n\\n              Jsonnet\\n \\n\\n\\n              JSX\\n \\n\\n\\n              Julia\\n \\n\\n\\n              Jupyter Notebook\\n \\n\\n\\n              KiCad Layout\\n \\n\\n\\n              KiCad Legacy Layout\\n \\n\\n\\n              KiCad Schematic\\n \\n\\n\\n              Kit\\n \\n\\n\\n              Kotlin\\n \\n\\n\\n              KRL\\n \\n\\n\\n              LabVIEW\\n \\n\\n\\n              Lasso\\n \\n\\n\\n              Latte\\n \\n\\n\\n              Lean\\n \\n\\n\\n              Less\\n \\n\\n\\n              Lex\\n \\n\\n\\n              LFE\\n \\n\\n\\n              LilyPond\\n \\n\\n\\n              Limbo\\n \\n\\n\\n              Linker Script\\n \\n\\n\\n              Linux Kernel Module\\n \\n\\n\\n              Liquid\\n \\n\\n\\n              Literate Agda\\n \\n\\n\\n              Literate CoffeeScript\\n \\n\\n\\n              Literate Haskell\\n \\n\\n\\n              LiveScript\\n \\n\\n\\n              LLVM\\n \\n\\n\\n              Logos\\n \\n\\n\\n              Logtalk\\n \\n\\n\\n              LOLCODE\\n \\n\\n\\n              LookML\\n \\n\\n\\n              LoomScript\\n \\n\\n\\n              LSL\\n \\n\\n\\n              LTspice Symbol\\n \\n\\n\\n              Lua\\n \\n\\n\\n              M\\n \\n\\n\\n              M4\\n \\n\\n\\n              M4Sugar\\n \\n\\n\\n              Macaulay2\\n \\n\\n\\n              Makefile\\n \\n\\n\\n              Mako\\n \\n\\n\\n              Markdown\\n \\n\\n\\n              Marko\\n \\n\\n\\n              Mask\\n \\n\\n\\n              Mathematica\\n \\n\\n\\n              MATLAB\\n \\n\\n\\n              Maven POM\\n \\n\\n\\n              Max\\n \\n\\n\\n              MAXScript\\n \\n\\n\\n              mcfunction\\n \\n\\n\\n              MediaWiki\\n \\n\\n\\n              Mercury\\n \\n\\n\\n              Meson\\n \\n\\n\\n              Metal\\n \\n\\n\\n              Microsoft Developer Studio Project\\n \\n\\n\\n              MiniD\\n \\n\\n\\n              Mirah\\n \\n\\n\\n              mIRC Script\\n \\n\\n\\n              MLIR\\n \\n\\n\\n              Modelica\\n \\n\\n\\n              Modula-2\\n \\n\\n\\n              Modula-3\\n \\n\\n\\n              Module Management System\\n \\n\\n\\n              Monkey\\n \\n\\n\\n              Moocode\\n \\n\\n\\n              MoonScript\\n \\n\\n\\n              Motorola 68K Assembly\\n \\n\\n\\n              MQL4\\n \\n\\n\\n              MQL5\\n \\n\\n\\n              MTML\\n \\n\\n\\n              MUF\\n \\n\\n\\n              mupad\\n \\n\\n\\n              Muse\\n \\n\\n\\n              Myghty\\n \\n\\n\\n              nanorc\\n \\n\\n\\n              NASL\\n \\n\\n\\n              NCL\\n \\n\\n\\n              Nearley\\n \\n\\n\\n              Nemerle\\n \\n\\n\\n              nesC\\n \\n\\n\\n              NetLinx\\n \\n\\n\\n              NetLinx+ERB\\n \\n\\n\\n              NetLogo\\n \\n\\n\\n              NewLisp\\n \\n\\n\\n              Nextflow\\n \\n\\n\\n              Nginx\\n \\n\\n\\n              Nim\\n \\n\\n\\n              Ninja\\n \\n\\n\\n              Nit\\n \\n\\n\\n              Nix\\n \\n\\n\\n              NL\\n \\n\\n\\n              NPM Config\\n \\n\\n\\n              NSIS\\n \\n\\n\\n              Nu\\n \\n\\n\\n              NumPy\\n \\n\\n\\n              ObjDump\\n \\n\\n\\n              Object Data Instance Notation\\n \\n\\n\\n              Objective-C\\n \\n\\n\\n              Objective-C++\\n \\n\\n\\n              Objective-J\\n \\n\\n\\n              ObjectScript\\n \\n\\n\\n              OCaml\\n \\n\\n\\n              Odin\\n \\n\\n\\n              Omgrofl\\n \\n\\n\\n              ooc\\n \\n\\n\\n              Opa\\n \\n\\n\\n              Opal\\n \\n\\n\\n              Open Policy Agent\\n \\n\\n\\n              OpenCL\\n \\n\\n\\n              OpenEdge ABL\\n \\n\\n\\n              OpenQASM\\n \\n\\n\\n              OpenRC runscript\\n \\n\\n\\n              OpenSCAD\\n \\n\\n\\n              OpenStep Property List\\n \\n\\n\\n              OpenType Feature File\\n \\n\\n\\n              Org\\n \\n\\n\\n              Ox\\n \\n\\n\\n              Oxygene\\n \\n\\n\\n              Oz\\n \\n\\n\\n              P4\\n \\n\\n\\n              Pan\\n \\n\\n\\n              Papyrus\\n \\n\\n\\n              Parrot\\n \\n\\n\\n              Parrot Assembly\\n \\n\\n\\n              Parrot Internal Representation\\n \\n\\n\\n              Pascal\\n \\n\\n\\n              Pawn\\n \\n\\n\\n              Pep8\\n \\n\\n\\n              Perl\\n \\n\\n\\n              PHP\\n \\n\\n\\n              Pic\\n \\n\\n\\n              Pickle\\n \\n\\n\\n              PicoLisp\\n \\n\\n\\n              PigLatin\\n \\n\\n\\n              Pike\\n \\n\\n\\n              PlantUML\\n \\n\\n\\n              PLpgSQL\\n \\n\\n\\n              PLSQL\\n \\n\\n\\n              Pod\\n \\n\\n\\n              Pod 6\\n \\n\\n\\n              PogoScript\\n \\n\\n\\n              Pony\\n \\n\\n\\n              PostCSS\\n \\n\\n\\n              PostScript\\n \\n\\n\\n              POV-Ray SDL\\n \\n\\n\\n              PowerBuilder\\n \\n\\n\\n              PowerShell\\n \\n\\n\\n              Prisma\\n \\n\\n\\n              Processing\\n \\n\\n\\n              Proguard\\n \\n\\n\\n              Prolog\\n \\n\\n\\n              Propeller Spin\\n \\n\\n\\n              Protocol Buffer\\n \\n\\n\\n              Public Key\\n \\n\\n\\n              Pug\\n \\n\\n\\n              Puppet\\n \\n\\n\\n              Pure Data\\n \\n\\n\\n              PureBasic\\n \\n\\n\\n              PureScript\\n \\n\\n\\n              Python\\n \\n\\n\\n              Python console\\n \\n\\n\\n              Python traceback\\n \\n\\n\\n              q\\n \\n\\n\\n              QMake\\n \\n\\n\\n              QML\\n \\n\\n\\n              Quake\\n \\n\\n\\n              R\\n \\n\\n\\n              Racket\\n \\n\\n\\n              Ragel\\n \\n\\n\\n              Raku\\n \\n\\n\\n              RAML\\n \\n\\n\\n              Rascal\\n \\n\\n\\n              Raw token data\\n \\n\\n\\n              RDoc\\n \\n\\n\\n              Readline Config\\n \\n\\n\\n              REALbasic\\n \\n\\n\\n              Reason\\n \\n\\n\\n              Rebol\\n \\n\\n\\n              Red\\n \\n\\n\\n              Redcode\\n \\n\\n\\n              Regular Expression\\n \\n\\n\\n              Ren\\'Py\\n \\n\\n\\n              RenderScript\\n \\n\\n\\n              reStructuredText\\n \\n\\n\\n              REXX\\n \\n\\n\\n              RHTML\\n \\n\\n\\n              Rich Text Format\\n \\n\\n\\n              Ring\\n \\n\\n\\n              Riot\\n \\n\\n\\n              RMarkdown\\n \\n\\n\\n              RobotFramework\\n \\n\\n\\n              Roff\\n \\n\\n\\n              Roff Manpage\\n \\n\\n\\n              Rouge\\n \\n\\n\\n              RPC\\n \\n\\n\\n              RPM Spec\\n \\n\\n\\n              Ruby\\n \\n\\n\\n              RUNOFF\\n \\n\\n\\n              Rust\\n \\n\\n\\n              Sage\\n \\n\\n\\n              SaltStack\\n \\n\\n\\n              SAS\\n \\n\\n\\n              Sass\\n \\n\\n\\n              Scala\\n \\n\\n\\n              Scaml\\n \\n\\n\\n              Scheme\\n \\n\\n\\n              Scilab\\n \\n\\n\\n              SCSS\\n \\n\\n\\n              sed\\n \\n\\n\\n              Self\\n \\n\\n\\n              ShaderLab\\n \\n\\n\\n              Shell\\n \\n\\n\\n              ShellSession\\n \\n\\n\\n              Shen\\n \\n\\n\\n              Sieve\\n \\n\\n\\n              Slash\\n \\n\\n\\n              Slice\\n \\n\\n\\n              Slim\\n \\n\\n\\n              Smali\\n \\n\\n\\n              Smalltalk\\n \\n\\n\\n              Smarty\\n \\n\\n\\n              SmPL\\n \\n\\n\\n              SMT\\n \\n\\n\\n              Solidity\\n \\n\\n\\n              SourcePawn\\n \\n\\n\\n              SPARQL\\n \\n\\n\\n              Spline Font Database\\n \\n\\n\\n              SQF\\n \\n\\n\\n              SQL\\n \\n\\n\\n              SQLPL\\n \\n\\n\\n              Squirrel\\n \\n\\n\\n              SRecode Template\\n \\n\\n\\n              SSH Config\\n \\n\\n\\n              Stan\\n \\n\\n\\n              Standard ML\\n \\n\\n\\n              Starlark\\n \\n\\n\\n              Stata\\n \\n\\n\\n              STON\\n \\n\\n\\n              Stylus\\n \\n\\n\\n              SubRip Text\\n \\n\\n\\n              SugarSS\\n \\n\\n\\n              SuperCollider\\n \\n\\n\\n              Svelte\\n \\n\\n\\n              SVG\\n \\n\\n\\n              Swift\\n \\n\\n\\n              SWIG\\n \\n\\n\\n              SystemVerilog\\n \\n\\n\\n              Tcl\\n \\n\\n\\n              Tcsh\\n \\n\\n\\n              Tea\\n \\n\\n\\n              Terra\\n \\n\\n\\n              TeX\\n \\n\\n\\n              Texinfo\\n \\n\\n\\n              Text\\n \\n\\n\\n              Textile\\n \\n\\n\\n              Thrift\\n \\n\\n\\n              TI Program\\n \\n\\n\\n              TLA\\n \\n\\n\\n              TOML\\n \\n\\n\\n              TSQL\\n \\n\\n\\n              TSX\\n \\n\\n\\n              Turing\\n \\n\\n\\n              Turtle\\n \\n\\n\\n              Twig\\n \\n\\n\\n              TXL\\n \\n\\n\\n              Type Language\\n \\n\\n\\n              TypeScript\\n \\n\\n\\n              Unified Parallel C\\n \\n\\n\\n              Unity3D Asset\\n \\n\\n\\n              Unix Assembly\\n \\n\\n\\n              Uno\\n \\n\\n\\n              UnrealScript\\n \\n\\n\\n              UrWeb\\n \\n\\n\\n              V\\n \\n\\n\\n              Vala\\n \\n\\n\\n              VBA\\n \\n\\n\\n              VBScript\\n \\n\\n\\n              VCL\\n \\n\\n\\n              Verilog\\n \\n\\n\\n              VHDL\\n \\n\\n\\n              Vim script\\n \\n\\n\\n              Vim Snippet\\n \\n\\n\\n              Visual Basic .NET\\n \\n\\n\\n              Visual Basic .NET\\n \\n\\n\\n              Volt\\n \\n\\n\\n              Vue\\n \\n\\n\\n              Wavefront Material\\n \\n\\n\\n              Wavefront Object\\n \\n\\n\\n              wdl\\n \\n\\n\\n              Web Ontology Language\\n \\n\\n\\n              WebAssembly\\n \\n\\n\\n              WebIDL\\n \\n\\n\\n              WebVTT\\n \\n\\n\\n              Wget Config\\n \\n\\n\\n              Windows Registry Entries\\n \\n\\n\\n              wisp\\n \\n\\n\\n              Wollok\\n \\n\\n\\n              World of Warcraft Addon Data\\n \\n\\n\\n              X BitMap\\n \\n\\n\\n              X Font Directory Index\\n \\n\\n\\n              X PixMap\\n \\n\\n\\n              X10\\n \\n\\n\\n              xBase\\n \\n\\n\\n              XC\\n \\n\\n\\n              XCompose\\n \\n\\n\\n              XML\\n \\n\\n\\n              XML Property List\\n \\n\\n\\n              Xojo\\n \\n\\n\\n              XPages\\n \\n\\n\\n              XProc\\n \\n\\n\\n              XQuery\\n \\n\\n\\n              XS\\n \\n\\n\\n              XSLT\\n \\n\\n\\n              Xtend\\n \\n\\n\\n              Yacc\\n \\n\\n\\n              YAML\\n \\n\\n\\n              YANG\\n \\n\\n\\n              YARA\\n \\n\\n\\n              YASnippet\\n \\n\\n\\n              ZAP\\n \\n\\n\\n              Zeek\\n \\n\\n\\n              ZenScript\\n \\n\\n\\n              Zephir\\n \\n\\n\\n              Zig\\n \\n\\n\\n              ZIL\\n \\n\\n\\n              Zimpl\\n \\n\\n\\n\\n\\n\\n\\n\\n\\n\\n\\n    Date range:\\n\\n    \\n      Today\\n \\n\\n\\n\\n        Adjust time span\\n\\n\\n\\n\\n\\n\\n\\n\\n\\n            Today\\n \\n\\n\\n            This week\\n \\n\\n\\n            This month\\n \\n\\n\\n\\n\\n\\n\\n\\n\\n\\n\\n      Star\\n\\n\\n\\n\\n\\n\\n        princeton-vl /\\n\\n      RAFT\\n \\n\\n\\n\\nPython\\n\\n\\n\\n        291\\n\\n\\n\\n        38\\n\\n\\n        Built by\\n\\n          \\n\\n\\n\\n\\n        51 stars today\\n \\n\\n\\n\\n\\n\\n      Star\\n\\n\\n\\n\\n\\n\\n        google /\\n\\n      latexify_py\\n \\n\\n      Generates LaTeX math description from Python functions.\\n    \\n\\n\\n\\nPython\\n\\n\\n\\n        1,350\\n\\n\\n\\n        103\\n\\n\\n        Built by\\n\\n          \\n\\n\\n\\n\\n\\n        116 stars today\\n \\n\\n\\n\\n\\n\\n      Star\\n\\n\\n\\n\\n\\n\\n        chriskiehl /\\n\\n      Gooey\\n \\n\\n      Turn (almost) any Python command line program into a full GUI application with one line\\n    \\n\\n\\n\\nPython\\n\\n\\n\\n        9,255\\n\\n\\n\\n        549\\n\\n\\n        Built by\\n\\n          \\n\\n\\n\\n\\n\\n\\n\\n        61 stars today\\n \\n\\n\\n\\n\\n\\n      Star\\n\\n\\n\\n\\n\\n\\n        KevinLage /\\n\\n      YouTube-Livestream-Botter\\n \\n\\n      Simple tool to bot viewers to a YouTube Livestream!\\n    \\n\\n\\n\\nPython\\n\\n\\n\\n        214\\n\\n\\n\\n        149\\n\\n\\n        Built by\\n\\n          \\n\\n\\n\\n\\n\\n\\n\\n        38 stars today\\n \\n\\n\\n\\n\\n\\n      Star\\n\\n\\n\\n\\n\\n\\n        DevashishPrasad /\\n\\n      CascadeTabNet\\n \\n\\n      This repository contains the code and implementation details of the CascadeTabNet paper \"CascadeTabNet: An approach for end to end table detection and structure recognition from image-based documents\"\\n    \\n\\n\\n\\nPython\\n\\n\\n\\n        398\\n\\n\\n\\n        123\\n\\n\\n        Built by\\n\\n          \\n\\n\\n\\n\\n\\n\\n        53 stars today\\n \\n\\n\\n\\n\\n\\n      Star\\n\\n\\n\\n\\n\\n\\n        huangrt01 /\\n\\n      CS-Notes\\n \\n\\n      我的自学笔记，在学习shell和MLSys，整理C++、算法、操作系统，后续学习分布式系统，终身更新。\\n    \\n\\n\\n\\nPython\\n\\n\\n\\n        888\\n\\n\\n\\n        138\\n\\n\\n        Built by\\n\\n          \\n\\n\\n\\n        108 stars today\\n \\n\\n\\n\\n\\n\\n      Star\\n\\n\\n\\n\\n\\n\\n        lyft /\\n\\n      l5kit\\n \\n\\n      L5Kit - level5.lyft.com\\n    \\n\\n\\n\\nPython\\n\\n\\n\\n        139\\n\\n\\n\\n        42\\n\\n\\n        Built by\\n\\n          \\n\\n\\n\\n\\n\\n\\n\\n        19 stars today\\n \\n\\n\\n\\n\\n\\n      Star\\n\\n\\n\\n\\n\\n\\n        3b1b /\\n\\n      manim\\n \\n\\n      Animation engine for explanatory math videos\\n    \\n\\n\\n\\nPython\\n\\n\\n\\n        24,766\\n\\n\\n\\n        3,172\\n\\n\\n        Built by\\n\\n          \\n\\n\\n\\n\\n\\n\\n\\n        89 stars today\\n \\n\\n\\n\\n\\n\\n      Star\\n\\n\\n\\n\\n\\n\\n        thunil /\\n\\n      TecoGAN\\n \\n\\n      This repo will contain source code and materials for the TecoGAN project, i.e. code for a TEmporally COherent GAN\\n    \\n\\n\\n\\nPython\\n\\n\\n\\n        2,271\\n\\n\\n\\n        465\\n\\n\\n        Built by\\n\\n          \\n\\n\\n\\n\\n\\n\\n        194 stars today\\n \\n\\n\\n\\n\\n\\n      Star\\n\\n\\n\\n\\n\\n\\n        maudzung /\\n\\n      Super-Fast-Accurate-3D-Object-Detection\\n \\n\\n      Super Fast and Accurate 3D Object Detection based on 3D LiDAR Point Clouds (The PyTorch implementation)\\n    \\n\\n\\n\\nPython\\n\\n\\n\\n        123\\n\\n\\n\\n        34\\n\\n\\n        Built by\\n\\n          \\n\\n\\n\\n        77 stars today\\n \\n\\n\\n\\n\\n\\n      Star\\n\\n\\n\\n\\n\\n\\n        psf /\\n\\n      black\\n \\n\\n      The uncompromising Python code formatter\\n    \\n\\n\\n\\nPython\\n\\n\\n\\n        17,276\\n\\n\\n\\n        1,066\\n\\n\\n        Built by\\n\\n          \\n\\n\\n\\n\\n\\n\\n\\n        16 stars today\\n \\n\\n\\n\\n\\n\\n      Star\\n\\n\\n\\n\\n\\n\\n        microsoft /\\n\\n      nlp-recipes\\n \\n\\n      Natural Language Processing Best Practices & Examples\\n    \\n\\n\\n\\nPython\\n\\n\\n\\n        5,118\\n\\n\\n\\n        692\\n\\n\\n        Built by\\n\\n          \\n\\n\\n\\n\\n\\n\\n\\n        11 stars today\\n \\n\\n\\n\\n\\n\\n      Star\\n\\n\\n\\n\\n\\n\\n        JohanLink /\\n\\n      Ball-Balancing-PID-System\\n \\n\\n\\n\\nPython\\n\\n\\n\\n        95\\n\\n\\n\\n        33\\n\\n\\n        Built by\\n\\n          \\n\\n\\n\\n        5 stars today\\n \\n\\n\\n\\n\\n\\n      Star\\n\\n\\n\\n\\n\\n\\n        saltstack /\\n\\n      salt\\n \\n\\n      Software to automate the management and configuration of any infrastructure or application at scale. Get access to the Salt software package repository here: \\n    \\n\\n\\n\\nPython\\n\\n\\n\\n        11,199\\n\\n\\n\\n        4,908\\n\\n\\n        Built by\\n\\n          \\n\\n\\n\\n\\n\\n\\n\\n        5 stars today\\n \\n\\n\\n\\n\\n\\n      Star\\n\\n\\n\\n\\n\\n\\n        JaidedAI /\\n\\n      EasyOCR\\n \\n\\n      Ready-to-use OCR with 40+ languages supported including Chinese, Japanese, Korean and Thai\\n    \\n\\n\\n\\nPython\\n\\n\\n\\n        7,310\\n\\n\\n\\n        637\\n\\n\\n        Built by\\n\\n          \\n\\n\\n\\n\\n\\n\\n\\n        60 stars today\\n \\n\\n\\n\\n\\n\\n      Star\\n\\n\\n\\n\\n\\n\\n        k4yt3x /\\n\\n      video2x\\n \\n\\n      A lossless video/GIF/image upscaler achieved with waifu2x, Anime4K, SRMD and RealSR. Started in Hack the Valley 2, 2018.\\n    \\n\\n\\n\\nPython\\n\\n\\n\\n        1,597\\n\\n\\n\\n        177\\n\\n\\n        Built by\\n\\n          \\n\\n\\n\\n\\n\\n\\n\\n        19 stars today\\n \\n\\n\\n\\n\\n\\n      Star\\n\\n\\n\\n\\n\\n\\n        connorferster /\\n\\n      handcalcs\\n \\n\\n      Python library for converting Python calculations into rendered latex.\\n    \\n\\n\\n\\nPython\\n\\n\\n\\n        666\\n\\n\\n\\n        75\\n\\n\\n        Built by\\n\\n          \\n\\n\\n\\n        59 stars today\\n \\n\\n\\n\\n\\n\\n      Star\\n\\n\\n\\n\\n\\n\\n        TensorSpeech /\\n\\n      TensorFlowTTS\\n \\n\\n😝 TensorFlowTTS: Real-Time State-of-the-art Speech Synthesis for Tensorflow 2 (supported including English, Korean, Chinese and Easy to adapt for other languages)\\n    \\n\\n\\n\\nPython\\n\\n\\n\\n        1,017\\n\\n\\n\\n        154\\n\\n\\n        Built by\\n\\n          \\n\\n\\n\\n\\n\\n\\n\\n        118 stars today\\n \\n\\n\\n\\n\\n\\n      Star\\n\\n\\n\\n\\n\\n\\n        JettChenT /\\n\\n      scan-for-webcams\\n \\n\\n      scan for webcams on the internet\\n    \\n\\n\\n\\nPython\\n\\n\\n\\n        75\\n\\n\\n\\n        14\\n\\n\\n        Built by\\n\\n          \\n\\n\\n\\n\\n        8 stars today\\n \\n\\n\\n\\n\\n\\n      Star\\n\\n\\n\\n\\n\\n\\n        Azure /\\n\\n      azure-cli\\n \\n\\n      Azure Command-Line Interface\\n    \\n\\n\\n\\nPython\\n\\n\\n\\n        2,019\\n\\n\\n\\n        1,377\\n\\n\\n        Built by\\n\\n          \\n\\n\\n\\n\\n\\n\\n\\n        5 stars today\\n \\n\\n\\n\\n\\n\\n      Star\\n\\n\\n\\n\\n\\n\\n        andymccurdy /\\n\\n      redis-py\\n \\n\\n      Redis Python Client\\n    \\n\\n\\n\\nPython\\n\\n\\n\\n        8,765\\n\\n\\n\\n        1,869\\n\\n\\n        Built by\\n\\n          \\n\\n\\n\\n\\n\\n\\n\\n        3 stars today\\n \\n\\n\\n\\n\\n\\n      Star\\n\\n\\n\\n\\n\\n\\n        PaddlePaddle /\\n\\n      PaddleHub\\n \\n\\n      Toolkit for Pre-trained Model Application of PaddlePaddle（『飞桨』预训练模型应用工具 ）\\n    \\n\\n\\n\\nPython\\n\\n\\n\\n        1,483\\n\\n\\n\\n        371\\n\\n\\n        Built by\\n\\n          \\n\\n\\n\\n\\n\\n\\n\\n        17 stars today\\n \\n\\n\\n\\n\\n\\n      Star\\n\\n\\n\\n\\n\\n\\n        PySimpleGUI /\\n\\n      PySimpleGUI\\n \\n\\n      Launched in 2018 Actively developed and supported. Supports tkinter, Qt, WxPython, Remi (in browser). Create custom layout GUI\\'s simply. Python 2.7 & 3 Support. 200+ Demo programs & Cookbook for rapid start. Extensive documentation. Examples using Machine Learning(GUI, OpenCV Integration, Chatterbot), Floating Desktop Widgets, Matplotlib + Pyplo…\\n    \\n\\n\\n\\nPython\\n\\n\\n\\n        4,358\\n\\n\\n\\n        681\\n\\n\\n        Built by\\n\\n          \\n\\n\\n\\n\\n\\n\\n\\n        17 stars today\\n \\n\\n\\n\\n\\n\\n      Star\\n\\n\\n\\n\\n\\n\\n        donnemartin /\\n\\n      system-design-primer\\n \\n\\n      Learn how to design large-scale systems. Prep for the system design interview. Includes Anki flashcards.\\n    \\n\\n\\n\\nPython\\n\\n\\n\\n        104,928\\n\\n\\n\\n        18,831\\n\\n\\n        Built by\\n\\n          \\n\\n\\n\\n\\n\\n\\n\\n        78 stars today\\n \\n\\n\\n\\n\\n\\n      Star\\n\\n\\n\\n\\n\\n\\n        willmcgugan /\\n\\n      rich\\n \\n\\n      Rich is a Python library for rich text and beautiful formatting in the terminal.\\n    \\n\\n\\n\\nPython\\n\\n\\n\\n        12,044\\n\\n\\n\\n        309\\n\\n\\n        Built by\\n\\n          \\n\\n\\n\\n\\n\\n\\n\\n        27 stars today\\n \\n\\n\\n\\n\\n\\n\\n\\n\\n\\n\\n\\n\\n\\n\\n\\nProduct\\n\\nFeatures\\nSecurity\\nTeam\\nEnterprise\\nCustomer stories\\nThe ReadME Project\\nPricing\\nResources\\nRoadmap\\n\\n\\n\\nPlatform\\n\\nDeveloper API\\nPartners\\nAtom\\nElectron\\nGitHub Desktop\\n\\n\\n\\nSupport\\n\\nHelp\\nCommunity Forum\\nProfessional Services\\nLearning Lab\\nStatus\\nContact GitHub\\n\\n\\n\\nCompany\\n\\nAbout\\nBlog\\nCareers\\nPress\\nSocial Impact\\nShop\\n\\n\\n\\n\\n\\n\\n\\n\\n\\n\\nTwitter\\n\\n\\n\\n\\n\\nFacebook\\n\\n\\n\\n\\n\\nYouTube\\n\\n\\n\\n\\n\\nLinkedIn\\n\\n\\n\\n\\n\\nGitHub\\n\\n\\n\\n\\n© 2020 GitHub, Inc.\\nTerms\\nPrivacy\\nSite Map\\nWhat is Git?\\n\\n\\n\\n\\n\\n\\n\\n\\n\\n    You can’t perform that action at this time.\\n  \\n\\n\\n\\n\\n\\n\\n\\n\\n\\n\\n\\n\\n\\n\\n\\n\\n\\nYou signed in with another tab or window. Reload to refresh your session.\\nYou signed out in another tab or window. Reload to refresh your session.\\n\\n\\n\\n\\n\\n\\n\\n\\n\\n\\n\\n\\n\\n\\n\\n\\n\\n\\n'"
      ]
     },
     "execution_count": 19,
     "metadata": {},
     "output_type": "execute_result"
    }
   ],
   "source": [
    "#your code\n",
    "req = requests.get(url)\n",
    "soup = BeautifulSoup(req.content, 'html.parser')\n",
    "soup.text"
   ]
  },
  {
   "cell_type": "code",
   "execution_count": 20,
   "metadata": {},
   "outputs": [
    {
     "name": "stdout",
     "output_type": "stream",
     "text": [
      "['princeton-vl: RAFT', 'google: latexify_py', 'chriskiehl: Gooey', 'KevinLage: YouTube-Livestream-Botter', 'DevashishPrasad: CascadeTabNet', 'huangrt01: CS-Notes', 'lyft: l5kit', '3b1b: manim', 'thunil: TecoGAN', 'maudzung: Super-Fast-Accurate-3D-Object-Detection', 'psf: black', 'microsoft: nlp-recipes', 'JohanLink: Ball-Balancing-PID-System', 'saltstack: salt', 'JaidedAI: EasyOCR', 'k4yt3x: video2x', 'connorferster: handcalcs', 'TensorSpeech: TensorFlowTTS', 'JettChenT: scan-for-webcams', 'Azure: azure-cli', 'andymccurdy: redis-py', 'PaddlePaddle: PaddleHub', 'PySimpleGUI: PySimpleGUI', 'donnemartin: system-design-primer', 'willmcgugan: rich']\n"
     ]
    }
   ],
   "source": [
    "repo = soup.find_all('h1', attrs={'class':'h3 lh-condensed'})\n",
    "\n",
    "repo_list = []\n",
    "\n",
    "for i in repo:\n",
    "    repo_list.append(i.text.strip().replace('\\n', '').replace('      ',' ').replace(' / ', ': '))\n",
    "print(repo_list)\n",
    "\n"
   ]
  },
  {
   "cell_type": "markdown",
   "metadata": {},
   "source": [
    "#### Display all the image links from Walt Disney wikipedia page"
   ]
  },
  {
   "cell_type": "code",
   "execution_count": 21,
   "metadata": {},
   "outputs": [],
   "source": [
    "# This is the url you will scrape in this exercise\n",
    "url = 'https://en.wikipedia.org/wiki/Walt_Disney'"
   ]
  },
  {
   "cell_type": "code",
   "execution_count": 22,
   "metadata": {},
   "outputs": [
    {
     "data": {
      "text/plain": [
       "'\\n\\n\\n\\nWalt Disney - Wikipedia\\ndocument.documentElement.className=\"client-js\";RLCONF={\"wgBreakFrames\":!1,\"wgSeparatorTransformTable\":[\"\",\"\"],\"wgDigitTransformTable\":[\"\",\"\"],\"wgDefaultDateFormat\":\"dmy\",\"wgMonthNames\":[\"\",\"January\",\"February\",\"March\",\"April\",\"May\",\"June\",\"July\",\"August\",\"September\",\"October\",\"November\",\"December\"],\"wgRequestId\":\"b5bb04f7-ac60-4c61-8c3d-46a130e55a05\",\"wgCSPNonce\":!1,\"wgCanonicalNamespace\":\"\",\"wgCanonicalSpecialPageName\":!1,\"wgNamespaceNumber\":0,\"wgPageName\":\"Walt_Disney\",\"wgTitle\":\"Walt Disney\",\"wgCurRevisionId\":972127952,\"wgRevisionId\":972127952,\"wgArticleId\":32917,\"wgIsArticle\":!0,\"wgIsRedirect\":!1,\"wgAction\":\"view\",\"wgUserName\":null,\"wgUserGroups\":[\"*\"],\"wgCategories\":[\"Pages containing links to subscription-only content\",\"Wikipedia extended-confirmed-protected pages\",\"Wikipedia indefinitely move-protected pages\",\"Articles with short description\",\"Short description is different from Wikidata\",\"Featured articles\",\"Use mdy dates from April 2017\",\\n\"Use American English from May 2016\",\"All Wikipedia articles written in American English\",\"Biography with signature\",\"Articles with hCards\",\"Articles containing German-language text\",\"Articles containing French-language text\",\"Articles containing Spanish-language text\",\"CS1 maint: ref=harv\",\"Articles using Template:The Interviews people\",\"Wikipedia articles with AAG identifiers\",\"Wikipedia articles with BIBSYS identifiers\",\"Wikipedia articles with BNE identifiers\",\"Wikipedia articles with BNF identifiers\",\"Wikipedia articles with CANTIC identifiers\",\"Wikipedia articles with CINII identifiers\",\"Wikipedia articles with GND identifiers\",\"Wikipedia articles with ISNI identifiers\",\"Wikipedia articles with LCCN identifiers\",\"Wikipedia articles with MusicBrainz identifiers\",\"Wikipedia articles with NARA identifiers\",\"Wikipedia articles with NDL identifiers\",\"Wikipedia articles with NKC identifiers\",\"Wikipedia articles with NLA identifiers\",\"Wikipedia articles with NLI identifiers\",\\n\"Wikipedia articles with NLK identifiers\",\"Wikipedia articles with NLR identifiers\",\"Wikipedia articles with NTA identifiers\",\"Wikipedia articles with PIC identifiers\",\"Wikipedia articles with RKDartists identifiers\",\"Wikipedia articles with SELIBR identifiers\",\"Wikipedia articles with SNAC-ID identifiers\",\"Wikipedia articles with SUDOC identifiers\",\"Wikipedia articles with Trove identifiers\",\"Wikipedia articles with ULAN identifiers\",\"Wikipedia articles with VIAF identifiers\",\"Wikipedia articles with WorldCat identifiers\",\"AC with 26 elements\",\"Articles containing video clips\",\"Walt Disney\",\"1901 births\",\"1966 deaths\",\"20th-century American artists\",\"20th-century American businesspeople\",\"20th-century American male actors\",\"20th-century American writers\",\"Academy Honorary Award recipients\",\"American animated film producers\",\"American anti-communists\",\"American anti-fascists\",\"American cartoonists\",\"American company founders\",\"Film producers from Missouri\",\\n\"American film studio executives\",\"American film production company founders\",\"American male screenwriters\",\"American male voice actors\",\"American mass media owners\",\"American people of Canadian descent\",\"American people of English descent\",\"American people of German descent\",\"American people of Irish descent\",\"American Red Cross personnel\",\"Philanthropists from Illinois\",\"American television hosts\",\"Amusement park owners\",\"Animators from Illinois\",\"Animators from Missouri\",\"Artists from Chicago\",\"Burials at Forest Lawn Memorial Park (Glendale)\",\"Deaths from cancer in California\",\"Cecil B. DeMille Award Golden Globe winners\",\"César Honorary Award recipients\",\"Chairmen of Disney\",\"Congressional Gold Medal recipients\",\"Deaths from lung cancer\",\"Disney family\",\"Disney executives\",\"Film directors from Missouri\",\"History of animation\",\"Kansas City Art Institute alumni\",\"Male actors from Missouri\",\"People from Marceline, Missouri\",\"Presidential Medal of Freedom recipients\",\\n\"Primetime Emmy Award winners\",\"Producers of Best Documentary Short Subject Academy Award winners\",\"Producers of Live Action Short Film Academy Award winners\",\"Recipients of the Irving G. Thalberg Memorial Award\",\"School of the Art Institute of Chicago alumni\",\"Writers from Chicago\",\"Writers from Missouri\",\"Screenwriters from Illinois\",\"Recipients of the Silver Buffalo Award\",\"People from Holmby Hills, Los Angeles\",\"Disease-related deaths in California\",\"Officers Crosses of the Order of Merit of the Federal Republic of Germany\",\"Chevaliers of the Légion d\\'honneur\",\"Producers of Best Animated Short Academy Award winners\",\"20th-century American male writers\"],\"wgPageContentLanguage\":\"en\",\"wgPageContentModel\":\"wikitext\",\"wgRelevantPageName\":\"Walt_Disney\",\"wgRelevantArticleId\":32917,\"wgIsProbablyEditable\":!1,\"wgRelevantPageIsProbablyEditable\":!1,\"wgRestrictionEdit\":[\"extendedconfirmed\"],\"wgRestrictionMove\":[\"sysop\"],\"wgMediaViewerOnClick\":!0,\"wgMediaViewerEnabledByDefault\":!0,\\n\"wgPopupsReferencePreviews\":!1,\"wgPopupsConflictsWithNavPopupGadget\":!1,\"wgVisualEditor\":{\"pageLanguageCode\":\"en\",\"pageLanguageDir\":\"ltr\",\"pageVariantFallbacks\":\"en\"},\"wgMFDisplayWikibaseDescriptions\":{\"search\":!0,\"nearby\":!0,\"watchlist\":!0,\"tagline\":!1},\"wgWMESchemaEditAttemptStepOversample\":!1,\"wgULSCurrentAutonym\":\"English\",\"wgNoticeProject\":\"wikipedia\",\"wgCentralAuthMobileDomain\":!1,\"wgEditSubmitButtonLabelPublish\":!0,\"wgULSPosition\":\"interlanguage\",\"wgWikibaseItemId\":\"Q8704\"};RLSTATE={\"ext.globalCssJs.user.styles\":\"ready\",\"site.styles\":\"ready\",\"noscript\":\"ready\",\"user.styles\":\"ready\",\"ext.globalCssJs.user\":\"ready\",\"user\":\"ready\",\"user.options\":\"loading\",\"ext.cite.styles\":\"ready\",\"ext.tmh.thumbnail.styles\":\"ready\",\"skins.vector.styles.legacy\":\"ready\",\"jquery.makeCollapsible.styles\":\"ready\",\"mediawiki.toc.styles\":\"ready\",\"ext.visualEditor.desktopArticleTarget.noscript\":\"ready\",\"ext.uls.interlanguage\":\"ready\",\"ext.wikimediaBadges\":\"ready\",\"wikibase.client.init\"\\n:\"ready\"};RLPAGEMODULES=[\"ext.cite.ux-enhancements\",\"mw.MediaWikiPlayer.loader\",\"mw.PopUpMediaTransform\",\"mw.TMHGalleryHook.js\",\"ext.scribunto.logs\",\"site\",\"mediawiki.page.ready\",\"jquery.makeCollapsible\",\"mediawiki.toc\",\"skins.vector.legacy.js\",\"ext.gadget.ReferenceTooltips\",\"ext.gadget.charinsert\",\"ext.gadget.extra-toolbar-buttons\",\"ext.gadget.refToolbar\",\"ext.gadget.switcher\",\"ext.centralauth.centralautologin\",\"mmv.head\",\"mmv.bootstrap.autostart\",\"ext.popups\",\"ext.visualEditor.desktopArticleTarget.init\",\"ext.visualEditor.targetLoader\",\"ext.eventLogging\",\"ext.wikimediaEvents\",\"ext.navigationTiming\",\"ext.uls.compactlinks\",\"ext.uls.interface\",\"ext.cx.eventlogging.campaigns\",\"ext.quicksurveys.init\",\"ext.centralNotice.geoIP\",\"ext.centralNotice.startUp\"];\\n(RLQ=window.RLQ||[]).push(function(){mw.loader.implement(\"user.options@1hzgi\",function($,jQuery,require,module){/*@nomin*/mw.user.tokens.set({\"patrolToken\":\"+\\\\\\\\\",\"watchToken\":\"+\\\\\\\\\",\"csrfToken\":\"+\\\\\\\\\"});\\n});});\\n\\n\\n\\n\\n\\n\\n\\n\\n\\n\\n\\n\\n\\n\\n\\n\\n\\n\\n\\n\\n\\n\\n\\n\\n\\n\\n\\n\\nWalt Disney\\n\\nFrom Wikipedia, the free encyclopedia\\n\\n\\n\\nJump to navigation\\nJump to search\\nThis article is about the man. For the company he co-founded, see The Walt Disney Company. For other uses, see Walt Disney (disambiguation).\\n\\n\\nAmerican entrepreneur, animator and producer\\n\\n\\nWalt DisneyDisney in 1946BornWalter Elias Disney(1901-12-05)December 5, 1901Chicago, Illinois, U.S.DiedDecember 15, 1966(1966-12-15) (aged\\xa065)Burbank, California, U.S.Occupation\\nEntrepreneur\\nanimator\\nvoice actor\\nfilm producer\\nBoard member\\xa0ofThe Walt Disney Company (1923–1966)RelativesSee Disney familyAwards\\n26 Academy Awards(22 competitive, 4 honorary)\\n3 Golden Globe Awards\\n1 Emmy Award\\nSignature\\nWalter Elias Disney (/ˈdɪzni/;[1] December 5, 1901\\xa0–\\xa0December 15, 1966) was an American entrepreneur, animator, writer, voice actor and film producer. A pioneer of the American animation industry, he introduced several developments in the production of cartoons. As a film producer, Disney holds the record for most Academy Awards earned by an individual, having won 22 Oscars from 59 nominations. He was presented with two Golden Globe Special Achievement Awards and an Emmy Award, among other honors. Several of his films are included in the National Film Registry by the Library of Congress.\\nBorn in Chicago in 1901, Disney developed an early interest in drawing. He took art classes as a boy and got a job as a commercial illustrator at the age of 18. He moved to California in the early 1920s and set up the Disney Brothers Studio with his brother Roy. With Ub Iwerks, Walt developed the character Mickey Mouse in 1928, his first highly popular success; he also provided the voice for his creation in the early years. As the studio grew, Disney became more adventurous, introducing synchronized sound, full-color three-strip Technicolor, feature-length cartoons and technical developments in cameras. The results, seen in features such as Snow White and the Seven Dwarfs (1937), Pinocchio, Fantasia (both 1940), Dumbo (1941), and Bambi (1942), furthered the development of animated film. New animated and live-action films followed after World War II, including the critically successful Cinderella (1950) and Mary Poppins (1964), the latter of which received five Academy Awards.\\nIn the 1950s, Disney expanded into the amusement park industry, and in 1955 he opened Disneyland in Anaheim, California. To fund the project he diversified into television programs, such as Walt Disney\\'s Disneyland and The Mickey Mouse Club; he was also involved in planning the 1959 Moscow Fair, the 1960 Winter Olympics, and the 1964 New York World\\'s Fair. In 1965, he began development of another theme park, Disney World, the heart of which was to be a new type of city, the \"Experimental Prototype Community of Tomorrow\" (EPCOT). Disney was a heavy smoker throughout his life and died of lung cancer in December 1966 before either the park or the EPCOT project were completed.\\nDisney was a shy, self-deprecating and insecure man in private but adopted a warm and outgoing public persona. He had high standards and high expectations of those with whom he worked. Although there have been accusations that he was racist or anti-Semitic, they have been contradicted by many who knew him. His reputation changed in the years after his death, from a purveyor of homely patriotic values to a representative of American imperialism. He nevertheless remains an important figure in the history of animation and in the cultural history of the United States, where he is considered a national cultural icon. His film work continues to be shown and adapted; his namesake studio and company maintains high standards in its production of popular entertainment, and the Disney amusement parks have grown in size and number to attract visitors in several countries.\\n\\nContents\\n\\n1 Biography\\n\\n1.1 Early life: 1901–1920\\n1.2 Early career: 1920–1928\\n1.3 Creation of Mickey Mouse to the first Academy Awards: 1928–1933\\n1.4 Golden age of animation: 1934–1941\\n1.5 World War II and beyond: 1941–1950\\n1.6 Theme parks, television and other interests: 1950–1966\\n1.7 Illness, death and aftermath\\n\\n\\n2 Honors\\n3 Personality and reputation\\n4 Notes and references\\n\\n4.1 Notes\\n4.2 References\\n4.3 Sources\\n\\n\\n5 External links\\n\\n\\nBiography\\nEarly life: 1901–1920\\nWalt Disney was born on December 5, 1901, at 1249 Tripp Avenue, in Chicago\\'s Hermosa neighborhood.[a] He was the fourth son of Elias Disney\\u200d—\\u200cborn in the Province of Canada, to Irish parents\\u200d—\\u200cand Flora (née Call), an American of German and English descent.[3][4][b] Aside from Disney, Elias and Flora\\'s sons were Herbert, Raymond and Roy; the couple had a fifth child, Ruth, in December 1903.[7] In 1906, when Disney was four, the family moved to a farm in Marceline, Missouri, where his uncle Robert had just purchased land. In Marceline, Disney developed his interest in drawing when he was paid to draw the horse of a retired neighborhood doctor.[8] Elias was a subscriber to the Appeal to Reason newspaper, and Disney practiced drawing by copying the front-page cartoons of Ryan Walker.[9] Disney also began to develop an ability to work with watercolors and crayons.[4] He lived near the Atchison, Topeka and Santa Fe Railway line and became enamored with trains.[10] He and his younger sister Ruth started school at the same time at the Park School in Marceline in late 1909.[11]\\nIn 1911, the Disneys moved to Kansas City, Missouri.[12] There, Disney attended the Benton Grammar School, where he met fellow-student Walter Pfeiffer, who came from a family of theatre fans and introduced Disney to the world of vaudeville and motion pictures. Before long, he was spending more time at the Pfeiffers\\' house than at home.[13] Elias had purchased a newspaper delivery route for The Kansas City Star and Kansas City Times. Disney and his brother Roy woke up at 4:30 every morning to deliver the Times before school and repeated the round for the evening Star after school. The schedule was exhausting, and Disney often received poor grades after falling asleep in class, but he continued his paper route for more than six years.[14] He attended Saturday courses at the Kansas City Art Institute and also took a correspondence course in cartooning.[4][15]\\nIn 1917, Elias bought stock in a Chicago jelly producer, the O-Zell Company, and moved back to the city with his family.[16] Disney enrolled at McKinley High School and became the cartoonist of the school newspaper, drawing patriotic pictures about World War I;[17][18] he also took night courses at the Chicago Academy of Fine Arts.[19] In mid-1918, Disney attempted to join the United States Army to fight against the Germans, but he was rejected for being too young. After forging the date of birth on his birth certificate, he joined the Red Cross in September 1918 as an ambulance driver. He was shipped to France but arrived in November, after the armistice.[20] He drew cartoons on the side of his ambulance for decoration and had some of his work published in the army newspaper Stars and Stripes.[21] Disney returned to Kansas City in October 1919,[22] where he worked as an apprentice artist at the Pesmen-Rubin Commercial Art Studio. There, he drew commercial illustrations for advertising, theater programs and catalogs. He also befriended fellow artist Ub Iwerks.[23]\\n\\nEarly career: 1920–1928\\n Walt Disney\\'s business envelope featured a self-portrait c.\\u20091921\\nIn January 1920, as Pesmen-Rubin\\'s revenue declined after Christmas, Disney and Iwerks were laid off. They started their own business, the short-lived Iwerks-Disney Commercial Artists.[24] Failing to attract many customers, Disney and Iwerks agreed that Disney should leave temporarily to earn money at the Kansas City Film Ad Company, run by A.\\xa0V. Cauger; the following month Iwerks, who was not able to run their business alone, also joined.[25] The company produced commercials using the cutout animation technique.[26] Disney became interested in animation, although he preferred drawn cartoons such as Mutt and Jeff and Koko the Clown. With the assistance of a borrowed book on animation and a camera, he began experimenting at home.[27][c] He came to the conclusion that cel animation was more promising than the cutout method.[d] Unable to persuade Cauger to try cel animation at the company, Disney opened a new business with a co-worker from the Film Ad Co, Fred Harman.[29] Their main client was the local Newman Theater, and the short cartoons they produced were sold as \"Newman\\'s Laugh-O-Grams\".[30] Disney studied Paul Terry\\'s Aesop\\'s Fables as a model, and the first six \"Laugh-O-Grams\" were modernized fairy tales.[31]\\n\\nPlay media Newman Laugh-O-Gram (1921)\\nIn May 1921, the success of the \"Laugh-O-Grams\" led to the establishment of Laugh-O-Gram Studio, for which he hired more animators, including Fred Harman\\'s brother Hugh, Rudolf Ising and Iwerks.[32] The Laugh-O-Grams cartoons did not provide enough income to keep the company solvent, so Disney started production of Alice\\'s Wonderland\\u200d—\\u200cbased on Alice\\'s Adventures in Wonderland\\u200d—\\u200cwhich combined live action with animation; he cast Virginia Davis in the title role.[33] The result, a 12-and-a-half-minute, one-reel film, was completed too late to save Laugh-O-Gram Studio, which went into bankruptcy in 1923.[34]\\nDisney moved to Hollywood in July 1923. Although New York was the center of the cartoon industry, he was attracted to Los Angeles because his brother Roy was convalescing from tuberculosis there,[35] and he hoped to become a live-action film director.[36] Disney\\'s efforts to sell Alice\\'s Wonderland were in vain until he heard from New York film distributor Margaret J. Winkler. She was losing the rights to both the Out of the Inkwell and Felix the Cat cartoons, and needed a new series. In October, they signed a contract for six Alice comedies, with an option for two further series of six episodes each.[36][37] Disney and his brother Roy formed the Disney Brothers Studio\\u200d—\\u200cwhich later became The Walt Disney Company\\u200d—\\u200cto produce the films;[38][39] they persuaded Davis and her family to relocate to Hollywood to continue production, with Davis on contract at $100 a month. In July 1924, Disney also hired Iwerks, persuading him to relocate to Hollywood from Kansas City.[40]\\nEarly in 1925, Disney hired an ink artist, Lillian Bounds. They married in July of that year, at her brother\\'s house in her hometown of Lewiston, Idaho.[41] The marriage was generally happy, according to Lillian, although according to Disney\\'s biographer Neal Gabler she did not \"accept Walt\\'s decisions meekly or his status unquestionably, and she admitted that he was always telling people \\'how henpecked he is\\'.\"[42][e] Lillian had little interest in films or the Hollywood social scene and she was, in the words of the historian Steven Watts, \"content with household management and providing support for her husband\".[43] Their marriage produced two daughters, Diane (born December 1933) and Sharon (adopted in December 1936, born six weeks previously).[44][f] Within the family, neither Disney nor his wife hid the fact Sharon had been adopted, although they became annoyed if people outside the family raised the point.[45] The Disneys were careful to keep their daughters out of the public eye as much as possible, particularly in the light of the Lindbergh kidnapping; Disney took steps to ensure his daughters were not photographed by the press.[46]\\n\\n Theatrical poster for Trolley Troubles (1927)\\nBy 1926 Winkler\\'s role in the distribution of the Alice series had been handed over to her husband, the film producer Charles Mintz, although the relationship between him and Disney was sometimes strained.[47] The series ran until July 1927,[48] by which time Disney had begun to tire of it and wanted to move away from the mixed format to all animation.[47][49] After Mintz requested new material to distribute through Universal Pictures, Disney and Iwerks created Oswald the Lucky Rabbit, a character Disney wanted to be \"peppy, alert, saucy and venturesome, keeping him also neat and trim\".[49][50]\\nIn February 1928, Disney hoped to negotiate a larger fee for producing the Oswald series, but found Mintz wanting to reduce the payments. Mintz had also persuaded many of the artists involved to work directly for him, including Harman, Ising, Carman Maxwell and Friz Freleng. Disney also found out that Universal owned the intellectual property rights to Oswald. Mintz threatened to start his own studio and produce the series himself if Disney refused to accept the reductions. Disney declined Mintz\\'s ultimatum and lost most of his animation staff, except Iwerks, who chose to remain with him.[51][52][g]\\n\\nCreation of Mickey Mouse to the first Academy Awards: 1928–1933\\n Disney with Mickey Mouse\\nTo replace Oswald, Disney and Iwerks developed Mickey Mouse, possibly inspired by a pet mouse that Disney had adopted while working in his Laugh-O-Gram studio, although the origins of the character are unclear.[54][h] Disney\\'s original choice of name was Mortimer Mouse, but Lillian thought it too pompous, and suggested Mickey instead.[55][i] Iwerks revised Disney\\'s provisional sketches to make the character easier to animate. Disney, who had begun to distance himself from the animation process,[57] provided Mickey\\'s voice until 1947. In the words of one Disney employee, \"Ub designed Mickey\\'s physical appearance, but Walt gave him his soul.\"[58]\\n\\n The first appearance of Mickey Mouse, in Steamboat Willie (1928)\\nMickey Mouse first appeared in May 1928 as a single test screening of the short Plane Crazy, but it, and the second feature, The Gallopin\\' Gaucho, failed to find a distributor.[59] Following the 1927 sensation The Jazz Singer, Disney used synchronized sound on the third short, Steamboat Willie, to create the first post-produced sound cartoon. After the animation was complete, Disney signed a contract with the former executive of Universal Pictures, Pat Powers, to use the \"Powers Cinephone\" recording system;[60] Cinephone became the new distributor for Disney\\'s early sound cartoons, which soon became popular.[61]\\nTo improve the quality of the music, Disney hired the professional composer and arranger Carl Stalling, on whose suggestion the Silly Symphony series was developed, providing stories through the use of music; the first in the series, The Skeleton Dance (1929), was drawn and animated entirely by Iwerks. Also hired at this time were several local artists, some of whom stayed with the company as core animators; the group later became known as the Nine Old Men.[62][j] Both the Mickey Mouse and Silly Symphonies series were successful, but Disney and his brother felt they were not receiving their rightful share of profits from Powers. In 1930, Disney tried to trim costs from the process by urging Iwerks to abandon the practice of animating every separate cel in favor of the more efficient technique of drawing key poses and letting lower-paid assistants sketch the inbetween poses. Disney asked Powers for an increase in payments for the cartoons. Powers refused and signed Iwerks to work for him; Stalling resigned shortly afterwards, thinking that without Iwerks, the Disney Studio would close.[63] Disney had a nervous breakdown in October 1931\\u200d—\\u200cwhich he blamed on the machinations of Powers and his own overwork\\u200d—\\u200cso he and Lillian took an extended holiday to Cuba and a cruise to Panama to recover.[64]\\n\\n Disney in 1935\\nWith the loss of Powers as distributor, Disney studios signed a contract with Columbia Pictures to distribute the Mickey Mouse cartoons, which became increasingly popular, including internationally.[65][66][k] Disney, always keen to embrace new technology, filmed Flowers and Trees (1932) in full-color three-strip Technicolor;[67] he was also able to negotiate a deal giving him the sole right to use the three-strip process until August 31, 1935.[68] All subsequent Silly Symphony cartoons were in color.[69] Flowers and Trees was popular with audiences[67] and won the Academy Award for best Short Subject (Cartoon) at the 1932 ceremony. Disney had been nominated for another film in that category, Mickey\\'s Orphans, and received an Honorary Award \"for the creation of Mickey Mouse\".[70][71]\\nIn 1933, Disney produced The Three Little Pigs, a film described by the media historian Adrian Danks as \"the most successful short animation of all time\".[72] The film won Disney another Academy Award in the Short Subject (Cartoon) category. The film\\'s success led to a further increase in the studio\\'s staff, which numbered nearly 200 by the end of the year.[73] Disney realized the importance of telling emotionally gripping stories that would interest the audience,[74] and he invested in a \"story department\" separate from the animators, with storyboard artists who would detail the plots of Disney\\'s films.[75]\\n\\nGolden age of animation: 1934–1941\\n Walt Disney introduces each of the seven dwarfs in a scene from the original 1937 Snow White theatrical trailer.\\nBy 1934, Disney had become dissatisfied with producing formulaic cartoon shorts,[76] and believed a feature-length cartoon would be more profitable.[77] The studio began the four-year production of Snow White and the Seven Dwarfs, based on the fairy tale. When news leaked out about the project, many in the film industry predicted it would bankrupt the company; industry insiders nicknamed it \"Disney\\'s Folly\".[78] The film, which was the first animated feature made in full color and sound, cost $1.5\\xa0million to produce\\u200d—\\u200cthree times over budget.[79] To ensure the animation was as realistic as possible, Disney sent his animators on courses at the Chouinard Art Institute;[80] he brought animals into the studio and hired actors so that the animators could study realistic movement.[81] To portray the changing perspective of the background as a camera moved through a scene, Disney\\'s animators developed a multiplane camera which allowed drawings on pieces of glass to be set at various distances from the camera, creating an illusion of depth. The glass could be moved to create the impression of a camera passing through the scene. The first work created on the camera\\u200d—\\u200ca Silly Symphony called The Old Mill (1937)\\u200d—\\u200cwon the Academy Award for Animated Short Film because of its impressive visual power. Although Snow White had been largely finished by the time the multiplane camera had been completed, Disney ordered some scenes be re-drawn to use the new effects.[82]\\nSnow White premiered in December 1937 to high praise from critics and audiences. The film became the most successful motion picture of 1938 and by May 1939 its total gross of $6.5\\xa0million made it the most successful sound film made to that date.[78][l] Disney won another Honorary Academy Award, which consisted of one full-sized and seven miniature Oscar statuettes.[84][m] The success of Snow White heralded one of the most productive eras for the studio; the Walt Disney Family Museum calls the following years \"the \\'Golden Age of Animation\\'\\u202f\".[85][86] With work on Snow White finished, the studio began producing Pinocchio in early 1938 and Fantasia in November of the same year. Both films were released in 1940, and neither performed well at the box office\\u200d—\\u200cpartly because revenues from Europe had dropped following the start of World War II in 1939. The studio made a loss on both pictures and was deeply in debt by the end of February 1941.[87]\\nIn response to the financial crisis, Disney and his brother Roy started the company\\'s first public stock offering in 1940, and implemented heavy salary cuts. The latter measure, and Disney\\'s sometimes high-handed and insensitive manner of dealing with staff, led to a 1941 animators\\' strike which lasted five weeks.[88] While a federal mediator from the National Labor Relations Board negotiated with the two sides, Disney accepted an offer from the Office of the Coordinator of Inter-American Affairs to make a goodwill trip to South America, ensuring he was absent during a resolution he knew would be unfavorable to the studio.[89][n] As a result of the strike\\u200d—\\u200cand the financial state of the company\\u200d—\\u200cseveral animators left the studio, and Disney\\'s relationship with other members of staff was permanently strained as a result.[92] The strike temporarily interrupted the studio\\'s next production, Dumbo (1941), which Disney produced in a simple and inexpensive manner; the film received a positive reaction from audiences and critics alike.[93]\\n\\nWorld War II and beyond: 1941–1950\\n Disney drawing Goofy for a group of girls in Argentina, 1941\\nShortly after the release of Dumbo in October 1941, the U.S. entered World War\\xa0II. Disney formed the Walt Disney Training Films Unit within the company to produce instruction films for the military such as Four Methods of Flush Riveting and Aircraft Production Methods.[94] Disney also met with Henry Morgenthau Jr., the Secretary of the Treasury, and agreed to produce short Donald Duck cartoons to promote war bonds.[95] Disney also produced several propaganda productions, including shorts such as Der Fuehrer\\'s Face\\u200d—\\u200cwhich won an Academy Award\\u200d—\\u200cand the 1943 feature film Victory Through Air Power.[96]\\nThe military films generated only enough revenue to cover costs, and the feature film Bambi\\u200d—\\u200cwhich had been in production since 1937\\u200d—\\u200cunderperformed on its release in April 1942, and lost $200,000 at the box office.[97] On top of the low earnings from Pinocchio and Fantasia, the company had debts of $4\\xa0million with the Bank of America in 1944.[98][o] At a meeting with Bank of America executives to discuss the future of the company, the bank\\'s chairman and founder, Amadeo Giannini, told his executives, \"I\\'ve been watching the Disneys\\' pictures quite closely because I knew we were lending them money far above the financial risk.\\xa0... They\\'re good this year, they\\'re good next year, and they\\'re good the year after.\\xa0... You have to relax and give them time to market their product.\"[99] Disney\\'s production of short films decreased in the late 1940s, coinciding with increasing competition in the animation market from Warner Bros. and Metro-Goldwyn-Mayer. Roy Disney, for financial reasons, suggested more combined animation and live-action productions.[60][p] In 1948, Disney initiated a series of popular live-action nature films, titled True-Life Adventures, with Seal Island the first; the film won the Academy Award in the Best Short Subject (Two-Reel) category.[100]\\nDisney grew more politically conservative as he got older. A Democratic Party supporter until the 1940 presidential election, when he switched allegiance to the Republican Party,[101] he became a generous donor to Thomas\\xa0E.\\xa0Dewey\\'s 1944 bid for the presidency.[102] In 1946, he was a founding member of the Motion Picture Alliance for the Preservation of American Ideals, an organization who stated they \"believ[ed] in, and like, the American Way of Life\\xa0... we find ourselves in sharp revolt against a rising tide of Communism, Fascism and kindred beliefs, that seek by subversive means to undermine and change this way of life\".[103] In 1947, during the Second Red Scare, Disney testified before the House Un-American Activities Committee (HUAC), where he branded Herbert Sorrell, David Hilberman and William Pomerance, former animators and labor union organizers, as communist agitators; Disney stated that the 1941 strike led by them was part of an organized communist effort to gain influence in Hollywood.[104][105]  It was alleged by the New York Times in 1993 that Disney had been passing secret information to the FBI from 1940 until his death in 1966. In return for this information, J. Edgar Hoover allowed Disney to film in FBI headquarters in Washington. Disney was made a \"full Special Agent in Charge Contact\" in 1954.[106]\\n\\n Disney family at Schiphol Airport (1951)\\nIn 1949, Disney and his family moved to a new home in the Holmby Hills district of Los Angeles. With the help of his friends Ward and Betty Kimball, who already had their own backyard railroad, Disney developed blueprints and immediately set to work on creating a miniature live steam railroad for his backyard. The name of the railroad, Carolwood Pacific Railroad, came from his home\\'s location on Carolwood Drive. The miniature working steam locomotive was built by Disney Studios engineer Roger E. Broggie, and Disney named it Lilly Belle after his wife;[107] after three years Disney ordered it into storage due to a series of accidents involving his guests.[108]\\n\\nTheme parks, television and other interests: 1950–1966\\nIn early 1950, Disney produced Cinderella, his studio\\'s first animated feature in eight years. It was popular with critics and theater audiences. Costing $2.2\\xa0million to produce, it earned nearly $8\\xa0million in its first year.[109][q] Disney was less involved than he had been with previous pictures because of his involvement in his first entirely live-action feature, Treasure Island (1950), which was shot in Britain, as was The Story of Robin Hood and His Merrie Men (1952).[110] Other all-live-action features followed, many of which had patriotic themes.[60][r] He continued to produce full-length animated features too, including Alice in Wonderland (1951) and Peter Pan (1953). From the early to mid-1950s, Disney began to devote less attention to the animation department, entrusting most of its operations to his key animators, the Nine Old Men, although he was always present at story meetings. Instead, he started concentrating on other ventures.[111]\\n\\n Disney shows the plans of Disneyland to officials from Orange County in December 1954\\nFor several years Disney had been considering building a theme park. When he visited Griffith Park in Los Angeles with his daughters, he wanted to be in a clean, unspoiled park, where both children and their parents could have fun.[112] He visited the Tivoli Gardens in Copenhagen, Denmark, and was heavily influenced by the cleanliness and layout of the park.[113] In March 1952 he received zoning permission to build a theme park in Burbank, near the Disney studios.[114] This site proved too small, and a larger plot in Anaheim, 35 miles (56\\xa0km) south of the studio, was purchased. To distance the project from the studio\\u200d—\\u200cwhich might attract the criticism of shareholders\\u200d—\\u200cDisney formed WED Enterprises (now Walt Disney Imagineering) and used his own money to fund a group of designers and animators to work on the plans;[115][116] those involved became known as \"Imagineers\".[117] After obtaining bank funding he invited other stockholders, American Broadcasting-Paramount Theatres\\u200d—\\u200cpart of American Broadcasting Company (ABC)\\u200d—\\u200cand Western Printing and Lithographing Company.[60] In mid-1954, Disney sent his Imagineers to every amusement park in the U.S. to analyze what worked and what pitfalls or problems there were in the various locations and incorporated their findings into his design.[118] Construction work started in July 1954, and Disneyland opened in July 1955; the opening ceremony was broadcast on ABC, which reached 70\\xa0million viewers.[119] The park was designed as a series of themed lands, linked by the central Main Street, U.S.A.\\u200d—\\u200ca replica of the main street in his hometown of Marceline. The connected themed areas were Adventureland, Frontierland, Fantasyland and Tomorrowland. The park also contained the narrow gauge Disneyland Railroad that linked the lands; around the outside of the park was a high berm to separate the park from the outside world.[120][121] An editorial in The New York Times considered that Disney had \"tastefully combined some of the pleasant things of yesterday with fantasy and dreams of tomorrow\".[122] Although there were early minor problems with the park, it was a success, and after a month\\'s operation, Disneyland was receiving over 20,000 visitors a day; by the end of its first year, it attracted 3.6\\xa0million guests.[123]\\nThe money from ABC was contingent on Disney television programs.[124] The studio had been involved in a successful television special on Christmas Day 1950 about the making of Alice in Wonderland. Roy believed the program added millions to the box office takings. In a March 1951 letter to shareholders, he wrote that \"television can be a most powerful selling aid for us, as well as a source of revenue. It will probably be on this premise that we enter television when we do\".[60] In 1954, after the Disneyland funding had been agreed, ABC broadcast Walt Disney\\'s Disneyland, an anthology consisting of animated cartoons, live-action features and other material from the studio\\'s library. The show was successful in terms of ratings and profits, earning an audience share of over 50%.[125][s] In April 1955, Newsweek called the series an \"American institution\".[126] ABC was pleased with the ratings, leading to Disney\\'s first daily television program, The Mickey Mouse Club, a variety show catering specifically to children.[127] The program was accompanied by merchandising through various companies (Western Printing, for example, had been producing coloring books and comics for over 20 years, and produced several items connected to the show).[128] One of the segments of Disneyland consisted of the five-part miniseries Davy Crockett which, according to Gabler, \"became an overnight sensation\".[129] The show\\'s theme song, \"The Ballad of Davy Crockett\", became internationally popular, and ten million records were sold.[130] As a result, Disney formed his own record production and distribution entity, Disneyland Records.[131]\\nAs well as the construction of Disneyland, Disney worked on other projects away from the studio. He was consultant to the 1959 American National Exhibition in Moscow; Disney Studios\\' contribution was America the Beautiful, a 19-minute film in the 360-degree Circarama theater that was one of the most popular attractions.[60] The following year he acted as the chairman of the Pageantry Committee for the 1960 Winter Olympics in Squaw Valley, California, where he designed the opening, closing and medal ceremonies.[132]\\n\\n Disney in 1954\\nDespite the demands wrought by non-studio projects, Disney continued to work on film and television projects. In 1955, he was involved in \"Man in Space\", an episode of the Disneyland series, which was made in collaboration with NASA rocket designer Wernher von Braun.[t] Disney also oversaw aspects of the full-length features Lady and the Tramp (the first animated film in CinemaScope) in 1955, Sleeping Beauty (the first animated film in Technirama 70 mm film) in 1959, One Hundred and One Dalmatians (the first animated feature film to use Xerox cels) in 1961, and The Sword in the Stone in 1963.[134]\\nIn 1964, Disney produced Mary Poppins, based on the book series by P. L. Travers; he had been trying to acquire the rights to the story since the 1940s.[135] It became the most successful Disney film of the 1960s, although Travers disliked the film intensely and regretted having sold the rights.[136] The same year he also became involved in plans to expand the California Institute of the Arts (colloquially called CalArts), and had an architect draw up blueprints for a new building.[137]\\nDisney provided four exhibits for the 1964 New York World\\'s Fair, for which he obtained funding from selected corporate sponsors. For PepsiCo, who planned a tribute to UNICEF, Disney developed It\\'s a Small World, a boat ride with audio-animatronic dolls depicting children of the world; Great Moments with Mr. Lincoln contained an animatronic Abraham Lincoln giving excerpts from his speeches; Carousel of Progress promoted the importance of electricity; and Ford\\'s Magic Skyway portrayed the progress of mankind. Elements of all four exhibits\\u200d—\\u200cprincipally concepts and technology\\u200d—\\u200cwere re-installed in Disneyland, although It\\'s a Small World is the ride that most closely resembles the original.[138][139]\\nDuring the early to mid-1960s, Disney developed plans for a ski resort in Mineral King, a glacial valley in California\\'s Sierra Nevada. He hired experts such as the renowned Olympic ski coach and ski-area designer Willy Schaeffler.[140][141][u] With income from Disneyland accounting for an increasing proportion of the studio\\'s income, Disney continued to look for venues for other attractions. In late 1965, he announced plans to develop another theme park to be called \"Disney World\" (now Walt Disney World), a few miles southwest of Orlando, Florida. Disney World was to include the \"Magic Kingdom\"\\u200d—\\u200ca larger and more elaborate version of Disneyland\\u200d—\\u200cplus golf courses and resort hotels. The heart of Disney World was to be the \"Experimental Prototype Community of Tomorrow\" (EPCOT),[143] which he described as:\\n\\nan experimental prototype community of tomorrow that will take its cue from the new ideas and new technologies that are now emerging from the creative centers of American industry. It will be a community of tomorrow that will never be completed, but will always be introducing and testing and demonstrating new materials and systems. And EPCOT will always be a showcase to the world for the ingenuity and imagination of American free enterprise.[144]\\nDuring 1966, Disney cultivated businesses willing to sponsor EPCOT.[145] He increased his involvement in the studio\\'s films, and was heavily involved in the story development of The Jungle Book, the live-action musical feature The Happiest Millionaire (both 1967) and the animated short Winnie the Pooh and the Blustery Day.[146]\\n\\nIllness, death and aftermath\\n Grave of Walt Disney at Forest Lawn, Glendale\\nDisney had been a heavy smoker since World War\\xa0I. He did not use cigarettes with filters and had smoked a pipe as a young man. In November 1966, he was diagnosed with lung cancer and was treated with cobalt therapy. On November 30 he felt unwell and was taken to St. Joseph Hospital where, on December 15, ten days after his 65th birthday, he died of circulatory collapse caused by the cancer.[147] His remains were cremated two days later and his ashes interred at the Forest Lawn Memorial Park in Glendale, California.[148][v]\\nThe release of The Jungle Book and The Happiest Millionaire in 1967 raised the total number of feature films that Disney had been involved in to 81.[17] When Winnie the Pooh and the Blustery Day was released in 1968, it earned Disney an Academy Award in the Short Subject (Cartoon) category, awarded posthumously.[151] After Disney\\'s death, his studios continued to produce live-action films prolifically but largely abandoned animation until the late 1980s, after which there was what The New York Times describes as the \"Disney Renaissance\" that began with The Little Mermaid (1989).[152] Disney\\'s companies continue to produce successful film, television and stage entertainment.[153]\\n\\n Roy O. Disney finished the building of Walt Disney World\\nDisney\\'s plans for the futuristic city of EPCOT did not come to fruition. After Disney\\'s death, his brother Roy deferred his retirement to take full control of the Disney companies. He changed the focus of the project from a town to an attraction.[154] At the inauguration in 1971, Roy dedicated Walt Disney World to his brother.[155][w] Walt Disney World expanded with the opening of Epcot Center in 1982; Walt Disney\\'s vision of a functional city was replaced by a park more akin to a permanent world\\'s fair.[157] In 2009, the Walt Disney Family Museum, designed by Disney\\'s daughter Diane and her son Walter E. D. Miller, opened in the Presidio of San Francisco.[158] Thousands of artifacts from Disney\\'s life and career are on display, including numerous awards that he received.[159] In 2014, the Disney theme parks around the world hosted approximately 134 million visitors.[160]\\nDisney has been portrayed numerous times in fictional works. H. G. Wells references Disney in his 1938 novel The Holy Terror, in which World Dictator Rud fears that Donald Duck is meant to lampoon the dictator.[161] Disney was portrayed by Len Cariou in the 1995 made-for-TV film A Dream Is a Wish Your Heart Makes: The Annette Funicello Story,[162] and by Tom Hanks in the 2013 film Saving Mr. Banks.[163] In 2001, the German author Peter Stephan Jungk published Der König von Amerika (trans: The King of America), a fictional work of Disney\\'s later years that re-imagines him as a power-hungry racist. The composer Philip Glass later adapted the book into the opera The Perfect American (2013).[164]\\n\\nHonors\\nSee also: List of Academy Awards for Walt Disney\\n Display case in the lobby of The Walt Disney Family Museum showing many of the Academy Awards won by Disney\\nDisney received 59 Academy Award nominations, including 22 awards: both totals are records.[165] He was nominated for three Golden Globe Awards, but did not win, but he was presented with two Special Achievement Awards\\u200d—\\u200cfor Bambi (1942) and The Living Desert (1953)\\u200d—\\u200cand the Cecil B. DeMille Award.[166] He also received four Emmy Award nominations, winning once, for Best Producer for the Disneyland television series.[167] Several of his films are included in the United States National Film Registry by the Library of Congress as \"culturally, historically, or aesthetically significant\": Steamboat Willie, The Three Little Pigs, Snow White and the Seven Dwarfs, Fantasia, Pinocchio, Bambi, Dumbo and Mary Poppins.[168] In 1998, the American Film Institute published a list of the 100 greatest American films, according to industry experts; the list included Snow White and the Seven Dwarfs (at number 49), and Fantasia (at 58).[169]\\nIn February 1960, Disney was inducted to the Hollywood Walk of Fame with two stars, one for motion pictures and the other for his television work;[170] Mickey Mouse was given his own star for motion pictures in 1978.[171] Disney was also inducted into the Television Hall of Fame in 1986,[172] the California Hall of Fame in December 2006,[173] and was the inaugural recipient of a star on the Anaheim walk of stars in 2014.[174]\\nThe Walt Disney Family Museum records that he \"along with members of his staff, received more than 950 honors and citations from throughout the world\".[17] He was made a Chevalier in the French Légion d\\'honneur in 1935,[175] and in 1952 he was awarded the country\\'s highest artistic decoration, the Officer d\\'Academie.[176] Other national awards include Thailand\\'s Order of the Crown (1960); Germany\\'s Order of Merit (1956),[177] Brazil\\'s Order of the Southern Cross (1941)[178] and Mexico\\'s Order of the Aztec Eagle (1943).[179] In the United States, he received the Presidential Medal of Freedom on September 14, 1964,[180] and on May 24, 1968, he was posthumously awarded the Congressional Gold Medal.[181] He received the Showman of the World Award from the National Association of Theatre Owners,[179] and in 1955, the National Audubon Society awarded Disney its highest honor, the Audubon Medal, for promoting the \"appreciation and understanding of nature\" through his True-Life Adventures nature films.[182] A minor planet discovered in 1980 by astronomer Lyudmila Karachkina, was named 4017 Disneya,[183] and he was also awarded honorary degrees from Harvard, Yale, the University of Southern California and the University of California, Los Angeles.[17]\\n\\nPersonality and reputation\\n 1968 U.S. postage stamp\\nDisney\\'s public persona was very different from his actual personality.[184] Playwright Robert E. Sherwood described him as \"almost painfully shy\\xa0... diffident\" and self-deprecating.[185] According to his biographer Richard Schickel, Disney hid his shy and insecure personality behind his public identity.[186] Kimball argues that Disney \"played the role of a bashful tycoon who was embarrassed in public\" and knew that he was doing so.[187] Disney acknowledged the façade and told a friend that \"I\\'m not Walt Disney. I do a lot of things Walt Disney would not do. Walt Disney does not smoke. I smoke. Walt Disney does not drink. I drink.\"[188] Critic Otis Ferguson, in The New Republic, called the private Disney: \"common and everyday, not inaccessible, not in a foreign language, not suppressed or sponsored or anything. Just Disney.\"[187] Many of those with whom Disney worked commented that he gave his staff little encouragement due to his exceptionally high expectations. Norman recalls that when Disney said \"That\\'ll work\", it was an indication of high praise.[189] Instead of direct approval, Disney gave high-performing staff financial bonuses, or recommended certain individuals to others, expecting that his praise would be passed on.[190]\\nViews of Disney and his work have changed over the decades, and there have been polarized opinions.[191] Mark Langer, in the American Dictionary of National Biography, writes that \"Earlier evaluations of Disney hailed him as a patriot, folk artist, and popularizer of culture. More recently, Disney has been regarded as a paradigm of American imperialism and intolerance, as well as a debaser of culture.\"[60] Steven Watts wrote that some denounce Disney \"as a cynical manipulator of cultural and commercial formulas\",[191] while PBS records that critics have censured his work because of its \"smooth façade of sentimentality and stubborn optimism, its feel-good re-write of American history\".[192] Although Disney\\'s films have been highly praised, very popular and commercially successful over time,[60][193] there were criticisms by reviewers. Caroline Lejeune comments in The Observer that Snow White (1937) \"has more faults than any earlier Disney cartoon. It is vulnerable again and again to the barbed criticisms of the experts. Sometimes it is, frankly, badly drawn.\"[194] Robin Allen, writing for The Times, notes that Fantasia (1940) was \"condemned for its vulgarity and lurches into bathos\",[195] while Lejeune, reviewing Alice in Wonderland (1951), feels the film \"may drive lovers of Lewis Carroll to frenzy\".[196] Peter Pan (1953) was criticized in The Times as \"a children\\'s classic vulgarized\" with \"Tinker Bell\\xa0... a peroxided American cutie\". The reviewer opined that Disney \"has slaughtered good Barrie and has only second-rate Disney to put in its place\".[197]\\nDisney has been accused of anti-Semitism,[198][x] although none of his employees—including the animator Art Babbitt, who disliked Disney intensely—ever accused him of making anti-Semitic slurs or taunts.[200] The Walt Disney Family Museum acknowledges that ethnic stereotypes common to films of the 1930s were included in some early cartoons.[y] Disney donated regularly to Jewish charities, he was named \"1955 Man of the Year\" by the B\\'nai B\\'rith chapter in Beverly Hills,[201][202] and his studio employed a number of Jews, some of whom were in influential positions.[203][z] Gabler, the first writer to gain unrestricted access to the Disney archives, concludes that the available evidence does not support accusations of anti-Semitism and that Disney was \"not [anti-Semitic] in the conventional sense that we think of someone as being an anti-Semite\". Gabler concludes that \"though Walt himself, in my estimation, was not anti-Semitic, nevertheless, he willingly allied himself with people who were anti-Semitic [meaning some members of the MPAPAI], and that reputation stuck. He was never really able to expunge it throughout his life\".[204] Disney distanced himself from the Motion Picture Alliance in the 1950s.[205]\\nDisney has also been accused of other forms of racism because some of his productions released between the 1930s and 1950s contain racially insensitive material.[206][aa] The feature film Song of the South was criticized by contemporary film critics, the National Association for the Advancement of Colored People, and others for its perpetuation of black stereotypes,[207] but Disney later campaigned successfully for an Honorary Academy Award for its star, James Baskett, the first black actor so honored.[208][ab] Gabler argues that \"Walt Disney was no racist. He never, either publicly or privately, made disparaging remarks about blacks or asserted white superiority. Like most white Americans of his generation, however, he was racially insensitive.\"[206] Floyd Norman, the studio\\'s first black animator who worked closely with Disney during the 1950s and 1960s, said, \"Not once did I observe a hint of the racist behavior Walt Disney was often accused of after his death. His treatment of people\\u200d—\\u200cand by this I mean all people\\u200d—\\u200ccan only be called exemplary.\"[209]\\nWatts argues that many of Disney\\'s post-World War II films \"legislated a kind of cultural Marshall Plan. They nourished a genial cultural imperialism that magically overran the rest of the globe with the values, expectations, and goods of a prosperous middle-class United States.\"[210] Film historian Jay P. Telotte acknowledges that many see Disney\\'s studio as an \"agent of manipulation and repression\", although he observes that it has \"labored throughout its history to link its name with notions of fun, family, and fantasy\".[211] John Tomlinson, in his study Cultural Imperialism, examines the work of Ariel Dorfman and Armand Mattelart, whose 1971 book Para leer al Pato Donald (trans: How to Read Donald Duck) identifies that there are \"imperialist\\xa0... values \\'concealed\\' behind the innocent, wholesome façade of the world of Walt Disney\"; this, they argue, is a powerful tool as \"it presents itself as harmless fun for consumption by children.\"[212] Tomlinson views their argument as flawed, as \"they simply assume that reading American comics, seeing adverts, watching pictures of the affluent\\xa0... [\\'Yankee\\'] lifestyle has a direct pedagogic effect\".[213]\\nSeveral commentators have described Disney as a cultural icon.[214] On Disney\\'s death, journalism professor Ralph S. Izard comments that the values in Disney\\'s films are those \"considered valuable in American Christian society\", which include \"individualism, decency,\\xa0... love for our fellow man, fair play and toleration\".[215] Disney\\'s obituary in The Times calls the films \"wholesome, warm-hearted and entertaining\\xa0... of incomparable artistry and of touching beauty\".[216] Journalist Bosley Crowther argues that Disney\\'s \"achievement as a creator of entertainment for an almost unlimited public and as a highly ingenious merchandiser of his wares can rightly be compared to the most successful industrialists in history.\"[4] Correspondent Alistair Cooke calls Disney a \"folk-hero\\xa0... the Pied Piper of Hollywood\",[217] while Gabler considers Disney \"reshaped the culture and the American consciousness\".[193] In the American Dictionary of National Biography, Langer writes:\\n\\nDisney remains the central figure in the history of animation. Through technological innovations and alliances with governments and corporations, he transformed a minor studio in a marginal form of communication into a multinational leisure industry giant. Despite his critics, his vision of a modern, corporate utopia as an extension of traditional American values has possibly gained greater currency in the years after his death.[60]\\nNotes and references\\nNotes\\n\\n\\n^ In 1909, in a renumbering exercise, the property\\'s address changed to 2156 North Tripp Avenue.[2]\\n\\n^ Disney was a descendant of Robert d\\'Isigny, a Frenchman who had traveled to England with William the Conqueror in 1066.[5] The family anglicized the d\\'Isigny name to \"Disney\" and settled in the English village now known as Norton Disney in the East Midlands.[6]\\n\\n^ The book, Edwin G. Lutz\\'s Animated Cartoons: How They Are Made, Their Origin and Development (1920), was the only one in the local library on the subject; the camera he borrowed from Cauger.[27]\\n\\n^ Cutout animation is the technique of producing cartoons by animating objects cut from paper, material or photographs and photographing them moving incrementally. Cel animation is the method of drawing or painting onto transparent celluloid sheets (\"cels\"), with each sheet an incremental movement on from the previous.[28]\\n\\n^ One possible exception to the stable relationship was during the making Snow White and the Seven Dwarfs (1937), where the stresses and turmoil associated with the production led to the couple discussing divorce.[42]\\n\\n^ Lillian had two miscarriages during the eight years between marriage and the birth of Diane; she suffered a further miscarriage shortly before the family adopted Sharon.[44]\\n\\n^ In 2006, the Walt Disney Company finally re-acquired Oswald the Lucky Rabbit when its subsidiary ESPN purchased rights to the character, along with other properties from NBCUniversal.[53]\\n\\n^ Several stories about the origins exist. Disney\\'s biographer, Bob Thomas, observes that \"The birth of Mickey Mouse is obscured in legend, much of it created by Walt Disney himself.\"[54]\\n\\n^ The name Mortimer Mouse was used in the 1936 cartoon Mickey\\'s Rival as a potential love-interest for Minnie Mouse. He was portrayed as a \"humorous denigration of the smooth city slicker\" with a smart car, but failed to win over Minnie from the more homespun Mickey.[56]\\n\\n^ The Nine Old Men consisted of Eric Larson, Wolfgang Reitherman, Les Clark, Milt Kahl, Ward Kimball, Marc Davis, Ollie Johnston, Frank Thomas and John Lounsbery.[60]\\n\\n^ By 1931 he was called Michael Maus in Germany, Michel Souris in France, Miguel Ratonocito or Miguel Pericote in Spain and Miki Kuchi in Japan.[65]\\n\\n^ $1.5\\xa0million in 1937 equates to $26,677,083 in 2020; $6.5\\xa0million in 1939 equates to $119,758,993 in 2020, according to calculations based on the Consumer Price Index measure of inflation.[83]\\n\\n^ The citation for the award reads: \"To Walt Disney for Snow White and the Seven Dwarfs, recognized as a significant screen innovation which has charmed millions and pioneered a great new entertainment field for the motion picture cartoon.\"[84]\\n\\n^ The trip inspired two combined live-action and animation works Saludos Amigos (1942) and The Three Caballeros (1945).[90][91]\\n\\n^ $4\\xa0million in 1944 equates to $58,094,518 in 2020, according to calculations based on the Consumer Price Index measure of inflation.[83]\\n\\n^ These included Make Mine Music (1946), Song of the South (1946), Melody Time (1948) and So Dear to My Heart (1949).[60]\\n\\n^ $2.2\\xa0million in 1950 equates to $23,378,423 in 2020; $8\\xa0million in 1950 equates to $85,012,448 in 2020, according to calculations based on the Consumer Price Index measure of inflation.[83]\\n\\n^ The patriotic films include Johnny Tremain (1957), Old Yeller (1957), Tonka (1958), Swiss Family Robinson (1960), Polyanna (1960).[60]\\n\\n^ Even repeats of the program proved more popular than all other television shows—aside from Lucille Ball\\'s I Love Lucy; no ABC program had ever been in the top 25 before Disneyland.[125]\\n\\n^ The program, which was produced by Ward Kimball, was nominated for an Academy Award for the Best Documentary (Short Subject) at the 1957 Awards.[133]\\n\\n^ Disney\\'s death in 1966, and opposition from conservationists, stopped the building of the resort.[142]\\n\\n^ A long-standing urban legend maintains that Disney was cryonically frozen.[149] Disney\\'s daughter Diane later stated, \"There is absolutely no truth to the rumor that my father, Walt Disney, wished to be frozen.\"[150]\\n\\n^ Roy died two months later, in December 1971.[156]\\n\\n^ For example, the animator Art Babbitt, an organizer of the 1941 strike at Disney\\'s studio, claimed that he saw Disney and his lawyer attend meetings of the German American Bund, a pro-Nazi organization, during the late 1930s.[199] Gabler questions Babbitt\\'s claim on the basis that Disney had no time for political meetings and was \"something of a political naïf\" during the 1930s.[200]\\n\\n^ Examples include The Three Little Pigs (in which the Big Bad Wolf comes to the door dressed as a Jewish peddler) and The Opry House (in which Mickey Mouse is dressed and dances as a Hasidic Jew).[201][202]\\n\\n^ As pointed out by story artist Joe Grant, which included himself, production manager Harry Tytle, and head of merchandising Kay Kamen, who once quipped that Disney\\'s New York office had \"more Jews than The Book of Leviticus\"[203]\\n\\n^ Examples include Mickey\\'s Mellerdrammer, in which Mickey Mouse dresses in blackface; the black-colored bird in the short Who Killed Cock Robin; the American Indians in Peter Pan; and the crows in Dumbo (although the case has been made that the crows were sympathetic to Dumbo because they knew what it was like to be ostracized).[206]\\n\\n^ Baskett died shortly afterward, and his widow wrote Disney a letter of gratitude for his support.[208]\\n\\n\\nReferences\\n\\n\\n^ \\n\"Definition of Disney, Walt in English\". Oxford Dictionaries. Oxford University Press. Archived from the original on March 30, 2016. Retrieved April 12, 2016..mw-parser-output cite.citation{font-style:inherit}.mw-parser-output .citation q{quotes:\"\\\\\"\"\"\\\\\"\"\"\\'\"\"\\'\"}.mw-parser-output .id-lock-free a,.mw-parser-output .citation .cs1-lock-free a{background-image:url(\"//upload.wikimedia.org/wikipedia/commons/thumb/6/65/Lock-green.svg/9px-Lock-green.svg.png\");background-image:linear-gradient(transparent,transparent),url(\"//upload.wikimedia.org/wikipedia/commons/6/65/Lock-green.svg\");background-repeat:no-repeat;background-size:9px;background-position:right .1em center}.mw-parser-output .id-lock-limited a,.mw-parser-output .id-lock-registration a,.mw-parser-output .citation .cs1-lock-limited a,.mw-parser-output .citation .cs1-lock-registration a{background-image:url(\"//upload.wikimedia.org/wikipedia/commons/thumb/d/d6/Lock-gray-alt-2.svg/9px-Lock-gray-alt-2.svg.png\");background-image:linear-gradient(transparent,transparent),url(\"//upload.wikimedia.org/wikipedia/commons/d/d6/Lock-gray-alt-2.svg\");background-repeat:no-repeat;background-size:9px;background-position:right .1em center}.mw-parser-output .id-lock-subscription a,.mw-parser-output .citation .cs1-lock-subscription a{background-image:url(\"//upload.wikimedia.org/wikipedia/commons/thumb/a/aa/Lock-red-alt-2.svg/9px-Lock-red-alt-2.svg.png\");background-image:linear-gradient(transparent,transparent),url(\"//upload.wikimedia.org/wikipedia/commons/a/aa/Lock-red-alt-2.svg\");background-repeat:no-repeat;background-size:9px;background-position:right .1em center}.mw-parser-output .cs1-subscription,.mw-parser-output .cs1-registration{color:#555}.mw-parser-output .cs1-subscription span,.mw-parser-output .cs1-registration span{border-bottom:1px dotted;cursor:help}.mw-parser-output .cs1-ws-icon a{background-image:url(\"//upload.wikimedia.org/wikipedia/commons/thumb/4/4c/Wikisource-logo.svg/12px-Wikisource-logo.svg.png\");background-image:linear-gradient(transparent,transparent),url(\"//upload.wikimedia.org/wikipedia/commons/4/4c/Wikisource-logo.svg\");background-repeat:no-repeat;background-size:12px;background-position:right .1em center}.mw-parser-output code.cs1-code{color:inherit;background:inherit;border:inherit;padding:inherit}.mw-parser-output .cs1-hidden-error{display:none;font-size:100%}.mw-parser-output .cs1-visible-error{font-size:100%}.mw-parser-output .cs1-maint{display:none;color:#33aa33;margin-left:0.3em}.mw-parser-output .cs1-subscription,.mw-parser-output .cs1-registration,.mw-parser-output .cs1-format{font-size:95%}.mw-parser-output .cs1-kern-left,.mw-parser-output .cs1-kern-wl-left{padding-left:0.2em}.mw-parser-output .cs1-kern-right,.mw-parser-output .cs1-kern-wl-right{padding-right:0.2em}.mw-parser-output .citation .mw-selflink{font-weight:inherit}\\n\\n^ Gabler 2006, p.\\xa08.\\n\\n^ \\nRackl, Lori (September 27, 2009). \"Walt Disney, the Man Behind the Mouse\". Chicago Sun-Times. Archived from the original on October 3, 2009. Retrieved October 21, 2010.\\n\\n^ a b c d \\nCrowther, Bosley (April 27, 2015). \"Walt Disney\". Encyclopædia Britannica. Archived from the original on March 20, 2016. Retrieved April 12, 2016.\\n\\n^ Mosley 1990, p.\\xa022; Eliot 1995, p.\\xa02.\\n\\n^ \\nWinter, Jon (April 12, 1997). \"Uncle Walt\\'s Lost Ancestors\". The Independent. London. Archived from the original on March 3, 2016. Retrieved April 25, 2016.\\n\\n^ Barrier 2007, pp.\\xa09–10.\\n\\n^ Gabler 2006, pp.\\xa09–10, 15.\\n\\n^ Barrier 2007, p.\\xa013.\\n\\n^ Broggie 2006, pp.\\xa033–35.\\n\\n^ Barrier 2007, p.\\xa016.\\n\\n^ Finch 1999, p.\\xa010.\\n\\n^ Krasniewicz 2010, p.\\xa013.\\n\\n^ Barrier 2007, pp.\\xa018–19.\\n\\n^ \\n\"Biography of Walt Disney (1901–1966), Film Producer\". The Kansas City Public Library. Archived from the original on March 9, 2016. Retrieved April 12, 2016.\\n\\n^ Gabler 2006, p.\\xa030.\\n\\n^ a b c d \\n\"About Walt Disney\". D23. The Walt Disney Company. Archived from the original on April 21, 2016. Retrieved April 13, 2016.\\n\\n^ Finch 1999, p.\\xa012.\\n\\n^ Mosley 1990, p.\\xa039.\\n\\n^ Gabler 2006, pp.\\xa036–38.\\n\\n^ \\n\"Walt Disney, 65, Dies on Coast; Founded an Empire on a Mouse\". The New York Times. December 16, 1966. Archived from the original on May 7, 2016. Retrieved April 25, 2016. (subscription required)\\n\\n^ Gabler 2006, p.\\xa041.\\n\\n^ Thomas 1994, pp.\\xa055–56.\\n\\n^ Thomas 1994, p.\\xa056; Barrier 2007, pp.\\xa024–25.\\n\\n^ Barrier 2007, p.\\xa025.\\n\\n^ Mosley 1990, p.\\xa063.\\n\\n^ a b Thomas 1994, pp.\\xa057–58.\\n\\n^ Withrow 2009, p.\\xa048.\\n\\n^ Gabler 2006, p.\\xa056.\\n\\n^ Finch 1999, p.\\xa014.\\n\\n^ Barrier 2007, p.\\xa060.\\n\\n^ Gabler 2006, pp.\\xa060–61, 64–66.\\n\\n^ Finch 1999, p.\\xa015.\\n\\n^ Gabler 2006, pp.\\xa071–73; Nichols 2014, p.\\xa0102.\\n\\n^ Barrier 1999, p.\\xa039.\\n\\n^ a b Thomas & Johnston 1995, p.\\xa029.\\n\\n^ Barrier 2007, p.\\xa040.\\n\\n^ Gabler 2006, p.\\xa078.\\n\\n^ \\n\"About the Walt Disney Company\". The Walt Disney Company. Archived from the original on May 5, 2016. Retrieved May 9, 2016.\\n\\n^ Thomas 1994, pp.\\xa073–75.\\n\\n^ \"Walt Disney dies of cancer at 65\". Lewiston Morning Tribune. (Idaho). Associated Press. December 16, 1966. p.\\xa01.\\n\\n^ a b Gabler 2006, p.\\xa0544.\\n\\n^ Watts 2013, p.\\xa0352.\\n\\n^ a b Barrier 2007, pp.\\xa0102, 131.\\n\\n^ Mosley 1990, p.\\xa0169; Gabler 2006, p.\\xa0280.\\n\\n^ Thomas 1994, p.\\xa0196; Watts 2013, p.\\xa0352.\\n\\n^ a b \\n\"Alice Hits the Skids\". The Walt Disney Family Museum. Archived from the original on July 14, 2014. Retrieved April 14, 2016.\\n\\n^ \\n\"The Final Alice Comedy Is Released\". The Walt Disney Family Museum. Archived from the original on July 14, 2014. Retrieved April 14, 2016.\\n\\n^ a b \\nSoteriou, Helen (December 3, 2012). \"Could Oswald the Lucky Rabbit have been bigger than Mickey?\". BBC News. Archived from the original on March 8, 2016. Retrieved April 14, 2016.\\n\\n^ Thomas 1994, p.\\xa083.\\n\\n^ Gabler 2006, p.\\xa0109.\\n\\n^ \\n\"Secret Talks\". The Walt Disney Family Museum. Archived from the original on April 29, 2015. Retrieved April 15, 2016.\\n\\n^ \\n\"Stay \\'tooned: Disney gets \\'Oswald\\' for Al Michaels\". ESPN.com. February 10, 2006. Archived from the original on April 7, 2016. Retrieved April 16, 2016.\\n\\n^ a b Thomas 1994, p.\\xa088.\\n\\n^ Gabler 2006, p.\\xa0112.\\n\\n^ Watts 2013, p.\\xa073.\\n\\n^ Thomas & Johnston 1995, p.\\xa039.\\n\\n^ \\nSolomon, Charles. \"The Golden Age of Mickey Mouse\". The Walt Disney Family Museum. Archived from the original on July 10, 2008. Retrieved April 14, 2016.\\n\\n^ Gabler 2006, p.\\xa0116.\\n\\n^ a b c d e f g h i j k l Langer 2000.\\n\\n^ Finch 1999, pp.\\xa023–24; Gabler 2006, p.\\xa0129.\\n\\n^ Finch 1999, pp.\\xa026–27; Langer 2000.\\n\\n^ Finch 1999, pp.\\xa026–27; Gabler 2006, pp.\\xa0142–44.\\n\\n^ Krasniewicz 2010, pp.\\xa059–60.\\n\\n^ a b \\n\"Regulated Rodent\". Time. February 16, 1931. p.\\xa021.\\n\\n^ Finch 1999, pp.\\xa026–27; Gabler 2006, p.\\xa0142.\\n\\n^ a b Gabler 2006, p.\\xa0178.\\n\\n^ Barrier 1999, p.\\xa0167; Gabler 2006, p.\\xa0179.\\n\\n^ Finch 1999, p.\\xa028.\\n\\n^ Barrier 2007, pp.\\xa089–90.\\n\\n^ \\n\"The 5th Academy Awards 1933\". Academy of Motion Picture Arts and Sciences. Archived from the original on May 7, 2016. Retrieved April 15, 2016.\\n\\n^ \\nDanks, Adrian (December 2003). \"Huffing and Puffing about Three Little Pigs\". Senses of Cinema. Archived from the original on April 22, 2008. Retrieved April 15, 2016.\\n\\n^ Gabler 2006, pp.\\xa0184–86.\\n\\n^ Lee & Madej 2012, pp.\\xa055–56.\\n\\n^ Gabler 2006, p.\\xa0186.\\n\\n^ Thomas 1994, p.\\xa0129.\\n\\n^ Thomas & Johnston 1995, p.\\xa090.\\n\\n^ a b Gabler 2006, p.\\xa0270.\\n\\n^ Barrier 1999, p.\\xa0130; Finch 1999, p.\\xa059.\\n\\n^ \\nWalt Disney: The Man Behind the Myth (Television production). The Walt Disney Family Foundation. January 17, 2015.  Event occurs at 38:33–39:00.\\n\\n^ \\nWalt Disney: An American Experience (Television production). PBS. September 14, 2015.  Event occurs at 1:06:44\\xa0– 1:07:24.\\n\\n^ Williams, Denney & Denney 2004, p.\\xa0116.\\n\\n^ a b c Federal Reserve Bank of Minneapolis. \"Consumer Price Index (estimate) 1800–\". Retrieved January 1, 2020.\\n\\n^ a b \\n\"The 11th Academy Awards 1939\". Academy of Motion Picture Arts and Sciences. Archived from the original on May 7, 2016. Retrieved April 16, 2016.\\n\\n^ \\n\"The Golden Age of Animation\". The Walt Disney Family Museum. Archived from the original on April 14, 2009. Retrieved April 16, 2016.\\n\\n^ Krasniewicz 2010, p.\\xa087.\\n\\n^ Thomas 1994, pp.\\xa0161–62; Barrier 2007, pp.\\xa0152, 162–63.\\n\\n^ Ceplair & Englund 1983, p.\\xa0158; Thomas 1994, pp.\\xa0163–65; Barrier 1999, pp.\\xa0171–73.\\n\\n^ Thomas 1994, pp.\\xa0170–71; Gabler 2006, pp.\\xa0370–71.\\n\\n^ Finch 1999, p.\\xa076.\\n\\n^ Gabler 2006, pp.\\xa0394–95.\\n\\n^ Langer 2000; Gabler 2006, p.\\xa0378.\\n\\n^ Finch 1999, p.\\xa071; Gabler 2006, pp.\\xa0380–81.\\n\\n^ Thomas 1994, pp.\\xa0184–85; Gabler 2006, pp.\\xa0382–83.\\n\\n^ Gabler 2006, pp.\\xa0384–85.\\n\\n^ Finch 1999, p.\\xa077.\\n\\n^ Gabler 2006, p.\\xa0399.\\n\\n^ \\n\"The Disney Brothers Face a Fiscal Crisis\". The Walt Disney Family Museum. Archived from the original on June 2, 2014. Retrieved April 16, 2016.\\n\\n^ Thomas 1994, pp.\\xa0186–87.\\n\\n^ Gabler 2006, pp.\\xa0445–46.\\n\\n^ Thomas 1994, p.\\xa0227.\\n\\n^ Gabler 2006, p.\\xa0452.\\n\\n^ Watts 2013, p.\\xa0240.\\n\\n^ \\n\"Testimony of Walter E. Disney before HUAC\". CNN. Archived from the original on May 14, 2008. Retrieved May 21, 2008.\\n\\n^ Gabler 2006, p.\\xa0370.\\n\\n^ Mitgang, Herbert (May 6, 1993). \"Disney Link To the F.B.I. And Hoover Is Disclosed\". The New York Times. ISSN\\xa00362-4331. Retrieved November 10, 2019.\\n\\n^ Broggie 2006, pp.\\xa07, 109.\\n\\n^ Barrier 2007, p.\\xa0219.\\n\\n^ Barrier 2007, p.\\xa0220.\\n\\n^ Finch 1999, pp.\\xa0126–2; Barrier 2007, pp.\\xa0221–23.\\n\\n^ Canemaker 2001, p.\\xa0110.\\n\\n^ \\n\"Dreaming of Disneyland\". The Walt Disney Family Museum. Archived from the original on May 18, 2006. Retrieved September 6, 2013.\\n\\n^ \\nWalt Disney: The Man Behind the Myth (Television production). The Walt Disney Family Foundation. January 17, 2015.  Event occurs at 1:10:00–1:13:00.\\n\\n^ Barrier 2007, pp.\\xa0233–34.\\n\\n^ \\n\"The Beginning of WED\". The Walt Disney Family Museum. Archived from the original on October 2, 2015. Retrieved April 18, 2016.\\n\\n^ \\nMumford, David; Gordon, Bruce. \"The Genesis of Disneyland\". The Walt Disney Family Museum. Archived from the original on October 28, 2008. Retrieved April 18, 2016.\\n\\n^ Finch 1999, p.\\xa0139.\\n\\n^ Barrier 2007, p.\\xa0246.\\n\\n^ Gabler 2006, pp.\\xa0524, 530–32.\\n\\n^ Eliot 1995, pp.\\xa0225–26.\\n\\n^ Gabler 2006, p.\\xa0498.\\n\\n^ \\n\"Topics of the Times\". The New York Times. July 22, 1955. Archived from the original on May 7, 2016. Retrieved May 7, 2016. (subscription required)\\n\\n^ Gabler 2006, p.\\xa0537.\\n\\n^ Gabler 2006, pp.\\xa0508–09.\\n\\n^ a b Gabler 2006, p.\\xa0511.\\n\\n^ \\n\"A Wonderful World: Growing Impact of Disney Art\". Newsweek. April 18, 1955. p.\\xa062.\\n\\n^ Gabler 2006, pp.\\xa0520–21.\\n\\n^ Barrier 2007, p.\\xa0245.\\n\\n^ Gabler 2006, p.\\xa0514.\\n\\n^ Thomas 1994, p.\\xa0257.\\n\\n^ Hollis & Ehrbar 2006, pp.\\xa05–12, 20.\\n\\n^ Gabler 2006, p.\\xa0566.\\n\\n^ \\n\"The 29th Academy Awards 1957\". Academy of Motion Picture Arts and Sciences. Archived from the original on May 7, 2016. Retrieved April 18, 2016.\\n\\n^ Finch 1999, pp.\\xa082–85.\\n\\n^ Finch 1999, p.\\xa0130.\\n\\n^ \\nSingh, Anita (April 10, 2012). \"Story of how Mary Poppins author regretted selling rights to Disney to be turned into film\". The Daily Telegraph. Archived from the original on April 14, 2016. Retrieved April 18, 2016.\\n\\n^ Thomas 1994, p.\\xa0298.\\n\\n^ Barrier 2007, p.\\xa0293.\\n\\n^ \\nCarnaham, Alyssa (June 26, 2012). \"Look Closer: 1964 New York World\\'s Fair\". The Walt Disney Family Museum. Archived from the original on April 13, 2016. Retrieved May 3, 2016.\\n\\n^ Gabler 2006, pp.\\xa0621–23.\\n\\n^ \\nMeyers, Charlie (September 1988). \"Ski Life\". Ski. p.\\xa026.\\n\\n^ Gabler 2006, p.\\xa0631.\\n\\n^ Gabler 2006, pp.\\xa0606–08.\\n\\n^ Beard 1982, p.\\xa011.\\n\\n^ Thomas 1994, p.\\xa0307.\\n\\n^ Thomas 1994, p.\\xa0343; Barrier 2007, p.\\xa0276.\\n\\n^ Gabler 2006, pp.\\xa0626–31.\\n\\n^ Mosley 1990, p.\\xa0298.\\n\\n^ Eliot 1995, p.\\xa0268.\\n\\n^ \\nPoyser, John (July 15, 2009). \"Estate-planning lessons from the Magic Kingdom\". Winnipeg Free Press. p.\\xa0B5.\\n\\n^ Dobson 2009, p.\\xa0220.\\n\\n^ \\nPuig, Claudia (March 26, 2010). \"\\'Waking Sleeping Beauty\\' documentary takes animated look at Disney renaissance\". USA Today. Archived from the original on April 1, 2016. Retrieved April 20, 2016.\\n\\n^ \\n\"History of The Walt Disney Studios\" (PDF). The Walt Disney Company. Archived from the original (PDF) on May 9, 2016. Retrieved May 7, 2016.\\n\\n^ \\nPatches, Matt (May 20, 2015). \"Inside Walt Disney\\'s Ambitious, Failed Plan to Build the City of Tomorrow\". Esquire. Archived from the original on March 25, 2016. Retrieved April 20, 2016.\\n\\n^ \\n\"Walt Disney World Resort: World History\". Targeted News Service. March 18, 2009.\\n\\n^ Thomas 1994, pp.\\xa0357–58.\\n\\n^ \\n\"News Update: EPCOT\". AT&T Archives. Archived from the original on March 4, 2016. Retrieved April 20, 2016.\\n\\n^ \\n\"About Us\". The Walt Disney Family Museum. Archived from the original on March 30, 2014. Retrieved June 27, 2014.\\n\\n^ \\nRothstein, Edward (September 30, 2009). \"Exploring the Man Behind the Animation\". The New York Times. Archived from the original on June 18, 2013. Retrieved April 25, 2016.\\n\\n^ \\nDostis, Melanie (October 1, 2015). \"13 things to know about the Disney parks on 44th anniversary of Walt Disney World\". New York Daily News. Archived from the original on May 21, 2016. Retrieved May 21, 2016.\\n\\n^ Pierce 1987, p.\\xa0100.\\n\\n^ \\nScott, Tony (October 20, 1995). \"Review: \\'Cbs Sunday Movie a Dream Is a Wish Your Heart Makes: The Annette Funicello Story\\'\". Variety. Archived from the original on May 5, 2016. Retrieved April 21, 2016.\\n\\n^ \\nGettell, Oliver (December 18, 2013). \"\\'Saving Mr. Banks\\' director: \\'Such an advantage\\' shooting in L.A.\" Los Angeles Times. Archived from the original on December 19, 2013. Retrieved June 27, 2014.\\n\\n^ \\nGritten, David (May 17, 2013). \"Walt Disney: hero or villain?\". The Daily Telegraph. Archived from the original on April 26, 2016. Retrieved April 25, 2016.\\n\\n^ \\n\"Nominee Facts\\xa0– Most Nominations and Awards\" (PDF). Academy of Motion Picture Arts and Sciences. Archived from the original (PDF) on April 2, 2016. Retrieved April 26, 2013.\\n\\n^ \\n\"Winners & Nominees: Walt Disney\". Hollywood Foreign Press Association. Archived from the original on April 1, 2016. Retrieved April 21, 2016.\\n\\n^ \\n\"Awards & Nominations: Walt Disney\". Academy of Television Arts & Sciences. Archived from the original on March 31, 2016. Retrieved April 21, 2016.\\n\\n^ \\n\"Complete National Film Registry Listing\". Library of Congress. Archived from the original on April 7, 2016. Retrieved April 21, 2016.\\n\\n^ \\n\"AFI\\'s 100 Greatest American Movies of All Time\". American Film Institute. Archived from the original on April 24, 2016. Retrieved May 13, 2016.\\n\\n^ \\n\"Walt Disney\". Hollywood Walk of Fame. Archived from the original on March 19, 2016. Retrieved June 27, 2014.\\n\\n^ \\n\"Mickey Mouse\". Hollywood Walk of Fame. Archived from the original on April 3, 2016. Retrieved May 3, 2016.\\n\\n^ \\n\"Hall of Fame Honorees: Complete List\". Academy of Television Arts & Sciences. Archived from the original on April 2, 2016. Retrieved June 27, 2014.\\n\\n^ \\n\"John Muir Inducted in California Hall of Fame\". The John Muir Exhibit. Archived from the original on March 4, 2016. Retrieved June 26, 2014.\\n\\n^ \\n\"Disney to be first honoree on O.C. Walk of Stars\". Orange County Register. November 8, 2006. Archived from the original on March 5, 2016. Retrieved June 26, 2014.\\n\\n^ \\n\"Untitled\". The Manchester Guardian. December 20, 1935. p.\\xa010.\\n\\n^ \\n\"Walt Disney Honored\". San Mateo Times. San Mateo, CA. February 5, 1952. p.\\xa09.\\n\\n^ West Germans Against The West: Anti-Americanism in Media and Public Opinion in the Federal Republic of Germany 1949–1968. Written by C. Müller\\n\\n^ Unirio\\n\\n^ a b \\n\"Walt Disney\". The California Museum. Archived from the original on April 6, 2016. Retrieved April 20, 2016.\\n\\n^ \\nAarons, Lerby F. (September 15, 1964). \"Arts, Science, Public Affairs Elite Honored With Freedom Medals\". The Washington Post. p.\\xa01.\\n\\n^ \\nMarth, Mike (April 4, 1969). \"Walt Disney Honored With Congressional Gold Medal\". The Van Nuys News. p.\\xa027.\\n\\n^ \\n\"Disney Receives Audubon Medal\". The Blade. Toledo, OH. November 16, 1955. Archived from the original on May 19, 2016. Retrieved April 25, 2016.\\n\\n^ Schmadel 2003, p.\\xa0342.\\n\\n^ \\nThe Two Sides of Walt Disney (Television trailer). PBS. September 10, 2015.  Event occurs at 0:08–0:13. Archived from the original on October 24, 2015. Retrieved April 20, 2016.\\n\\n^ Gabler 2006, p.\\xa0204.\\n\\n^ Schickel 1986, p.\\xa0341.\\n\\n^ a b Gabler 2006, p.\\xa0205.\\n\\n^ \\nThe Two Sides of Walt Disney (Television trailer). PBS. September 10, 2015.  Event occurs at 0:14–0:25. Archived from the original on October 24, 2015. Retrieved April 20, 2016.\\n\\n^ Norman 2013, p.\\xa064.\\n\\n^ Krasniewicz 2010, p.\\xa077.\\n\\n^ a b Watts 1995, p.\\xa084.\\n\\n^ \\n\"American Experience: Walt Disney\". PBS. Archived from the original on April 4, 2016. Retrieved April 22, 2016.\\n\\n^ a b Gabler 2006, p.\\xa0x.\\n\\n^ \\nLejeune, C. A. (February 27, 1938). \"Films of the Week: Magic for the Millions\". The Observer. p.\\xa012.\\n\\n^ \\nAllen, Robin (August 25, 1990). \"The Real Fantasia at Length, at Last\". The Times. p.\\xa016.\\n\\n^ \\nLejeune, C. A. (July 29, 1951). \"Alice in Disneyland\". The Observer. p.\\xa06.\\n\\n^ \\n\"Disney\\'s Peter Pan\". The Times. April 15, 1953. p.\\xa09.\\n\\n^ \\nDargis, Manohla (September 21, 2011). \"And Now a Word From the Director\". The New York Times. Archived from the original on September 12, 2013. Retrieved September 26, 2011.\\n\\n^ Gabler 2006, p.\\xa0448.\\n\\n^ a b Gabler 2006, pp.\\xa0448, 457.\\n\\n^ a b Gabler 2006, p.\\xa0456.\\n\\n^ a b \\n\"Creative Explosion: Walt\\'s Political Outlook\". The Walt Disney Family Museum. p.\\xa016. Archived from the original on June 7, 2008. Retrieved June 27, 2014.\\n\\n^ a b Gabler 2006, p.\\xa0455.\\n\\n^ \\n\"Walt Disney: More Than \\'Toons, Theme Parks\". CBS News. November 1, 2006. Archived from the original on March 13, 2016. Retrieved April 20, 2016.\\n\\n^ Gabler 2006, p.\\xa0611.\\n\\n^ a b c Gabler 2006, p.\\xa0433.\\n\\n^ Cohen 2004, p.\\xa060.\\n\\n^ a b Gabler 2006, pp.\\xa0438–39.\\n\\n^ Korkis 2012, p.\\xa0xi.\\n\\n^ Watts 1995, p.\\xa0107.\\n\\n^ Telotte 2008, p.\\xa019.\\n\\n^ Tomlinson 2001, p.\\xa041.\\n\\n^ Tomlinson 2001, p.\\xa044.\\n\\n^ Mannheim 2016, p.\\xa040; Krasniewicz 2010, p.\\xa0xxii; Watts 2013, p.\\xa058; Painter 2008, p.\\xa025.\\n\\n^ \\nIzard, Ralph S. (July 1967). \"Walt Disney: Master of Laughter and Learning\". Peabody Journal of Education. 45 (1): 36–41. doi:10.1080/01619566709537484. JSTOR\\xa01491447.\\n\\n^ \\n\"Obituary: Mr Walt Disney\". The Times. December 16, 1966. p.\\xa014.\\n\\n^ \\nCooke, Alistair (December 16, 1966). \"Death of Walt Disney—folk-hero\". The Manchester Guardian. p.\\xa01.\\n\\n\\nSources\\n.mw-parser-output .refbegin{font-size:90%;margin-bottom:0.5em}.mw-parser-output .refbegin-hanging-indents>ul{list-style-type:none;margin-left:0}.mw-parser-output .refbegin-hanging-indents>ul>li,.mw-parser-output .refbegin-hanging-indents>dl>dd{margin-left:0;padding-left:3.2em;text-indent:-3.2em;list-style:none}.mw-parser-output .refbegin-100{font-size:100%}\\nBarrier, J. Michael (1999). Hollywood Cartoons: American Animation in Its Golden Age. Oxford: Oxford University Press. ISBN\\xa0978-0-19-503759-3.CS1 maint: ref=harv (link)\\nBarrier, J. Michael (2007). The Animated Man: A Life of Walt Disney. Oakland, CA: University of California Press. ISBN\\xa0978-0-520-24117-6. Buckaroo Bugs\\'.CS1 maint: ref=harv (link)\\nBeard, Richard R. (1982). Walt Disney\\'s EPCOT Center: Creating the New World of Tomorrow. New York, NY: Harry N. Abrams. ISBN\\xa0978-0-8109-0821-5.CS1 maint: ref=harv (link)\\nBroggie, Michael (2006). Walt Disney\\'s Railroad Story: The Small-Scale Fascination That Led to a Full-Scale Kingdom. Marceline, MO: Carolwood Pacific. ISBN\\xa0978-0-9758584-2-4.CS1 maint: ref=harv (link)\\nCanemaker, John (2001). Walt Disney\\'s Nine Old Men and the Art of Animation. Burbank, CA: Disney Editions. ISBN\\xa0978-0-7868-6496-6.CS1 maint: ref=harv (link)\\nCeplair, Larry; Englund, Steven (1983). The Inquisition in Hollywood: Politics in the Film Community, 1930–1960. Oakland, CA: University of California Press. ISBN\\xa0978-0-520-04886-7.CS1 maint: ref=harv (link)\\nCohen, Karl F. (2004). Forbidden Animation: Censored Cartoons and Blacklisted Animators in America. Jefferson, NC: McFarland. ISBN\\xa0978-1-4766-0725-2.CS1 maint: ref=harv (link)\\nDobson, Nichola (2009). Historical Dictionary of Animation and Cartoons. Plymouth, Devon: Scarecrow Press. ISBN\\xa0978-0-8108-6323-1.CS1 maint: ref=harv (link)\\nEliot, Marc (1995). Walt Disney: Hollywood\\'s Dark Prince. London: André Deutsch. ISBN\\xa0978-0-233-98961-7.CS1 maint: ref=harv (link)\\nFinch, Christopher (1999). The Art of Walt Disney from Mickey Mouse to the Magic Kingdom. London: Virgin Books. ISBN\\xa0978-0-7535-0344-7.CS1 maint: ref=harv (link)\\nGabler, Neal (2006). Walt Disney: The Biography. London: Aurum. ISBN\\xa0978-1-84513-277-4.CS1 maint: ref=harv (link)\\nHollis, Tim; Ehrbar, Greg (2006). Mouse Tracks: The Story of Walt Disney Records. Jackson, MS: University Press of Mississippi. ISBN\\xa0978-1-61703-433-6.CS1 maint: ref=harv (link)\\nKorkis, Jim (2012). Who\\'s Afraid of the Song of the South?. Dallas, TX: Theme Park Press. ISBN\\xa0978-0-9843415-5-9.CS1 maint: ref=harv (link)\\nKrasniewicz, Louise (2010). Walt Disney: A Biography. Santa Barbara, CA: Greenwood Publishing. ISBN\\xa0978-0-313-35830-2.CS1 maint: ref=harv (link)\\nLanger, Mark (2000). \"Disney, Walt\". American National Biography. Retrieved April 11, 2016.CS1 maint: ref=harv (link) (subscription required)\\nLee, Newton; Madej, Krystina (2012). Disney Stories: Getting to Digital. Tujunga, CA: Springer Science & Business Media. ISBN\\xa0978-1-4614-2101-6.CS1 maint: ref=harv (link)\\nMannheim, Steve (2016). Walt Disney and the Quest for Community. Abingdon, Oxon: Routledge. ISBN\\xa0978-1-317-00058-7.CS1 maint: ref=harv (link)\\nMosley, Leonard (1990). Disney\\'s World. Lanham, MD: Scarborough House. ISBN\\xa0978-1-58979-656-0.CS1 maint: ref=harv (link)\\nNichols, Catherine (2014). Alice\\'s Wonderland: A Visual Journey Through Lewis Carroll\\'s Mad, Mad World. New York: Race Point Publishing. ISBN\\xa0978-1-937994-97-6.CS1 maint: ref=harv (link)\\nNorman, Floyd (2013). Animated Life: A Lifetime of Tips, Tricks, Techniques and Stories from a Disney Legend. Burlington, MA: Focal Press. ISBN\\xa0978-0-240-81805-4.CS1 maint: ref=harv (link)\\nPainter, Nell Irvin (February 2008). \"Was Marie White? The Trajectory of a Question in the United States\". The Journal of Southern History. 74 (1): 3–30.CS1 maint: ref=harv (link)\\nPierce, John J. (1987). Foundations of Science Fiction: A Study in Imagination and Evolution. Westport, CT: Greenwood Press. ISBN\\xa0978-0-313-25455-0.CS1 maint: ref=harv (link)\\nSchickel, Richard (1986). The Disney Version: The Life, Times, Art and Commerce of Walt Disney. London: Pavilion Books. ISBN\\xa0978-1-85145-007-7.CS1 maint: ref=harv (link)\\nSchmadel, Lutz D. (2003). Dictionary of Minor Planet Names. Heidelberg: Springer Science & Business Media. ISBN\\xa0978-3-540-00238-3.CS1 maint: ref=harv (link)\\nTelotte, Jay P. (June 2, 2008). The Mouse Machine: Disney and Technology. Urbana, IL: University of Illinois Press. ISBN\\xa0978-0-252-09263-3.CS1 maint: ref=harv (link)\\nThomas, Bob (1994) [1976]. Walt Disney: An American Original. New York: Disney Editions. ISBN\\xa0978-0-7868-6027-2.CS1 maint: ref=harv (link)\\nThomas, Frank; Johnston, Ollie (1995) [1981]. The Illusion of Life: Disney Animation. New York: Hyperion. ISBN\\xa00-7868-6070-7.CS1 maint: ref=harv (link)\\nTomlinson, John (2001). Cultural Imperialism: A Critical Introduction. London: A&C Black. ISBN\\xa0978-0-8264-5013-5.CS1 maint: ref=harv (link)\\nWatts, Steven (June 1995). \"Walt Disney: Art and Politics in the American Century\". The Journal of American History. 82 (1): 84–110. doi:10.2307/2081916. JSTOR\\xa02081916.CS1 maint: ref=harv (link)\\nWatts, Steven (2013). The Magic Kingdom: Walt Disney and the American Way of Life. Columbia, MO: University of Missouri Press. ISBN\\xa0978-0-8262-7300-0.CS1 maint: ref=harv (link)\\nWilliams, Pat; Denney, James; Denney, Jim (2004). How to Be Like Walt: Capturing the Disney Magic Every Day of Your Life. Deerfield Beach, FL: Health Communications. ISBN\\xa0978-0-7573-0231-2.CS1 maint: ref=harv (link)\\nWithrow, Steven (2009). Secrets of Digital Animation. Mies, Switzerland: RotoVision. ISBN\\xa0978-2-88893-014-3.CS1 maint: ref=harv (link)\\n\\nExternal links\\nWalt Disney on IMDb\\nWalt Disney at the TCM Movie Database \\nWorks by or about Walt Disney in libraries (WorldCat catalog)\\nThe Walt Disney Family Museum\\nThe Walt Disney Birthplace\\nTalking About Walt Disney at The Interviews: An Oral History of Television\\nFBI Records: The  Vault – Walter Elias Disney at vault.fbi.gov\\n\\n\\nPreceded\\xa0bynone\\n\\n Voice of Mickey Mouse1928–1947; 1955–1959\\n\\nSucceeded\\xa0byJames MacDonald\\n\\n\\nAwards for Walt Disney\\nvteAcademy Honorary Award1928–1950\\nWarner Bros. / Charlie Chaplin (1928)\\nWalt Disney (1932)\\nShirley Temple (1934)\\nD. W. Griffith (1935)\\nThe March of Time / W. Howard Greene and Harold Rosson (1936)\\nEdgar Bergen / W. Howard Greene / Museum of Modern Art Film Library / Mack Sennett (1937)\\nJ. Arthur Ball / Walt Disney / Deanna Durbin and Mickey Rooney / Gordon Jennings, Jan Domela, Devereaux Jennings, Irmin Roberts, Art Smith, Farciot Edouart, Loyal Griggs, Loren L. Ryder, Harry D. Mills, Louis Mesenkop, Walter Oberst / Oliver T. Marsh and Allen Davey / Harry Warner (1938)\\nDouglas Fairbanks / Judy Garland / William Cameron Menzies / Motion Picture Relief Fund (Jean Hersholt, Ralph Morgan, Ralph Block, Conrad Nagel)/ Technicolor Company (1939)\\nBob Hope / Nathan Levinson (1940)\\nWalt Disney, William Garity, John N. A. Hawkins, and the RCA Manufacturing Company / Leopold Stokowski and his associates / Rey Scott / British Ministry of Information (1941)\\nCharles Boyer / Noël Coward / Metro-Goldwyn-Mayer (1942)\\nGeorge Pal (1943)\\nBob Hope / Margaret O\\'Brien (1944)\\nRepublic Studio, Daniel J. Bloomberg, and the Republic Studio Sound Department / Walter Wanger / The House I Live In / Peggy Ann Garner (1945)\\nHarold Russell / Laurence Olivier / Ernst Lubitsch / Claude Jarman Jr. (1946)\\nJames Baskett / Thomas Armat, William Nicholas Selig, Albert E. Smith, and George Kirke Spoor / Bill and Coo / Shoeshine (1947)\\nWalter Wanger / Monsieur Vincent / Sid Grauman / Adolph Zukor (1948)\\nJean Hersholt / Fred Astaire / Cecil B. DeMille / The Bicycle Thief (1949)\\nLouis B. Mayer / George Murphy / The Walls of Malapaga (1950)\\n1951–1975\\nGene Kelly / Rashomon (1951)\\nMerian C. Cooper / Bob Hope / Harold Lloyd / George Mitchell / Joseph M. Schenck / Forbidden Games (1952)\\n20th Century-Fox Film Corporation / Bell & Howell Company / Joseph Breen / Pete Smith (1953)\\nBausch & Lomb Optical Company / Danny Kaye / Kemp Niver / Greta Garbo / Jon Whiteley / Vincent Winter / Gate of Hell (1954)\\nSamurai I: Musashi Miyamoto (1955)\\nEddie Cantor (1956)\\nSociety of Motion Picture and Television Engineers / Gilbert M. \"Broncho Billy\" Anderson / Charles Brackett / B. B. Kahane (1957)\\nMaurice Chevalier (1958)\\nBuster Keaton / Lee de Forest (1959)\\nGary Cooper / Stan Laurel / Hayley Mills (1960)\\nWilliam L. Hendricks / Fred L. Metzler / Jerome Robbins (1961)\\nWilliam J. Tuttle (1964)\\nBob Hope (1965)\\nYakima Canutt / Y. Frank Freeman (1966)\\nArthur Freed (1967)\\nJohn Chambers / Onna White (1968)\\nCary Grant (1969)\\nLillian Gish / Orson Welles (1970)\\nCharlie Chaplin (1971)\\nCharles S. Boren / Edward G. Robinson (1972)\\nHenri Langlois / Groucho Marx (1973)\\nHoward Hawks / Jean Renoir (1974)\\nMary Pickford (1975)\\n1976–2000\\nMargaret Booth (1977)\\nWalter Lantz / Laurence Olivier / King Vidor / Museum of Modern Art Department of Film (1978)\\nHal Elias / Alec Guinness (1979)\\nHenry Fonda (1980)\\nBarbara Stanwyck (1981)\\nMickey Rooney (1982)\\nHal Roach (1983)\\nJames Stewart / National Endowment for the Arts (1984)\\nPaul Newman / Alex North (1985)\\nRalph Bellamy (1986)\\nEastman Kodak Company / National Film Board of Canada (1988)\\nAkira Kurosawa (1989)\\nSophia Loren / Myrna Loy (1990)\\nSatyajit Ray (1991)\\nFederico Fellini (1992)\\nDeborah Kerr (1993)\\nMichelangelo Antonioni (1994)\\nKirk Douglas / Chuck Jones (1995)\\nMichael Kidd (1996)\\nStanley Donen (1997)\\nElia Kazan (1998)\\nAndrzej Wajda (1999)\\nJack Cardiff / Ernest Lehman (2000)\\n2001–present\\nSidney Poitier / Robert Redford (2001)\\nPeter O\\'Toole (2002)\\nBlake Edwards (2003)\\nSidney Lumet (2004)\\nRobert Altman (2005)\\nEnnio Morricone (2006)\\nRobert F. Boyle (2007)\\nLauren Bacall / Roger Corman / Gordon Willis (2009)\\nKevin Brownlow / Jean-Luc Godard / Eli Wallach (2010)\\nJames Earl Jones / Dick Smith (2011)\\nD. A. Pennebaker / Hal Needham / George Stevens Jr. (2012)\\nAngela Lansbury / Steve Martin / Piero Tosi (2013)\\nJean-Claude Carrière / Hayao Miyazaki / Maureen O\\'Hara (2014)\\nSpike Lee / Gena Rowlands (2015)\\nJackie Chan / Lynn Stalmaster / Anne V. Coates / Frederick Wiseman (2016)\\nCharles Burnett / Owen Roizman / Donald Sutherland / Agnès Varda (2017)\\nMarvin Levy / Lalo Schifrin / Cicely Tyson (2018)\\nDavid Lynch / Wes Studi / Lina Wertmüller (2019)\\n\\nvteCecil B. DeMille Award1950s\\nCecil B. DeMille (1952)\\nWalt Disney (1953)\\nDarryl F. Zanuck (1954)\\nJean Hersholt (1955)\\nJack L. Warner (1956)\\nMervyn LeRoy (1957)\\nBuddy Adler (1958)\\nMaurice Chevalier (1959)\\nBing Crosby (1960)\\n1960s\\nFred Astaire (1961)\\nJudy Garland (1962)\\nBob Hope (1963)\\nJoseph E. Levine (1964)\\nJames Stewart (1965)\\nJohn Wayne (1966)\\nCharlton Heston (1967)\\nKirk Douglas (1968)\\nGregory Peck (1969)\\nJoan Crawford (1970)\\n1970s\\nFrank Sinatra (1971)\\nAlfred Hitchcock (1972)\\nSamuel Goldwyn (1973)\\nBette Davis (1974)\\nHal B. Wallis (1975)\\nWalter Mirisch (1977)\\nRed Skelton (1978)\\nLucille Ball (1979)\\nHenry Fonda (1980)\\n1980s\\nGene Kelly (1981)\\nSidney Poitier (1982)\\nLaurence Olivier (1983)\\nPaul Newman (1984)\\nElizabeth Taylor (1985)\\nBarbara Stanwyck (1986)\\nAnthony Quinn (1987)\\nClint Eastwood (1988)\\nDoris Day (1989)\\nAudrey Hepburn (1990)\\n1990s\\nJack Lemmon (1991)\\nRobert Mitchum (1992)\\nLauren Bacall (1993)\\nRobert Redford (1994)\\nSophia Loren (1995)\\nSean Connery (1996)\\nDustin Hoffman (1997)\\nShirley MacLaine (1998)\\nJack Nicholson (1999)\\nBarbra Streisand (2000)\\n2000s\\nAl Pacino (2001)\\nHarrison Ford (2002)\\nGene Hackman (2003)\\nMichael Douglas (2004)\\nRobin Williams (2005)\\nAnthony Hopkins (2006)\\nWarren Beatty (2007)\\nSteven Spielberg (2009)\\nMartin Scorsese (2010)\\n2010s\\nRobert De Niro (2011)\\nMorgan Freeman (2012)\\nJodie Foster (2013)\\nWoody Allen (2014)\\nGeorge Clooney (2015)\\nDenzel Washington (2016)\\nMeryl Streep (2017)\\nOprah Winfrey (2018)\\nJeff Bridges (2019)\\nTom Hanks (2020)\\n\\nvteHonorary César1976–2000\\nIngrid Bergman (1976)\\nDiana Ross (1976)\\nHenri Langlois (1977)\\nJacques Tati (1977)\\nRobert Dorfmann (1978)\\nRené Goscinny (1978)\\nMarcel Carné (1979)\\nCharles Vanel (1979)\\nWalt Disney (1979)\\nPierre Braunberger (1980)\\nLouis de Funès (1980)\\nKirk Douglas (1980)\\nMarcel Pagnol (1981)\\nAlain Resnais (1981)\\nGeorges Dancigers (1982)\\nAlexandre Mnouchkine (1982)\\nJean Nény (1982)\\nAndrzej Wajda (1982)\\nRaimu (1983)\\nRené Clément (1984)\\nGeorges de Beauregard (1984)\\nEdwige Feuillère (1984)\\nChristian-Jaque (1985)\\nDanielle Darrieux (1985)\\nChristine Gouze-Rénal (1985)\\nAlain Poiré (1985)\\nMaurice Jarre (1986)\\nBette Davis (1986)\\nJean Delannoy (1986)\\nRené Ferracci (1986)\\nClaude Lanzmann (1986)\\nJean-Luc Godard (1987)\\nSerge Silberman (1988)\\nBernard Blier (1989)\\nPaul Grimault (1989)\\nGérard Philipe (1990)\\nJean-Pierre Aumont (1991)\\nSophia Loren (1991)\\nMichèle Morgan (1992)\\nSylvester Stallone (1992)\\nJean Marais (1993)\\nMarcello Mastroianni (1993)\\nGérard Oury (1993)\\nJean Carmet (1994)\\nJeanne Moreau (1995)\\nGregory Peck (1995)\\nSteven Spielberg (1995)\\nLauren Bacall (1996)\\nHenri Verneuil (1996)\\nCharles Aznavour (1997)\\nAndie MacDowell (1997)\\nMichael Douglas (1998)\\nClint Eastwood (1998)\\nJean-Luc Godard (1998)\\nPedro Almodóvar (1999)\\nJohnny Depp (1999)\\nJean Rochefort (1999)\\nJosiane Balasko (2000)\\nGeorges Cravenne (2000)\\nJean-Pierre Léaud (2000)\\nMartin Scorsese (2000)\\n2001–present\\nDarry Cowl (2001)\\nCharlotte Rampling (2001)\\nAgnès Varda (2001)\\nAnouk Aimée (2002)\\nJeremy Irons (2002)\\nClaude Rich (2002)\\nBernadette Lafont (2003)\\nSpike Lee (2003)\\nMeryl Streep (2003)\\nMicheline Presle (2004)\\nJacques Dutronc (2005)\\nWill Smith (2005)\\nHugh Grant (2006)\\nPierre Richard (2006)\\nMarlène Jobert (2007)\\nJude Law (2007)\\nJeanne Moreau (2008)\\nRoberto Benigni (2008)\\nDustin Hoffman (2009)\\nHarrison Ford (2010)\\nQuentin Tarantino (2011)\\nKate Winslet (2012)\\nKevin Costner (2013)\\nScarlett Johansson (2014)\\nSean Penn (2015)\\nMichael Douglas (2016)\\nGeorge Clooney (2017)\\nPenélope Cruz (2018)\\nRobert Redford (2019)\\n\\nvteIrving G. Thalberg Memorial Award\\nDarryl F. Zanuck (1938)\\nHal B. Wallis (1939)\\nDavid O. Selznick (1940)\\nWalt Disney (1942)\\nSidney Franklin (1943)\\nHal B. Wallis (1944)\\nDarryl F. Zanuck (1945)\\nSamuel Goldwyn (1947)\\nJerry Wald (1949)\\nDarryl F. Zanuck (1951)\\nArthur Freed (1952)\\nCecil B. DeMille (1953)\\nGeorge Stevens (1954)\\nBuddy Adler (1957)\\nJack L. Warner (1959)\\nStanley Kramer (1962)\\nSam Spiegel (1964)\\nWilliam Wyler (1966)\\nRobert Wise (1967)\\nAlfred Hitchcock (1968)\\nIngmar Bergman (1971)\\nLawrence Weingarten (1974)\\nMervyn LeRoy (1976)\\nPandro S. Berman (1977)\\nWalter Mirisch (1978)\\nRay Stark (1980)\\nAlbert R. Broccoli (1982)\\nSteven Spielberg (1986)\\nBilly Wilder (1988)\\nDavid Brown and Richard D. Zanuck (1991)\\nGeorge Lucas (1992)\\nClint Eastwood (1995)\\nSaul Zaentz (1997)\\nNorman Jewison (1999)\\nWarren Beatty (2000)\\nDino De Laurentiis (2001)\\nJohn Calley (2009)\\nFrancis Ford Coppola (2010)\\nKathleen Kennedy and Frank Marshall (2018)\\n\\nvteTelevision Hall of Fame Class of 1986\\nSteve Allen\\nFred Coe\\nWalt Disney\\nJackie Gleason\\nMary Tyler Moore\\n Frank Stanton\\nBurr Tillstrom\\n\\nvteThe Walt Disney Company\\nCompany timeline\\nImpact of the COVID-19 pandemic\\nAcquisitions\\nCriticism\\nCompanyofficialsKey\\nFounders\\nWalt Disney\\nRoy O. Disney\\nBob Iger (Executive Chairman)\\nBob Chapek (CEO)\\nAlan N. Braverman (SEVP/GC)\\nChristine McCarthy (CFO)\\nZenia Mucha (CCO)\\nBoard ofdirectors\\nSusan Arnold\\nMary Barra\\nSafra Catz\\nBob Chapek\\nFrancis deSouza\\nMichael Froman\\nBob Iger (Chairman)\\nMaria Elena Lagomasino\\nMark Parker\\nDerica W. Rice\\nStudioEntertainment\\nDistribution\\nWalt Disney Pictures\\nDisneynature\\nWalt Disney Animation Studios\\nPixar\\nMarvel Studios\\nLucasfilm\\n20th Century Studios\\n20th Century Animation\\nBlue Sky Studios\\nFox 2000 Pictures\\nSearchlight Pictures\\nDisney Music Group\\nDisney Theatrical Group\\nMediaNetworksWalt Disney TV\\nABC\\nABC TV Stations\\nDisney TV Studios\\nABC Signature\\n20th TV\\nAnimation\\nTouchstone TV\\nDisney Channels (US)\\nDisney TV Animation\\nIt\\'s a Laugh Productions\\nFreeform\\nFX Networks\\nFX Productions\\nHulu Scripted Originals Team\\nNational Geographic Networks (73%)\\n\\nESPN (80%)\\nA&E Networks (50%)\\nDisney Media Distribution\\nDisney–ABC Domestic Television\\nWalt Disney Studios Home Entertainment\\n20th Century Studios Home Entertainment\\nMovies AnywhereParks,Experiences& ProductsParks &resorts\\nDisneyland Resort\\nDisneyland Paris\\nHong Kong Disneyland Resort (43%)\\nShanghai Disney Resort (43%)\\nDisney Attractions Japan\\nWalt Disney World\\nImagineering (Muppets Studio)\\nFoxNext\\nExperiences\\nAdventures by Disney\\nNational Geographic Expeditions\\nDisney Cruise Line\\nDisney Vacation Club\\nConsumerProducts\\nDisney Store\\nDisney Publishing\\nDisney English\\nNG Media\\nDisney Online\\nGames & Interactive Experiences\\nFoxNext\\nDirect-to-Consumer &International\\nDisney Channels Worldwide\\nFox Networks Group\\nESPN International\\nDisney Digital Network\\nDisney Streaming Services\\nDisney+\\nESPN+\\nHulu (67%)\\nInternational\\nAsia Pacific\\nIndia\\nStar India\\nHotstar\\nTata Sky (30%)\\nUTV Software Communications\\nEMEA\\nFrance\\nGermany\\nSuper RTLJV\\nRTL IIJV\\nItaly\\nLatin America\\nArgentina\\nPatagonik Film Group\\nFox Telecolombia\\nRede Telecine\\n\\nOther assets\\nBuena Vista\\nD23\\nDisneyNow\\nDisney Institute\\nDisney University\\nMarvel Entertainment\\nNational Geographic Partners (73%)\\nReedy Creek Energy\\nTrueX\\nSee also\\nWalt Disney Studios (Burbank)\\nGrand Central Creative Campus\\n21st Century Fox\\nAcquired\\nRetlaw Enterprises\\n\\nvteDisneyland ResortTheme parks\\nDisneyland\\ncurrent attractions\\npast attractions\\nDisney California Adventure\\ncurrent attractions\\npast attractions\\nHotels\\nDisneyland Hotel\\nParadise Pier Hotel\\nGrand Californian Hotel and Spa\\nResort area\\nDowntown Disney\\nWorld of Disney\\nTrader Sam\\'s Enchanted Tiki Bar\\nNapa Rose\\nDisneyland Monorail System\\nTeam Disney Anaheim\\nPeople\\nCorey Burton\\nClaude Coats\\nMarc Davis\\nRoy O. Disney\\nWalt Disney\\nRon Dominguez\\nGreg Emmer\\nJoe Fowler\\nPaul Frees\\nEd Grier\\nCynthia Harriss\\nArt Linkletter\\nJack Lindquist\\nMichael Eisner\\nMatt Ouimet\\nPaul Pressler\\nThurl Ravenscroft\\nHerbert Ryman\\nJack Wagner\\nJack Wrather\\nTony Baxter\\nMarty Sklar\\nEvents\\nHappiest Homecoming on Earth\\nMagic Music Days\\nWeddings\\nOther\\nIncidents\\nE ticket\\nFastPass\\nPhotoPass\\nDisneyland, Inc.\\nStanford Research Institute\\nPartners Federal Credit Union\\nVoluntears\\nRelated articles\\nWalt Disney Imagineering\\nWalt Disney Creative Entertainment\\nAnaheim\\nAnaheim Rapid Connection\\nAnaheim Resort\\nAnaheim Resort Transportation\\nUtilidor System\\n\\nWalt Disney Parks and Resorts\\nThe Walt Disney Company\\n\\n.mw-parser-output .subjectbar{background-color:#f9f9f9;border:1px solid #aaa;clear:both;margin-bottom:0.5em;margin-top:0.5em;width:100%;box-sizing:border-box;font-size:88%}PortalsAccess related topicsAnimation portalBiography portalDisney portalFilm portalGreater Los Angeles portalTelevision portalUnited States portalFind out more onWikipedia\\'sSister projectsMediafrom CommonsQuotationsfrom WikiquoteDatafrom Wikidata\\nAuthority control \\nAAG: 305\\nBIBSYS: 90057066\\nBNE: XX1163376\\nBNF: cb11994688k (data)\\nCANTIC: a11231014\\nCiNii: DA09601826\\nGND: 118526006\\nISNI: 0000 0001 2128 0724\\nLCCN: n78095660\\nMusicBrainz: 560416d7-c8f8-4a1b-b555-ef2b93528fb5\\nNARA: 10580368\\nNDL: 00437974\\nNKC: jn19990001791\\nNLA: 35037590\\nNLI: 000039797\\nNLK: KAC199607178\\nNLR: 000066276\\nNTA: 182955389\\nPIC: 308398\\nRKD: 23298\\nSELIBR: 273638\\nSNAC: w6b85pv2\\nSUDOC: 028028945\\nTrove: 808425\\nULAN: 500025598\\nVIAF: 36927108\\n WorldCat Identities: lccn-n78095660\\n\\n\\n\\n\\n\\nRetrieved from \"https://en.wikipedia.org/w/index.php?title=Walt_Disney&oldid=972127952\"\\nCategories: Walt Disney1901 births1966 deaths20th-century American artists20th-century American businesspeople20th-century American male actors20th-century American writersAcademy Honorary Award recipientsAmerican animated film producersAmerican anti-communistsAmerican anti-fascistsAmerican cartoonistsAmerican company foundersFilm producers from MissouriAmerican film studio executivesAmerican film production company foundersAmerican male screenwritersAmerican male voice actorsAmerican mass media ownersAmerican people of Canadian descentAmerican people of English descentAmerican people of German descentAmerican people of Irish descentAmerican Red Cross personnelPhilanthropists from IllinoisAmerican television hostsAmusement park ownersAnimators from IllinoisAnimators from MissouriArtists from ChicagoBurials at Forest Lawn Memorial Park (Glendale)Deaths from cancer in CaliforniaCecil B. DeMille Award Golden Globe winnersCésar Honorary Award recipientsChairmen of DisneyCongressional Gold Medal recipientsDeaths from lung cancerDisney familyDisney executivesFilm directors from MissouriHistory of animationKansas City Art Institute alumniMale actors from MissouriPeople from Marceline, MissouriPresidential Medal of Freedom recipientsPrimetime Emmy Award winnersProducers of Best Documentary Short Subject Academy Award winnersProducers of Live Action Short Film Academy Award winnersRecipients of the Irving G. Thalberg Memorial AwardSchool of the Art Institute of Chicago alumniWriters from ChicagoWriters from MissouriScreenwriters from IllinoisRecipients of the Silver Buffalo AwardPeople from Holmby Hills, Los AngelesDisease-related deaths in CaliforniaOfficers Crosses of the Order of Merit of the Federal Republic of GermanyChevaliers of the Légion d\\'honneurProducers of Best Animated Short Academy Award winners20th-century American male writersHidden categories: Pages containing links to subscription-only contentWikipedia extended-confirmed-protected pagesWikipedia indefinitely move-protected pagesArticles with short descriptionShort description is different from WikidataFeatured articlesUse mdy dates from April 2017Use American English from May 2016All Wikipedia articles written in American EnglishBiography with signatureArticles with hCardsArticles containing German-language textArticles containing French-language textArticles containing Spanish-language textCS1 maint: ref=harvArticles using Template:The Interviews peopleWikipedia articles with AAG identifiersWikipedia articles with BIBSYS identifiersWikipedia articles with BNE identifiersWikipedia articles with BNF identifiersWikipedia articles with CANTIC identifiersWikipedia articles with CINII identifiersWikipedia articles with GND identifiersWikipedia articles with ISNI identifiersWikipedia articles with LCCN identifiersWikipedia articles with MusicBrainz identifiersWikipedia articles with NARA identifiersWikipedia articles with NDL identifiersWikipedia articles with NKC identifiersWikipedia articles with NLA identifiersWikipedia articles with NLI identifiersWikipedia articles with NLK identifiersWikipedia articles with NLR identifiersWikipedia articles with NTA identifiersWikipedia articles with PIC identifiersWikipedia articles with RKDartists identifiersWikipedia articles with SELIBR identifiersWikipedia articles with SNAC-ID identifiersWikipedia articles with SUDOC identifiersWikipedia articles with Trove identifiersWikipedia articles with ULAN identifiersWikipedia articles with VIAF identifiersWikipedia articles with WorldCat identifiersAC with 26 elementsArticles containing video clips\\n\\n\\n\\n\\n\\n\\nNavigation menu\\n\\n\\n\\n\\nPersonal tools\\n\\n\\n\\n\\nNot logged inTalkContributionsCreate accountLog in\\n\\n\\n\\n\\n\\n\\nNamespaces\\n\\n\\n\\n\\nArticleTalk\\n\\n\\n\\n\\n\\n\\nVariants\\n\\n\\n\\n\\n\\n\\n\\n\\n\\n\\n\\n\\nViews\\n\\n\\n\\n\\nReadView sourceView history\\n\\n\\n\\n\\n\\n\\nMore\\n\\n\\n\\n\\n\\n\\n\\n\\n\\nSearch\\n\\n\\n\\n\\n\\n\\n\\n\\n\\n\\n\\n\\n\\n\\n\\n\\n\\n\\n\\nNavigation\\n\\n\\n\\n\\nMain pageContentsCurrent eventsRandom articleAbout WikipediaContact usDonateWikipedia store\\n\\n\\n\\n\\n\\nContribute\\n\\n\\n\\n\\nHelpCommunity portalRecent changesUpload file\\n\\n\\n\\n\\n\\nTools\\n\\n\\n\\n\\nWhat links hereRelated changesUpload fileSpecial pagesPermanent linkPage informationCite this pageWikidata item\\n\\n\\n\\n\\n\\nPrint/export\\n\\n\\n\\n\\nDownload as PDFPrintable version\\n\\n\\n\\n\\n\\nIn other projects\\n\\n\\n\\n\\nWikimedia CommonsWikiquote\\n\\n\\n\\n\\n\\nLanguages\\n\\n\\n\\n\\nАдыгэбзэAfrikaansAlemannischአማርኛالعربيةAragonésঅসমীয়াAsturianuAzərbaycancaবাংলাBân-lâm-gúБашҡортсаБеларускаяБеларуская (тарашкевіца)\\u200eभोजपुरीBikol CentralBislamaБългарскиBoarischBosanskiBrezhonegБуряадCatalàCebuanoČeštinaCorsuCymraegDanskDavvisámegiellaDeitschDeutschDolnoserbskiEestiΕλληνικάEspañolEsperantoEstremeñuEuskaraفارسیFiji HindiFøroysktFrançaisFryskGaeilgeGalego𐌲𐌿𐍄𐌹𐍃𐌺गोंयची कोंकणी / Gõychi Konknni한국어HawaiʻiՀայերենहिन्दीHornjoserbsceHrvatskiBahasa HulontaloIdoIlokanoBahasa IndonesiaInterlinguaИронÍslenskaItalianoעבריתJawaKabɩyɛಕನ್ನಡქართულიҚазақшаKiswahiliKreyòl ayisyenKriyòl gwiyannenKurdîКыргызчаLatinaLatviešuLëtzebuergeschLietuviųLigureLimburgsLivvinkarjalaMagyarमैथिलीМакедонскиMalagasyമലയാളംमराठीმარგალურიمصرىBahasa MelayuMinangkabauМонголမြန်မာဘာသာNāhuatlNederlandsनेपालीनेपाल भाषा日本語НохчийнNorsk bokmålNorsk nynorskOccitanOʻzbekcha/ўзбекчаਪੰਜਾਬੀپنجابیPiemontèisPlattdüütschPolskiPortuguêsRomânăRuna SimiРусиньскыйРусскийСаха тылаसंस्कृतम्ᱥᱟᱱᱛᱟᱲᱤSarduScotsShqipSicilianuSimple EnglishSlovenčinaSlovenščinaŚlůnskiکوردیСрпски / srpskiSrpskohrvatski / српскохрватскиSundaSuomiSvenskaTagalogதமிழ்Татарча/tatarçaతెలుగుไทยТоҷикӣTürkçeУкраїнськаاردوVènetoVepsän kel’Tiếng ViệtVolapükWalonWinaray吴语ייִדישYorùbá粵語Žemaitėška中文\\nEdit links\\n\\n\\n\\n\\n\\n\\n This page was last edited on 10 August 2020, at 09:27\\xa0(UTC).\\nText is available under the Creative Commons Attribution-ShareAlike License;\\nadditional terms may apply.  By using this site, you agree to the Terms of Use and Privacy Policy. Wikipedia® is a registered trademark of the Wikimedia Foundation, Inc., a non-profit organization.\\n\\n\\nPrivacy policy\\nAbout Wikipedia\\nDisclaimers\\nContact Wikipedia\\nMobile view\\nDevelopers\\nStatistics\\nCookie statement\\n\\n\\n\\n\\n\\n\\n\\n(RLQ=window.RLQ||[]).push(function(){mw.config.set({\"wgPageParseReport\":{\"limitreport\":{\"cputime\":\"2.692\",\"walltime\":\"3.199\",\"ppvisitednodes\":{\"value\":15429,\"limit\":1000000},\"postexpandincludesize\":{\"value\":414109,\"limit\":2097152},\"templateargumentsize\":{\"value\":60183,\"limit\":2097152},\"expansiondepth\":{\"value\":26,\"limit\":40},\"expensivefunctioncount\":{\"value\":40,\"limit\":500},\"unstrip-depth\":{\"value\":1,\"limit\":20},\"unstrip-size\":{\"value\":486134,\"limit\":5000000},\"entityaccesscount\":{\"value\":1,\"limit\":400},\"timingprofile\":[\"100.00% 2705.322      1 -total\",\" 20.68%  559.540      2 Template:Reflist\",\" 15.19%  411.067    146 Template:Sfn\",\" 14.73%  398.602     28 Template:Efn\",\" 10.98%  297.102     41 Template:Cite_web\",\"  9.83%  265.969      1 Template:Infobox_person\",\"  9.14%  247.185      1 Template:Infobox\",\"  7.24%  195.939      5 Template:Br_separated_entries\",\"  7.19%  194.604      5 Template:Lang\",\"  6.07%  164.276      1 Template:Birth_date\"]},\"scribunto\":{\"limitreport-timeusage\":{\"value\":\"1.557\",\"limit\":\"10.000\"},\"limitreport-memusage\":{\"value\":31636546,\"limit\":52428800},\"limitreport-logs\":\"anchor_id_list = table#1 {\\\\n  [\\\\\"CITEREFAarons1964\\\\\"] = 1,\\\\n  [\\\\\"CITEREFAllen1990\\\\\"] = 1,\\\\n  [\\\\\"CITEREFBarrier1999\\\\\"] = 1,\\\\n  [\\\\\"CITEREFBarrier2007\\\\\"] = 1,\\\\n  [\\\\\"CITEREFBeard1982\\\\\"] = 1,\\\\n  [\\\\\"CITEREFBroggie2006\\\\\"] = 1,\\\\n  [\\\\\"CITEREFCanemaker2001\\\\\"] = 1,\\\\n  [\\\\\"CITEREFCarnaham2012\\\\\"] = 1,\\\\n  [\\\\\"CITEREFCeplairEnglund1983\\\\\"] = 1,\\\\n  [\\\\\"CITEREFCohen2004\\\\\"] = 1,\\\\n  [\\\\\"CITEREFCooke1966\\\\\"] = 1,\\\\n  [\\\\\"CITEREFCrowther2015\\\\\"] = 1,\\\\n  [\\\\\"CITEREFDanks2003\\\\\"] = 1,\\\\n  [\\\\\"CITEREFDargis2011\\\\\"] = 1,\\\\n  [\\\\\"CITEREFDobson2009\\\\\"] = 1,\\\\n  [\\\\\"CITEREFDostis2015\\\\\"] = 1,\\\\n  [\\\\\"CITEREFEliot1995\\\\\"] = 1,\\\\n  [\\\\\"CITEREFFinch1999\\\\\"] = 1,\\\\n  [\\\\\"CITEREFGabler2006\\\\\"] = 1,\\\\n  [\\\\\"CITEREFGettell2013\\\\\"] = 1,\\\\n  [\\\\\"CITEREFGritten2013\\\\\"] = 1,\\\\n  [\\\\\"CITEREFHollisEhrbar2006\\\\\"] = 1,\\\\n  [\\\\\"CITEREFIzard1967\\\\\"] = 1,\\\\n  [\\\\\"CITEREFKorkis2012\\\\\"] = 1,\\\\n  [\\\\\"CITEREFKrasniewicz2010\\\\\"] = 1,\\\\n  [\\\\\"CITEREFLanger2000\\\\\"] = 1,\\\\n  [\\\\\"CITEREFLeeMadej2012\\\\\"] = 1,\\\\n  [\\\\\"CITEREFLejeune1938\\\\\"] = 1,\\\\n  [\\\\\"CITEREFLejeune1951\\\\\"] = 1,\\\\n  [\\\\\"CITEREFMannheim2016\\\\\"] = 1,\\\\n  [\\\\\"CITEREFMarth1969\\\\\"] = 1,\\\\n  [\\\\\"CITEREFMeyers1988\\\\\"] = 1,\\\\n  [\\\\\"CITEREFMitgang1993\\\\\"] = 1,\\\\n  [\\\\\"CITEREFMosley1990\\\\\"] = 1,\\\\n  [\\\\\"CITEREFMumfordGordon\\\\\"] = 1,\\\\n  [\\\\\"CITEREFNichols2014\\\\\"] = 1,\\\\n  [\\\\\"CITEREFNorman2013\\\\\"] = 1,\\\\n  [\\\\\"CITEREFPainter2008\\\\\"] = 1,\\\\n  [\\\\\"CITEREFPatches2015\\\\\"] = 1,\\\\n  [\\\\\"CITEREFPierce1987\\\\\"] = 1,\\\\n  [\\\\\"CITEREFPoyser2009\\\\\"] = 1,\\\\n  [\\\\\"CITEREFPuig2010\\\\\"] = 1,\\\\n  [\\\\\"CITEREFRackl2009\\\\\"] = 1,\\\\n  [\\\\\"CITEREFRothstein2009\\\\\"] = 1,\\\\n  [\\\\\"CITEREFSchickel1986\\\\\"] = 1,\\\\n  [\\\\\"CITEREFSchmadel2003\\\\\"] = 1,\\\\n  [\\\\\"CITEREFScott1995\\\\\"] = 1,\\\\n  [\\\\\"CITEREFSingh2012\\\\\"] = 1,\\\\n  [\\\\\"CITEREFSolomon\\\\\"] = 1,\\\\n  [\\\\\"CITEREFSoteriou2012\\\\\"] = 1,\\\\n  [\\\\\"CITEREFTelotte2008\\\\\"] = 1,\\\\n  [\\\\\"CITEREFThomas1994\\\\\"] = 1,\\\\n  [\\\\\"CITEREFThomasJohnston1995\\\\\"] = 1,\\\\n  [\\\\\"CITEREFTomlinson2001\\\\\"] = 1,\\\\n  [\\\\\"CITEREFWatts1995\\\\\"] = 1,\\\\n  [\\\\\"CITEREFWatts2013\\\\\"] = 1,\\\\n  [\\\\\"CITEREFWilliamsDenneyDenney2004\\\\\"] = 1,\\\\n  [\\\\\"CITEREFWinter1997\\\\\"] = 1,\\\\n  [\\\\\"CITEREFWithrow2009\\\\\"] = 1,\\\\n}\\\\ntemplate_list = table#1 {\\\\n  [\\\\\"1986 Television Hall of Fame\\\\\"] = 1,\\\\n  [\\\\\"About\\\\\"] = 1,\\\\n  [\\\\\"Academy Honorary Award\\\\\"] = 1,\\\\n  [\\\\\"Authority control\\\\\"] = 1,\\\\n  [\\\\\"Birth date\\\\\"] = 1,\\\\n  [\\\\\"CURRENTYEAR\\\\\"] = 5,\\\\n  [\\\\\"Cecil B. DeMille Award 1952–1975\\\\\"] = 1,\\\\n  [\\\\\"Circa\\\\\"] = 1,\\\\n  [\\\\\"Cite AV media\\\\\"] = 5,\\\\n  [\\\\\"Cite book\\\\\"] = 29,\\\\n  [\\\\\"Cite journal\\\\\"] = 4,\\\\n  [\\\\\"Cite news\\\\\"] = 32,\\\\n  [\\\\\"Cite web\\\\\"] = 38,\\\\n  [\\\\\"Convert\\\\\"] = 1,\\\\n  [\\\\\"DEFAULTSORT:Disney, Walt\\\\\"] = 1,\\\\n  [\\\\\"Death date and age\\\\\"] = 1,\\\\n  [\\\\\"Disney\\\\\"] = 1,\\\\n  [\\\\\"Disneyland Resort\\\\\"] = 1,\\\\n  [\\\\\"Efn\\\\\"] = 28,\\\\n  [\\\\\"Featured article\\\\\"] = 1,\\\\n  [\\\\\"Flatlist\\\\\"] = 1,\\\\n  [\\\\\"Formatnum:{{Inflation\\\\\"] = 5,\\\\n  [\\\\\"Honorary César\\\\\"] = 1,\\\\n  [\\\\\"IMDb name\\\\\"] = 1,\\\\n  [\\\\\"IPAc-en\\\\\"] = 1,\\\\n  [\\\\\"Inflation\\\\\"] = 5,\\\\n  [\\\\\"Inflation-fn\\\\\"] = 3,\\\\n  [\\\\\"Infobox person\\\\\"] = 1,\\\\n  [\\\\\"Lang\\\\\"] = 5,\\\\n  [\\\\\"Navboxes\\\\\"] = 1,\\\\n  [\\\\\"Nee\\\\\"] = 1,\\\\n  [\\\\\"Nnbsp\\\\\"] = 1,\\\\n  [\\\\\"Not a typo\\\\\"] = 1,\\\\n  [\\\\\"Notes\\\\\"] = 1,\\\\n  [\\\\\"Nsmdns\\\\\"] = 31,\\\\n  [\\\\\"Plainlist\\\\\"] = 1,\\\\n  [\\\\\"Pp-30-500\\\\\"] = 1,\\\\n  [\\\\\"Pp-move-indef\\\\\"] = 1,\\\\n  [\\\\\"Refbegin\\\\\"] = 1,\\\\n  [\\\\\"Refend\\\\\"] = 1,\\\\n  [\\\\\"Reflist\\\\\"] = 1,\\\\n  [\\\\\"S-aft\\\\\"] = 1,\\\\n  [\\\\\"S-bef\\\\\"] = 1,\\\\n  [\\\\\"S-end\\\\\"] = 1,\\\\n  [\\\\\"S-start\\\\\"] = 1,\\\\n  [\\\\\"S-ttl\\\\\"] = 1,\\\\n  [\\\\\"See also\\\\\"] = 1,\\\\n  [\\\\\"Sfn\\\\\"] = 146,\\\\n  [\\\\\"Sfnm\\\\\"] = 20,\\\\n  [\\\\\"Short description\\\\\"] = 1,\\\\n  [\\\\\"Snds\\\\\"] = 1,\\\\n  [\\\\\"Subject bar\\\\\"] = 1,\\\\n  [\\\\\"Subscription\\\\\"] = 3,\\\\n  [\\\\\"Tcmdb name\\\\\"] = 1,\\\\n  [\\\\\"Thalberg Award\\\\\"] = 1,\\\\n  [\\\\\"The Interviews people\\\\\"] = 1,\\\\n  [\\\\\"Use American English\\\\\"] = 1,\\\\n  [\\\\\"Use mdy dates\\\\\"] = 1,\\\\n  [\\\\\"Worldcat id\\\\\"] = 1,\\\\n}\\\\narticle_whitelist = table#1 {\\\\n}\\\\n\",\"limitreport-profile\":[[\"Scribunto_LuaSandboxCallback::callParserFunction\",\"240\",\"15.2\"],[\"?\",\"240\",\"15.2\"],[\"recursiveClone \\\\u003CmwInit.lua:41\\\\u003E\",\"120\",\"7.6\"],[\"Scribunto_LuaSandboxCallback::getEntity\",\"100\",\"6.3\"],[\"\\\\u003Cmw.lua:683\\\\u003E\",\"80\",\"5.1\"],[\"type\",\"80\",\"5.1\"],[\"Scribunto_LuaSandboxCallback::gsub\",\"60\",\"3.8\"],[\"Scribunto_LuaSandboxCallback::match\",\"60\",\"3.8\"],[\"validateData \\\\u003Cmw.lua:717\\\\u003E\",\"60\",\"3.8\"],[\"gsub\",\"40\",\"2.5\"],[\"[others]\",\"500\",\"31.6\"]]},\"cachereport\":{\"origin\":\"mw1384\",\"timestamp\":\"20200825140750\",\"ttl\":86400,\"transientcontent\":true}}});});\\n{\"@context\":\"https:\\\\/\\\\/schema.org\",\"@type\":\"Article\",\"name\":\"Walt Disney\",\"url\":\"https:\\\\/\\\\/en.wikipedia.org\\\\/wiki\\\\/Walt_Disney\",\"sameAs\":\"http:\\\\/\\\\/www.wikidata.org\\\\/entity\\\\/Q8704\",\"mainEntity\":\"http:\\\\/\\\\/www.wikidata.org\\\\/entity\\\\/Q8704\",\"author\":{\"@type\":\"Organization\",\"name\":\"Contributors to Wikimedia projects\"},\"publisher\":{\"@type\":\"Organization\",\"name\":\"Wikimedia Foundation, Inc.\",\"logo\":{\"@type\":\"ImageObject\",\"url\":\"https:\\\\/\\\\/www.wikimedia.org\\\\/static\\\\/images\\\\/wmf-hor-googpub.png\"}},\"datePublished\":\"2001-10-07T20:36:47Z\",\"dateModified\":\"2020-08-10T09:27:08Z\",\"image\":\"https:\\\\/\\\\/upload.wikimedia.org\\\\/wikipedia\\\\/commons\\\\/d\\\\/df\\\\/Walt_Disney_1946.JPG\",\"headline\":\"American film producer and businessman (1901-1966)\"}\\n(RLQ=window.RLQ||[]).push(function(){mw.config.set({\"wgBackendResponseTime\":267,\"wgHostname\":\"mw1329\"});});\\n'"
      ]
     },
     "execution_count": 22,
     "metadata": {},
     "output_type": "execute_result"
    }
   ],
   "source": [
    "#your code\n",
    "\n",
    "req = requests.get(url)\n",
    "soup = BeautifulSoup(req.content, 'html.parser')\n",
    "soup.text"
   ]
  },
  {
   "cell_type": "code",
   "execution_count": 25,
   "metadata": {
    "scrolled": true
   },
   "outputs": [
    {
     "name": "stdout",
     "output_type": "stream",
     "text": [
      "[['/wiki/File:Walt_Disney_1946.JPG', '/wiki/File:Walt_Disney_1942_signature.svg', '/wiki/File:Walt_Disney_envelope_ca._1921.jpg', '/wiki/File:Trolley_Troubles_poster.jpg', '/wiki/File:Walt_Disney_and_his_cartoon_creation_%22Mickey_Mouse%22_-_National_Board_of_Review_Magazine.jpg', '/wiki/File:Steamboat-willie.jpg', '/wiki/File:Walt_Disney_1935.jpg', '/wiki/File:Walt_Disney_Snow_white_1937_trailer_screenshot_(13).jpg', '/wiki/File:Disney_drawing_goofy.jpg', '/wiki/File:DisneySchiphol1951.jpg', '/wiki/File:WaltDisneyplansDisneylandDec1954.jpg', '/wiki/File:Walt_disney_portrait_right.jpg', '/wiki/File:Walt_Disney_Grave.JPG', '/wiki/File:Roy_O._Disney_with_Company_at_Press_Conference.jpg', '/wiki/File:Disney_Display_Case.JPG', '/wiki/File:Disney1968.jpg', '/wiki/File:The_Walt_Disney_Company_Logo.svg', '/wiki/File:Animation_disc.svg', '/wiki/File:P_vip.svg', '/wiki/File:Magic_Kingdom_castle.jpg', '/wiki/File:Video-x-generic.svg', '/wiki/File:Flag_of_Los_Angeles_County,_California.svg', '/wiki/File:Blank_television_set.svg', '/wiki/File:Flag_of_the_United_States.svg']]\n"
     ]
    }
   ],
   "source": [
    "image = soup.find_all(class_='image')\n",
    "\n",
    "image_list=[]\n",
    "\n",
    "for i in image:\n",
    "    \n",
    "    image_list.append(i.get(\"href\"))\n",
    "    \n",
    "print(image_list) "
   ]
  },
  {
   "cell_type": "markdown",
   "metadata": {},
   "source": [
    "#### Retrieve an arbitary Wikipedia page of \"Python\" and create a list of links on that page"
   ]
  },
  {
   "cell_type": "code",
   "execution_count": 34,
   "metadata": {},
   "outputs": [],
   "source": [
    "# This is the url you will scrape in this exercise\n",
    "url ='https://en.wikipedia.org/wiki/Python' "
   ]
  },
  {
   "cell_type": "code",
   "execution_count": 35,
   "metadata": {},
   "outputs": [
    {
     "data": {
      "text/plain": [
       "'\\n\\n\\n\\nPython - Wikipedia\\ndocument.documentElement.className=\"client-js\";RLCONF={\"wgBreakFrames\":!1,\"wgSeparatorTransformTable\":[\"\",\"\"],\"wgDigitTransformTable\":[\"\",\"\"],\"wgDefaultDateFormat\":\"dmy\",\"wgMonthNames\":[\"\",\"January\",\"February\",\"March\",\"April\",\"May\",\"June\",\"July\",\"August\",\"September\",\"October\",\"November\",\"December\"],\"wgRequestId\":\"5d3841ce-27b4-4bf5-885b-e5f7738fc639\",\"wgCSPNonce\":!1,\"wgCanonicalNamespace\":\"\",\"wgCanonicalSpecialPageName\":!1,\"wgNamespaceNumber\":0,\"wgPageName\":\"Python\",\"wgTitle\":\"Python\",\"wgCurRevisionId\":963092579,\"wgRevisionId\":963092579,\"wgArticleId\":46332325,\"wgIsArticle\":!0,\"wgIsRedirect\":!1,\"wgAction\":\"view\",\"wgUserName\":null,\"wgUserGroups\":[\"*\"],\"wgCategories\":[\"Disambiguation pages with short descriptions\",\"Short description is different from Wikidata\",\"All article disambiguation pages\",\"All disambiguation pages\",\"Animal common name disambiguation pages\",\"Disambiguation pages\"],\"wgPageContentLanguage\":\"en\",\"wgPageContentModel\":\"wikitext\",\"wgRelevantPageName\":\"Python\"\\n,\"wgRelevantArticleId\":46332325,\"wgIsProbablyEditable\":!0,\"wgRelevantPageIsProbablyEditable\":!0,\"wgRestrictionEdit\":[],\"wgRestrictionMove\":[],\"wgMediaViewerOnClick\":!0,\"wgMediaViewerEnabledByDefault\":!0,\"wgPopupsReferencePreviews\":!1,\"wgPopupsConflictsWithNavPopupGadget\":!1,\"wgVisualEditor\":{\"pageLanguageCode\":\"en\",\"pageLanguageDir\":\"ltr\",\"pageVariantFallbacks\":\"en\"},\"wgMFDisplayWikibaseDescriptions\":{\"search\":!0,\"nearby\":!0,\"watchlist\":!0,\"tagline\":!1},\"wgWMESchemaEditAttemptStepOversample\":!1,\"wgULSCurrentAutonym\":\"English\",\"wgNoticeProject\":\"wikipedia\",\"wgCentralAuthMobileDomain\":!1,\"wgEditSubmitButtonLabelPublish\":!0,\"wgULSPosition\":\"interlanguage\",\"wgWikibaseItemId\":\"Q747452\"};RLSTATE={\"ext.globalCssJs.user.styles\":\"ready\",\"site.styles\":\"ready\",\"noscript\":\"ready\",\"user.styles\":\"ready\",\"ext.globalCssJs.user\":\"ready\",\"user\":\"ready\",\"user.options\":\"loading\",\"skins.vector.styles.legacy\":\"ready\",\"mediawiki.toc.styles\":\"ready\",\\n\"ext.visualEditor.desktopArticleTarget.noscript\":\"ready\",\"ext.uls.interlanguage\":\"ready\",\"ext.wikimediaBadges\":\"ready\",\"wikibase.client.init\":\"ready\"};RLPAGEMODULES=[\"site\",\"mediawiki.page.ready\",\"mediawiki.toc\",\"skins.vector.legacy.js\",\"ext.gadget.ReferenceTooltips\",\"ext.gadget.charinsert\",\"ext.gadget.extra-toolbar-buttons\",\"ext.gadget.refToolbar\",\"ext.gadget.switcher\",\"ext.centralauth.centralautologin\",\"mmv.head\",\"mmv.bootstrap.autostart\",\"ext.popups\",\"ext.visualEditor.desktopArticleTarget.init\",\"ext.visualEditor.targetLoader\",\"ext.eventLogging\",\"ext.wikimediaEvents\",\"ext.navigationTiming\",\"ext.uls.compactlinks\",\"ext.uls.interface\",\"ext.cx.eventlogging.campaigns\",\"ext.quicksurveys.init\",\"ext.centralNotice.geoIP\",\"ext.centralNotice.startUp\"];\\n(RLQ=window.RLQ||[]).push(function(){mw.loader.implement(\"user.options@1hzgi\",function($,jQuery,require,module){/*@nomin*/mw.user.tokens.set({\"patrolToken\":\"+\\\\\\\\\",\"watchToken\":\"+\\\\\\\\\",\"csrfToken\":\"+\\\\\\\\\"});\\n});});\\n\\n\\n\\n\\n\\n\\n\\n\\n\\n\\n\\n\\n\\n\\n\\n\\n\\n\\n\\n\\n\\n\\n\\n\\n\\n\\n\\nPython\\n\\nFrom Wikipedia, the free encyclopedia\\n\\n\\n\\nJump to navigation\\nJump to search\\n\\n\\n\\nLook up Python\\xa0or python in Wiktionary, the free dictionary.\\n\\nPython may refer to:\\n\\n.mw-parser-output .tocright{float:right;clear:right;width:auto;background:none;padding:.5em 0 .8em 1.4em;margin-bottom:.5em}.mw-parser-output .tocright-clear-left{clear:left}.mw-parser-output .tocright-clear-both{clear:both}.mw-parser-output .tocright-clear-none{clear:none}Contents\\n\\n1 Snakes\\n2 Ancient Greece\\n3 Media and entertainment\\n4 Computing\\n5 Engineering\\n\\n5.1 Roller coasters\\n5.2 Vehicles\\n5.3 Weaponry\\n\\n\\n6 People\\n7 Other uses\\n8 See also\\n\\n\\n\\nSnakes[edit]\\nPythonidae, a family of nonvenomous snakes found in Africa, Asia, and Australia known as pythons\\nPython (genus), of nonvenomous Pythonidae found in Africa and Asia\\nAncient Greece[edit]\\nPython (mythology), a serpent, the earth-dragon of Delphi\\nPython of Aenus (4th-century BCE), student of Plato\\nPython (painter), (ca. 360-320 BCE) vase painter in Poseidonia\\nPython of Byzantium, orator, diplomat of Philip II of Macedon\\nPython of Catana, poet who accompanied Alexander the Great\\nMedia and entertainment[edit]\\nPython (film), a 2000 horror film by Richard Clabaugh\\nPythons 2, or Python II, a 2002 sequel to Python\\nThe Pythons, or Monty Python, a British comedy group\\nPython (Monty) Pictures, a company owned by the troupe\\'s surviving members\\nComputing[edit]\\nPython (programming language)\\nCPython, the reference implementation of the Python programming language\\nPython, a native code compiler for CMU Common Lisp\\nPython, the internal project name for the PERQ 3 computer workstation\\nEngineering[edit]\\nRoller coasters[edit]\\nPython (Busch Gardens Tampa Bay), a defunct roller coaster at Busch Gardens Africa\\nPython (Coney Island, Cincinnati, Ohio), a D.P.V. Rides designed Zyklon-style steel roller coaster that operated from 1996 to 1999 at Splash Zone Water Park but was relocated to Coney Island at the end of the 1999 season\\nPython (Efteling), a roller coaster in Efteling, the Netherlands\\nVehicles[edit]\\nPython (automobile maker), an Australian car company\\nPython (Ford prototype), a Ford prototype sports car\\nWeaponry[edit]\\nColt Python, a revolver\\nPython (missile), a series of Israeli air-to-air missiles\\nPython (nuclear primary), a gas-boosted fission primary used in thermonuclear weapons\\nPeople[edit]\\nPython Anghelo (1954–2014) Romanian graphic artist\\nOther uses[edit]\\nPYTHON, British nuclear war contingency plan\\nSee also[edit]\\nCython, a programming language superset of Python with a foreign function interface for invoking C/C++ routines\\nPyton, a Norwegian adult humour magazine\\n.mw-parser-output table.dmbox{clear:both;margin:0.9em 1em;border-top:1px solid #ccc;border-bottom:1px solid #ccc;background-color:transparent}\\n\\n\\n \\n Disambiguation page providing links to topics that could be referred to by the same search termThis disambiguation page lists  articles associated with the title Python.  If an internal link led you here, you may wish to change the link to point directly to the intended article. \\n\\n\\n\\n\\n\\n\\nRetrieved from \"https://en.wikipedia.org/w/index.php?title=Python&oldid=963092579\"\\nCategories: Disambiguation pagesHidden categories: Disambiguation pages with short descriptionsShort description is different from WikidataAll article disambiguation pagesAll disambiguation pagesAnimal common name disambiguation pages\\n\\n\\n\\n\\n\\n\\nNavigation menu\\n\\n\\n\\n\\nPersonal tools\\n\\n\\n\\n\\nNot logged inTalkContributionsCreate accountLog in\\n\\n\\n\\n\\n\\n\\nNamespaces\\n\\n\\n\\n\\nArticleTalk\\n\\n\\n\\n\\n\\n\\nVariants\\n\\n\\n\\n\\n\\n\\n\\n\\n\\n\\n\\n\\nViews\\n\\n\\n\\n\\nReadEditView history\\n\\n\\n\\n\\n\\n\\nMore\\n\\n\\n\\n\\n\\n\\n\\n\\n\\nSearch\\n\\n\\n\\n\\n\\n\\n\\n\\n\\n\\n\\n\\n\\n\\n\\n\\n\\n\\n\\nNavigation\\n\\n\\n\\n\\nMain pageContentsCurrent eventsRandom articleAbout WikipediaContact usDonateWikipedia store\\n\\n\\n\\n\\n\\nContribute\\n\\n\\n\\n\\nHelpCommunity portalRecent changesUpload file\\n\\n\\n\\n\\n\\nTools\\n\\n\\n\\n\\nWhat links hereRelated changesUpload fileSpecial pagesPermanent linkPage informationCite this pageWikidata item\\n\\n\\n\\n\\n\\nPrint/export\\n\\n\\n\\n\\nDownload as PDFPrintable version\\n\\n\\n\\n\\n\\nIn other projects\\n\\n\\n\\n\\nWikimedia Commons\\n\\n\\n\\n\\n\\nLanguages\\n\\n\\n\\n\\nAfrikaansAlemannischالعربيةAzərbaycancaবাংলাБеларускаяБългарскиČeštinaDanskDeutschEsperantoEuskaraفارسیFrançais한국어HrvatskiIdoBahasa IndonesiaInterlinguaÍslenskaItalianoעבריתქართულიKongoLatinaLëtzebuergeschMagyarमराठीNederlands日本語Norsk bokmålPolskiPortuguêsРусскийSlovenčinaСрпски / srpskiSrpskohrvatski / српскохрватскиSuomiSvenskaไทยTürkçeУкраїнськаاردوTiếng Việt中文\\nEdit links\\n\\n\\n\\n\\n\\n\\n This page was last edited on 17 June 2020, at 19:46\\xa0(UTC).\\nText is available under the Creative Commons Attribution-ShareAlike License;\\nadditional terms may apply.  By using this site, you agree to the Terms of Use and Privacy Policy. Wikipedia® is a registered trademark of the Wikimedia Foundation, Inc., a non-profit organization.\\n\\n\\nPrivacy policy\\nAbout Wikipedia\\nDisclaimers\\nContact Wikipedia\\nMobile view\\nDevelopers\\nStatistics\\nCookie statement\\n\\n\\n\\n\\n\\n\\n\\n(RLQ=window.RLQ||[]).push(function(){mw.config.set({\"wgPageParseReport\":{\"limitreport\":{\"cputime\":\"0.132\",\"walltime\":\"0.198\",\"ppvisitednodes\":{\"value\":1395,\"limit\":1000000},\"postexpandincludesize\":{\"value\":6430,\"limit\":2097152},\"templateargumentsize\":{\"value\":1614,\"limit\":2097152},\"expansiondepth\":{\"value\":16,\"limit\":40},\"expensivefunctioncount\":{\"value\":1,\"limit\":500},\"unstrip-depth\":{\"value\":0,\"limit\":20},\"unstrip-size\":{\"value\":626,\"limit\":5000000},\"entityaccesscount\":{\"value\":0,\"limit\":400},\"timingprofile\":[\"100.00%  170.614      1 -total\",\" 68.82%  117.422      1 Template:Disambiguation\",\" 54.93%   93.723      1 Template:Dmbox\",\" 21.16%   36.105      1 Template:Disambiguation_page_short_description\",\" 19.75%   33.694      1 Template:Short_description\",\" 18.82%   32.118      1 Template:Wiktionary\",\" 17.87%   30.493      3 Template:Main_other\",\" 16.55%   28.235      1 Template:Sister_project\",\" 14.52%   24.766      1 Template:Category_handler\",\" 14.06%   23.987      1 Template:Side_box\"]},\"scribunto\":{\"limitreport-timeusage\":{\"value\":\"0.028\",\"limit\":\"10.000\"},\"limitreport-memusage\":{\"value\":1257295,\"limit\":52428800}},\"cachereport\":{\"origin\":\"mw1349\",\"timestamp\":\"20200807014518\",\"ttl\":2592000,\"transientcontent\":false}}});});\\n{\"@context\":\"https:\\\\/\\\\/schema.org\",\"@type\":\"Article\",\"name\":\"Python\",\"url\":\"https:\\\\/\\\\/en.wikipedia.org\\\\/wiki\\\\/Python\",\"sameAs\":\"http:\\\\/\\\\/www.wikidata.org\\\\/entity\\\\/Q747452\",\"mainEntity\":\"http:\\\\/\\\\/www.wikidata.org\\\\/entity\\\\/Q747452\",\"author\":{\"@type\":\"Organization\",\"name\":\"Contributors to Wikimedia projects\"},\"publisher\":{\"@type\":\"Organization\",\"name\":\"Wikimedia Foundation, Inc.\",\"logo\":{\"@type\":\"ImageObject\",\"url\":\"https:\\\\/\\\\/www.wikimedia.org\\\\/static\\\\/images\\\\/wmf-hor-googpub.png\"}},\"datePublished\":\"2004-05-11T17:28:52Z\",\"dateModified\":\"2020-06-17T19:46:13Z\",\"headline\":\"Wikimedia disambiguation page\"}\\n(RLQ=window.RLQ||[]).push(function(){mw.config.set({\"wgBackendResponseTime\":132,\"wgHostname\":\"mw1372\"});});\\n'"
      ]
     },
     "execution_count": 35,
     "metadata": {},
     "output_type": "execute_result"
    }
   ],
   "source": [
    "#your code\n",
    "req = requests.get(url)\n",
    "soup = BeautifulSoup(req.content, 'html.parser')\n",
    "soup.text"
   ]
  },
  {
   "cell_type": "code",
   "execution_count": 48,
   "metadata": {},
   "outputs": [
    {
     "data": {
      "text/plain": [
       "['#Snakes',\n",
       " '#Ancient_Greece',\n",
       " '#Media_and_entertainment',\n",
       " '#Computing',\n",
       " '#Engineering',\n",
       " '#Roller_coasters',\n",
       " '#Vehicles',\n",
       " '#Weaponry',\n",
       " '#People',\n",
       " '#Other_uses',\n",
       " '#See_also',\n",
       " '/wiki/Pythonidae',\n",
       " '/wiki/Python_(genus)',\n",
       " '/wiki/Python_(mythology)',\n",
       " '/wiki/Python_of_Aenus',\n",
       " '/wiki/Python_(painter)',\n",
       " '/wiki/Python_of_Byzantium',\n",
       " '/wiki/Python_of_Catana',\n",
       " '/wiki/Python_(film)',\n",
       " '/wiki/Pythons_2',\n",
       " '/wiki/Monty_Python',\n",
       " '/wiki/Python_(Monty)_Pictures',\n",
       " '/wiki/Python_(programming_language)',\n",
       " '/wiki/CPython',\n",
       " '/wiki/CMU_Common_Lisp',\n",
       " '/wiki/PERQ#PERQ_3',\n",
       " '/wiki/Python_(Busch_Gardens_Tampa_Bay)',\n",
       " '/wiki/Python_(Coney_Island,_Cincinnati,_Ohio)',\n",
       " '/wiki/Python_(Efteling)',\n",
       " '/wiki/Python_(automobile_maker)',\n",
       " '/wiki/Python_(Ford_prototype)',\n",
       " '/wiki/Colt_Python',\n",
       " '/wiki/Python_(missile)',\n",
       " '/wiki/Python_(nuclear_primary)',\n",
       " '/wiki/Python_Anghelo',\n",
       " '/wiki/PYTHON',\n",
       " '/wiki/Cython',\n",
       " '/wiki/Pyton',\n",
       " '/wiki/Category:Disambiguation_pages',\n",
       " '/wiki/Category:Disambiguation_pages_with_short_descriptions',\n",
       " '/wiki/Category:Short_description_is_different_from_Wikidata',\n",
       " '/wiki/Category:All_article_disambiguation_pages',\n",
       " '/wiki/Category:All_disambiguation_pages',\n",
       " '/wiki/Category:Animal_common_name_disambiguation_pages',\n",
       " '/wiki/Special:MyTalk',\n",
       " '/wiki/Special:MyContributions',\n",
       " '/w/index.php?title=Special:CreateAccount&returnto=Python',\n",
       " '/w/index.php?title=Special:UserLogin&returnto=Python',\n",
       " '/wiki/Python',\n",
       " '/wiki/Talk:Python',\n",
       " '/wiki/Python',\n",
       " '/w/index.php?title=Python&action=edit',\n",
       " '/w/index.php?title=Python&action=history',\n",
       " '/wiki/Main_Page',\n",
       " '/wiki/Wikipedia:Contents',\n",
       " '/wiki/Portal:Current_events',\n",
       " '/wiki/Special:Random',\n",
       " '/wiki/Wikipedia:About',\n",
       " '//en.wikipedia.org/wiki/Wikipedia:Contact_us',\n",
       " 'https://donate.wikimedia.org/wiki/Special:FundraiserRedirector?utm_source=donate&utm_medium=sidebar&utm_campaign=C13_en.wikipedia.org&uselang=en',\n",
       " '//shop.wikimedia.org',\n",
       " '/wiki/Help:Contents',\n",
       " '/wiki/Wikipedia:Community_portal',\n",
       " '/wiki/Special:RecentChanges',\n",
       " '/wiki/Wikipedia:File_Upload_Wizard',\n",
       " '/wiki/Special:WhatLinksHere/Python',\n",
       " '/wiki/Special:RecentChangesLinked/Python',\n",
       " '/wiki/Wikipedia:File_Upload_Wizard',\n",
       " '/wiki/Special:SpecialPages',\n",
       " '/w/index.php?title=Python&oldid=963092579',\n",
       " '/w/index.php?title=Python&action=info',\n",
       " '/w/index.php?title=Special:CiteThisPage&page=Python&id=963092579&wpFormIdentifier=titleform',\n",
       " 'https://www.wikidata.org/wiki/Special:EntityPage/Q747452',\n",
       " '/w/index.php?title=Special:DownloadAsPdf&page=Python&action=show-download-screen',\n",
       " '/w/index.php?title=Python&printable=yes',\n",
       " 'https://commons.wikimedia.org/wiki/Category:Python',\n",
       " 'https://af.wikipedia.org/wiki/Python',\n",
       " 'https://als.wikipedia.org/wiki/Python',\n",
       " 'https://ar.wikipedia.org/wiki/%D8%A8%D8%A7%D9%8A%D8%AB%D9%88%D9%86',\n",
       " 'https://az.wikipedia.org/wiki/Python',\n",
       " 'https://bn.wikipedia.org/wiki/%E0%A6%AA%E0%A6%BE%E0%A6%87%E0%A6%A5%E0%A6%A8_(%E0%A6%A6%E0%A7%8D%E0%A6%AC%E0%A7%8D%E0%A6%AF%E0%A6%B0%E0%A7%8D%E0%A6%A5%E0%A6%A4%E0%A6%BE_%E0%A6%A8%E0%A6%BF%E0%A6%B0%E0%A6%B8%E0%A6%A8)',\n",
       " 'https://be.wikipedia.org/wiki/Python',\n",
       " 'https://bg.wikipedia.org/wiki/%D0%9F%D0%B8%D1%82%D0%BE%D0%BD_(%D0%BF%D0%BE%D1%8F%D1%81%D0%BD%D0%B5%D0%BD%D0%B8%D0%B5)',\n",
       " 'https://cs.wikipedia.org/wiki/Python_(rozcestn%C3%ADk)',\n",
       " 'https://da.wikipedia.org/wiki/Python',\n",
       " 'https://de.wikipedia.org/wiki/Python',\n",
       " 'https://eo.wikipedia.org/wiki/Pitono_(apartigilo)',\n",
       " 'https://eu.wikipedia.org/wiki/Python_(argipena)',\n",
       " 'https://fa.wikipedia.org/wiki/%D9%BE%D8%A7%DB%8C%D8%AA%D9%88%D9%86',\n",
       " 'https://fr.wikipedia.org/wiki/Python',\n",
       " 'https://ko.wikipedia.org/wiki/%ED%8C%8C%EC%9D%B4%EC%84%A0',\n",
       " 'https://hr.wikipedia.org/wiki/Python_(razdvojba)',\n",
       " 'https://io.wikipedia.org/wiki/Pitono',\n",
       " 'https://id.wikipedia.org/wiki/Python',\n",
       " 'https://ia.wikipedia.org/wiki/Python_(disambiguation)',\n",
       " 'https://is.wikipedia.org/wiki/Python_(a%C3%B0greining)',\n",
       " 'https://it.wikipedia.org/wiki/Python_(disambigua)',\n",
       " 'https://he.wikipedia.org/wiki/%D7%A4%D7%99%D7%AA%D7%95%D7%9F',\n",
       " 'https://ka.wikipedia.org/wiki/%E1%83%9E%E1%83%98%E1%83%97%E1%83%9D%E1%83%9C%E1%83%98_(%E1%83%9B%E1%83%A0%E1%83%90%E1%83%95%E1%83%90%E1%83%9A%E1%83%9B%E1%83%9C%E1%83%98%E1%83%A8%E1%83%95%E1%83%9C%E1%83%94%E1%83%9A%E1%83%9D%E1%83%95%E1%83%90%E1%83%9C%E1%83%98)',\n",
       " 'https://kg.wikipedia.org/wiki/Mboma_(nyoka)',\n",
       " 'https://la.wikipedia.org/wiki/Python_(discretiva)',\n",
       " 'https://lb.wikipedia.org/wiki/Python',\n",
       " 'https://hu.wikipedia.org/wiki/Python_(egy%C3%A9rtelm%C5%B1s%C3%ADt%C5%91_lap)',\n",
       " 'https://mr.wikipedia.org/wiki/%E0%A4%AA%E0%A4%BE%E0%A4%AF%E0%A4%A5%E0%A5%89%E0%A4%A8_(%E0%A4%86%E0%A4%9C%E0%A5%8D%E0%A4%9E%E0%A4%BE%E0%A4%B5%E0%A4%B2%E0%A5%80_%E0%A4%AD%E0%A4%BE%E0%A4%B7%E0%A4%BE)',\n",
       " 'https://nl.wikipedia.org/wiki/Python',\n",
       " 'https://ja.wikipedia.org/wiki/%E3%83%91%E3%82%A4%E3%82%BD%E3%83%B3',\n",
       " 'https://no.wikipedia.org/wiki/Pyton',\n",
       " 'https://pl.wikipedia.org/wiki/Pyton',\n",
       " 'https://pt.wikipedia.org/wiki/Python_(desambigua%C3%A7%C3%A3o)',\n",
       " 'https://ru.wikipedia.org/wiki/Python_(%D0%B7%D0%BD%D0%B0%D1%87%D0%B5%D0%BD%D0%B8%D1%8F)',\n",
       " 'https://sk.wikipedia.org/wiki/Python',\n",
       " 'https://sr.wikipedia.org/wiki/%D0%9F%D0%B8%D1%82%D0%BE%D0%BD_(%D0%B2%D0%B8%D1%88%D0%B5%D0%B7%D0%BD%D0%B0%D1%87%D0%BD%D0%B0_%D0%BE%D0%B4%D1%80%D0%B5%D0%B4%D0%BD%D0%B8%D1%86%D0%B0)',\n",
       " 'https://sh.wikipedia.org/wiki/Python',\n",
       " 'https://fi.wikipedia.org/wiki/Python',\n",
       " 'https://sv.wikipedia.org/wiki/Pyton',\n",
       " 'https://th.wikipedia.org/wiki/%E0%B9%84%E0%B8%9E%E0%B8%97%E0%B8%AD%E0%B8%99',\n",
       " 'https://tr.wikipedia.org/wiki/Python',\n",
       " 'https://uk.wikipedia.org/wiki/%D0%9F%D1%96%D1%84%D0%BE%D0%BD',\n",
       " 'https://ur.wikipedia.org/wiki/%D9%BE%D8%A7%D8%A6%DB%8C%D8%AA%DA%BE%D9%88%D9%86',\n",
       " 'https://vi.wikipedia.org/wiki/Python',\n",
       " 'https://zh.wikipedia.org/wiki/Python_(%E6%B6%88%E6%AD%A7%E4%B9%89)',\n",
       " '//en.wikipedia.org/wiki/Wikipedia:Text_of_Creative_Commons_Attribution-ShareAlike_3.0_Unported_License',\n",
       " 'https://foundation.wikimedia.org/wiki/Privacy_policy',\n",
       " '/wiki/Wikipedia:About',\n",
       " '/wiki/Wikipedia:General_disclaimer',\n",
       " '//en.wikipedia.org/wiki/Wikipedia:Contact_us',\n",
       " '//en.m.wikipedia.org/w/index.php?title=Python&mobileaction=toggle_view_mobile',\n",
       " 'https://www.mediawiki.org/wiki/Special:MyLanguage/How_to_contribute',\n",
       " 'https://stats.wikimedia.org/#/en.wikipedia.org',\n",
       " 'https://foundation.wikimedia.org/wiki/Cookie_statement',\n",
       " 'https://wikimediafoundation.org/',\n",
       " 'https://www.mediawiki.org/']"
      ]
     },
     "execution_count": 48,
     "metadata": {},
     "output_type": "execute_result"
    }
   ],
   "source": [
    "links = soup.find_all('li')\n",
    "\n",
    "python_link = []\n",
    "\n",
    "for i in links:\n",
    "    try:\n",
    "        python_link.append(i.find(\"a\")[\"href\"])\n",
    "    except:\n",
    "        continue\n",
    "        \n",
    "python_link"
   ]
  },
  {
   "cell_type": "markdown",
   "metadata": {},
   "source": [
    "#### Number of Titles that have changed in the United States Code since its last release point "
   ]
  },
  {
   "cell_type": "code",
   "execution_count": 49,
   "metadata": {},
   "outputs": [],
   "source": [
    "# This is the url you will scrape in this exercise\n",
    "url = 'http://uscode.house.gov/download/download.shtml'"
   ]
  },
  {
   "cell_type": "code",
   "execution_count": 50,
   "metadata": {},
   "outputs": [
    {
     "data": {
      "text/plain": [
       "\"\\n\\n\\n\\n\\n\\n\\n\\n\\n\\n\\n\\n            This page is better viewed with a JavaScript enabled browser.\\n        \\n\\n\\n\\n\\n\\n                    Home\\n\\n\\n\\n \\n\\n\\n\\n\\n\\n\\t                    Search & Browse\\n\\t                \\n\\n\\n\\n \\n\\n\\n\\n\\n\\n\\t                    Currency and Updating\\n\\t                \\n\\n\\n\\n \\n\\n\\n\\n\\n\\n\\t                    Classification Tables\\n\\t                \\n\\n\\n\\n \\n\\n\\n\\n\\n\\n\\t                    Popular Name Tool\\n\\t                \\n\\n\\n\\n \\n\\n\\n\\n\\n\\n\\t                    Other OLRC Tables and Tools\\n\\t                \\n\\n\\n\\n \\n\\n\\n\\n\\n\\n\\t                    Cite Checker\\n\\t                \\n\\n\\n\\n \\n\\n\\n\\n\\n\\n\\t                    Table III - Statutes at Large\\n\\t                \\n\\n\\n\\n \\n\\n\\n\\n\\n\\n\\t                    Other Tables\\n\\t                \\n\\n\\n\\n \\n\\n\\n\\n\\n\\n\\t                    Understanding the Code\\n\\t                \\n\\n\\n\\n \\n\\n\\n\\n\\n\\n\\t                    About the Code and Website\\n\\t                \\n\\n\\n\\n \\n\\n\\n\\n\\n\\n\\t                    About Classification\\n\\t                \\n\\n\\n\\n \\n\\n\\n\\n\\n\\n\\t                    Detailed Guide to the Code\\n\\t                \\n\\n\\n\\n \\n\\n\\n\\n\\n\\n\\t                    FAQ and Glossary\\n\\t                \\n\\n\\n\\n \\n\\n\\n\\n\\n\\n\\t                    Positive Law Codification\\n\\t                \\n\\n\\n\\n \\n\\n\\n\\n\\n\\n\\t                    Editorial Reclassification\\n\\t                \\n\\n\\n\\n \\n\\n\\n\\n\\n\\n\\t                    Downloads\\n\\t                \\n\\n\\n\\n \\n\\n\\n\\n\\n\\n\\t                    Other Legislative Resources\\n\\t                \\n\\n\\n\\n \\n\\n\\n\\n\\n\\n\\t                    CONGRESS.GOV\\n\\t                \\n\\n\\n\\n \\n\\n\\n\\n\\n\\n\\t                    govinfo\\n\\t                \\n\\n\\n\\n \\n\\n\\n\\n\\n\\n\\t                    HOLC Statutory Compilations\\n\\t                \\n\\n\\n\\n<!--\\n           menu_init('DOWNLOADS');\\n        -->\\n\\n\\n\\nDOWNLOAD THE UNITED STATES CODE\\n\\n\\n  \\n  div.pageframe{\\n   border-style:solid;\\n   border-width:5px;\\n   padding:3px;\\n   border-color:rgb(187, 154, 74);\\n   width:800px;\\n   overflow: auto;\\n  }\\n\\n\\n\\n  div.uscitemlist{\\n   padding: 15px;\\n   width:750px;\\n  }\\n\\n div.uscitem{\\n  width: 750px;\\n  overflow:hidden;\\n }\\n \\n\\t div.uscitemblank{\\n  width: 750px;\\n  overflow:hidden;\\n }\\n\\tdiv.uscitem:hover{\\n\\t\\tbackground-color:rgb(225, 210, 174); \\n\\t}\\n\\t \\n  div.usctitle{\\n   float:left;\\n   text-align:left;\\n   text-indent: -70px;\\n   padding-left: 70px;\\n  }\\n\\n  \\n  div.usctitlechanged{\\n   float:left;\\n   text-align:left;\\n   text-indent: -70px;\\n   padding-left: 70px;\\n   font-weight: bold;\\n  }\\n  \\n  \\n    div.usctitleminoreditorialchange{\\n   float:left;\\n   text-align:left;\\n   text-indent: -70px;\\n   padding-left: 70px;\\n   color: Grey;\\n   font-weight: bold;\\n  }\\n\\n\\n\\n\\t\\t\\n  div.usctitle#alltitles{\\n   float:left;\\n   text-align:left;\\n   text-indent: -70px;\\n   padding-left: 70px;\\n  }\\n\\n\\t\\t\\n\\n  div.usctitleappendix{\\n   float:left;\\n   text-align:left;\\n   padding-left:70px;\\n   font-style:italic;\\n  }\\n\\n\\n  div.usctitleappendixchanged{\\n   float:left;\\n   text-align:left;\\n   padding-left:70px;\\n   font-style:italic;\\n   font-weight: bold;\\n  }\\n\\n  div.itemcurrency{\\n   display:none;\\n  }\\n\\n\\n  div.usctitleheading{\\n   float:left;\\n   width:350px;\\n   text-align:left;\\n   text-indent: -70px;\\n   padding-left: 70px;\\n   font-size: smaller;\\n   text-decoration: underline;\\n  }\\n\\n\\t\\t\\n\\n  div.currencyheading{\\n   display:none;\\n  }\\n\\n\\n\\n  div.itemdownloadlinks{\\n   float:right;\\n   text-align:right;\\n   font-size: smaller;\\n  }\\n\\n\\n  div.schemacss{\\n   padding-left:30px;\\n   font-style:italic;\\n   font-size: 90%;\\n  }\\n\\n\\t\\t\\n  \\n  a{\\n   color:rgb(111, 11, 11);\\n  }\\n\\n  a.fn{\\n   color:rgb(111, 11, 11);\\n   text-decoration: none;\\n  }\\n\\n\\n  span.deadlink{\\n   color:grey;\\n   text-decoration: underline;\\n   cursor: default;\\n  }\\n\\n\\n\\n  h3.releasepointinformation{\\n   text-indent: 10px;\\n   font-style: italic;\\n   font-size: larger;\\n   margin-bottom: 0px;\\n  }\\n\\n\\t\\t\\n\\n   h3.releasepointinformationline2{\\n\\t\\t\\t\\ttext-indent: 10px;\\n\\t\\t\\t\\tfont-weight: normal;\\n\\t\\t\\t\\tcolor: black;\\n\\t\\t\\t\\tmargin-top: 0px;\\n\\t\\t}\\n\\n\\t\\t\\n\\n\\t\\th4.inpageheader{\\n\\t\\t text-indent: 10px;\\n\\t\\t margin-bottom: 0px;\\n\\t\\t padding-bottom: 0px;\\n\\t\\t}\\n\\n\\n\\n\\t\\tp.uscxmlresources{\\n\\t\\t padding-top: 0px;\\n\\t\\t margin-top: 15px;\\n\\t\\t text-indent: 0px;\\n\\t\\t}\\n\\n\\t\\t\\n\\n\\t\\tp.releasepointdescription{\\n\\t\\t\\ttext-indent: 0px;\\n   margin-top: 15px;\\t\\t\\t\\n\\t\\t}\\n\\n\\n\\n\\t\\thr.textbreak{\\n\\t\\t\\twidth: 400px;\\n\\t\\t}\\n\\n\\t\\t\\n\\n\\nCurrent Release Point\\nPublic Law 116-158 (08/14/2020)\\n\\nEach update of the United States Code is a release point. This page provides downloadable files for the current release point. All files are current through Public Law 116-158 (08/14/2020). Titles in bold have been changed since the last release point.\\n\\nA User Guide and the USLM Schema and stylesheet are provided for the United States Code in XML. A stylesheet is provided for the XHTML. PCC files are text files containing GPO photocomposition codes (i.e., locators).\\n\\nInformation about the currency of United States Code titles is available on the Currency page.  Files for prior release points are available on the Prior Release Points page. Older materials are available on the Annual Historical Archives page.\\n\\n\\n\\n\\n\\n\\n          All titles in the format selected compressed into a zip archive.\\n\\n        \\n\\n\\n          \\xa0\\n\\n        \\n\\n[XML]\\xa0[XHTML]\\xa0[PCC]\\xa0[PDF]\\n\\n\\n\\n\\n\\n             \\xa0\\n\\n\\t        \\n\\n\\n\\t          \\xa0\\n\\n\\t        \\n\\n\\n          \\xa0\\n\\n\\t        \\n\\n\\n\\n\\n             Individual Titles \\n\\n\\t        \\n\\n\\n\\t          Current Through\\n\\n\\t        \\n\\n\\n          \\xa0\\n\\n\\t        \\n\\n\\n\\n\\n          Title 1 - General Provisions ٭\\n\\n\\n\\n          116-158\\n\\n        \\n\\n[XML]\\xa0[XHTML]\\xa0[PCC]\\xa0[PDF]\\n\\n\\n\\n\\n\\n          Title 2 - The Congress\\n\\n        \\n\\n\\n          116-158\\n\\n        \\n\\n[XML]\\xa0[XHTML]\\xa0[PCC]\\xa0[PDF]\\n\\n\\n\\n\\n\\n          Title 3 - The President ٭\\n\\n\\n\\n          116-158\\n\\n        \\n\\n[XML]\\xa0[XHTML]\\xa0[PCC]\\xa0[PDF]\\n\\n\\n\\n\\n\\n          Title 4 - Flag and Seal, Seat of Government, and the States ٭\\n\\n\\n\\n          116-158\\n\\n        \\n\\n[XML]\\xa0[XHTML]\\xa0[PCC]\\xa0[PDF]\\n\\n\\n\\n\\n\\n          Title 5 - Government Organization and Employees ٭\\n\\n\\n\\n          116-158\\n\\n        \\n\\n[XML]\\xa0[XHTML]\\xa0[PCC]\\xa0[PDF]\\n\\n\\n\\n\\n\\n          Appendix\\n\\n        \\n\\n\\n          116-158\\n\\n        \\n\\n[XML]\\xa0[XHTML]\\xa0[PCC]\\xa0[PDF]\\n\\n\\n\\n\\n\\n          Title 6 - Domestic Security\\n\\n        \\n\\n\\n          116-158\\n\\n        \\n\\n[XML]\\xa0[XHTML]\\xa0[PCC]\\xa0[PDF]\\n\\n\\n\\n\\n\\n          Title 7 - Agriculture\\n\\n        \\n\\n\\n          116-158\\n\\n        \\n\\n[XML]\\xa0[XHTML]\\xa0[PCC]\\xa0[PDF]\\n\\n\\n\\n\\n\\n          Title 8 - Aliens and Nationality\\n\\n        \\n\\n\\n          116-158\\n\\n        \\n\\n[XML]\\xa0[XHTML]\\xa0[PCC]\\xa0[PDF]\\n\\n\\n\\n\\n\\n          Title 9 - Arbitration ٭\\n\\n\\n\\n          116-158\\n\\n        \\n\\n[XML]\\xa0[XHTML]\\xa0[PCC]\\xa0[PDF]\\n\\n\\n\\n\\n\\n          Title 10 - Armed Forces ٭\\n\\n\\n\\n          116-158\\n\\n        \\n\\n[XML]\\xa0[XHTML]\\xa0[PCC]\\xa0[PDF]\\n\\n\\n\\n\\n\\n          Title 11 - Bankruptcy ٭\\n\\n\\n\\n          116-158\\n\\n        \\n\\n[XML]\\xa0[XHTML]\\xa0[PCC]\\xa0[PDF]\\n\\n\\n\\n\\n\\n          Appendix\\n\\n        \\n\\n\\n          116-158\\n\\n        \\n\\n[XML]\\xa0[XHTML]\\xa0[PCC]\\xa0[PDF]\\n\\n\\n\\n\\n\\n          Title 12 - Banks and Banking\\n\\n        \\n\\n\\n          116-158\\n\\n        \\n\\n[XML]\\xa0[XHTML]\\xa0[PCC]\\xa0[PDF]\\n\\n\\n\\n\\n\\n          Title 13 - Census ٭\\n\\n\\n\\n          116-158\\n\\n        \\n\\n[XML]\\xa0[XHTML]\\xa0[PCC]\\xa0[PDF]\\n\\n\\n\\n\\n\\n          Title 14 - Coast Guard ٭\\n\\n\\n\\n          116-158\\n\\n        \\n\\n[XML]\\xa0[XHTML]\\xa0[PCC]\\xa0[PDF]\\n\\n\\n\\n\\n\\n          Title 15 - Commerce and Trade\\n\\n        \\n\\n\\n          116-158\\n\\n        \\n\\n[XML]\\xa0[XHTML]\\xa0[PCC]\\xa0[PDF]\\n\\n\\n\\n\\n\\n          Title 16 - Conservation\\n\\n        \\n\\n\\n          116-158\\n\\n        \\n\\n[XML]\\xa0[XHTML]\\xa0[PCC]\\xa0[PDF]\\n\\n\\n\\n\\n\\n          Title 17 - Copyrights ٭\\n\\n\\n\\n          116-158\\n\\n        \\n\\n[XML]\\xa0[XHTML]\\xa0[PCC]\\xa0[PDF]\\n\\n\\n\\n\\n\\n          Title 18 - Crimes and Criminal Procedure ٭\\n\\n\\n\\n          116-158\\n\\n        \\n\\n[XML]\\xa0[XHTML]\\xa0[PCC]\\xa0[PDF]\\n\\n\\n\\n\\n\\n          Appendix\\n\\n        \\n\\n\\n          116-158\\n\\n        \\n\\n[XML]\\xa0[XHTML]\\xa0[PCC]\\xa0[PDF]\\n\\n\\n\\n\\n\\n          Title 19 - Customs Duties\\n\\n        \\n\\n\\n          116-158\\n\\n        \\n\\n[XML]\\xa0[XHTML]\\xa0[PCC]\\xa0[PDF]\\n\\n\\n\\n\\n\\n          Title 20 - Education\\n\\n        \\n\\n\\n          116-158\\n\\n        \\n\\n[XML]\\xa0[XHTML]\\xa0[PCC]\\xa0[PDF]\\n\\n\\n\\n\\n\\n          Title 21 - Food and Drugs\\n\\n        \\n\\n\\n          116-158\\n\\n        \\n\\n[XML]\\xa0[XHTML]\\xa0[PCC]\\xa0[PDF]\\n\\n\\n\\n\\n\\n          Title 22 - Foreign Relations and Intercourse\\n\\n        \\n\\n\\n          116-158\\n\\n        \\n\\n[XML]\\xa0[XHTML]\\xa0[PCC]\\xa0[PDF]\\n\\n\\n\\n\\n\\n          Title 23 - Highways ٭\\n\\n\\n\\n          116-158\\n\\n        \\n\\n[XML]\\xa0[XHTML]\\xa0[PCC]\\xa0[PDF]\\n\\n\\n\\n\\n\\n          Title 24 - Hospitals and Asylums\\n\\n        \\n\\n\\n          116-158\\n\\n        \\n\\n[XML]\\xa0[XHTML]\\xa0[PCC]\\xa0[PDF]\\n\\n\\n\\n\\n\\n          Title 25 - Indians\\n\\n        \\n\\n\\n          116-158\\n\\n        \\n\\n[XML]\\xa0[XHTML]\\xa0[PCC]\\xa0[PDF]\\n\\n\\n\\n\\n\\n          Title 26 - Internal Revenue Code\\n\\n        \\n\\n\\n          116-158\\n\\n        \\n\\n[XML]\\xa0[XHTML]\\xa0[PCC]\\xa0[PDF]\\n\\n\\n\\n\\n\\n          Title 27 - Intoxicating Liquors\\n\\n        \\n\\n\\n          116-158\\n\\n        \\n\\n[XML]\\xa0[XHTML]\\xa0[PCC]\\xa0[PDF]\\n\\n\\n\\n\\n\\n          Title 28 - Judiciary and Judicial Procedure ٭\\n\\n\\n\\n          116-158\\n\\n        \\n\\n[XML]\\xa0[XHTML]\\xa0[PCC]\\xa0[PDF]\\n\\n\\n\\n\\n\\n          Appendix\\n\\n        \\n\\n\\n          116-158\\n\\n        \\n\\n[XML]\\xa0[XHTML]\\xa0[PCC]\\xa0[PDF]\\n\\n\\n\\n\\n\\n          Title 29 - Labor\\n\\n        \\n\\n\\n          116-158\\n\\n        \\n\\n[XML]\\xa0[XHTML]\\xa0[PCC]\\xa0[PDF]\\n\\n\\n\\n\\n\\n          Title 30 - Mineral Lands and Mining\\n\\n        \\n\\n\\n          116-158\\n\\n        \\n\\n[XML]\\xa0[XHTML]\\xa0[PCC]\\xa0[PDF]\\n\\n\\n\\n\\n\\n          Title 31 - Money and Finance ٭\\n\\n\\n\\n          116-158\\n\\n        \\n\\n[XML]\\xa0[XHTML]\\xa0[PCC]\\xa0[PDF]\\n\\n\\n\\n\\n\\n          Title 32 - National Guard ٭\\n\\n\\n\\n          116-158\\n\\n        \\n\\n[XML]\\xa0[XHTML]\\xa0[PCC]\\xa0[PDF]\\n\\n\\n\\n\\n\\n          Title 33 - Navigation and Navigable Waters\\n\\n        \\n\\n\\n          116-158\\n\\n        \\n\\n[XML]\\xa0[XHTML]\\xa0[PCC]\\xa0[PDF]\\n\\n\\n\\n\\n\\n          Title 34 - Crime Control and Law Enforcement\\n\\n        \\n\\n\\n          116-158\\n\\n        \\n\\n[XML]\\xa0[XHTML]\\xa0[PCC]\\xa0[PDF]\\n\\n\\n\\n\\n\\n          Title 35 - Patents ٭\\n\\n\\n\\n          116-158\\n\\n        \\n\\n[XML]\\xa0[XHTML]\\xa0[PCC]\\xa0[PDF]\\n\\n\\n\\n\\n\\n          Title 36 - Patriotic and National Observances, Ceremonies, and Organizations ٭\\n\\n\\n\\n          116-158\\n\\n        \\n\\n[XML]\\xa0[XHTML]\\xa0[PCC]\\xa0[PDF]\\n\\n\\n\\n\\n\\n          Title 37 - Pay and Allowances of the Uniformed Services ٭\\n\\n\\n\\n          116-158\\n\\n        \\n\\n[XML]\\xa0[XHTML]\\xa0[PCC]\\xa0[PDF]\\n\\n\\n\\n\\n\\n          Title 38 - Veterans' Benefits ٭\\n\\n\\n\\n          116-158\\n\\n        \\n\\n[XML]\\xa0[XHTML]\\xa0[PCC]\\xa0[PDF]\\n\\n\\n\\n\\n\\n          Title 39 - Postal Service ٭\\n\\n\\n\\n          116-158\\n\\n        \\n\\n[XML]\\xa0[XHTML]\\xa0[PCC]\\xa0[PDF]\\n\\n\\n\\n\\n\\n          Title 40 - Public Buildings, Property, and Works ٭\\n\\n\\n\\n          116-158\\n\\n        \\n\\n[XML]\\xa0[XHTML]\\xa0[PCC]\\xa0[PDF]\\n\\n\\n\\n\\n\\n          Title 41 - Public Contracts ٭\\n\\n\\n\\n          116-158\\n\\n        \\n\\n[XML]\\xa0[XHTML]\\xa0[PCC]\\xa0[PDF]\\n\\n\\n\\n\\n\\n          Title 42 - The Public Health and Welfare\\n\\n        \\n\\n\\n          116-158\\n\\n        \\n\\n[XML]\\xa0[XHTML]\\xa0[PCC]\\xa0[PDF]\\n\\n\\n\\n\\n\\n          Title 43 - Public Lands\\n\\n        \\n\\n\\n          116-158\\n\\n        \\n\\n[XML]\\xa0[XHTML]\\xa0[PCC]\\xa0[PDF]\\n\\n\\n\\n\\n\\n          Title 44 - Public Printing and Documents ٭\\n\\n\\n\\n          116-158\\n\\n        \\n\\n[XML]\\xa0[XHTML]\\xa0[PCC]\\xa0[PDF]\\n\\n\\n\\n\\n\\n          Title 45 - Railroads\\n\\n        \\n\\n\\n          116-158\\n\\n        \\n\\n[XML]\\xa0[XHTML]\\xa0[PCC]\\xa0[PDF]\\n\\n\\n\\n\\n\\n          Title 46 - Shipping ٭\\n\\n\\n\\n          116-158\\n\\n        \\n\\n[XML]\\xa0[XHTML]\\xa0[PCC]\\xa0[PDF]\\n\\n\\n\\n\\n\\n          Title 47 - Telecommunications\\n\\n        \\n\\n\\n          116-158\\n\\n        \\n\\n[XML]\\xa0[XHTML]\\xa0[PCC]\\xa0[PDF]\\n\\n\\n\\n\\n\\n          Title 48 - Territories and Insular Possessions\\n\\n        \\n\\n\\n          116-158\\n\\n        \\n\\n[XML]\\xa0[XHTML]\\xa0[PCC]\\xa0[PDF]\\n\\n\\n\\n\\n\\n          Title 49 - Transportation ٭\\n\\n\\n\\n          116-158\\n\\n        \\n\\n[XML]\\xa0[XHTML]\\xa0[PCC]\\xa0[PDF]\\n\\n\\n\\n\\n\\n          Title 50 - War and National Defense\\n\\n        \\n\\n\\n          116-158\\n\\n        \\n\\n[XML]\\xa0[XHTML]\\xa0[PCC]\\xa0[PDF]\\n\\n\\n\\n\\n\\n          Appendix\\n\\n        \\n\\n\\n          116-158\\n\\n        \\n\\n[XML]\\xa0[XHTML]\\xa0[PCC]\\xa0[PDF]\\n\\n\\n\\n\\n\\n          Title 51 - National and Commercial Space Programs ٭\\n\\n\\n\\n          116-158\\n\\n        \\n\\n[XML]\\xa0[XHTML]\\xa0[PCC]\\xa0[PDF]\\n\\n\\n\\n\\n\\n          Title 52 - Voting and Elections\\n\\n        \\n\\n\\n          116-158\\n\\n        \\n\\n[XML]\\xa0[XHTML]\\xa0[PCC]\\xa0[PDF]\\n\\n\\n\\n\\n\\n          Title 53 [Reserved]\\n\\n        \\n\\n\\n          116-158\\n\\n        \\n\\n[XML]\\xa0[XHTML]\\xa0[PCC]\\xa0[PDF]\\n\\n\\n\\n\\n\\n          Title 54 - National Park Service and Related Programs ٭\\n\\n\\n\\n          116-158\\n\\n        \\n\\n[XML]\\xa0[XHTML]\\xa0[PCC]\\xa0[PDF]\\n\\n\\n\\n\\n\\n٭ This title has been enacted as positive law. However, any Appendix to this title has not been enacted as part of the title.\\n\\n\\n\\n\\n\\n\\n\\n\\n\\n\\n\\n\\n\\n\\n\\nAbout the Office\\xa0\\n                    \\xa0 \\xa0 \\xa0 Privacy Policy\\xa0 \\xa0 \\xa0\\n                    \\xa0 Sitemap\\n\\n\\n\\n\\n\\n\\n\\n\\n\\n\\n\\n\\n\\n\""
      ]
     },
     "execution_count": 50,
     "metadata": {},
     "output_type": "execute_result"
    }
   ],
   "source": [
    "#your code\n",
    "r = requests.get(url)\n",
    "soup = BeautifulSoup(r.content, 'html.parser')\n",
    "soup.text"
   ]
  },
  {
   "cell_type": "code",
   "execution_count": 90,
   "metadata": {},
   "outputs": [
    {
     "name": "stdout",
     "output_type": "stream",
     "text": [
      "['Title 1 - General Provisions ٭', 'Title 2 - The Congress', 'Title 3 - The President ٭', 'Title 4 - Flag and Seal, Seat of Government, and the States ٭', 'Title 5 - Government Organization and Employees ٭', 'Title 6 - Domestic Security', 'Title 7 - Agriculture', 'Title 8 - Aliens and Nationality', 'Title 9 - Arbitration ٭', 'Title 10 - Armed Forces ٭', 'Title 11 - Bankruptcy ٭', 'Title 12 - Banks and Banking', 'Title 13 - Census ٭', 'Title 14 - Coast Guard ٭', 'Title 15 - Commerce and Trade', 'Title 16 - Conservation', 'Title 17 - Copyrights ٭', 'Title 18 - Crimes and Criminal Procedure ٭', 'Title 19 - Customs Duties', 'Title 20 - Education', 'Title 21 - Food and Drugs', 'Title 22 - Foreign Relations and Intercourse', 'Title 23 - Highways ٭', 'Title 24 - Hospitals and Asylums', 'Title 25 - Indians', 'Title 26 - Internal Revenue Code', 'Title 27 - Intoxicating Liquors', 'Title 28 - Judiciary and Judicial Procedure ٭', 'Title 29 - Labor', 'Title 30 - Mineral Lands and Mining', 'Title 31 - Money and Finance ٭', 'Title 32 - National Guard ٭', 'Title 33 - Navigation and Navigable Waters', 'Title 35 - Patents ٭', 'Title 36 - Patriotic and National Observances, Ceremonies, and Organizations ٭', 'Title 37 - Pay and Allowances of the Uniformed Services ٭', \"Title 38 - Veterans' Benefits ٭\", 'Title 39 - Postal Service ٭', 'Title 40 - Public Buildings, Property, and Works ٭', 'Title 41 - Public Contracts ٭', 'Title 43 - Public Lands', 'Title 44 - Public Printing and Documents ٭', 'Title 45 - Railroads', 'Title 46 - Shipping ٭', 'Title 47 - Telecommunications', 'Title 48 - Territories and Insular Possessions', 'Title 49 - Transportation ٭', 'Title 51 - National and Commercial Space Programs ٭', 'Title 52 - Voting and Elections', 'Title 53 [Reserved]', 'Title 54 - National Park Service and Related Programs ٭']\n"
     ]
    }
   ],
   "source": [
    "titles = soup.find_all('div', attrs={'class':'usctitle'})\n",
    "\n",
    "changed = []\n",
    "\n",
    "for i in titles:\n",
    "    changed.append(i.text.strip())\n",
    "    \n",
    "print(changed[2:])\n",
    "                   "
   ]
  },
  {
   "cell_type": "code",
   "execution_count": null,
   "metadata": {},
   "outputs": [],
   "source": []
  },
  {
   "cell_type": "markdown",
   "metadata": {},
   "source": [
    "#### A Python list with the top ten FBI's Most Wanted names "
   ]
  },
  {
   "cell_type": "code",
   "execution_count": 157,
   "metadata": {},
   "outputs": [],
   "source": [
    "# This is the url you will scrape in this exercise\n",
    "url = 'https://www.fbi.gov/wanted/topten'\n"
   ]
  },
  {
   "cell_type": "code",
   "execution_count": 422,
   "metadata": {},
   "outputs": [
    {
     "name": "stdout",
     "output_type": "stream",
     "text": [
      "<Response [200]>\n",
      "b'<!DOCTYPE html>\\n<html dir=\"ltr\" lang=\"en\">\\n<meta charset=\"utf-8\" />\\n<meta name=\"viewport\" content=\"width=device-width,initial-scale=1,maximum-scale=1,user-scalable=0,viewport-fit=cover\" />\\n<link rel=\"preconnect\" href=\"//abs.twimg.com\" />\\n<link rel=\"preconnect\" href=\"//api.twitter.com\" />\\n<link rel=\"preconnect\" href=\"//pbs.twimg.com\" />\\n<link rel=\"preconnect\" href=\"//t.co\" />\\n<link rel=\"preconnect\" href=\"//video.twimg.com\" />\\n<link rel=\"dns-prefetch\" href=\"//abs.twimg.com\" />\\n<link rel=\"dns-prefetch\" href=\"//api.twitter.com\" />\\n<link rel=\"dns-prefetch\" href=\"//pbs.twimg.com\" />\\n<link rel=\"dns-prefetch\" href=\"//t.co\" />\\n<link rel=\"dns-prefetch\" href=\"//video.twimg.com\" />\\n<link rel=\"preload\" as=\"script\" crossorigin=\"anonymous\" href=\"https://abs.twimg.com/responsive-web/client-web-legacy/polyfills.540eeb25.js\" nonce=\"YWViYWQ3ZTMtMmFmZC00NzBkLTkxNDUtMDcwNTlkZjZmYTdi\" />\\n<link rel=\"preload\" as=\"script\" crossorigin=\"anonymous\" href=\"https://abs.twimg.com/responsive-web/client-web-legacy/vendors~main.55c72055.js\" nonce=\"YWViYWQ3ZTMtMmFmZC00NzBkLTkxNDUtMDcwNTlkZjZmYTdi\" />\\n<link rel=\"preload\" as=\"script\" crossorigin=\"anonymous\" href=\"https://abs.twimg.com/responsive-web/client-web-legacy/i18n/en.0b3eaef5.js\" nonce=\"YWViYWQ3ZTMtMmFmZC00NzBkLTkxNDUtMDcwNTlkZjZmYTdi\" />\\n<link rel=\"preload\" as=\"script\" crossorigin=\"anonymous\" href=\"https://abs.twimg.com/responsive-web/client-web-legacy/main.41f91f35.js\" nonce=\"YWViYWQ3ZTMtMmFmZC00NzBkLTkxNDUtMDcwNTlkZjZmYTdi\" />\\n<meta property=\"fb:app_id\" content=\"2231777543\" />\\n<meta property=\"og:site_name\" content=\"Twitter\" />\\n<meta name=\"google-site-verification\" content=\"V0yIS0Ec_o3Ii9KThrCoMCkwTYMMJ_JYx_RSaGhFYvw\" />\\n<link rel=\"manifest\" href=\"/manifest.json\" crossOrigin=\"use-credentials\" />\\n<link rel=\"alternate\" hreflang=\"x-default\" href=\"https://twitter.com/?lang&#x3D;en\" />\\n<link rel=\"alternate\" hreflang=\"ar\" href=\"https://twitter.com/?lang&#x3D;ar\" />\\n<link rel=\"alternate\" hreflang=\"bg\" href=\"https://twitter.com/?lang&#x3D;bg\" />\\n<link rel=\"alternate\" hreflang=\"bn\" href=\"https://twitter.com/?lang&#x3D;bn\" />\\n<link rel=\"alternate\" hreflang=\"ca\" href=\"https://twitter.com/?lang&#x3D;ca\" />\\n<link rel=\"alternate\" hreflang=\"cs\" href=\"https://twitter.com/?lang&#x3D;cs\" />\\n<link rel=\"alternate\" hreflang=\"da\" href=\"https://twitter.com/?lang&#x3D;da\" />\\n<link rel=\"alternate\" hreflang=\"de\" href=\"https://twitter.com/?lang&#x3D;de\" />\\n<link rel=\"alternate\" hreflang=\"el\" href=\"https://twitter.com/?lang&#x3D;el\" />\\n<link rel=\"alternate\" hreflang=\"en\" href=\"https://twitter.com/?lang&#x3D;en\" />\\n<link rel=\"alternate\" hreflang=\"en-GB\" href=\"https://twitter.com/?lang&#x3D;en-GB\" />\\n<link rel=\"alternate\" hreflang=\"es\" href=\"https://twitter.com/?lang&#x3D;es\" />\\n<link rel=\"alternate\" hreflang=\"eu\" href=\"https://twitter.com/?lang&#x3D;eu\" />\\n<link rel=\"alternate\" hreflang=\"fa\" href=\"https://twitter.com/?lang&#x3D;fa\" />\\n<link rel=\"alternate\" hreflang=\"fi\" href=\"https://twitter.com/?lang&#x3D;fi\" />\\n<link rel=\"alternate\" hreflang=\"tl\" href=\"https://twitter.com/?lang&#x3D;tl\" />\\n<link rel=\"alternate\" hreflang=\"fr\" href=\"https://twitter.com/?lang&#x3D;fr\" />\\n<link rel=\"alternate\" hreflang=\"ga\" href=\"https://twitter.com/?lang&#x3D;ga\" />\\n<link rel=\"alternate\" hreflang=\"gl\" href=\"https://twitter.com/?lang&#x3D;gl\" />\\n<link rel=\"alternate\" hreflang=\"gu\" href=\"https://twitter.com/?lang&#x3D;gu\" />\\n<link rel=\"alternate\" hreflang=\"he\" href=\"https://twitter.com/?lang&#x3D;he\" />\\n<link rel=\"alternate\" hreflang=\"hi\" href=\"https://twitter.com/?lang&#x3D;hi\" />\\n<link rel=\"alternate\" hreflang=\"hr\" href=\"https://twitter.com/?lang&#x3D;hr\" />\\n<link rel=\"alternate\" hreflang=\"hu\" href=\"https://twitter.com/?lang&#x3D;hu\" />\\n<link rel=\"alternate\" hreflang=\"id\" href=\"https://twitter.com/?lang&#x3D;id\" />\\n<link rel=\"alternate\" hreflang=\"it\" href=\"https://twitter.com/?lang&#x3D;it\" />\\n<link rel=\"alternate\" hreflang=\"ja\" href=\"https://twitter.com/?lang&#x3D;ja\" />\\n<link rel=\"alternate\" hreflang=\"kn\" href=\"https://twitter.com/?lang&#x3D;kn\" />\\n<link rel=\"alternate\" hreflang=\"ko\" href=\"https://twitter.com/?lang&#x3D;ko\" />\\n<link rel=\"alternate\" hreflang=\"mr\" href=\"https://twitter.com/?lang&#x3D;mr\" />\\n<link rel=\"alternate\" hreflang=\"ms\" href=\"https://twitter.com/?lang&#x3D;ms\" />\\n<link rel=\"alternate\" hreflang=\"nb\" href=\"https://twitter.com/?lang&#x3D;nb\" />\\n<link rel=\"alternate\" hreflang=\"nl\" href=\"https://twitter.com/?lang&#x3D;nl\" />\\n<link rel=\"alternate\" hreflang=\"pl\" href=\"https://twitter.com/?lang&#x3D;pl\" />\\n<link rel=\"alternate\" hreflang=\"pt\" href=\"https://twitter.com/?lang&#x3D;pt\" />\\n<link rel=\"alternate\" hreflang=\"ro\" href=\"https://twitter.com/?lang&#x3D;ro\" />\\n<link rel=\"alternate\" hreflang=\"ru\" href=\"https://twitter.com/?lang&#x3D;ru\" />\\n<link rel=\"alternate\" hreflang=\"sk\" href=\"https://twitter.com/?lang&#x3D;sk\" />\\n<link rel=\"alternate\" hreflang=\"sr\" href=\"https://twitter.com/?lang&#x3D;sr\" />\\n<link rel=\"alternate\" hreflang=\"sv\" href=\"https://twitter.com/?lang&#x3D;sv\" />\\n<link rel=\"alternate\" hreflang=\"ta\" href=\"https://twitter.com/?lang&#x3D;ta\" />\\n<link rel=\"alternate\" hreflang=\"th\" href=\"https://twitter.com/?lang&#x3D;th\" />\\n<link rel=\"alternate\" hreflang=\"tr\" href=\"https://twitter.com/?lang&#x3D;tr\" />\\n<link rel=\"alternate\" hreflang=\"uk\" href=\"https://twitter.com/?lang&#x3D;uk\" />\\n<link rel=\"alternate\" hreflang=\"ur\" href=\"https://twitter.com/?lang&#x3D;ur\" />\\n<link rel=\"alternate\" hreflang=\"vi\" href=\"https://twitter.com/?lang&#x3D;vi\" />\\n<link rel=\"alternate\" hreflang=\"zh\" href=\"https://twitter.com/?lang&#x3D;zh\" />\\n<link rel=\"alternate\" hreflang=\"zh-Hant\" href=\"https://twitter.com/?lang&#x3D;zh-Hant\" />\\n<link rel=\"canonical\" href=\"https://twitter.com/\" data-rdm />\\n<link rel=\"mask-icon\" sizes=\"any\" href=\"https://abs.twimg.com/responsive-web/client-web-legacy/icon-svg.9e211f65.svg\" color=\"#1da1f2\">\\n<link rel=\"shortcut icon\" href=\"//abs.twimg.com/favicons/twitter.ico\" type=\"image/x-icon\">\\n<link rel=\"apple-touch-icon\" sizes=\"192x192\" href=\"https://abs.twimg.com/responsive-web/client-web-legacy/icon-ios.8ea219d5.png\" />\\n<meta name=\"mobile-web-app-capable\" content=\"yes\" />\\n<meta name=\"apple-mobile-web-app-title\" content=\"Twitter\" />\\n<meta name=\"apple-mobile-web-app-status-bar-style\" content=\"white\" />\\n<meta name=\"theme-color\" content=\"#ffffff\" />\\n<meta http-equiv=\"origin-trial\" content=\"Ap6SMBNB0lQoXpXl4I9vyTJqJ7Y0X9tPd6Q6rN697iHdubQQxBcWHy21N3N7uEz7Ba5UKMbN+eLvDczBSbi27AsAAABfeyJvcmlnaW4iOiJodHRwczovL3R3aXR0ZXIuY29tOjQ0MyIsImZlYXR1cmUiOiJCYWRnaW5nIiwiZXhwaXJ5IjoxNTY0NTgyNzY2LCJpc1N1YmRvbWFpbiI6dHJ1ZX0=\" />\\n<meta http-equiv=\"origin-trial\" content=\"Apir4chqTX+4eFxKD+ErQlKRB/VtZ/dvnLfd9Y9Nenl5r1xJcf81alryTHYQiuUlz9Q49MqGXqyaiSmqWzHUqQwAAABneyJvcmlnaW4iOiJodHRwczovL3R3aXR0ZXIuY29tOjQ0MyIsImZlYXR1cmUiOiJDb250YWN0c01hbmFnZXIiLCJleHBpcnkiOjE1NzUwMzUyODMsImlzU3ViZG9tYWluIjp0cnVlfQ==\" />\\n<meta http-equiv=\"origin-trial\" content=\"AleGS26SZL7UA8Fe1DbvXzoay74bPTvrfKKGimIu1RI8vA+RtXOSVlizUkz2zU/fQoFoOTgCiCciP6pM5teaeQgAAABjeyJvcmlnaW4iOiJodHRwczovL3R3aXR0ZXIuY29tOjQ0MyIsImZlYXR1cmUiOiJTbXNSZWNlaXZlciIsImV4cGlyeSI6MTU3OTAyMDkyMSwiaXNTdWJkb21haW4iOnRydWV9\" />\\n\\n<style>html,body{height: 100%;}body{-ms-overflow-style:scrollbar;overflow-y:scroll;overscroll-behavior-y:none;}</style>\\n<style id=\"react-native-stylesheet\">[stylesheet-group=\"0\"]{}\\nhtml{-ms-text-size-adjust:100%;-webkit-text-size-adjust:100%;-webkit-tap-highlight-color:rgba(0,0,0,0);}\\nbody{margin:0;}\\nbutton::-moz-focus-inner,input::-moz-focus-inner{border:0;padding:0;}\\ninput::-webkit-inner-spin-button,input::-webkit-outer-spin-button,input::-webkit-search-cancel-button,input::-webkit-search-decoration,input::-webkit-search-results-button,input::-webkit-search-results-decoration{display:none;}\\n[stylesheet-group=\"0.1\"]{}\\n:focus:not([data-focusvisible-polyfill]){outline: none;}\\n[stylesheet-group=\"1\"]{}\\n.css-1dbjc4n{-ms-flex-align:stretch;-ms-flex-direction:column;-ms-flex-negative:0;-ms-flex-preferred-size:auto;-webkit-align-items:stretch;-webkit-box-align:stretch;-webkit-box-direction:normal;-webkit-box-orient:vertical;-webkit-flex-basis:auto;-webkit-flex-direction:column;-webkit-flex-shrink:0;align-items:stretch;border:0 solid black;box-sizing:border-box;display:-webkit-box;display:-moz-box;display:-ms-flexbox;display:-webkit-flex;display:flex;flex-basis:auto;flex-direction:column;flex-shrink:0;margin-bottom:0px;margin-left:0px;margin-right:0px;margin-top:0px;min-height:0px;min-width:0px;padding-bottom:0px;padding-left:0px;padding-right:0px;padding-top:0px;position:relative;z-index:0;}\\n.css-901oao{border:0 solid black;box-sizing:border-box;color:rgba(0,0,0,1.00);display:inline;font:14px system-ui,-apple-system,BlinkMacSystemFont,\"Segoe UI\",Roboto,Ubuntu,\"Helvetica Neue\",sans-serif;margin-bottom:0px;margin-left:0px;margin-right:0px;margin-top:0px;padding-bottom:0px;padding-left:0px;padding-right:0px;padding-top:0px;white-space:pre-wrap;word-wrap:break-word;}\\n.css-16my406{color:inherit;font:inherit;white-space:inherit;}\\n[stylesheet-group=\"2\"]{}\\n.r-13awgt0{-ms-flex-negative:1;-ms-flex-positive:1;-ms-flex-preferred-size:0%;-webkit-box-flex:1;-webkit-flex-basis:0%;-webkit-flex-grow:1;-webkit-flex-shrink:1;flex-basis:0%;flex-grow:1;flex-shrink:1;}\\n.r-4qtqp9{display:inline-block;}\\n.r-ywje51{margin-bottom:auto;margin-left:auto;margin-right:auto;margin-top:auto;}\\n.r-hvic4v{display:none;}\\n.r-1adg3ll{display:block;}\\n[stylesheet-group=\"2.2\"]{}\\n.r-12vffkv>*{pointer-events:auto;}\\n.r-12vffkv{pointer-events:none!important;}\\n.r-14lw9ot{background-color:rgba(255,255,255,1.00);}\\n.r-1p0dtai{bottom:0px;}\\n.r-1d2f490{left:0px;}\\n.r-1xcajam{position:fixed;}\\n.r-zchlnj{right:0px;}\\n.r-ipm5af{top:0px;}\\n.r-yyyyoo{fill:currentcolor;}\\n.r-1xvli5t{height:1.25em;}\\n.r-dnmrzs{max-width:100%;}\\n.r-bnwqim{position:relative;}\\n.r-1plcrui{vertical-align:text-bottom;}\\n.r-lrvibr{-moz-user-select:none;-ms-user-select:none;-webkit-user-select:none;user-select:none;}\\n.r-13gxpu9{color:rgba(29,161,242,1.00);}\\n.r-wy61xf{height:72px;}\\n.r-u8s1d{position:absolute;}\\n.r-1blnp2b{width:72px;}\\n.r-1ykxob0{top:60%;}\\n.r-1b2b6em{line-height:2em;}\\n.r-q4m81j{text-align:center;}</style>\\n\\n\\n<body>\\n  <noscript>\\n    <form action=\"https://mobile.twitter.com/i/nojs_router?path=%2F\" method=\"POST\" style=\"background-color: #fff; position: fixed; top: 0; left: 0; right: 0; bottom: 0; z-index: 9999;\">\\n      <div style=\"font-size: 18px; font-family: Helvetica,sans-serif; line-height: 24px; margin: 10%; width: 80%;\">\\n        <p>We\\'ve detected that JavaScript is disabled in your browser. Would you like to proceed to legacy Twitter?</p>\\n        <p style=\"margin: 20px 0;\">\\n          <button type=\"submit\" style=\"background-color: #1da1f2; border-radius: 100px; border: none; box-shadow: none; color: #fff; cursor: pointer; font-size: 14px; font-weight: bold; line-height: 20px; padding: 6px 16px;\">Yes</button>\\n        </p>\\n      </div>\\n    </form>\\n  </noscript>\\n  <div id=\"react-root\" style=\"height:100%;display:flex;\"><div class=\"css-1dbjc4n r-13awgt0 r-12vffkv\"><div class=\"css-1dbjc4n r-13awgt0 r-12vffkv\"><div aria-label=\"Loading\\xe2\\x80\\xa6\" class=\"css-1dbjc4n r-14lw9ot r-1p0dtai r-1d2f490 r-1xcajam r-zchlnj r-ipm5af\"><svg viewBox=\"0 0 24 24\" class=\"r-1p0dtai r-13gxpu9 r-4qtqp9 r-yyyyoo r-wy61xf r-1d2f490 r-ywje51 r-dnmrzs r-u8s1d r-zchlnj r-1plcrui r-ipm5af r-lrvibr r-1blnp2b\"><g><path d=\"M23.643 4.937c-.835.37-1.732.62-2.675.733.962-.576 1.7-1.49 2.048-2.578-.9.534-1.897.922-2.958 1.13-.85-.904-2.06-1.47-3.4-1.47-2.572 0-4.658 2.086-4.658 4.66 0 .364.042.718.12 1.06-3.873-.195-7.304-2.05-9.602-4.868-.4.69-.63 1.49-.63 2.342 0 1.616.823 3.043 2.072 3.878-.764-.025-1.482-.234-2.11-.583v.06c0 2.257 1.605 4.14 3.737 4.568-.392.106-.803.162-1.227.162-.3 0-.593-.028-.877-.082.593 1.85 2.313 3.198 4.352 3.234-1.595 1.25-3.604 1.995-5.786 1.995-.376 0-.747-.022-1.112-.065 2.062 1.323 4.51 2.093 7.14 2.093 8.57 0 13.255-7.098 13.255-13.254 0-.2-.005-.402-.014-.602.91-.658 1.7-1.477 2.323-2.41z\"></path></g></svg></div><div class=\"css-1dbjc4n r-hvic4v r-1d2f490 r-1xcajam r-zchlnj r-1ykxob0\" id=\"ScriptLoadFailure\"><form action=\"\" method=\"GET\"><div dir=\"auto\" class=\"css-901oao r-1adg3ll r-1b2b6em r-q4m81j\"><span dir=\"auto\" class=\"css-901oao css-16my406\">Something went wrong, but don\\xe2\\x80\\x99t fret \\xe2\\x80\\x94 let\\xe2\\x80\\x99s give it another shot.</span><br/><input type=\"submit\" value=\"Try again\"/></div></form></div></div></div></div>\\n<script nonce=\"YWViYWQ3ZTMtMmFmZC00NzBkLTkxNDUtMDcwNTlkZjZmYTdi\">\\nwindow.__INITIAL_STATE__ = {\"optimist\":[],\"featureSwitch\":{\"config\":{\"2fa_multikey_management_enabled\":{\"value\":false},\"account_country_setting_countries_whitelist\":{\"value\":[\"ad\",\"ae\",\"af\",\"ag\",\"ai\",\"al\",\"am\",\"ao\",\"ar\",\"as\",\"at\",\"au\",\"aw\",\"ax\",\"az\",\"ba\",\"bb\",\"bd\",\"be\",\"bf\",\"bg\",\"bh\",\"bi\",\"bj\",\"bl\",\"bm\",\"bn\",\"bo\",\"bq\",\"br\",\"bs\",\"bt\",\"bv\",\"bw\",\"by\",\"bz\",\"ca\",\"cc\",\"cd\",\"cf\",\"cg\",\"ch\",\"ci\",\"ck\",\"cl\",\"cm\",\"co\",\"cr\",\"cu\",\"cv\",\"cw\",\"cx\",\"cy\",\"cz\",\"de\",\"dj\",\"dk\",\"dm\",\"do\",\"dz\",\"ec\",\"ee\",\"eg\",\"er\",\"es\",\"et\",\"fi\",\"fj\",\"fk\",\"fm\",\"fo\",\"fr\",\"ga\",\"gb\",\"gd\",\"ge\",\"gf\",\"gg\",\"gh\",\"gi\",\"gl\",\"gm\",\"gn\",\"gp\",\"gq\",\"gr\",\"gs\",\"gt\",\"gu\",\"gw\",\"gy\",\"hk\",\"hn\",\"hr\",\"ht\",\"hu\",\"id\",\"ie\",\"il\",\"im\",\"in\",\"io\",\"iq\",\"ir\",\"is\",\"it\",\"je\",\"jm\",\"jo\",\"jp\",\"ke\",\"kg\",\"kh\",\"ki\",\"km\",\"kn\",\"kr\",\"kw\",\"ky\",\"kz\",\"la\",\"lb\",\"lc\",\"li\",\"lk\",\"lr\",\"ls\",\"lt\",\"lu\",\"lv\",\"ly\",\"ma\",\"mc\",\"md\",\"me\",\"mf\",\"mg\",\"mh\",\"mk\",\"ml\",\"mn\",\"mo\",\"mp\",\"mq\",\"mr\",\"ms\",\"mt\",\"mu\",\"mv\",\"mw\",\"mx\",\"my\",\"mz\",\"na\",\"nc\",\"ne\",\"nf\",\"ng\",\"ni\",\"nl\",\"no\",\"np\",\"nr\",\"nu\",\"nz\",\"om\",\"pa\",\"pe\",\"pf\",\"pg\",\"ph\",\"pk\",\"pl\",\"pm\",\"pn\",\"pr\",\"ps\",\"pt\",\"pw\",\"py\",\"qa\",\"re\",\"ro\",\"rs\",\"ru\",\"rw\",\"sa\",\"sb\",\"sc\",\"se\",\"sg\",\"sh\",\"si\",\"sk\",\"sl\",\"sm\",\"sn\",\"so\",\"sr\",\"st\",\"sv\",\"sx\",\"sz\",\"tc\",\"td\",\"tf\",\"tg\",\"th\",\"tj\",\"tk\",\"tl\",\"tm\",\"tn\",\"to\",\"tr\",\"tt\",\"tv\",\"tw\",\"tz\",\"ua\",\"ug\",\"us\",\"uy\",\"uz\",\"va\",\"vc\",\"ve\",\"vi\",\"vn\",\"vu\",\"wf\",\"ws\",\"xk\",\"ye\",\"yt\",\"za\",\"zm\",\"zw\"]},\"author_moderated_replies_urt_container_enabled\":{\"value\":false},\"content_language_setting_enabled\":{\"value\":true},\"conversation_controls_highlighted_education_enabled\":{\"value\":true},\"conversation_controls_limited_replies_consumption_configuration\":{\"value\":\"no_reply\"},\"conversation_controls_limited_replies_creation_enabled\":{\"value\":true},\"dm_reactions_config_active_reactions\":{\"value\":[\"\\xf0\\x9f\\x98\\x82:funny\",\"\\xf0\\x9f\\x98\\xb2:surprised\",\"\\xf0\\x9f\\x98\\xa2:sad\",\"\\xe2\\x9d\\xa4:like\",\"\\xf0\\x9f\\x94\\xa5:excited\",\"\\xf0\\x9f\\x91\\x8d:agree\",\"\\xf0\\x9f\\x91\\x8e:disagree\"]},\"dm_reactions_config_inactive_reactions\":{\"value\":[\"\\xf0\\x9f\\x98\\xa0:angry\"]},\"employee_role\":{\"value\":false},\"guest_broadcasting_timeline_decorations_enabled\":{\"value\":true},\"hashflags_animation_like_button_enabled\":{\"value\":true},\"hashflags_animation_lottie_default_enabled\":{\"value\":false},\"home_timeline_latest_timeline_autoswitch_half_life_minutes\":{\"value\":43200},\"home_timeline_latest_timeline_autoswitch_threshold_multiplier\":{\"value\":2},\"home_timeline_latest_timeline_max_time_to_autoswitch_minutes\":{\"value\":5256000},\"home_timeline_latest_timeline_min_time_to_autoswitch_minutes\":{\"value\":5256000},\"home_timeline_latest_timeline_switch_enabled\":{\"value\":true},\"home_timeline_latest_timeline_threshold_to_increase_autoswitch_seconds\":{\"value\":60},\"home_timeline_spheres_copy_variant\":{\"value\":\"list_follow\"},\"home_timeline_spheres_custom_banner_image_reads_enabled\":{\"value\":true},\"home_timeline_spheres_detail_page_muting_enabled\":{\"value\":true},\"home_timeline_spheres_list_cell_thumbnail_enabled\":{\"value\":true},\"home_timeline_spheres_max_user_owned_or_subscribed_lists_count\":{\"value\":5},\"home_timeline_spheres_ranking_mode_control_enabled\":{\"value\":true},\"identity_verification_intake_enabled\":{\"value\":false},\"live_event_docking_enabled\":{\"value\":true},\"live_event_multi_video_auto_advance_dock_enabled\":{\"value\":true},\"live_event_multi_video_auto_advance_enabled\":{\"value\":true},\"live_event_multi_video_auto_advance_fullscreen_enabled\":{\"value\":false},\"live_event_multi_video_auto_advance_transition_duration_seconds\":{\"value\":5},\"live_event_multi_video_enabled\":{\"value\":true},\"live_event_timeline_default_refresh_rate_interval_seconds\":{\"value\":30},\"live_event_timeline_minimum_refresh_rate_interval_seconds\":{\"value\":10},\"live_event_timeline_server_controlled_refresh_rate_enabled\":{\"value\":true},\"live_event_vod_promoted_content_enabled\":{\"value\":true},\"livepipeline_client_enabled\":{\"value\":true},\"livepipeline_dm_features_enabled\":{\"value\":true},\"livepipeline_tweetengagement_enabled\":{\"value\":true},\"moment_annotations_enabled\":{\"value\":true},\"name_accessibility_unicode_detection_enabled\":{\"value\":false},\"network_layer_503_backoff_mode\":{\"value\":\"host\"},\"responsive_web_alt_svc\":{\"value\":false},\"responsive_web_alt_text_badge_enabled\":{\"value\":false},\"responsive_web_api_transition_enabled\":{\"value\":false},\"responsive_web_auto_logout_multiaccount_enabled\":{\"value\":true},\"responsive_web_auto_logout_restrictedauthtoken_enabled\":{\"value\":true},\"responsive_web_auto_logout_twid_enabled\":{\"value\":true},\"responsive_web_birdwatch_consumption_enabled\":{\"value\":false},\"responsive_web_birdwatch_contribution_enabled\":{\"value\":false},\"responsive_web_branch_cpid_enabled\":{\"value\":true},\"responsive_web_branch_sdk_enabled\":{\"value\":true},\"responsive_web_broadcast_page_card_enabled\":{\"value\":true},\"responsive_web_card_preload_mode\":{\"value\":\"prerender\"},\"responsive_web_check_browser_support_enabled\":{\"value\":true},\"responsive_web_cleanup_macaw_swift_indexed_db\":{\"value\":true},\"responsive_web_continue_as_always_enabled\":{\"value\":false},\"responsive_web_continue_as_param_enabled\":{\"value\":true},\"responsive_web_conversation_tree_enabled\":{\"value\":false},\"responsive_web_conversation_tree_selected_state_enabled\":{\"value\":true},\"responsive_web_conversation_tree_toggle\":{\"value\":false},\"responsive_web_csrf_clientside_enabled\":{\"value\":true},\"responsive_web_dark_mode_scrollbars_enabled\":{\"value\":false},\"responsive_web_dcm_2_enabled\":{\"value\":true},\"responsive_web_dm_composer_media_toggle_enabled\":{\"value\":false},\"responsive_web_dm_entry_anchoring_top_anchoring_default_enabled\":{\"value\":true},\"responsive_web_dm_health_convo_block_report_button_enabled\":{\"value\":true},\"responsive_web_dm_health_convo_group_changes_enabled\":{\"value\":true},\"responsive_web_dm_health_convo_inline_profile_info_enabled\":{\"value\":true},\"responsive_web_dm_health_inbox_request_cell_social_proof_enabled\":{\"value\":false},\"responsive_web_dm_quick_access_enabled\":{\"value\":true},\"responsive_web_dm_quick_access_no_empty_drawer_enabled\":{\"value\":true},\"responsive_web_dm_quick_access_with_close_enabled\":{\"value\":false},\"responsive_web_elevated_qt_label_configuration\":{\"value\":\"\"},\"responsive_web_elevated_qt_quote_action_menu_verbiage_enabled\":{\"value\":false},\"responsive_web_elevated_qt_tweet_detail_stat_ordering_enabled\":{\"value\":false},\"responsive_web_eu_countries\":{\"value\":[\"at\",\"be\",\"bg\",\"ch\",\"cy\",\"cz\",\"de\",\"dk\",\"ee\",\"es\",\"fi\",\"fr\",\"gb\",\"gr\",\"hr\",\"hu\",\"ie\",\"is\",\"it\",\"li\",\"lt\",\"lu\",\"lv\",\"mt\",\"nl\",\"no\",\"pl\",\"pt\",\"ro\",\"se\",\"si\",\"sk\"]},\"responsive_web_extension_compatibility_hide\":{\"value\":false},\"responsive_web_extension_compatibility_impression_guard\":{\"value\":true},\"responsive_web_extension_compatibility_override_param\":{\"value\":false},\"responsive_web_extension_compatibility_scribe\":{\"value\":true},\"responsive_web_extension_compatibility_size_threshold\":{\"value\":50},\"responsive_web_fake_root_twitter_domain_for_testing\":{\"value\":false},\"responsive_web_feature_switch_dash_enabled\":{\"value\":false},\"responsive_web_fetch_hashflags_on_boot\":{\"value\":true},\"responsive_web_fleets_dm_consumption_enabled\":{\"value\":false},\"responsive_web_framerate_tracking_home_enabled\":{\"value\":false},\"responsive_web_graphql_amr_timeline\":{\"value\":false},\"responsive_web_graphql_bookmarks\":{\"value\":false},\"responsive_web_graphql_dark_reads_probability\":{\"value\":0},\"responsive_web_graphql_list_crud\":{\"value\":true},\"responsive_web_graphql_list_management_timelines_enabled\":{\"value\":false},\"responsive_web_graphql_list_members_subscribers_enabled\":{\"value\":false},\"responsive_web_graphql_list_operations\":{\"value\":false},\"responsive_web_graphql_tweet_results\":{\"value\":false},\"responsive_web_graphql_user_results\":{\"value\":false},\"responsive_web_graphql_verify_credentials_enabled\":{\"value\":true},\"responsive_web_guest_token_reporting\":{\"value\":true},\"responsive_web_hide_media_previews_enabled\":{\"value\":false},\"responsive_web_history_tracker_enabled\":{\"value\":true},\"responsive_web_hoisting_anchor_invalidation_enabled\":{\"value\":false},\"responsive_web_home_wait_for_seenIds_enabled\":{\"value\":false},\"responsive_web_horizon_video_player_enabled\":{\"value\":true},\"responsive_web_hover_on_mousemove_enabled\":{\"value\":false},\"responsive_web_html_archive_renderer_enabled\":{\"value\":true},\"responsive_web_hw_cards_in_dms_enabled\":{\"value\":true},\"responsive_web_inline_reply_enabled\":{\"value\":false},\"responsive_web_inline_reply_with_fab_enabled\":{\"value\":false},\"responsive_web_instream_video_enabled\":{\"value\":true},\"responsive_web_instream_video_redesign_enabled\":{\"value\":false},\"responsive_web_list_hover_cards_enabled\":{\"value\":true},\"responsive_web_live_video_parity_periscope_auth_enabled\":{\"value\":false},\"responsive_web_login_input_type_email_enabled\":{\"value\":false},\"responsive_web_login_signup_sheet_app_install_cta_enabled\":{\"value\":true},\"responsive_web_media_upload_limit_2g\":{\"value\":250},\"responsive_web_media_upload_limit_3g\":{\"value\":1500},\"responsive_web_media_upload_limit_slow_2g\":{\"value\":150},\"responsive_web_media_upload_md5_hashing_enabled\":{\"value\":false},\"responsive_web_media_upload_target_jpg_pixels_per_byte\":{\"value\":6},\"responsive_web_menu_section_divider_enabled\":{\"value\":false},\"responsive_web_modern_bundle_enabled\":{\"value\":true},\"responsive_web_modern_bundle_sw_enabled\":{\"value\":true},\"responsive_web_moment_maker_annotations_enabled\":{\"value\":false},\"responsive_web_moment_maker_enabled\":{\"value\":false},\"responsive_web_multiple_account_limit\":{\"value\":5},\"responsive_web_narrow_tweet_actions_enabled\":{\"value\":false},\"responsive_web_new_client_events_enabled\":{\"value\":false},\"responsive_web_not_my_account_screen_enabled\":{\"value\":true},\"responsive_web_ntab_verified_mentions_vit_internal_dogfood\":{\"value\":false},\"responsive_web_ocf_sms_autoverify_enabled\":{\"value\":false},\"responsive_web_promoted_trends_event_migration_enabled\":{\"value\":false},\"responsive_web_promoted_tweet_param_append_enabled\":{\"value\":false},\"responsive_web_promoted_tweet_url_rewrite_enabled\":{\"value\":false},\"responsive_web_quick_promote_enabled\":{\"value\":false},\"responsive_web_redirect_to_app_enabled\":{\"value\":false},\"responsive_web_report_page_not_found\":{\"value\":false},\"responsive_web_rich_tweet_landing_enabled\":{\"value\":true},\"responsive_web_scheduling_edit_enabled\":{\"value\":false},\"responsive_web_scheduling_enabled\":{\"value\":false},\"responsive_web_scheduling_entry_point\":{\"value\":\"overflow\"},\"responsive_web_scroller_autopoll_enabled\":{\"value\":false},\"responsive_web_scroller_v3_enabled\":{\"value\":false},\"responsive_web_search_dms_enabled\":{\"value\":true},\"responsive_web_second_degree_replies_nudge_force_enabled\":{\"value\":false},\"responsive_web_second_degree_replies_nudge_get_enabled\":{\"value\":false},\"responsive_web_second_degree_replies_nudge_show_enabled\":{\"value\":false},\"responsive_web_serviceworker_safari_disabled\":{\"value\":false},\"responsive_web_settings_revamp_enabled\":{\"value\":false},\"responsive_web_settings_timeline_refresh_background_interval\":{\"value\":0},\"responsive_web_settings_timeline_refresh_enabled\":{\"value\":false},\"responsive_web_settings_timeline_refresh_instant_default\":{\"value\":true},\"responsive_web_sports_carousel\":{\"value\":false},\"responsive_web_trends_setting_new_endpoints\":{\"value\":true},\"responsive_web_trigger_test_backoff_on_bookmark\":{\"value\":false},\"responsive_web_tweet_drafts_enabled\":{\"value\":false},\"responsive_web_tweets_pill_local_enabled\":{\"value\":true},\"responsive_web_unified_cards_live_event_enabled\":{\"value\":true},\"responsive_web_unified_cards_poll2choice_image_enabled\":{\"value\":true},\"responsive_web_unified_cards_poll2choice_video_enabled\":{\"value\":true},\"responsive_web_unified_cards_poll3choice_image_enabled\":{\"value\":true},\"responsive_web_unified_cards_poll3choice_video_enabled\":{\"value\":true},\"responsive_web_unified_cards_poll4choice_image_enabled\":{\"value\":true},\"responsive_web_unified_cards_poll4choice_video_enabled\":{\"value\":true},\"responsive_web_unsupported_entry_tombstone\":{\"value\":false},\"responsive_web_use_app_prompt_copy_variant\":{\"value\":\"prompt_better\"},\"responsive_web_use_app_prompt_enabled\":{\"value\":true},\"responsive_web_verification_v2_enabled\":{\"value\":true},\"responsive_web_video_native_fullscreen_enabled\":{\"value\":true},\"responsive_web_video_promoted_logging_enabled\":{\"value\":true},\"responsive_web_vod_muted_captions_enabled\":{\"value\":true},\"responsive_web_vs_config_desktop_assumed_item_height\":{\"value\":100},\"responsive_web_vs_config_resize_observer_enabled\":{\"value\":true},\"responsive_web_zipkin_api_requests_enabled\":{\"value\":false},\"responsive_web_zipkin_api_requests_paths_allowlist\":{\"value\":[\"/2/timeline/home.json\"]},\"scribe_api_error_sample_size\":{\"value\":0},\"scribe_api_sample_size\":{\"value\":100},\"scribe_cdn_host_list\":{\"value\":[\"si0.twimg.com\",\"si1.twimg.com\",\"si2.twimg.com\",\"si3.twimg.com\",\"a0.twimg.com\",\"a1.twimg.com\",\"a2.twimg.com\",\"a3.twimg.com\",\"abs.twimg.com\",\"amp.twimg.com\",\"o.twimg.com\",\"pbs.twimg.com\",\"pbs-eb.twimg.com\",\"pbs-ec.twimg.com\",\"pbs-v6.twimg.com\",\"pbs-h1.twimg.com\",\"pbs-h2.twimg.com\",\"video.twimg.com\",\"platform.twitter.com\",\"cdn.api.twitter.com\",\"ton.twimg.com\",\"v.cdn.vine.co\",\"mtc.cdn.vine.co\",\"edge.vncdn.co\",\"mid.vncdn.co\"]},\"scribe_cdn_sample_size\":{\"value\":50},\"search_channels_description_enabled\":{\"value\":true},\"search_channels_discovery_page_enabled\":{\"value\":false},\"search_features_deep_link_request_params_enabled\":{\"value\":true},\"soft_interventions_forward_pivot_enabled\":{\"value\":true},\"soft_interventions_inner_qt_forward_pivot_enabled\":{\"value\":false},\"topic_landing_page_enabled\":{\"value\":true},\"topic_landing_page_share_enabled\":{\"value\":false},\"topics_descriptions_enabled\":{\"value\":true},\"topics_dismiss_control_enabled\":{\"value\":true},\"topics_new_mgmt_enabled\":{\"value\":true},\"topics_new_social_context_bottom_border_enabled\":{\"value\":false},\"topics_new_social_context_enabled\":{\"value\":false},\"topics_new_social_context_icon_color_enabled\":{\"value\":false},\"topics_peek_home_enabled\":{\"value\":false},\"topics_peek_search_enabled\":{\"value\":false},\"traffic_rewrite_map\":{\"value\":[]},\"tweet_limited_actions_config_enabled\":{\"value\":true},\"tweet_limited_actions_config_non_compliant\":{\"value\":[\"reply\",\"retweet\",\"like\",\"send_via_dm\",\"add_to_bookmarks\",\"add_to_moment\",\"pin_to_profile\",\"view_tweet_activity\",\"share_tweet_via\"]},\"unified_cards_cta_color_blue_cta\":{\"value\":true},\"user_display_name_max_limit\":{\"value\":50},\"web_video_bitrate_persistence_enabled\":{\"value\":false},\"web_video_hls_android_mse_enabled\":{\"value\":true},\"web_video_hls_mp4_threshold_sec\":{\"value\":0},\"web_video_hlsjs_max_buffer_length_pause\":{\"value\":3},\"web_video_hlsjs_max_buffer_length_play\":{\"value\":3},\"web_video_hlsjs_version\":{\"value\":\"\"}},\"debug\":{},\"impression_pointers\":{\"responsive_web_redirect_to_app_enabled\":[\"rweb_redirect_to_app_10853\"]},\"impressions\":{\"rweb_redirect_to_app_10853\":{\"key\":\"rweb_redirect_to_app_10853\",\"bucket\":\"control\",\"version\":2}},\"featureSetToken\":\"6e4363f23195fc05e9706cb0b4f765c7dbd7f06e\",\"isLoaded\":true,\"isLoading\":false,\"keysRead\":{},\"settingsVersion\":\"1b44aa9cc8f407a3d951a29ca5a7d319\"},\"urt\":{},\"entities\":{\"users\":{\"entities\":{},\"errors\":{},\"fetchStatus\":{}},\"tweets\":{\"entities\":{},\"errors\":{},\"fetchStatus\":{}},\"cards\":{\"entities\":{},\"errors\":{},\"fetchStatus\":{}}},\"toasts\":[],\"devices\":{\"browserPush\":{\"fetchStatus\":\"none\",\"pushNotificationsPrompt\":{\"dismissed\":false,\"fetchStatus\":\"none\"},\"subscribed\":false,\"supported\":null},\"devices\":{\"data\":{\"emails\":[],\"phone_numbers\":[]},\"fetchStatus\":\"none\"},\"notificationSettings\":{\"push_settings\":{\"error\":null,\"fetchStatus\":\"none\"},\"push_settings_template\":{\"template\":{\"settings\":[]}},\"sms_settings\":{\"error\":null,\"fetchStatus\":\"none\"},\"sms_settings_template\":{\"template\":{\"settings\":[]}},\"checkin_time\":null}},\"typeaheadUsers\":{\"fetchStatus\":\"none\",\"users\":{},\"denylist\":{},\"lastUpdated\":0,\"index\":{}},\"session\":{\"country\":\"ES\",\"emailLiteLoginEligibility\":{\"fetchStatus\":\"none\"},\"guestId\":\"159844780300453279\",\"language\":\"en\",\"oneFactorLoginEligibility\":{\"fetchStatus\":\"none\"}},\"settings\":{\"local\":{\"nextPushCheckin\":0,\"shouldAutoPlayGif\":false,\"scale\":\"normal\",\"themeColor\":\"blue\",\"highContrastEnabled\":false,\"themeBackground\":\"light\",\"loginPromptLastShown\":0,\"mediaPreviewsEnabled\":true,\"reducedMotionEnabled\":false,\"conversationTreeEnabled\":false,\"showTweetMediaDetailDrawer\":true},\"remote\":{\"settings\":{\"display_sensitive_media\":false},\"fetchStatus\":\"none\"},\"dataSaver\":{\"dataSaverMode\":false},\"transient\":{\"dtabBarInfo\":{\"dtabAll\":null,\"dtabRweb\":null,\"hide\":false},\"loginPromptShown\":false,\"lastViewedDmInboxPath\":\"/messages\",\"themeFocus\":\"\"}},\"hashflags\":{\"fetchStatus\":\"none\",\"hashflags\":{}}};\\nwindow.__META_DATA__ = {\"env\":\"prod\",\"isFromDynamicRenderer\":false,\"isLoggedIn\":false,\"isRTL\":false,\"hasMultiAccountCookie\":false,\"uaParserTags\":[\"m2\",\"rweb_unsupported\",\"msw\"],\"serverDate\":1598447803058,\"sha\":\"2dce191a41c1b53d2eff50493399f2a71135d3c1\"};\\n</script>\\n<script nonce=\"YWViYWQ3ZTMtMmFmZC00NzBkLTkxNDUtMDcwNTlkZjZmYTdi\">\\n  document.cookie = decodeURIComponent(\"gt=1298610324443140097; Max-Age=10800; Domain=.twitter.com; Path=/; Secure\");\\n</script>\\n<script type=\"text/javascript\" charset=\"utf-8\" nonce=\"YWViYWQ3ZTMtMmFmZC00NzBkLTkxNDUtMDcwNTlkZjZmYTdi\">\\n  window.__SCRIPTS_LOADED__ = {};\\n  !function(e){function n(n){for(var o,t,i=n[0],c=n[1],l=n[2],s=0,m=[];s<i.length;s++)t=i[s],Object.prototype.hasOwnProperty.call(a,t)&&a[t]&&m.push(a[t][0]),a[t]=0;for(o in c)Object.prototype.hasOwnProperty.call(c,o)&&(e[o]=c[o]);for(u&&u(n);m.length;)m.shift()();return r.push.apply(r,l||[]),d()}function d(){for(var e,n=0;n<r.length;n++){for(var d=r[n],o=!0,i=1;i<d.length;i++){var c=d[i];0!==a[c]&&(o=!1)}o&&(r.splice(n--,1),e=t(t.s=d[0]))}return e}var o={},a={1:0},r=[];function t(n){if(o[n])return o[n].exports;var d=o[n]={i:n,l:!1,exports:{}};return e[n].call(d.exports,d,d.exports,t),d.l=!0,d.exports}t.e=function(e){var n=[],d=a[e];if(0!==d)if(d)n.push(d[2]);else{var o=new Promise((function(n,o){d=a[e]=[n,o]}));n.push(d[2]=o);var r,i=document.createElement(\"script\");i.charset=\"utf-8\",i.timeout=120,t.nc&&i.setAttribute(\"nonce\",t.nc),i.src=function(e){return t.p+\"\"+({0:\"sharedCore\",3:\"shared~loader.DMDrawer~bundle.Compose~bundle.RichTextCompose~bundle.DirectMessages~bundle.DMRichTextCompose~b\",4:\"shared~bundle.ComposeMedia~bundle.Display~bundle.Ocf~bundle.Settings~bundle.SettingsProfile~bundle.UserLists~\",5:\"shared~bundle.Explore~bundle.GenericTimeline~bundle.LiveEvent~bundle.Place~bundle.Search~bundle.QuoteTweetAct\",6:\"shared~bundle.ComposeMedia~bundle.Ocf~bundle.SettingsProfile~bundle.UserLists\",7:\"shared~bundle.Compose~bundle.RichTextCompose~bundle.PlainTextCompose\",8:\"shared~bundle.DirectMessages~bundle.TweetMediaDetail~bundle.UserAvatar\",9:\"shared~bundle.Place~bundle.Search~bundle.QuoteTweetActivity\",10:\"shared~bundle.RichTextCompose~bundle.DMRichTextCompose~ondemand.RichText\",11:\"shared~bundle.Settings~ondemand.SettingsInternals~bundle.SettingsTransparency\",12:\"shared~loader.DMDrawer~bundle.DirectMessages~bundle.DMRichTextCompose\",13:\"shared~bundle.Display~bundle.Settings\",14:\"shared~bundle.Explore~loader.ExploreSidebar\",15:\"shared~bundle.LiveEvent~bundle.UserMoments\",16:\"shared~bundle.TopicPeek~ondemand.EmojiPicker\",17:\"shared~loader.DashMenu~bundle.Account\",18:\"shared~loader.Typeahead~ondemand.SettingsInternals\",19:\"shared~ondemand.EmojiPickerData~ondemand.EmojiPicker\",20:\"bundle.AboutThisAd\",21:\"bundle.Account\",22:\"bundle.AdvancedSearch\",24:\"bundle.Bookmarks\",25:\"bundle.Collection\",26:\"bundle.Compose\",27:\"bundle.ComposeMedia\",28:\"bundle.ConnectTab\",29:\"bundle.Conversation\",30:\"bundle.ConversationParticipants\",31:\"bundle.DMRichTextCompose\",32:\"bundle.DirectMessages\",33:\"bundle.Display\",34:\"bundle.Download\",35:\"bundle.Explore\",36:\"bundle.ExploreTopics\",37:\"bundle.FollowerRequests\",38:\"bundle.GenericTimeline\",39:\"bundle.GifSearch\",40:\"bundle.HomeTimeline\",41:\"bundle.KeyboardShortcuts\",42:\"bundle.LiveEvent\",43:\"bundle.LoggedOutHome\",44:\"bundle.Login\",45:\"bundle.Logout\",46:\"bundle.Moment\",47:\"bundle.MomentMaker\",48:\"bundle.MultiAccount\",49:\"bundle.NetworkInstrument\",50:\"bundle.NotMyAccount\",51:\"bundle.NotificationDetail\",52:\"bundle.Notifications\",53:\"bundle.Ocf\",54:\"bundle.Place\",55:\"bundle.PlainTextCompose\",56:\"bundle.ProfileRedirect\",57:\"bundle.QuoteTweetActivity\",58:\"bundle.Report\",59:\"bundle.RichTextCompose\",60:\"bundle.Search\",61:\"bundle.Settings\",62:\"bundle.SettingsInternals\",63:\"bundle.SettingsProfile\",64:\"bundle.SettingsRevamp\",65:\"bundle.SettingsTransparency\",66:\"bundle.SmsLogin\",67:\"bundle.TopicPeek\",68:\"bundle.Topics\",69:\"bundle.Trends\",70:\"bundle.TweetActivity\",71:\"bundle.TweetMediaDetail\",72:\"bundle.TweetMediaTags\",73:\"bundle.Twitterversary\",74:\"bundle.UserAvatar\",75:\"bundle.UserFollowLists\",76:\"bundle.UserLists\",77:\"bundle.UserMoments\",78:\"bundle.UserProfile\",79:\"bundle.UserRedirect\",129:\"loader.AbsolutePower\",130:\"loader.AppModules\",131:\"loader.DMDrawer\",132:\"loader.DashMenu\",133:\"loader.ExploreSidebar\",134:\"loader.FeedbackSheet\",135:\"loader.FeedbackTombstone\",136:\"loader.HWCard\",137:\"loader.NewTweetsPill\",138:\"loader.PeriscopeOverlay\",139:\"loader.ProfileClusterFollow\",140:\"loader.PushNotificationsPrompt\",141:\"loader.SideNav\",142:\"loader.SignupModule\",143:\"loader.TimelineRenderer\",144:\"loader.TweetCurationActionMenu\",145:\"loader.Typeahead\",146:\"loader.WideLayout\",147:\"loader.directMessagesData\",148:\"loader.graphQLDarkReads\",149:\"loader.personalizationData\",150:\"loaders.video.PlayerBase\",151:\"loaders.video.PlayerHls13\",152:\"loaders.video.PlayerUi\",153:\"loaders.video.VideoPlayerDefaultUI\",155:\"ondemand.Balloons\",156:\"ondemand.BranchSdk\",157:\"ondemand.CarouselScroller\",158:\"ondemand.ComposeScheduling\",159:\"ondemand.Dropdown\",160:\"ondemand.EditBirthdate\",161:\"ondemand.EditPinned\",162:\"ondemand.EmojiPicker\",163:\"ondemand.HoverCard\",164:\"ondemand.InlinePlayer\",165:\"ondemand.IntentPrompt\",166:\"ondemand.LottieWeb\",167:\"ondemand.MicrosoftInterface\",168:\"ondemand.ProfileSidebar\",169:\"ondemand.RichText\",170:\"ondemand.SettingsInternals\",171:\"ondemand.countries-ar\",172:\"ondemand.countries-bg\",173:\"ondemand.countries-bn\",174:\"ondemand.countries-ca\",175:\"ondemand.countries-cs\",176:\"ondemand.countries-da\",177:\"ondemand.countries-de\",178:\"ondemand.countries-el\",179:\"ondemand.countries-en\",180:\"ondemand.countries-en-GB\",181:\"ondemand.countries-es\",182:\"ondemand.countries-eu\",183:\"ondemand.countries-fa\",184:\"ondemand.countries-fi\",185:\"ondemand.countries-fil\",186:\"ondemand.countries-fr\",187:\"ondemand.countries-ga\",188:\"ondemand.countries-gl\",189:\"ondemand.countries-gu\",190:\"ondemand.countries-he\",191:\"ondemand.countries-hi\",192:\"ondemand.countries-hr\",193:\"ondemand.countries-hu\",194:\"ondemand.countries-id\",195:\"ondemand.countries-it\",196:\"ondemand.countries-ja\",197:\"ondemand.countries-kn\",198:\"ondemand.countries-ko\",199:\"ondemand.countries-mr\",200:\"ondemand.countries-ms\",201:\"ondemand.countries-nb\",202:\"ondemand.countries-nl\",203:\"ondemand.countries-pl\",204:\"ondemand.countries-pt\",205:\"ondemand.countries-ro\",206:\"ondemand.countries-ru\",207:\"ondemand.countries-sk\",208:\"ondemand.countries-sr\",209:\"ondemand.countries-sv\",210:\"ondemand.countries-ta\",211:\"ondemand.countries-th\",212:\"ondemand.countries-tr\",213:\"ondemand.countries-uk\",214:\"ondemand.countries-ur\",215:\"ondemand.countries-zh\",216:\"ondemand.countries-zh-Hant\",217:\"ondemand.emoji.ar\",218:\"ondemand.emoji.bg\",219:\"ondemand.emoji.bn\",220:\"ondemand.emoji.ca\",221:\"ondemand.emoji.cs\",222:\"ondemand.emoji.da\",2224:\"ondemand.emoji.el\",225:\"ondemand.emoji.en\",226:\"ondemand.emoji.en-GB\",227:\"ondemand.emoji.en-ss\",228:\"ondemand.emoji.en-xx\",229:\"ondemand.emoji.es\",230:\"ondemand.emoji.eu\",231:\"ondemand.emoji.fa\",232:\"ondemand.emoji.fi\",233:\"ondemand.emoji.fil\",234:\"ondemand.emoji.fr\",235:\"ondemand.emoji.ga\",236:\"ondemand.emoji.gl\",237:\"ondemand.emoji.gu\",238:\"ondemand.emoji.he\",239:\"ondemand.emoji.hi\",240:\"ondemand.emoji.hr\",241:\"ondemand.emoji.hu\",242:\"ondemand.emoji.id\",243:\"ondemand.emoji.it\",244:\"ondemand.emoji.ja\",245:\"ondemand.emoji.kn\",246:\"ondemand.emoji.ko\",247:\"ondemand.emoji.mr\",248:\"ondemand.emoji.ms\",249:\"ondemand.emoji.nb\",250:\"ondemand.emoji.nl\",251:\"ondemand.emoji.pl\",252:\"ondemand.emoji.pt\",253:\"ondemand.emoji.ro\",254:\"ondemand.emoji.ru\",255:\"ondemand.emoji.sk\",256:\"ondemand.emoji.sr\",257:\"ondemand.emoji.sv\",258:\"ondemand.emoji.ta\",259:\"ondemand.emoji.th\",260:\"ondemand.emoji.tr\",261:\"ondemand.emoji.uk\",262:\"ondemand.emoji.ur\",263:\"ondemand.emoji.vi\",264:\"ondemand.emoji.zh\",265:\"ondemand.emoji.zh-Hant\",266:\"ondemand.framerateTracking\",267:\"ondemand.video.PlayerHls12\"}[e]||e)+\".\"+{0:\"e5e1826\",3:\"f8d216f\",4:\"941eace\",5:\"f53d49a\",6:\"7b3c8f5\",7:\"5bf9760\",8:\"8c11261\",9:\"199f8c8\",10:\"f1677d6\",11:\"f8736b9\",12:\"e7e0508\",13:\"d357344\",14:\"57712c5\",15:\"3291984\",16:\"dcdf615\",17:\"aa94170\",18:\"5ff3c9b\",19:\"c8afc41\",20:\"a71fd2d\",21:\"f647010\",22:\"958dba1\",24:\"65ee5a0\",25:\"776b6cb\",26:\"ad4b199\",27:\"aaad60e\",28:\"858fc06\",29:\"3bea27e\",30:\"19d0112\",31:\"0f59037\",32:\"998a98e\",33:\"633da1c\",34:\"86eb4cc\",35:\"dd8e325\",36:\"c3fe94e\",37:\"60e13cb\",38:\"2d19a0c\",39:\"d9d2267\",40:\"36a6b60\",41:\"8ee5a92\",42:\"f600a84\",43:\"279ff4d\",44:\"cc60b73\",45:\"cabbf0c\",46:\"1bd1b3b\",47:\"14ecaa7\",48:\"e20989e\",49:\"f63ae36\",50:\"559b58d\",51:\"1dd3db2\",52:\"3b25fb6\",53:\"345427b\",54:\"5649f7d\",55:\"a404385\",56:\"1e1e3d6\",57:\"20c7677\",58:\"9efa194\",59:\"86a7703\",60:\"5639dc3\",61:\"2e0442f\",62:\"19e67c0\",63:\"247c917\",64:\"87f15a3\",65:\"1d7c114\",66:\"8c33d59\",67:\"1db4a8a\",68:\"ee31031\",69:\"0c2b9df\",70:\"17ff4cb\",71:\"d83b4cc\",72:\"45f25fd\",73:\"bc1a2c7\",74:\"f60d76e\",75:\"678e833\",76:\"f177b23\",77:\"1b22f9d\",78:\"c1c72e4\",79:\"c84803a\",129:\"6b3a9d2\",130:\"472ddb2\",131:\"3636c17\",132:\"1b4872c\",133:\"b50c0e9\",134:\"5598006\",135:\"7aa7aee\",136:\"b372d79\",137:\"a56fb2f\",138:\"76746ef\",139:\"6929a3d\",140:\"2fc169e\",141:\"2d0370c\",142:\"842510e\",143:\"2112a63\",144:\"3b6f221\",145:\"8d219d9\",146:\"e491704\",147:\"53f8ee7\",148:\"941c2be\",149:\"16ee89d\",150:\"d2db9c6\",151:\"26bd4d3\",152:\"edd9d1b\",153:\"caf2299\",155:\"c3b772f\",156:\"ff2524e\",157:\"f5e17f3\",158:\"a4791c0\",159:\"ebc6390\",160:\"536e0d7\",161:\"97cae4c\",162:\"0fe9ff5\",163:\"1201779\",164:\"0e64c9c\",165:\"dfc1748\",166:\"590aa27\",167:\"bceadb5\",168:\"f9c7ad8\",169:\"ea65c67\",170:\"b0ab0c1\",171:\"2b0d584\",172:\"7627131\",173:\"a1e5da9\",174:\"7c58d50\",175:\"902076b\",176:\"0508798\",177:\"f8d0513\",178:\"7862261\",179:\"e695f19\",180:\"8769a51\",181:\"163a441\",182:\"c36f168\",183:\"8eb9f49\",184:\"ef63e76\",185:\"4ec7162\",186:\"9cbc571\",187:\"b55cfd1\",188:\"c821361\",189:\"c27fc51\",190:\"abe667c\",191:\"cbed4c1\",192:\"c791221\",193:\"3d66cf1\",194:\"1c84d98\",195:\"cf7c864\",196:\"5e61197\",197:\"3a52659\",198:\"b405c79\",199:\"a35645c\",200:\"10d7acc\",201:\"846e605\",202:\"9a74c51\",203:\"f7575a1\",204:\"8213707\",205:\"ae97d4e\",206:\"b8cbf9b\",207:\"d07594a\",208:\"daa4061\",209:\"a1ad1a5\",210:\"746be41\",211:\"c125f31\",212:\"b122d23\",213:\"34320f7\",214:\"2f44715\",215:\"3238f59\",216:\"47d1935\",217:\"06d9a7f\",218:\"76575ab\",219:\"282f2dc\",220:\"d3133db\",221:\"e51ce4d\",222:\"7133e2f\",2224:\"406ad5c\",225:\"eb50719\",226:\"7580455\",227:\"cab47da\",228:\"96bafca\",229:\"69f00f2\",230:\"db6818a\",231:\"08a274a\",232:\"7646661\",233:\"7c29a23\",234:\"ddd6690\",235:\"cdce5a7\",236:\"b000006\",237:\"664c259\",238:\"15da3bb\",239:\"97270dd\",240:\"8dfffc4\",241:\"e7e0e4a\",242:\"1fcfd0a\",243:\"e286d72\",244:\"7036933\",245:\"e60aeb4\",246:\"0535e95\",247:\"e60c691\",248:\"1602e3b\",249:\"9d6a3a4\",250:\"b5f0dc7\",251:\"ecd8db5\",252:\"7635f6f\",253:\"f4babec\",254:\"6943a12\",255:\"b0a8397\",256:\"effc7dd\",257:\"b02b060\",258:\"8553ad4\",259:\"ed5ef86\",260:\"ba0dc97\",261:\"98610d9\",262:\"9a5ca8d\",263:\"944772d\",264:\"778876e\",265:\"38e7d48\",266:\"a544971\",267:\"54c8fd6\"}[e]+\"5.js\"}(e);var c=new Error;r=function(n){i.onerror=i.onload=null,clearTimeout(l);var d=a[e];if(0!==d){if(d){var o=n&&(\"load\"===n.type?\"missing\":n.type),r=n&&n.target&&n.target.src;c.message=\"Loading chunk \"+e+\" failed.\\\\n(\"+o+\": \"+r+\")\",c.name=\"ChunkLoadError\",c.type=o,c.request=r,d[1](c)}a[e]=void 0}};var l=setTimeout((function(){r({type:\"timeout\",target:i})}),12e4);i.onerror=i.onload=r,document.head.appendChild(i)}return Promise.all(n)},t.m=e,t.c=o,t.d=function(e,n,d){t.o(e,n)||Object.defineProperty(e,n,{enumerable:!0,get:d})},t.r=function(e){\"undefined\"!=typeof Symbol&&Symbol.toStringTag&&Object.defineProperty(e,Symbol.toStringTag,{value:\"Module\"}),Object.defineProperty(e,\"__esModule\",{value:!0})},t.t=function(e,n){if(1&n&&(e=t(e)),8&n)return e;if(4&n&&\"object\"==typeof e&&e&&e.__esModule)return e;var d=Object.create(null);if(t.r(d),Object.defineProperty(d,\"default\",{enumerable:!0,value:e}),2&n&&\"string\"!=typeof e)for(var o in e)t.d(d,o,function(n){return e[n]}.bind(null,o));return d},t.n=function(e){var n=e&&e.__esModule?function(){return e.default}:function(){return e};return t.d(n,\"a\",n),n},t.o=function(e,n){return Object.prototype.hasOwnProperty.call(e,n)},t.p=\"https://abs.twimg.com/responsive-web/client-web-legacy/\",t.oe=function(e){throw e};var i=window.webpackJsonp=window.webpackJsonp||[],c=i.push.bind(i);i.push=n,i=i.slice();for(var l=0;l<i.length;l++)n(i[l]);var u=c;d()}([]),window.__SCRIPTS_LOADED__.runtime=!0;\\n\\n</script>\\n<script type=\"text/javascript\" charset=\"utf-8\" nonce=\"YWViYWQ3ZTMtMmFmZC00NzBkLTkxNDUtMDcwNTlkZjZmYTdi\" crossorigin=\"anonymous\" src=\"https://abs.twimg.com/responsive-web/client-web-legacy/polyfills.540eeb25.js\"></script>\\n<script type=\"text/javascript\" charset=\"utf-8\" nonce=\"YWViYWQ3ZTMtMmFmZC00NzBkLTkxNDUtMDcwNTlkZjZmYTdi\" crossorigin=\"anonymous\" src=\"https://abs.twimg.com/responsive-web/client-web-legacy/vendors~main.55c72055.js\"></script>\\n<script type=\"text/javascript\" charset=\"utf-8\" nonce=\"YWViYWQ3ZTMtMmFmZC00NzBkLTkxNDUtMDcwNTlkZjZmYTdi\" crossorigin=\"anonymous\" src=\"https://abs.twimg.com/responsive-web/client-web-legacy/i18n/en.0b3eaef5.js\"></script>\\n<script type=\"text/javascript\" charset=\"utf-8\" nonce=\"YWViYWQ3ZTMtMmFmZC00NzBkLTkxNDUtMDcwNTlkZjZmYTdi\" crossorigin=\"anonymous\" src=\"https://abs.twimg.com/responsive-web/client-web-legacy/main.41f91f35.js\"></script>\\n<script nonce=\"YWViYWQ3ZTMtMmFmZC00NzBkLTkxNDUtMDcwNTlkZjZmYTdi\">\\n  if (!window.__SCRIPTS_LOADED__[\\'main\\']) {\\n    document.getElementById(\\'ScriptLoadFailure\\').style.display = \\'block\\';\\n  }\\n</script>\\n'\n"
     ]
    }
   ],
   "source": [
    "#your code \n",
    "\n",
    "r = requests.get(url)\n",
    "soup = BeautifulSoup(r.content, 'html.parser')\n",
    "soup.text\n"
   ]
  },
  {
   "cell_type": "code",
   "execution_count": 423,
   "metadata": {},
   "outputs": [],
   "source": [
    "container = soup.find_all('li', attrs={'class':'portal-type-person castle-grid-block-item'})"
   ]
  },
  {
   "cell_type": "code",
   "execution_count": 424,
   "metadata": {},
   "outputs": [
    {
     "data": {
      "text/plain": [
       "[]"
      ]
     },
     "execution_count": 424,
     "metadata": {},
     "output_type": "execute_result"
    }
   ],
   "source": [
    "container"
   ]
  },
  {
   "cell_type": "code",
   "execution_count": null,
   "metadata": {},
   "outputs": [],
   "source": [
    "# me da error la página"
   ]
  },
  {
   "cell_type": "code",
   "execution_count": null,
   "metadata": {},
   "outputs": [],
   "source": []
  },
  {
   "cell_type": "code",
   "execution_count": null,
   "metadata": {},
   "outputs": [],
   "source": []
  },
  {
   "cell_type": "markdown",
   "metadata": {},
   "source": [
    "####  20 latest earthquakes info (date, time, latitude, longitude and region name) by the EMSC as a pandas dataframe"
   ]
  },
  {
   "cell_type": "code",
   "execution_count": 506,
   "metadata": {},
   "outputs": [],
   "source": [
    "# This is the url you will scrape in this exercise\n",
    "url = 'https://www.emsc-csem.org/Earthquake/'"
   ]
  },
  {
   "cell_type": "code",
   "execution_count": 507,
   "metadata": {},
   "outputs": [
    {
     "data": {
      "text/plain": [
       "'\\n\\n\\n\\n\\n\\n\\n\\n\\n\\n\\n\\n\\n\\nEarthquakes today | Earthquake today | earthquake | earthquakes\\n\\n#contenu,  #footer, #nav {\\n\\twidth: 950px;\\n}\\n\\r\\n\\t\\t\\tvar basehref=window.location.protocol+\"//\"+window.location.hostname; \\r\\n\\t\\t\\t\\n\\n\\n\\naddjs_after(\"https://static2.emsc.eu/javascript/alert_bandeau_v2.js\");addcss_after(\"https://static3.emsc.eu/Css/print.css\",\"print\"); \\n\\n\\n .ban022{background:url(\\'https://static1.emsc.eu/Css/img/spriteBannApp.jpg\\') no-repeat;} .ban0{background:#B40015;/*#000;*/width:100%;height:100%;border:0;} .ban1{vertical-align:top;text-align:center;padding-top:4px;width:150px;} \\r\\n\\t\\t\\t.ban2{position:relative; vertical-align:middle;text-align:center; color:#fff; background-position:0px -41px;/*10px -41px;*/} \\r\\n\\t\\t\\t.ban3{width:140px;padding-left:5px;text-align:center;background-position:-640px -41px;}\\r\\n\\t\\t\\t#ejs_server_heure {position:absolute; bottom:0; width:100%;}\\r\\n\\t\\t\\t#bandeau{background:#B40015;}\\n\\n\\n\\n\\n\\n\\nset_server_date(2020,8,26,14,12,53)\\nCurrent time: 2020-08-26 14:12:53 UTC\\n\\n\\n\\n\\xa0Member access\\n\\nName\\xa0\\n\\n\\nPwd\\n\\n\\n\\xa0\\r\\n\\t\\t\\t$jq(function(){\\r\\n\\t\\t\\t\\t$jq(\"#androidstore\").bind(\"click\", function(e) { e.preventDefault(); e.stopPropagation(); $jq.post(\"/indexAjaxApp.php\", { linkto:\"android\",from:\"site\"}, function () {});  window.open(\"https://play.google.com/store/apps/details?id=org.emsc_csem.lastquake\",\"_blank\"); });\\r\\n\\t\\t\\t\\t$jq(\"#iosstore\").bind(\"click\", function(e) { e.preventDefault(); e.stopPropagation(); $jq.post(\"/indexAjaxApp.php\", { linkto:\"ios\",from:\"site\" }, function () {});  window.open(\"https://itunes.apple.com/us/app/lastquake/id890799748\",\"_blank\"); });\\r\\n\\t\\t\\t\\t\\r\\n\\t\\t\\t});\\r\\n\\t\\t\\t\\n\\n\\n\\nEarthquake information\\n\\nList of latest earthquakes\\nSignificant earthquakes\\nSearch earthquakes\\nEarthquakes interactive map\\nEarthquakes near you\\nFelt earthquakes\\nSpecial reports\\nHow it works\\n\\n\\n  Testimonies, photos\\n\\nPhotos\\nTestimonies\\n\\n\\nInformation services\\n\\n For smartphones\\n Android & iOS App\\n Browser extensions\\n Webservices\\n RSS feeds\\n Seismicity on Google Earth\\n Email notification service\\n\\n\\nFor seismologists\\n\\nLatest data contributions\\nMoment tensors\\nEuro-Med bulletin\\nSeismic Portal\\nNews\\nJobs\\n\\n\\nProjects\\n\\nARISTOTLE\\nCARISMAND\\nIMPROVER\\nSeismic portal\\nCitizen seismology\\nQuake Catcher Network\\nSigma\\nVerce\\nMARsite\\nNERA\\nEPOS\\nREAKT\\n\\n\\nPublications & docs\\n\\nYou are here : \\nEMSC >\\xa0Earthquake >\\xa0Real Time Seismicity\\r\\n\\t\\tOur sponsors:\\xa0\\r\\n\\t\\tdigitalelement\\n\\xa0\\xa0\\xa0\\xa0About EMSC\\n \\r\\n\\t\\t#sitemap div, x:-moz-any-link {margin-top:-13px;} /* Firefox 2*/\\r\\n\\t\\t#sitemap div, x:-moz-any-link, x:default {margin-top:0;} /* Firefox >=3*/\\r\\n\\t\\t#sponsor{margin-right:15px;}\\r\\n\\t\\tdiv#sponimg{position:absolute; display:none; padding:20px; background:rgba(0,0,0,.8);vertical-align:middle;} #sponsor a:hover>div { display: block; }\\r\\n\\t\\tdiv#sponimg img{vertical-align:middle;}\\r\\n\\t\\n\\n var sponsor = {\\r\\n\\t\\t_sp:{\"netacuity\":{\"logo\":\"https:\\\\/\\\\/static3.emsc.eu\\\\/Images\\\\/sites\\\\/p_netacuity_01.gif\",\"link\":\"http:\\\\/\\\\/www.digitalelement.com\\\\/\",\"name\":\"digitalelement\"},\"geosig\":{\"logo\":\"https:\\\\/\\\\/static1.emsc.eu\\\\/Images\\\\/sites\\\\/geosig_logo.jpg\",\"text\":\"Strong motion instrumentation with a focus on Earthquake Early Warning<br>\",\"link\":\"http:\\\\/\\\\/www.geosig.com\\\\/\",\"name\":\"GeoSIG\"},\"scor\":{\"logo\":\"https:\\\\/\\\\/static2.emsc.eu\\\\/Images\\\\/sites\\\\/scor.png\",\"link\":\"https:\\\\/\\\\/www.scor.com\\\\/en\\\\/scor-corporate-foundation-science\",\"name\":\"SCOR\"}}, _i:0, _keys:null,\\r\\n\\t\\t_start:function() {\\r\\n\\t\\t\\tthis._keys = Object.keys(this._sp);\\t\\r\\n\\t\\t},\\t\\r\\n\\t\\t_next: function() {\\r\\n\\t\\t\\tthis._i++;\\r\\n\\t\\t\\tif(this._i >= this._keys.length) this._i=0;\\r\\n\\t\\t\\tvar k=this._keys[this._i]; //console.log(this._keys.length, k, this._i);\\r\\n\\t\\t\\t//console.log( $jq(\"#sponsor a\").contents());\\r\\n\\t\\t\\t$jq(\"#sponsor a\").attr(\"href\",this._sp[k][\"link\"]);\\r\\n\\t\\t\\t$jq(\"#sponsor a\").contents()[0].textContent=this._sp[k][\"name\"]; $jq(\"#sponimg img\").attr(\"src\",this._sp[k][\"logo\"]);\\r\\n\\t\\t\\tvar self=this;\\r\\n\\t\\t\\tsetTimeout(function() {self._next();},1000*40);\\r\\n\\t\\t}\\t\\r\\n\\t}\\r\\n\\t$jq(function() {\\r\\n\\t\\t//console.log( \"ready!\" );\\r\\n\\t\\tsponsor._start();\\r\\n\\t\\tsponsor._next();\\r\\n\\t});\\r\\n\\t\\n\\n\\ntempDisclaimer\\nReal Time Seismicity\\nDefine your criteria to find specific events  -  Quick search: \\r\\n\\t mag≥3  |  mag≥4  |  mag≥5 \\n .npages { height:30px; text-align:center; font-weight:bold; } .npages td { border-bottom: 2px solid #EDF3FE;} a.sublink { /*height:18px;*/ padding:5px 10px; border:1px solid #ccc; margin:0 4px; text-decoration:underline; background-color:#fff;} \\r\\n\\t\\t\\ta.sublinka { color:#000; text-decoration:none; font-weight:normal; background-color:#FFFFCC; /*rgb(255,255,0);*/ background-color:rgba(255,255,0,0.3); } \\r\\n\\t\\t\\t\\n \\n\\r\\n\\t\\t\\t@media print {\\r\\n\\t\\t\\t\\ttbody td {font-size:10px; } .comment { font-size:7px; width:78px;} .tabev3 { padding-right:15px; } .tabev2 { padding-right:2px; } .tabev5 { padding-right:0; padding-left:2px; } .tabev6 { width:140px; }\\r\\n\\t\\t\\t\\t.pagelist,.autour,.tb_infos,.npages {display:none;}\\t.black td{border-top:1px solid black;} #quick_access{display:none;}\\r\\n\\t\\t\\t}\\r\\n\\t\\t\\t addjs_after(\"https://static1.emsc.eu/javascript/tri_tableau.js\"); \\r\\n\\t\\t\\t\\t\\t\\t\\taddjs_after(\"https://static2.emsc.eu/javascript/tableau_tri_event.js\"); \\r\\n\\t\\t\\t\\t\\xa0- Sorting by column is performed on the data of the current page.Glossary var scrollable=false; \\n\\n\\n\\nCitizenResponseDate & Time UTCLatitude degreesLongitude degreesDepth kmMag  [+]Region name  [+]Last update [-]\\n\\n12345678910›»earthquake2020-08-26\\xa0\\xa0\\xa013:49:43.023min ago13.23\\xa0N\\xa0\\xa0121.19\\xa0E\\xa0\\xa026 M3.0\\xa0MINDORO, PHILIPPINES2020-08-26 14:07\\nearthquake2020-08-26\\xa0\\xa0\\xa013:43:58.528min ago37.57\\xa0N\\xa0\\xa029.27\\xa0E\\xa0\\xa02ML2.7\\xa0WESTERN TURKEY2020-08-26 13:56\\nearthquake2020-08-26\\xa0\\xa0\\xa013:43:45.029min ago63.91\\xa0N\\xa0\\xa022.22\\xa0W\\xa0\\xa06 M3.7\\xa0ICELAND REGION2020-08-26 13:55\\nearthquake2020-08-26\\xa0\\xa0\\xa013:30:29.142min ago19.20\\xa0N\\xa0\\xa0155.39\\xa0W\\xa0\\xa031Md2.0\\xa0ISLAND OF HAWAII, HAWAII2020-08-26 13:33\\nearthquake2020-08-26\\xa0\\xa0\\xa013:21:26.851min ago36.33\\xa0N\\xa0\\xa03.35\\xa0W\\xa0\\xa00ML2.5\\xa0STRAIT OF GIBRALTAR2020-08-26 13:35\\nearthquake2020-08-26\\xa0\\xa0\\xa013:20:43.052min ago21.41\\xa0S\\xa0\\xa071.73\\xa0W\\xa0\\xa024ML3.0\\xa0OFF COAST OF ANTOFAGASTA, CHILE2020-08-26 13:35\\nearthquake2020-08-26\\xa0\\xa0\\xa013:20:30.052min ago38.18\\xa0N\\xa0\\xa039.54\\xa0E\\xa0\\xa015ML2.1\\xa0EASTERN TURKEY2020-08-26 13:47\\nearthquake2020-08-26\\xa0\\xa0\\xa013:12:46.81hr 00min ago17.96\\xa0N\\xa0\\xa066.91\\xa0W\\xa0\\xa013Md2.2\\xa0PUERTO RICO REGION2020-08-26 13:40\\nearthquake2020-08-26\\xa0\\xa0\\xa013:03:50.01hr 09min ago21.64\\xa0S\\xa0\\xa068.47\\xa0W\\xa0\\xa0136ML3.1\\xa0ANTOFAGASTA, CHILE2020-08-26 13:12\\nearthquake2020-08-26\\xa0\\xa0\\xa012:55:13.01hr 17min ago21.55\\xa0S\\xa0\\xa068.49\\xa0W\\xa0\\xa0126ML2.5\\xa0ANTOFAGASTA, CHILE2020-08-26 13:05\\nearthquake2020-08-26\\xa0\\xa0\\xa012:53:41.91hr 19min ago17.95\\xa0N\\xa0\\xa066.91\\xa0W\\xa0\\xa012Md2.7\\xa0PUERTO RICO REGION2020-08-26 14:00\\n1Fearthquake2020-08-26\\xa0\\xa0\\xa012:49:23.21hr 23min ago34.29\\xa0N\\xa0\\xa0119.31\\xa0W\\xa0\\xa07ML2.5\\xa0GREATER LOS ANGELES AREA, CALIF.2020-08-26 12:57\\nIVearthquake2020-08-26\\xa0\\xa0\\xa012:28:08.71hr 44min ago18.28\\xa0N\\xa0\\xa077.34\\xa0W\\xa0\\xa02mb4.5\\xa0JAMAICA REGION2020-08-26 13:13\\nearthquake2020-08-26\\xa0\\xa0\\xa012:00:12.02hr 12min ago17.39\\xa0N\\xa0\\xa0120.02\\xa0E\\xa0\\xa01 M3.4\\xa0LUZON, PHILIPPINES2020-08-26 12:10\\nearthquake2020-08-26\\xa0\\xa0\\xa011:59:35.42hr 13min ago38.16\\xa0N\\xa0\\xa0117.97\\xa0W\\xa0\\xa010ml2.1\\xa0NEVADA2020-08-26 12:03\\nearthquake2020-08-26\\xa0\\xa0\\xa011:28:07.02hr 44min ago12.13\\xa0N\\xa0\\xa0123.98\\xa0E\\xa0\\xa016 M3.3\\xa0MASBATE REGION, PHILIPPINES2020-08-26 11:45\\nearthquake2020-08-26\\xa0\\xa0\\xa011:26:04.62hr 46min ago20.10\\xa0S\\xa0\\xa0178.38\\xa0W\\xa0\\xa0598mb4.4\\xa0FIJI REGION2020-08-26 11:50\\nearthquake2020-08-26\\xa0\\xa0\\xa011:22:46.02hr 50min ago22.04\\xa0S\\xa0\\xa068.71\\xa0W\\xa0\\xa0124ML3.1\\xa0ANTOFAGASTA, CHILE2020-08-26 11:33\\nearthquake2020-08-26\\xa0\\xa0\\xa011:21:17.02hr 51min ago12.04\\xa0N\\xa0\\xa0124.05\\xa0E\\xa0\\xa017 M3.5\\xa0SAMAR, PHILIPPINES2020-08-26 11:37\\nearthquake2020-08-26\\xa0\\xa0\\xa011:16:22.02hr 56min ago1.73\\xa0N\\xa0\\xa0127.88\\xa0E\\xa0\\xa010 M3.0\\xa0HALMAHERA, INDONESIA2020-08-26 11:27\\nearthquake2020-08-26\\xa0\\xa0\\xa011:10:34.03hr 02min ago2.92\\xa0N\\xa0\\xa0128.82\\xa0E\\xa0\\xa010 M3.8\\xa0HALMAHERA, INDONESIA2020-08-26 11:20\\nearthquake2020-08-26\\xa0\\xa0\\xa010:53:26.93hr 19min ago19.21\\xa0N\\xa0\\xa0155.39\\xa0W\\xa0\\xa031Md2.1\\xa0ISLAND OF HAWAII, HAWAII2020-08-26 10:56\\nearthquake2020-08-26\\xa0\\xa0\\xa010:43:25.83hr 29min ago19.23\\xa0N\\xa0\\xa0155.40\\xa0W\\xa0\\xa032Md2.2\\xa0ISLAND OF HAWAII, HAWAII2020-08-26 10:46\\nearthquake2020-08-26\\xa0\\xa0\\xa010:23:38.83hr 49min ago33.89\\xa0N\\xa0\\xa0116.56\\xa0W\\xa0\\xa012Ml2.0\\xa0SOUTHERN CALIFORNIA2020-08-26 10:25\\nearthquake2020-08-26\\xa0\\xa0\\xa010:17:35.73hr 55min ago36.71\\xa0N\\xa0\\xa06.12\\xa0W\\xa0\\xa017ML2.2\\xa0STRAIT OF GIBRALTAR2020-08-26 10:40\\nearthquake2020-08-26\\xa0\\xa0\\xa010:06:38.04hr 06min ago9.22\\xa0S\\xa0\\xa0124.19\\xa0E\\xa0\\xa063 M2.6\\xa0TIMOR REGION2020-08-26 10:15\\nearthquake2020-08-26\\xa0\\xa0\\xa009:55:00.04hr 17min ago23.88\\xa0S\\xa0\\xa067.42\\xa0W\\xa0\\xa0234ML3.8\\xa0ANTOFAGASTA, CHILE2020-08-26 10:12\\nearthquake2020-08-26\\xa0\\xa0\\xa009:48:24.04hr 24min ago19.77\\xa0N\\xa0\\xa071.21\\xa0W\\xa0\\xa029 M2.6\\xa0DOMINICAN REPUBLIC2020-08-26 10:22\\nearthquake2020-08-26\\xa0\\xa0\\xa009:30:09.04hr 42min ago19.17\\xa0N\\xa0\\xa070.96\\xa0W\\xa0\\xa051 M2.7\\xa0DOMINICAN REPUBLIC2020-08-26 10:16\\nearthquake2020-08-26\\xa0\\xa0\\xa009:23:16.04hr 49min ago16.99\\xa0N\\xa0\\xa098.66\\xa0W\\xa0\\xa044 M3.3\\xa0GUERRERO, MEXICO2020-08-26 13:00\\nearthquake2020-08-26\\xa0\\xa0\\xa009:18:44.04hr 54min ago9.62\\xa0S\\xa0\\xa075.85\\xa0W\\xa0\\xa011 M3.6\\xa0CENTRAL PERU2020-08-26 09:39\\nearthquake2020-08-26\\xa0\\xa0\\xa009:18:31.74hr 54min ago71.95\\xa0N\\xa0\\xa01.50\\xa0W\\xa0\\xa02mb4.5\\xa0JAN MAYEN ISLAND REGION2020-08-26 10:18\\nearthquake2020-08-26\\xa0\\xa0\\xa009:15:08.04hr 57min ago19.49\\xa0N\\xa0\\xa0105.36\\xa0W\\xa0\\xa07 M3.3\\xa0OFFSHORE JALISCO, MEXICO2020-08-26 13:01\\nearthquake2020-08-26\\xa0\\xa0\\xa009:15:02.04hr 57min ago33.18\\xa0S\\xa0\\xa071.29\\xa0W\\xa0\\xa062ML2.8\\xa0VALPARAISO, CHILE2020-08-26 09:34\\nearthquake2020-08-26\\xa0\\xa0\\xa009:14:09.04hr 58min ago16.09\\xa0N\\xa0\\xa097.77\\xa0W\\xa0\\xa03 M3.4\\xa0OAXACA, MEXICO2020-08-26 13:01\\nearthquake2020-08-26\\xa0\\xa0\\xa009:09:03.25hr 03min ago19.23\\xa0N\\xa0\\xa0155.41\\xa0W\\xa0\\xa039ML2.6\\xa0ISLAND OF HAWAII, HAWAII2020-08-26 09:20\\nearthquake2020-08-26\\xa0\\xa0\\xa009:04:09.75hr 08min ago39.70\\xa0N\\xa0\\xa020.29\\xa0E\\xa0\\xa016ML2.4\\xa0GREECE2020-08-26 09:14\\nearthquake2020-08-26\\xa0\\xa0\\xa009:03:15.75hr 09min ago45.69\\xa0N\\xa0\\xa026.61\\xa0E\\xa0\\xa077ML3.1\\xa0ROMANIA2020-08-26 09:39\\nearthquake2020-08-26\\xa0\\xa0\\xa009:03:00.05hr 09min ago16.31\\xa0N\\xa0\\xa098.10\\xa0W\\xa0\\xa07 M3.6\\xa0OAXACA, MEXICO2020-08-26 13:01\\nearthquake2020-08-26\\xa0\\xa0\\xa008:56:53.05hr 16min ago27.27\\xa0S\\xa0\\xa069.42\\xa0W\\xa0\\xa0108ML3.4\\xa0ATACAMA, CHILE2020-08-26 09:11\\nearthquake2020-08-26\\xa0\\xa0\\xa008:54:02.05hr 18min ago44.20\\xa0N\\xa0\\xa010.65\\xa0E\\xa0\\xa011ML2.7\\xa0NORTHERN ITALY2020-08-26 09:24\\nearthquake2020-08-26\\xa0\\xa0\\xa008:48:10.05hr 24min ago17.66\\xa0N\\xa0\\xa0100.90\\xa0W\\xa0\\xa012 M3.5\\xa0GUERRERO, MEXICO2020-08-26 13:01\\nearthquake2020-08-26\\xa0\\xa0\\xa008:44:05.05hr 28min ago18.23\\xa0N\\xa0\\xa0103.52\\xa0W\\xa0\\xa02 M3.4\\xa0OFFSHORE MICHOACAN, MEXICO2020-08-26 13:01\\nearthquake2020-08-26\\xa0\\xa0\\xa008:41:51.25hr 31min ago19.24\\xa0N\\xa0\\xa0155.38\\xa0W\\xa0\\xa032Ml2.5\\xa0ISLAND OF HAWAII, HAWAII2020-08-26 08:47\\nearthquake2020-08-26\\xa0\\xa0\\xa008:39:54.95hr 32min ago15.82\\xa0S\\xa0\\xa0179.46\\xa0W\\xa0\\xa010mb4.9\\xa0FIJI REGION2020-08-26 09:23\\nearthquake2020-08-26\\xa0\\xa0\\xa008:38:47.05hr 34min ago0.34\\xa0N\\xa0\\xa0121.60\\xa0E\\xa0\\xa0166 M3.6\\xa0MINAHASA, SULAWESI, INDONESIA2020-08-26 08:47\\nearthquake2020-08-26\\xa0\\xa0\\xa008:35:55.05hr 36min ago14.73\\xa0N\\xa0\\xa093.80\\xa0W\\xa0\\xa051 M3.8\\xa0OFF COAST OF CHIAPAS, MEXICO2020-08-26 13:02\\nearthquake2020-08-26\\xa0\\xa0\\xa008:34:22.15hr 38min ago17.96\\xa0N\\xa0\\xa066.98\\xa0W\\xa0\\xa07Md2.4\\xa0PUERTO RICO2020-08-26 08:48\\nearthquake2020-08-26\\xa0\\xa0\\xa008:29:16.05hr 43min ago38.27\\xa0S\\xa0\\xa074.85\\xa0W\\xa0\\xa041ML2.8\\xa0OFF COAST OF ARAUCANIA, CHILE2020-08-26 08:48\\nearthquake2020-08-26\\xa0\\xa0\\xa008:25:12.05hr 47min ago17.91\\xa0N\\xa0\\xa098.45\\xa0W\\xa0\\xa054 M3.3\\xa0GUERRERO, MEXICO2020-08-26 13:02\\n 12345678910›»Bold : Earthquakes with a magnitude ≥ 4.5 in Euro-med, or ≥ 5.5 in the world Red : Earthquakes with a magnitude ≥ 5 in Euro-med, or ≥ 6 in the world \\r\\n\\t\\t\\t\\tvar nb_event_on_page=50;\\r\\n\\t\\t\\t\\r\\n\\t\\t\\t\\tfunction cancel_evt(e) {\\r\\n\\t\\t\\t\\t\\tif(e.bubbles===undefined) e.cancelBubble = true;\\r\\n\\t\\t\\t\\t\\telse e.stopPropagation();\\r\\n\\t\\t\\t\\t}\\t\\r\\n\\t\\t\\t\\tfunction go_details(e,id,page) {\\r\\n\\t\\t\\t\\t\\tif((!id) || (id==null)) {\\r\\n\\t\\t\\t\\t\\t\\tcancel_evt(e);\\r\\n\\t\\t\\t\\t\\t\\twindow.open(page,\"Intensity_Map\",\"menubar=no, status=no, scrollbars=no, menubar=no, width=900, height=1000\");\\r\\n\\t\\t\\t\\t\\t}\\t\\r\\n\\t\\t\\t\\t\\telse document.location.href=\"/Earthquake/earthquake.php?id=\"+id;\\r\\n\\t\\t\\t\\t}\\r\\n\\t\\t\\t\\t\\r\\n\\t\\t\\t\\tvar is_hide_magni=true;\\r\\n\\t\\t\\t\\tfunction hide_magni() {\\r\\n\\t\\t\\t\\t\\tif(!is_hide_magni) {\\r\\n\\t\\t\\t\\t\\t\\tis_hide_magni=true;\\r\\n\\t\\t\\t\\t\\t\\tif(document.getElementById(\"thmag\")) document.getElementById(\"thmag\").colSpan=\"1\";\\r\\n\\t\\t\\t\\t\\t\\tif(document.getElementById(\"magplus\")) document.getElementById(\"magplus\").innerHTML=\"[+]\";\\r\\n\\t\\t\\t\\t\\t\\tfor (i=0;i<= nb_event_on_page;i++) {\\r\\n\\t\\t\\t\\t\\t\\t\\tif(document.getElementById(\"magtyp\"+i)) { document.getElementById(\"magtyp\"+i).className=\"tabev5\"; } \\r\\n\\t\\t\\t\\t\\t\\t}\\r\\n\\t\\t\\t\\t\\t}\\r\\n\\t\\t\\t\\t\\telse {\\r\\n\\t\\t\\t\\t\\t\\tis_hide_magni=false;\\r\\n\\t\\t\\t\\t\\t\\tif(document.getElementById(\"thmag\")) document.getElementById(\"thmag\").colSpan=\"2\";\\r\\n\\t\\t\\t\\t\\t\\tif(document.getElementById(\"magplus\")) document.getElementById(\"magplus\").innerHTML=\"[-]\";\\r\\n\\t\\t\\t\\t\\t\\tfor (i=0;i<= nb_event_on_page;i++) {\\r\\n\\t\\t\\t\\t\\t\\t\\tif(document.getElementById(\"magtyp\"+i)) {document.getElementById(\"magtyp\"+i).className=\"tabev52\"; } \\r\\n\\t\\t\\t\\t\\t\\t}\\r\\n\\t\\t\\t\\t\\t}\\t\\r\\n\\t\\t\\t\\t}\\t\\r\\n\\t\\t\\t\\t\\r\\n\\t\\t\\t\\tvar ishide=true;\\r\\n\\t\\t\\t\\tfunction hide_upd() {\\r\\n\\t\\t\\t\\t\\tvar i=0;\\r\\n\\t\\t\\t\\t\\tif(!ishide) {\\r\\n\\t\\t\\t\\t\\t\\tishide=true;\\r\\n\\t\\t\\t\\t\\t\\tdocument.getElementById(\"upd\").className=\"th2 updatetimeno\";\\r\\n\\t\\t\\t\\t\\t\\tdocument.getElementById(\"upda\").style.display=\"block\";\\r\\n\\t\\t\\t\\t\\t\\t\\r\\n\\t\\t\\t\\t\\t\\tfor (i=0;i<= nb_event_on_page;i++) {\\r\\n\\t\\t\\t\\t\\t\\t\\tif(document.getElementById(\"upd\"+i)) document.getElementById(\"upd\"+i).className=\"comment updatetimeno\";\\r\\n\\t\\t\\t\\t\\t\\t\\tif(document.getElementById(\"reg\"+i)) document.getElementById(\"reg\"+i).style.paddingLeft=\"20px\";\\r\\n\\t\\t\\t\\t\\t\\t}\\t\\r\\n\\t\\t\\t\\t\\t}\\r\\n\\t\\t\\t\\t\\telse {\\r\\n\\t\\t\\t\\t\\t\\t\\tishide=false;\\r\\n\\t\\t\\t\\t\\t\\tdocument.getElementById(\"upda\").style.display=\"none\";\\t\\r\\n\\t\\t\\t\\t\\t\\tdocument.getElementById(\"upd\").className=\"th2\";\\r\\n\\t\\t\\t\\t\\t\\t\\r\\n\\t\\t\\t\\t\\t\\tfor (i=0;i<= nb_event_on_page;i++) {\\r\\n\\t\\t\\t\\t\\t\\t\\tif(document.getElementById(\"reg\"+i)) document.getElementById(\"reg\"+i).style.paddingLeft=\"4px\";\\r\\n\\t\\t\\t\\t\\t\\t\\tif(document.getElementById(\"upd\"+i)) document.getElementById(\"upd\"+i).className=\"comment\";\\r\\n\\t\\t\\t\\t\\t\\t}\\t\\r\\n\\t\\t\\t\\t\\t\\t\\r\\n\\t\\t\\t\\t\\t}\\t\\r\\n\\t\\t\\t\\t}\\r\\n\\t\\t\\t\\t\\tfunction update_ago() {\\r\\n\\t\\t\\t\\t\\t\\tvar i=0;\\r\\n\\t\\t\\t\\t\\t\\tvar def=new Array(\"min ago\",\"hr \");\\r\\n\\t\\t\\t\\t\\t\\twhile( document.getElementById(\"ago\"+i)) { \\r\\n\\t\\t\\t\\t\\t\\t\\tvar tb=new Array();\\r\\n\\t\\t\\t\\t\\t\\t\\tvar elem=document.getElementById(\"ago\"+i);\\r\\n\\t\\t\\t\\t\\t\\t\\tvar str=elem.innerHTML.replace(/min ago/i,\"\").replace(/hr/i,\"\");\\r\\n\\t\\t\\t\\t\\t\\t\\ttb=str.split(\" \").reverse();\\r\\n\\t\\t\\t\\t\\t\\t\\t//if(i==0) alert(\"**\"+str+\"**\"+tb[0]+\" | \"+tb[1]);\\r\\n\\t\\t\\t\\t\\t\\t\\tvar str2=\"\";\\r\\n\\t\\t\\t\\t\\t\\t\\tvar ln=tb.length;\\r\\n\\t\\t\\t\\t\\t\\t\\tvar j=0;\\r\\n\\t\\t\\t\\t\\t\\t\\r\\n\\t\\t\\t\\t\\t\\t\\ttb[j]=parseFloat(tb[j])+1;\\r\\n\\t\\t\\t\\t\\t\\t\\tif(tb[j]==60) {\\r\\n\\t\\t\\t\\t\\t\\t\\t\\ttb[j]=0;\\r\\n\\t\\t\\t\\t\\t\\t\\t\\tif(ln<=1) tb[j+1]=0;\\r\\n\\t\\t\\t\\t\\t\\t\\t\\ttb[j+1]=parseFloat(tb[j+1])+1;\\r\\n\\t\\t\\t\\t\\t\\t\\t\\tif(tb[j+1]>=12) elem.parentNode.removeChild(elem);\\r\\n\\t\\t\\t\\t\\t\\t\\t}\\t\\r\\n\\t\\t\\t\\t\\t\\t\\tif(tb[j]<10) { tb[j]=\"0\"+tb[j]; }\\r\\n\\t\\t\\t\\t\\t\\t\\t\\t\\r\\n\\t\\t\\t\\t\\t\\t\\tdo {\\r\\n\\t\\t\\t\\t\\t\\t\\t\\ttb[j]+=def[j];\\r\\n\\t\\t\\t\\t\\t\\t\\t\\tj++;\\r\\n\\t\\t\\t\\t\\t\\t\\t} while(tb.length>=(j+1));\\t\\r\\n\\t\\t\\t\\t\\t\\t\\t\\r\\n\\t\\t\\t\\t\\t\\t\\ttb.reverse();\\r\\n\\t\\t\\t\\t\\t\\t\\tfor(var z=0; z<tb.length;z++) {\\r\\n\\t\\t\\t\\t\\t\\t\\t\\tstr2+=tb[z];\\r\\n\\t\\t\\t\\t\\t\\t\\t}\\t\\r\\n\\t\\t\\t\\t\\r\\n\\t\\t\\t\\t\\t\\t\\telem.innerHTML=str2;\\r\\n\\t\\t\\t\\t\\t\\t\\t//alert(str2);\\r\\n\\t\\t\\t\\t\\t\\t\\ti++;\\r\\n\\t\\t\\t\\t\\t\\t} \\r\\n\\t\\t\\t\\t\\t\\tsetTimeout(\"update_ago()\",60000); //1min \\r\\n\\t\\t\\t\\t\\t}\\r\\n\\t\\t\\t\\t\\tsetTimeout(\"update_ago()\",60000);\\r\\n\\t\\t\\t\\t\\t //update_ago();\\r\\n\\t\\t\\t\\tvar tab_time=new Array( {evid:888694, time:\"2020-08-26&#160;&#160;&#160;13:49:43.0\", times:\"1598449783\"},{evid:888691, time:\"2020-08-26&#160;&#160;&#160;13:43:58.5\", times:\"1598449438.5\"},{evid:888692, time:\"2020-08-26&#160;&#160;&#160;13:43:45.0\", times:\"1598449425\"},{evid:888684, time:\"2020-08-26&#160;&#160;&#160;13:30:29.1\", times:\"1598448629.1\"},{evid:888686, time:\"2020-08-26&#160;&#160;&#160;13:21:26.8\", times:\"1598448086.8\"},{evid:888685, time:\"2020-08-26&#160;&#160;&#160;13:20:43.0\", times:\"1598448043\"},{evid:888688, time:\"2020-08-26&#160;&#160;&#160;13:20:30.0\", times:\"1598448030\"},{evid:888687, time:\"2020-08-26&#160;&#160;&#160;13:12:46.8\", times:\"1598447566.8\"},{evid:888682, time:\"2020-08-26&#160;&#160;&#160;13:03:50.0\", times:\"1598447030\"},{evid:888681, time:\"2020-08-26&#160;&#160;&#160;12:55:13.0\", times:\"1598446513\"},{evid:888693, time:\"2020-08-26&#160;&#160;&#160;12:53:41.9\", times:\"1598446421.9\"},{evid:888664, time:\"2020-08-26&#160;&#160;&#160;12:49:23.2\", times:\"1598446163.2\"},{evid:888663, time:\"2020-08-26&#160;&#160;&#160;12:28:08.7\", times:\"1598444888.7\"},{evid:888662, time:\"2020-08-26&#160;&#160;&#160;12:00:12.0\", times:\"1598443212\"},{evid:888661, time:\"2020-08-26&#160;&#160;&#160;11:59:35.4\", times:\"1598443175.4\"},{evid:888658, time:\"2020-08-26&#160;&#160;&#160;11:28:07.0\", times:\"1598441287\"},{evid:888660, time:\"2020-08-26&#160;&#160;&#160;11:26:04.6\", times:\"1598441164.6\"},{evid:888655, time:\"2020-08-26&#160;&#160;&#160;11:22:46.0\", times:\"1598440966\"},{evid:888657, time:\"2020-08-26&#160;&#160;&#160;11:21:17.0\", times:\"1598440877\"},{evid:888651, time:\"2020-08-26&#160;&#160;&#160;11:16:22.0\", times:\"1598440582\"},{evid:888650, time:\"2020-08-26&#160;&#160;&#160;11:10:34.0\", times:\"1598440234\"},{evid:888645, time:\"2020-08-26&#160;&#160;&#160;10:53:26.9\", times:\"1598439206.9\"},{evid:888643, time:\"2020-08-26&#160;&#160;&#160;10:43:25.8\", times:\"1598438605.8\"},{evid:888640, time:\"2020-08-26&#160;&#160;&#160;10:23:38.8\", times:\"1598437418.8\"},{evid:888642, time:\"2020-08-26&#160;&#160;&#160;10:17:35.7\", times:\"1598437055.7\"},{evid:888637, time:\"2020-08-26&#160;&#160;&#160;10:06:38.0\", times:\"1598436398\"},{evid:888634, time:\"2020-08-26&#160;&#160;&#160;09:55:00.0\", times:\"1598435700\"},{evid:888639, time:\"2020-08-26&#160;&#160;&#160;09:48:24.0\", times:\"1598435304\"},{evid:888638, time:\"2020-08-26&#160;&#160;&#160;09:30:09.0\", times:\"1598434209\"},{evid:888666, time:\"2020-08-26&#160;&#160;&#160;09:23:16.0\", times:\"1598433796\"},{evid:888632, time:\"2020-08-26&#160;&#160;&#160;09:18:44.0\", times:\"1598433524\"},{evid:888630, time:\"2020-08-26&#160;&#160;&#160;09:18:31.7\", times:\"1598433511.7\"},{evid:888672, time:\"2020-08-26&#160;&#160;&#160;09:15:08.0\", times:\"1598433308\"},{evid:888631, time:\"2020-08-26&#160;&#160;&#160;09:15:02.0\", times:\"1598433302\"},{evid:888674, time:\"2020-08-26&#160;&#160;&#160;09:14:09.0\", times:\"1598433249\"},{evid:888627, time:\"2020-08-26&#160;&#160;&#160;09:09:03.2\", times:\"1598432943.2\"},{evid:888628, time:\"2020-08-26&#160;&#160;&#160;09:04:09.7\", times:\"1598432649.7\"},{evid:888633, time:\"2020-08-26&#160;&#160;&#160;09:03:15.7\", times:\"1598432595.7\"},{evid:888675, time:\"2020-08-26&#160;&#160;&#160;09:03:00.0\", times:\"1598432580\"},{evid:888626, time:\"2020-08-26&#160;&#160;&#160;08:56:53.0\", times:\"1598432213\"},{evid:888625, time:\"2020-08-26&#160;&#160;&#160;08:54:02.0\", times:\"1598432042\"},{evid:888676, time:\"2020-08-26&#160;&#160;&#160;08:48:10.0\", times:\"1598431690\"},{evid:888677, time:\"2020-08-26&#160;&#160;&#160;08:44:05.0\", times:\"1598431445\"},{evid:888616, time:\"2020-08-26&#160;&#160;&#160;08:41:51.2\", times:\"1598431311.2\"},{evid:888623, time:\"2020-08-26&#160;&#160;&#160;08:39:54.9\", times:\"1598431194.9\"},{evid:888619, time:\"2020-08-26&#160;&#160;&#160;08:38:47.0\", times:\"1598431127\"},{evid:888678, time:\"2020-08-26&#160;&#160;&#160;08:35:55.0\", times:\"1598430955\"},{evid:888621, time:\"2020-08-26&#160;&#160;&#160;08:34:22.1\", times:\"1598430862.1\"},{evid:888620, time:\"2020-08-26&#160;&#160;&#160;08:29:16.0\", times:\"1598430556\"},{evid:888679, time:\"2020-08-26&#160;&#160;&#160;08:25:12.0\", times:\"1598430312\"});\\nvar tab_tab=new Array( {evid:888694, ago:\"23min ago\", comm: \"0\", pics: \"0\", intens: \"-1\", lat:\"13.23\", lon:\"121.19\", depth:\"26\", mag:\"3.0\", reg:\"MINDORO, PHILIPPINES\",upd:\"1598450820\"},{evid:888691, ago:\"28min ago\", comm: \"0\", pics: \"0\", intens: \"-1\", lat:\"37.57\", lon:\"29.27\", depth:\"2\", mag:\"2.7\", reg:\"WESTERN TURKEY\",upd:\"1598450160\"},{evid:888692, ago:\"29min ago\", comm: \"0\", pics: \"0\", intens: \"-1\", lat:\"63.91\", lon:\"-22.22\", depth:\"6\", mag:\"3.7\", reg:\"ICELAND REGION\",upd:\"1598450100\"},{evid:888684, ago:\"42min ago\", comm: \"0\", pics: \"0\", intens: \"-1\", lat:\"19.20\", lon:\"-155.39\", depth:\"31\", mag:\"2.0\", reg:\"ISLAND OF HAWAII, HAWAII\",upd:\"1598448780\"},{evid:888686, ago:\"51min ago\", comm: \"0\", pics: \"0\", intens: \"-1\", lat:\"36.33\", lon:\"-3.35\", depth:\"0\", mag:\"2.5\", reg:\"STRAIT OF GIBRALTAR\",upd:\"1598448900\"},{evid:888685, ago:\"52min ago\", comm: \"0\", pics: \"0\", intens: \"-1\", lat:\"-21.41\", lon:\"-71.73\", depth:\"24\", mag:\"3.0\", reg:\"OFF COAST OF ANTOFAGASTA, CHILE\",upd:\"1598448900\"},{evid:888688, ago:\"52min ago\", comm: \"0\", pics: \"0\", intens: \"-1\", lat:\"38.18\", lon:\"39.54\", depth:\"15\", mag:\"2.1\", reg:\"EASTERN TURKEY\",upd:\"1598449620\"},{evid:888687, ago:\"1hr 00min ago\", comm: \"0\", pics: \"0\", intens: \"-1\", lat:\"17.96\", lon:\"-66.91\", depth:\"13\", mag:\"2.2\", reg:\"PUERTO RICO REGION\",upd:\"1598449200\"},{evid:888682, ago:\"1hr 09min ago\", comm: \"0\", pics: \"0\", intens: \"-1\", lat:\"-21.64\", lon:\"-68.47\", depth:\"136\", mag:\"3.1\", reg:\"ANTOFAGASTA, CHILE\",upd:\"1598447520\"},{evid:888681, ago:\"1hr 17min ago\", comm: \"0\", pics: \"0\", intens: \"-1\", lat:\"-21.55\", lon:\"-68.49\", depth:\"126\", mag:\"2.5\", reg:\"ANTOFAGASTA, CHILE\",upd:\"1598447100\"},{evid:888693, ago:\"1hr 19min ago\", comm: \"0\", pics: \"0\", intens: \"-1\", lat:\"17.95\", lon:\"-66.91\", depth:\"12\", mag:\"2.7\", reg:\"PUERTO RICO REGION\",upd:\"1598450400\"},{evid:888664, ago:\"1hr 23min ago\", comm: \"1\", pics: \"0\", intens: \"0\", lat:\"34.29\", lon:\"-119.31\", depth:\"7\", mag:\"2.5\", reg:\"GREATER LOS ANGELES AREA, CALIF.\",upd:\"1598446620\"},{evid:888663, ago:\"1hr 44min ago\", comm: \"0\", pics: \"0\", intens: \"4\", lat:\"18.28\", lon:\"-77.34\", depth:\"2\", mag:\"4.5\", reg:\"JAMAICA REGION\",upd:\"1598447580\"},{evid:888662, ago:\"2hr 12min ago\", comm: \"0\", pics: \"0\", intens: \"-1\", lat:\"17.39\", lon:\"120.02\", depth:\"1\", mag:\"3.4\", reg:\"LUZON, PHILIPPINES\",upd:\"1598443800\"},{evid:888661, ago:\"2hr 13min ago\", comm: \"0\", pics: \"0\", intens: \"-1\", lat:\"38.16\", lon:\"-117.97\", depth:\"10\", mag:\"2.1\", reg:\"NEVADA\",upd:\"1598443380\"},{evid:888658, ago:\"2hr 44min ago\", comm: \"0\", pics: \"0\", intens: \"-1\", lat:\"12.13\", lon:\"123.98\", depth:\"16\", mag:\"3.3\", reg:\"MASBATE REGION, PHILIPPINES\",upd:\"1598442300\"},{evid:888660, ago:\"2hr 46min ago\", comm: \"0\", pics: \"0\", intens: \"-1\", lat:\"-20.10\", lon:\"-178.38\", depth:\"598\", mag:\"4.4\", reg:\"FIJI REGION\",upd:\"1598442600\"},{evid:888655, ago:\"2hr 50min ago\", comm: \"0\", pics: \"0\", intens: \"-1\", lat:\"-22.04\", lon:\"-68.71\", depth:\"124\", mag:\"3.1\", reg:\"ANTOFAGASTA, CHILE\",upd:\"1598441580\"},{evid:888657, ago:\"2hr 51min ago\", comm: \"0\", pics: \"0\", intens: \"-1\", lat:\"12.04\", lon:\"124.05\", depth:\"17\", mag:\"3.5\", reg:\"SAMAR, PHILIPPINES\",upd:\"1598441820\"},{evid:888651, ago:\"2hr 56min ago\", comm: \"0\", pics: \"0\", intens: \"-1\", lat:\"1.73\", lon:\"127.88\", depth:\"10\", mag:\"3.0\", reg:\"HALMAHERA, INDONESIA\",upd:\"1598441220\"},{evid:888650, ago:\"3hr 02min ago\", comm: \"0\", pics: \"0\", intens: \"-1\", lat:\"2.92\", lon:\"128.82\", depth:\"10\", mag:\"3.8\", reg:\"HALMAHERA, INDONESIA\",upd:\"1598440800\"},{evid:888645, ago:\"3hr 19min ago\", comm: \"0\", pics: \"0\", intens: \"-1\", lat:\"19.21\", lon:\"-155.39\", depth:\"31\", mag:\"2.1\", reg:\"ISLAND OF HAWAII, HAWAII\",upd:\"1598439360\"},{evid:888643, ago:\"3hr 29min ago\", comm: \"0\", pics: \"0\", intens: \"-1\", lat:\"19.23\", lon:\"-155.40\", depth:\"32\", mag:\"2.2\", reg:\"ISLAND OF HAWAII, HAWAII\",upd:\"1598438760\"},{evid:888640, ago:\"3hr 49min ago\", comm: \"0\", pics: \"0\", intens: \"-1\", lat:\"33.89\", lon:\"-116.56\", depth:\"12\", mag:\"2.0\", reg:\"SOUTHERN CALIFORNIA\",upd:\"1598437500\"},{evid:888642, ago:\"3hr 55min ago\", comm: \"0\", pics: \"0\", intens: \"-1\", lat:\"36.71\", lon:\"-6.12\", depth:\"17\", mag:\"2.2\", reg:\"STRAIT OF GIBRALTAR\",upd:\"1598438400\"},{evid:888637, ago:\"4hr 06min ago\", comm: \"0\", pics: \"0\", intens: \"-1\", lat:\"-9.22\", lon:\"124.19\", depth:\"63\", mag:\"2.6\", reg:\"TIMOR REGION\",upd:\"1598436900\"},{evid:888634, ago:\"4hr 17min ago\", comm: \"0\", pics: \"0\", intens: \"-1\", lat:\"-23.88\", lon:\"-67.42\", depth:\"234\", mag:\"3.8\", reg:\"ANTOFAGASTA, CHILE\",upd:\"1598436720\"},{evid:888639, ago:\"4hr 24min ago\", comm: \"0\", pics: \"0\", intens: \"-1\", lat:\"19.77\", lon:\"-71.21\", depth:\"29\", mag:\"2.6\", reg:\"DOMINICAN REPUBLIC\",upd:\"1598437320\"},{evid:888638, ago:\"4hr 42min ago\", comm: \"0\", pics: \"0\", intens: \"-1\", lat:\"19.17\", lon:\"-70.96\", depth:\"51\", mag:\"2.7\", reg:\"DOMINICAN REPUBLIC\",upd:\"1598436960\"},{evid:888666, ago:\"4hr 49min ago\", comm: \"0\", pics: \"0\", intens: \"-1\", lat:\"16.99\", lon:\"-98.66\", depth:\"44\", mag:\"3.3\", reg:\"GUERRERO, MEXICO\",upd:\"1598446800\"},{evid:888632, ago:\"4hr 54min ago\", comm: \"0\", pics: \"0\", intens: \"-1\", lat:\"-9.62\", lon:\"-75.85\", depth:\"11\", mag:\"3.6\", reg:\"CENTRAL PERU\",upd:\"1598434740\"},{evid:888630, ago:\"4hr 54min ago\", comm: \"0\", pics: \"0\", intens: \"-1\", lat:\"71.95\", lon:\"-1.50\", depth:\"2\", mag:\"4.5\", reg:\"JAN MAYEN ISLAND REGION\",upd:\"1598437080\"},{evid:888672, ago:\"4hr 57min ago\", comm: \"0\", pics: \"0\", intens: \"-1\", lat:\"19.49\", lon:\"-105.36\", depth:\"7\", mag:\"3.3\", reg:\"OFFSHORE JALISCO, MEXICO\",upd:\"1598446860\"},{evid:888631, ago:\"4hr 57min ago\", comm: \"0\", pics: \"0\", intens: \"-1\", lat:\"-33.18\", lon:\"-71.29\", depth:\"62\", mag:\"2.8\", reg:\"VALPARAISO, CHILE\",upd:\"1598434440\"},{evid:888674, ago:\"4hr 58min ago\", comm: \"0\", pics: \"0\", intens: \"-1\", lat:\"16.09\", lon:\"-97.77\", depth:\"3\", mag:\"3.4\", reg:\"OAXACA, MEXICO\",upd:\"1598446860\"},{evid:888627, ago:\"5hr 03min ago\", comm: \"0\", pics: \"0\", intens: \"-1\", lat:\"19.23\", lon:\"-155.41\", depth:\"39\", mag:\"2.6\", reg:\"ISLAND OF HAWAII, HAWAII\",upd:\"1598433600\"},{evid:888628, ago:\"5hr 08min ago\", comm: \"0\", pics: \"0\", intens: \"-1\", lat:\"39.70\", lon:\"20.29\", depth:\"16\", mag:\"2.4\", reg:\"GREECE\",upd:\"1598433240\"},{evid:888633, ago:\"5hr 09min ago\", comm: \"0\", pics: \"0\", intens: \"-1\", lat:\"45.69\", lon:\"26.61\", depth:\"77\", mag:\"3.1\", reg:\"ROMANIA\",upd:\"1598434740\"},{evid:888675, ago:\"5hr 09min ago\", comm: \"0\", pics: \"0\", intens: \"-1\", lat:\"16.31\", lon:\"-98.10\", depth:\"7\", mag:\"3.6\", reg:\"OAXACA, MEXICO\",upd:\"1598446860\"},{evid:888626, ago:\"5hr 16min ago\", comm: \"0\", pics: \"0\", intens: \"-1\", lat:\"-27.27\", lon:\"-69.42\", depth:\"108\", mag:\"3.4\", reg:\"ATACAMA, CHILE\",upd:\"1598433060\"},{evid:888625, ago:\"5hr 18min ago\", comm: \"0\", pics: \"0\", intens: \"-1\", lat:\"44.20\", lon:\"10.65\", depth:\"11\", mag:\"2.7\", reg:\"NORTHERN ITALY\",upd:\"1598433840\"},{evid:888676, ago:\"5hr 24min ago\", comm: \"0\", pics: \"0\", intens: \"-1\", lat:\"17.66\", lon:\"-100.90\", depth:\"12\", mag:\"3.5\", reg:\"GUERRERO, MEXICO\",upd:\"1598446860\"},{evid:888677, ago:\"5hr 28min ago\", comm: \"0\", pics: \"0\", intens: \"-1\", lat:\"18.23\", lon:\"-103.52\", depth:\"2\", mag:\"3.4\", reg:\"OFFSHORE MICHOACAN, MEXICO\",upd:\"1598446860\"},{evid:888616, ago:\"5hr 31min ago\", comm: \"0\", pics: \"0\", intens: \"-1\", lat:\"19.24\", lon:\"-155.38\", depth:\"32\", mag:\"2.5\", reg:\"ISLAND OF HAWAII, HAWAII\",upd:\"1598431620\"},{evid:888623, ago:\"5hr 32min ago\", comm: \"0\", pics: \"0\", intens: \"-1\", lat:\"-15.82\", lon:\"-179.46\", depth:\"10\", mag:\"4.9\", reg:\"FIJI REGION\",upd:\"1598433780\"},{evid:888619, ago:\"5hr 34min ago\", comm: \"0\", pics: \"0\", intens: \"-1\", lat:\"0.34\", lon:\"121.60\", depth:\"166\", mag:\"3.6\", reg:\"MINAHASA, SULAWESI, INDONESIA\",upd:\"1598431620\"},{evid:888678, ago:\"5hr 36min ago\", comm: \"0\", pics: \"0\", intens: \"-1\", lat:\"14.73\", lon:\"-93.80\", depth:\"51\", mag:\"3.8\", reg:\"OFF COAST OF CHIAPAS, MEXICO\",upd:\"1598446920\"},{evid:888621, ago:\"5hr 38min ago\", comm: \"0\", pics: \"0\", intens: \"-1\", lat:\"17.96\", lon:\"-66.98\", depth:\"7\", mag:\"2.4\", reg:\"PUERTO RICO\",upd:\"1598431680\"},{evid:888620, ago:\"5hr 43min ago\", comm: \"0\", pics: \"0\", intens: \"-1\", lat:\"-38.27\", lon:\"-74.85\", depth:\"41\", mag:\"2.8\", reg:\"OFF COAST OF ARAUCANIA, CHILE\",upd:\"1598431680\"},{evid:888679, ago:\"5hr 47min ago\", comm: \"0\", pics: \"0\", intens: \"-1\", lat:\"17.91\", lon:\"-98.45\", depth:\"54\", mag:\"3.3\", reg:\"GUERRERO, MEXICO\",upd:\"1598446920\"});\\n\\r\\n\\t\\t\\t\\tvar tab_num_alpha=new Array({reg:false,lat:true,lon:true,mag:true,depth:true,upd:true,intens:true,comm:true,pics:true}); \\r\\n\\t\\t\\t\\t//addonload(hide_upd);\\r\\n\\t\\t\\tDisclaimer function changeLocation(adress) { window.location.href = adress; }\\r\\n\\t\\t\\t\\t//function refreshcsem(adress,timeout) { setTimeout(\\'changeLocation(\"\\'+adress+\\'\")\\',timeout*60000); }\\r\\n\\t\\t\\t\\t//if(/www/i.test(window.location.href)) refreshcsem(\"/Earthquake/?csemrefresh=true\",5);\\r\\n\\t\\t\\t\\tfunction rl(timeout) { setTimeout(function() { window.location.reload(); },  timeout*60000); }\\r\\n\\t\\t\\t\\trl(5);\\r\\n\\t\\t\\r\\nvar objbeta=new createEMSCWidget(\"beta1\",65,\"left\",\"POPULARITY MAP\",new Array(0,0,255),new Array(255,0,0),false); \\r\\nobjbeta.W_init(\"iframe\",\"/Tools/realtimefeltmap.php?xminbefore=5&width=740&height=350\",700,420);\\r\\n\\xa0\\n\\n\\n\\n\\nFAQ\\xa0\\xa0\\xa0About EMSC\\r\\n\\xa0\\xa0\\xa0\\xa0\\xa0\\xa0\\xa0\\xa0\\xa0\\xa0\\xa0\\xa0at(\"webmaster_0_emsc-csem_8_org\",true,\"\",\"mast\",\"If you have any comments, please contact us\");\\xa0\\xa0\\xa0\\xa0\\xa0\\xa0\\xa0\\xa0\\xa0\\xa0\\xa0\\xa0\\r\\nSite Map\\xa0\\xa0\\xa0Search\\nMedia : \\xa0\\xa0\\xa0\\xa0\\xa0\\xa0\\xa0\\xa0\\xa0\\xa0\\xa0\\xa0\\xa0\\xa0\\nCompatibility : \\n© 2010 - Privacy\\n\\n\\n\\r\\n  window.dataLayer = window.dataLayer || [];\\r\\n  function gtag(){dataLayer.push(arguments);}\\r\\n  gtag(\\'js\\', new Date());\\r\\n\\r\\n  gtag(\\'config\\', \\'UA-810235-1\\');\\r\\n\\n\\n\\r\\n\\tvar sc_project=217829; \\r\\n\\tvar sc_invisible=1; \\r\\n\\tvar sc_security=\"\"; \\r\\n\\t\\n\\n\\n\\n  \\r\\n\\t\\t\\r\\n\\t\\tvar socketE,intervalID ;\\r\\n\\t\\t\\r\\n\\t\\tfunction conn_io() {\\r\\n\\t\\t\\tif (typeof io == \"undefined\") \\tsetTimeout(\"conn_io()\",200);\\r\\n\\t\\t\\telse { \\r\\n\\t\\t\\t\\tvar isMobile= (/android|mobile|webos|iphone|ipad|ipod|blackberry|iemobile|opera mini/i.test(navigator.userAgent.toLowerCase()));\\r\\n\\t\\t\\t\\tvar opts={transports:[\"polling\"]};\\r\\n\\t\\t\\t\\tif(/*!isMobile &&*/ window.WebSocket) opts.transports.unshift(\"websocket\"); //opts.transports.push(\"websocket\");  //\\r\\n\\t\\t\\t\\t\\t//console.log(opts.transports);  console.log(navigator.userAgent.toLowerCase());\\r\\n\\t\\t\\t\\tsocketE=io.connect(\"https://zebu-neries.emsc-csem.org/Traffic?REF=\"+escape(document.referrer),opts); \\r\\n\\t\\t\\t\\tsocketE.on(\"connect\", function () { \\r\\n\\t\\t\\t\\t\\tsocketE.on(\"cookie\", function (msg) { \\r\\n\\t\\t\\t\\t\\t\\tconsole.log(msg); \\r\\n\\t\\t\\t\\t\\t\\tvar xjs=document.createElement(\"script\"); xjs.src=\"https://zebu-neries.emsc-csem.org/?addSockId=\"+msg.name+\"&value=\"+msg.value+\"&expires=\"+msg.expires; xjs.type=\"text/javascript\"; document.getElementsByTagName(\"head\")[0].appendChild(xjs);\\r\\n\\t\\t\\t\\t\\t});\\r\\n\\t\\t\\t\\t});\\r\\n\\t\\t\\t\\tsocketE.on(\"banner\", function (msg) { /*console.log(msg);*/ /*if(typeof treat_quick_traffic_peak !=\"undefined\") { treat_quick_traffic_peak(JSON.parse(msg)); }*/ });\\r\\n\\t\\t\\t\\tsocketE.on(\"message\",function(mes) { console.log(mes); });\\r\\n\\t\\t\\t}\\t\\r\\n\\t\\t}\\t\\r\\n\\t//\\taddonload(conn_io);\\r\\n\\t\\tif(typeof JSON == \"undefined\") { var xjs2=document.createElement(\"script\"); xjs2.src=\"https://www.emsc-csem.org/javascript/json2.min.js\"; xjs2.type=\"text/javascript\"; document.getElementsByTagName(\"head\")[0].appendChild(xjs2); }\\r\\n\\t\\t\\r\\n\\t\\t\\r\\n\\tfunction loadWs() {\\r\\n\\t\\tvar d=Date.now();\\r\\n\\t\\t\\r\\n\\t\\tvar ws= new WebSocket(\"wss://www.emsc-csem.org/traffic?REF=\"+escape(document.referrer)); \\r\\n\\t\\tws.id=d; //console.log(\"try ws \"+ws.id);\\r\\n\\r\\n\\t\\tws.onopen = function() { /*setInterval(function () { ws.send(\"Test\"); console.log(\"sendTest\"); }, 12 * 60 * 1000); */   };\\r\\n\\t\\tws[\"banner\"]=function (msg) { \\r\\n\\t\\t\\tif(typeof treat_quick_traffic_peak !=\"undefined\") { treat_quick_traffic_peak(msg); } \\r\\n\\t\\t\\telse setTimeout(function() { ws.banner(msg);} , 300 );\\r\\n\\t\\t};\\t\\r\\n\\t\\tws.onmessage = function (evt) { \\r\\n\\t\\t\\tvar m=JSON.parse(evt.data); //console.log(m);\\t\\r\\n\\t\\t\\tif(m.label && m.data && ws[m.label]) ws[m.label](m.data);\\r\\n\\t\\t};\\r\\n\\t\\t\\r\\n\\t\\tws.onclose = function() {\\r\\n\\t\\t\\t//console.log(\"Connection is closed...\",ws.id); console.log(arguments);\\r\\n\\t\\t\\tsetTimeout(function() { loadWs(); }, 1000);\\r\\n\\t\\t};\\r\\n\\t\\tws.onerror = function(err) { };\\r\\n\\t}\\r\\n\\t(function() { loadWs(); })();\\r\\n\\t\\t\\r\\n\\t\\t\\r\\n\\t\\t\\n\\n'"
      ]
     },
     "execution_count": 507,
     "metadata": {},
     "output_type": "execute_result"
    }
   ],
   "source": [
    "r = requests.get(url)\n",
    "soup = BeautifulSoup(r.content, 'html.parser')\n",
    "soup.text"
   ]
  },
  {
   "cell_type": "code",
   "execution_count": 508,
   "metadata": {},
   "outputs": [],
   "source": [
    "#your code\n",
    "date = soup.find_all(class_=\"tabev6\")"
   ]
  },
  {
   "cell_type": "code",
   "execution_count": 509,
   "metadata": {},
   "outputs": [
    {
     "data": {
      "text/plain": [
       "[<td class=\"tabev6\"><b><i style=\"display:none;\">earthquake</i><a href=\"/Earthquake/earthquake.php?id=888694\">2020-08-26   13:49:43.0</a></b><i class=\"ago\" id=\"ago0\">23min ago</i></td>,\n",
       " <td class=\"tabev6\"><b><i style=\"display:none;\">earthquake</i><a href=\"/Earthquake/earthquake.php?id=888691\">2020-08-26   13:43:58.5</a></b><i class=\"ago\" id=\"ago1\">28min ago</i></td>,\n",
       " <td class=\"tabev6\"><b><i style=\"display:none;\">earthquake</i><a href=\"/Earthquake/earthquake.php?id=888692\">2020-08-26   13:43:45.0</a></b><i class=\"ago\" id=\"ago2\">29min ago</i></td>,\n",
       " <td class=\"tabev6\"><b><i style=\"display:none;\">earthquake</i><a href=\"/Earthquake/earthquake.php?id=888684\">2020-08-26   13:30:29.1</a></b><i class=\"ago\" id=\"ago3\">42min ago</i></td>,\n",
       " <td class=\"tabev6\"><b><i style=\"display:none;\">earthquake</i><a href=\"/Earthquake/earthquake.php?id=888686\">2020-08-26   13:21:26.8</a></b><i class=\"ago\" id=\"ago4\">51min ago</i></td>,\n",
       " <td class=\"tabev6\"><b><i style=\"display:none;\">earthquake</i><a href=\"/Earthquake/earthquake.php?id=888685\">2020-08-26   13:20:43.0</a></b><i class=\"ago\" id=\"ago5\">52min ago</i></td>,\n",
       " <td class=\"tabev6\"><b><i style=\"display:none;\">earthquake</i><a href=\"/Earthquake/earthquake.php?id=888688\">2020-08-26   13:20:30.0</a></b><i class=\"ago\" id=\"ago6\">52min ago</i></td>,\n",
       " <td class=\"tabev6\"><b><i style=\"display:none;\">earthquake</i><a href=\"/Earthquake/earthquake.php?id=888687\">2020-08-26   13:12:46.8</a></b><i class=\"ago\" id=\"ago7\">1hr 00min ago</i></td>,\n",
       " <td class=\"tabev6\"><b><i style=\"display:none;\">earthquake</i><a href=\"/Earthquake/earthquake.php?id=888682\">2020-08-26   13:03:50.0</a></b><i class=\"ago\" id=\"ago8\">1hr 09min ago</i></td>,\n",
       " <td class=\"tabev6\"><b><i style=\"display:none;\">earthquake</i><a href=\"/Earthquake/earthquake.php?id=888681\">2020-08-26   12:55:13.0</a></b><i class=\"ago\" id=\"ago9\">1hr 17min ago</i></td>,\n",
       " <td class=\"tabev6\"><b><i style=\"display:none;\">earthquake</i><a href=\"/Earthquake/earthquake.php?id=888693\">2020-08-26   12:53:41.9</a></b><i class=\"ago\" id=\"ago10\">1hr 19min ago</i></td>,\n",
       " <td class=\"tabev6\"><b><i style=\"display:none;\">earthquake</i><a href=\"/Earthquake/earthquake.php?id=888664\">2020-08-26   12:49:23.2</a></b><i class=\"ago\" id=\"ago11\">1hr 23min ago</i></td>,\n",
       " <td class=\"tabev6\"><b><i style=\"display:none;\">earthquake</i><a href=\"/Earthquake/earthquake.php?id=888663\">2020-08-26   12:28:08.7</a></b><i class=\"ago\" id=\"ago12\">1hr 44min ago</i></td>,\n",
       " <td class=\"tabev6\"><b><i style=\"display:none;\">earthquake</i><a href=\"/Earthquake/earthquake.php?id=888662\">2020-08-26   12:00:12.0</a></b><i class=\"ago\" id=\"ago13\">2hr 12min ago</i></td>,\n",
       " <td class=\"tabev6\"><b><i style=\"display:none;\">earthquake</i><a href=\"/Earthquake/earthquake.php?id=888661\">2020-08-26   11:59:35.4</a></b><i class=\"ago\" id=\"ago14\">2hr 13min ago</i></td>,\n",
       " <td class=\"tabev6\"><b><i style=\"display:none;\">earthquake</i><a href=\"/Earthquake/earthquake.php?id=888658\">2020-08-26   11:28:07.0</a></b><i class=\"ago\" id=\"ago15\">2hr 44min ago</i></td>,\n",
       " <td class=\"tabev6\"><b><i style=\"display:none;\">earthquake</i><a href=\"/Earthquake/earthquake.php?id=888660\">2020-08-26   11:26:04.6</a></b><i class=\"ago\" id=\"ago16\">2hr 46min ago</i></td>,\n",
       " <td class=\"tabev6\"><b><i style=\"display:none;\">earthquake</i><a href=\"/Earthquake/earthquake.php?id=888655\">2020-08-26   11:22:46.0</a></b><i class=\"ago\" id=\"ago17\">2hr 50min ago</i></td>,\n",
       " <td class=\"tabev6\"><b><i style=\"display:none;\">earthquake</i><a href=\"/Earthquake/earthquake.php?id=888657\">2020-08-26   11:21:17.0</a></b><i class=\"ago\" id=\"ago18\">2hr 51min ago</i></td>,\n",
       " <td class=\"tabev6\"><b><i style=\"display:none;\">earthquake</i><a href=\"/Earthquake/earthquake.php?id=888651\">2020-08-26   11:16:22.0</a></b><i class=\"ago\" id=\"ago19\">2hr 56min ago</i></td>,\n",
       " <td class=\"tabev6\"><b><i style=\"display:none;\">earthquake</i><a href=\"/Earthquake/earthquake.php?id=888650\">2020-08-26   11:10:34.0</a></b><i class=\"ago\" id=\"ago20\">3hr 02min ago</i></td>,\n",
       " <td class=\"tabev6\"><b><i style=\"display:none;\">earthquake</i><a href=\"/Earthquake/earthquake.php?id=888645\">2020-08-26   10:53:26.9</a></b><i class=\"ago\" id=\"ago21\">3hr 19min ago</i></td>,\n",
       " <td class=\"tabev6\"><b><i style=\"display:none;\">earthquake</i><a href=\"/Earthquake/earthquake.php?id=888643\">2020-08-26   10:43:25.8</a></b><i class=\"ago\" id=\"ago22\">3hr 29min ago</i></td>,\n",
       " <td class=\"tabev6\"><b><i style=\"display:none;\">earthquake</i><a href=\"/Earthquake/earthquake.php?id=888640\">2020-08-26   10:23:38.8</a></b><i class=\"ago\" id=\"ago23\">3hr 49min ago</i></td>,\n",
       " <td class=\"tabev6\"><b><i style=\"display:none;\">earthquake</i><a href=\"/Earthquake/earthquake.php?id=888642\">2020-08-26   10:17:35.7</a></b><i class=\"ago\" id=\"ago24\">3hr 55min ago</i></td>,\n",
       " <td class=\"tabev6\"><b><i style=\"display:none;\">earthquake</i><a href=\"/Earthquake/earthquake.php?id=888637\">2020-08-26   10:06:38.0</a></b><i class=\"ago\" id=\"ago25\">4hr 06min ago</i></td>,\n",
       " <td class=\"tabev6\"><b><i style=\"display:none;\">earthquake</i><a href=\"/Earthquake/earthquake.php?id=888634\">2020-08-26   09:55:00.0</a></b><i class=\"ago\" id=\"ago26\">4hr 17min ago</i></td>,\n",
       " <td class=\"tabev6\"><b><i style=\"display:none;\">earthquake</i><a href=\"/Earthquake/earthquake.php?id=888639\">2020-08-26   09:48:24.0</a></b><i class=\"ago\" id=\"ago27\">4hr 24min ago</i></td>,\n",
       " <td class=\"tabev6\"><b><i style=\"display:none;\">earthquake</i><a href=\"/Earthquake/earthquake.php?id=888638\">2020-08-26   09:30:09.0</a></b><i class=\"ago\" id=\"ago28\">4hr 42min ago</i></td>,\n",
       " <td class=\"tabev6\"><b><i style=\"display:none;\">earthquake</i><a href=\"/Earthquake/earthquake.php?id=888666\">2020-08-26   09:23:16.0</a></b><i class=\"ago\" id=\"ago29\">4hr 49min ago</i></td>,\n",
       " <td class=\"tabev6\"><b><i style=\"display:none;\">earthquake</i><a href=\"/Earthquake/earthquake.php?id=888632\">2020-08-26   09:18:44.0</a></b><i class=\"ago\" id=\"ago30\">4hr 54min ago</i></td>,\n",
       " <td class=\"tabev6\"><b><i style=\"display:none;\">earthquake</i><a href=\"/Earthquake/earthquake.php?id=888630\">2020-08-26   09:18:31.7</a></b><i class=\"ago\" id=\"ago31\">4hr 54min ago</i></td>,\n",
       " <td class=\"tabev6\"><b><i style=\"display:none;\">earthquake</i><a href=\"/Earthquake/earthquake.php?id=888672\">2020-08-26   09:15:08.0</a></b><i class=\"ago\" id=\"ago32\">4hr 57min ago</i></td>,\n",
       " <td class=\"tabev6\"><b><i style=\"display:none;\">earthquake</i><a href=\"/Earthquake/earthquake.php?id=888631\">2020-08-26   09:15:02.0</a></b><i class=\"ago\" id=\"ago33\">4hr 57min ago</i></td>,\n",
       " <td class=\"tabev6\"><b><i style=\"display:none;\">earthquake</i><a href=\"/Earthquake/earthquake.php?id=888674\">2020-08-26   09:14:09.0</a></b><i class=\"ago\" id=\"ago34\">4hr 58min ago</i></td>,\n",
       " <td class=\"tabev6\"><b><i style=\"display:none;\">earthquake</i><a href=\"/Earthquake/earthquake.php?id=888627\">2020-08-26   09:09:03.2</a></b><i class=\"ago\" id=\"ago35\">5hr 03min ago</i></td>,\n",
       " <td class=\"tabev6\"><b><i style=\"display:none;\">earthquake</i><a href=\"/Earthquake/earthquake.php?id=888628\">2020-08-26   09:04:09.7</a></b><i class=\"ago\" id=\"ago36\">5hr 08min ago</i></td>,\n",
       " <td class=\"tabev6\"><b><i style=\"display:none;\">earthquake</i><a href=\"/Earthquake/earthquake.php?id=888633\">2020-08-26   09:03:15.7</a></b><i class=\"ago\" id=\"ago37\">5hr 09min ago</i></td>,\n",
       " <td class=\"tabev6\"><b><i style=\"display:none;\">earthquake</i><a href=\"/Earthquake/earthquake.php?id=888675\">2020-08-26   09:03:00.0</a></b><i class=\"ago\" id=\"ago38\">5hr 09min ago</i></td>,\n",
       " <td class=\"tabev6\"><b><i style=\"display:none;\">earthquake</i><a href=\"/Earthquake/earthquake.php?id=888626\">2020-08-26   08:56:53.0</a></b><i class=\"ago\" id=\"ago39\">5hr 16min ago</i></td>,\n",
       " <td class=\"tabev6\"><b><i style=\"display:none;\">earthquake</i><a href=\"/Earthquake/earthquake.php?id=888625\">2020-08-26   08:54:02.0</a></b><i class=\"ago\" id=\"ago40\">5hr 18min ago</i></td>,\n",
       " <td class=\"tabev6\"><b><i style=\"display:none;\">earthquake</i><a href=\"/Earthquake/earthquake.php?id=888676\">2020-08-26   08:48:10.0</a></b><i class=\"ago\" id=\"ago41\">5hr 24min ago</i></td>,\n",
       " <td class=\"tabev6\"><b><i style=\"display:none;\">earthquake</i><a href=\"/Earthquake/earthquake.php?id=888677\">2020-08-26   08:44:05.0</a></b><i class=\"ago\" id=\"ago42\">5hr 28min ago</i></td>,\n",
       " <td class=\"tabev6\"><b><i style=\"display:none;\">earthquake</i><a href=\"/Earthquake/earthquake.php?id=888616\">2020-08-26   08:41:51.2</a></b><i class=\"ago\" id=\"ago43\">5hr 31min ago</i></td>,\n",
       " <td class=\"tabev6\"><b><i style=\"display:none;\">earthquake</i><a href=\"/Earthquake/earthquake.php?id=888623\">2020-08-26   08:39:54.9</a></b><i class=\"ago\" id=\"ago44\">5hr 32min ago</i></td>,\n",
       " <td class=\"tabev6\"><b><i style=\"display:none;\">earthquake</i><a href=\"/Earthquake/earthquake.php?id=888619\">2020-08-26   08:38:47.0</a></b><i class=\"ago\" id=\"ago45\">5hr 34min ago</i></td>,\n",
       " <td class=\"tabev6\"><b><i style=\"display:none;\">earthquake</i><a href=\"/Earthquake/earthquake.php?id=888678\">2020-08-26   08:35:55.0</a></b><i class=\"ago\" id=\"ago46\">5hr 36min ago</i></td>,\n",
       " <td class=\"tabev6\"><b><i style=\"display:none;\">earthquake</i><a href=\"/Earthquake/earthquake.php?id=888621\">2020-08-26   08:34:22.1</a></b><i class=\"ago\" id=\"ago47\">5hr 38min ago</i></td>,\n",
       " <td class=\"tabev6\"><b><i style=\"display:none;\">earthquake</i><a href=\"/Earthquake/earthquake.php?id=888620\">2020-08-26   08:29:16.0</a></b><i class=\"ago\" id=\"ago48\">5hr 43min ago</i></td>,\n",
       " <td class=\"tabev6\"><b><i style=\"display:none;\">earthquake</i><a href=\"/Earthquake/earthquake.php?id=888679\">2020-08-26   08:25:12.0</a></b><i class=\"ago\" id=\"ago49\">5hr 47min ago</i></td>]"
      ]
     },
     "execution_count": 509,
     "metadata": {},
     "output_type": "execute_result"
    }
   ],
   "source": [
    "date"
   ]
  },
  {
   "cell_type": "code",
   "execution_count": 515,
   "metadata": {},
   "outputs": [
    {
     "data": {
      "text/plain": [
       "'2020-08-26'"
      ]
     },
     "execution_count": 515,
     "metadata": {},
     "output_type": "execute_result"
    }
   ],
   "source": [
    "date[0].find(\"a\").text[:10]"
   ]
  },
  {
   "cell_type": "code",
   "execution_count": 518,
   "metadata": {},
   "outputs": [],
   "source": [
    "dates=[]\n",
    "\n",
    "for i in date:\n",
    "    date_1 = i.find(\"a\").text[:10]\n",
    "    dates.append(date_1)"
   ]
  },
  {
   "cell_type": "code",
   "execution_count": 519,
   "metadata": {},
   "outputs": [
    {
     "data": {
      "text/plain": [
       "['2020-08-26',\n",
       " '2020-08-26',\n",
       " '2020-08-26',\n",
       " '2020-08-26',\n",
       " '2020-08-26',\n",
       " '2020-08-26',\n",
       " '2020-08-26',\n",
       " '2020-08-26',\n",
       " '2020-08-26',\n",
       " '2020-08-26',\n",
       " '2020-08-26',\n",
       " '2020-08-26',\n",
       " '2020-08-26',\n",
       " '2020-08-26',\n",
       " '2020-08-26',\n",
       " '2020-08-26',\n",
       " '2020-08-26',\n",
       " '2020-08-26',\n",
       " '2020-08-26',\n",
       " '2020-08-26',\n",
       " '2020-08-26',\n",
       " '2020-08-26',\n",
       " '2020-08-26',\n",
       " '2020-08-26',\n",
       " '2020-08-26',\n",
       " '2020-08-26',\n",
       " '2020-08-26',\n",
       " '2020-08-26',\n",
       " '2020-08-26',\n",
       " '2020-08-26',\n",
       " '2020-08-26',\n",
       " '2020-08-26',\n",
       " '2020-08-26',\n",
       " '2020-08-26',\n",
       " '2020-08-26',\n",
       " '2020-08-26',\n",
       " '2020-08-26',\n",
       " '2020-08-26',\n",
       " '2020-08-26',\n",
       " '2020-08-26',\n",
       " '2020-08-26',\n",
       " '2020-08-26',\n",
       " '2020-08-26',\n",
       " '2020-08-26',\n",
       " '2020-08-26',\n",
       " '2020-08-26',\n",
       " '2020-08-26',\n",
       " '2020-08-26',\n",
       " '2020-08-26',\n",
       " '2020-08-26']"
      ]
     },
     "execution_count": 519,
     "metadata": {},
     "output_type": "execute_result"
    }
   ],
   "source": [
    "dates"
   ]
  },
  {
   "cell_type": "code",
   "execution_count": 526,
   "metadata": {},
   "outputs": [
    {
     "data": {
      "text/plain": [
       "'13:49:43.0'"
      ]
     },
     "execution_count": 526,
     "metadata": {},
     "output_type": "execute_result"
    }
   ],
   "source": [
    "date[0].find(\"a\").text[13:]"
   ]
  },
  {
   "cell_type": "code",
   "execution_count": 527,
   "metadata": {},
   "outputs": [],
   "source": [
    "times=[]\n",
    "\n",
    "for i in date:\n",
    "    time=i.find(\"a\").text[13:]\n",
    "    times.append(time)"
   ]
  },
  {
   "cell_type": "code",
   "execution_count": 528,
   "metadata": {},
   "outputs": [
    {
     "data": {
      "text/plain": [
       "['13:49:43.0',\n",
       " '13:43:58.5',\n",
       " '13:43:45.0',\n",
       " '13:30:29.1',\n",
       " '13:21:26.8',\n",
       " '13:20:43.0',\n",
       " '13:20:30.0',\n",
       " '13:12:46.8',\n",
       " '13:03:50.0',\n",
       " '12:55:13.0',\n",
       " '12:53:41.9',\n",
       " '12:49:23.2',\n",
       " '12:28:08.7',\n",
       " '12:00:12.0',\n",
       " '11:59:35.4',\n",
       " '11:28:07.0',\n",
       " '11:26:04.6',\n",
       " '11:22:46.0',\n",
       " '11:21:17.0',\n",
       " '11:16:22.0',\n",
       " '11:10:34.0',\n",
       " '10:53:26.9',\n",
       " '10:43:25.8',\n",
       " '10:23:38.8',\n",
       " '10:17:35.7',\n",
       " '10:06:38.0',\n",
       " '09:55:00.0',\n",
       " '09:48:24.0',\n",
       " '09:30:09.0',\n",
       " '09:23:16.0',\n",
       " '09:18:44.0',\n",
       " '09:18:31.7',\n",
       " '09:15:08.0',\n",
       " '09:15:02.0',\n",
       " '09:14:09.0',\n",
       " '09:09:03.2',\n",
       " '09:04:09.7',\n",
       " '09:03:15.7',\n",
       " '09:03:00.0',\n",
       " '08:56:53.0',\n",
       " '08:54:02.0',\n",
       " '08:48:10.0',\n",
       " '08:44:05.0',\n",
       " '08:41:51.2',\n",
       " '08:39:54.9',\n",
       " '08:38:47.0',\n",
       " '08:35:55.0',\n",
       " '08:34:22.1',\n",
       " '08:29:16.0',\n",
       " '08:25:12.0']"
      ]
     },
     "execution_count": 528,
     "metadata": {},
     "output_type": "execute_result"
    }
   ],
   "source": [
    "times"
   ]
  },
  {
   "cell_type": "code",
   "execution_count": 529,
   "metadata": {},
   "outputs": [],
   "source": [
    "lati_long = soup.find_all(class_=\"tabev1\")"
   ]
  },
  {
   "cell_type": "code",
   "execution_count": 531,
   "metadata": {},
   "outputs": [
    {
     "data": {
      "text/plain": [
       "'13.23'"
      ]
     },
     "execution_count": 531,
     "metadata": {},
     "output_type": "execute_result"
    }
   ],
   "source": [
    "lati_long[0].get_text().strip()"
   ]
  },
  {
   "cell_type": "code",
   "execution_count": 534,
   "metadata": {},
   "outputs": [],
   "source": [
    "lats=[]\n",
    "\n",
    "for i in lati_long:\n",
    "    latitude = i.get_text().strip()\n",
    "    lats.append(latitude)"
   ]
  },
  {
   "cell_type": "code",
   "execution_count": 535,
   "metadata": {},
   "outputs": [
    {
     "data": {
      "text/plain": [
       "['13.23',\n",
       " '121.19',\n",
       " '37.57',\n",
       " '29.27',\n",
       " '63.91',\n",
       " '22.22',\n",
       " '19.20',\n",
       " '155.39',\n",
       " '36.33',\n",
       " '3.35',\n",
       " '21.41',\n",
       " '71.73',\n",
       " '38.18',\n",
       " '39.54',\n",
       " '17.96',\n",
       " '66.91',\n",
       " '21.64',\n",
       " '68.47',\n",
       " '21.55',\n",
       " '68.49',\n",
       " '17.95',\n",
       " '66.91',\n",
       " '34.29',\n",
       " '119.31',\n",
       " '18.28',\n",
       " '77.34',\n",
       " '17.39',\n",
       " '120.02',\n",
       " '38.16',\n",
       " '117.97',\n",
       " '12.13',\n",
       " '123.98',\n",
       " '20.10',\n",
       " '178.38',\n",
       " '22.04',\n",
       " '68.71',\n",
       " '12.04',\n",
       " '124.05',\n",
       " '1.73',\n",
       " '127.88',\n",
       " '2.92',\n",
       " '128.82',\n",
       " '19.21',\n",
       " '155.39',\n",
       " '19.23',\n",
       " '155.40',\n",
       " '33.89',\n",
       " '116.56',\n",
       " '36.71',\n",
       " '6.12',\n",
       " '9.22',\n",
       " '124.19',\n",
       " '23.88',\n",
       " '67.42',\n",
       " '19.77',\n",
       " '71.21',\n",
       " '19.17',\n",
       " '70.96',\n",
       " '16.99',\n",
       " '98.66',\n",
       " '9.62',\n",
       " '75.85',\n",
       " '71.95',\n",
       " '1.50',\n",
       " '19.49',\n",
       " '105.36',\n",
       " '33.18',\n",
       " '71.29',\n",
       " '16.09',\n",
       " '97.77',\n",
       " '19.23',\n",
       " '155.41',\n",
       " '39.70',\n",
       " '20.29',\n",
       " '45.69',\n",
       " '26.61',\n",
       " '16.31',\n",
       " '98.10',\n",
       " '27.27',\n",
       " '69.42',\n",
       " '44.20',\n",
       " '10.65',\n",
       " '17.66',\n",
       " '100.90',\n",
       " '18.23',\n",
       " '103.52',\n",
       " '19.24',\n",
       " '155.38',\n",
       " '15.82',\n",
       " '179.46',\n",
       " '0.34',\n",
       " '121.60',\n",
       " '14.73',\n",
       " '93.80',\n",
       " '17.96',\n",
       " '66.98',\n",
       " '38.27',\n",
       " '74.85',\n",
       " '17.91',\n",
       " '98.45']"
      ]
     },
     "execution_count": 535,
     "metadata": {},
     "output_type": "execute_result"
    }
   ],
   "source": [
    "lats"
   ]
  },
  {
   "cell_type": "code",
   "execution_count": 542,
   "metadata": {},
   "outputs": [],
   "source": [
    "real_latitude = lats[::2]"
   ]
  },
  {
   "cell_type": "code",
   "execution_count": 543,
   "metadata": {},
   "outputs": [
    {
     "data": {
      "text/plain": [
       "['13.23',\n",
       " '37.57',\n",
       " '63.91',\n",
       " '19.20',\n",
       " '36.33',\n",
       " '21.41',\n",
       " '38.18',\n",
       " '17.96',\n",
       " '21.64',\n",
       " '21.55',\n",
       " '17.95',\n",
       " '34.29',\n",
       " '18.28',\n",
       " '17.39',\n",
       " '38.16',\n",
       " '12.13',\n",
       " '20.10',\n",
       " '22.04',\n",
       " '12.04',\n",
       " '1.73',\n",
       " '2.92',\n",
       " '19.21',\n",
       " '19.23',\n",
       " '33.89',\n",
       " '36.71',\n",
       " '9.22',\n",
       " '23.88',\n",
       " '19.77',\n",
       " '19.17',\n",
       " '16.99',\n",
       " '9.62',\n",
       " '71.95',\n",
       " '19.49',\n",
       " '33.18',\n",
       " '16.09',\n",
       " '19.23',\n",
       " '39.70',\n",
       " '45.69',\n",
       " '16.31',\n",
       " '27.27',\n",
       " '44.20',\n",
       " '17.66',\n",
       " '18.23',\n",
       " '19.24',\n",
       " '15.82',\n",
       " '0.34',\n",
       " '14.73',\n",
       " '17.96',\n",
       " '38.27',\n",
       " '17.91']"
      ]
     },
     "execution_count": 543,
     "metadata": {},
     "output_type": "execute_result"
    }
   ],
   "source": [
    "real_latitude"
   ]
  },
  {
   "cell_type": "code",
   "execution_count": 574,
   "metadata": {},
   "outputs": [],
   "source": [
    "lon = lats[1::2]"
   ]
  },
  {
   "cell_type": "code",
   "execution_count": 575,
   "metadata": {},
   "outputs": [
    {
     "data": {
      "text/plain": [
       "['121.19',\n",
       " '29.27',\n",
       " '22.22',\n",
       " '155.39',\n",
       " '3.35',\n",
       " '71.73',\n",
       " '39.54',\n",
       " '66.91',\n",
       " '68.47',\n",
       " '68.49',\n",
       " '66.91',\n",
       " '119.31',\n",
       " '77.34',\n",
       " '120.02',\n",
       " '117.97',\n",
       " '123.98',\n",
       " '178.38',\n",
       " '68.71',\n",
       " '124.05',\n",
       " '127.88',\n",
       " '128.82',\n",
       " '155.39',\n",
       " '155.40',\n",
       " '116.56',\n",
       " '6.12',\n",
       " '124.19',\n",
       " '67.42',\n",
       " '71.21',\n",
       " '70.96',\n",
       " '98.66',\n",
       " '75.85',\n",
       " '1.50',\n",
       " '105.36',\n",
       " '71.29',\n",
       " '97.77',\n",
       " '155.41',\n",
       " '20.29',\n",
       " '26.61',\n",
       " '98.10',\n",
       " '69.42',\n",
       " '10.65',\n",
       " '100.90',\n",
       " '103.52',\n",
       " '155.38',\n",
       " '179.46',\n",
       " '121.60',\n",
       " '93.80',\n",
       " '66.98',\n",
       " '74.85',\n",
       " '98.45']"
      ]
     },
     "execution_count": 575,
     "metadata": {},
     "output_type": "execute_result"
    }
   ],
   "source": [
    "lon"
   ]
  },
  {
   "cell_type": "code",
   "execution_count": 594,
   "metadata": {},
   "outputs": [],
   "source": [
    "real_region = soup.find_all(class_=\"tb_region\")\n",
    "\n",
    "\n",
    "regions = []\n",
    "\n",
    "for i in real_region:\n",
    "    reg = i.get_text().strip()\n",
    "    regions.append(reg)"
   ]
  },
  {
   "cell_type": "code",
   "execution_count": 606,
   "metadata": {},
   "outputs": [
    {
     "data": {
      "text/plain": [
       "['MINDORO, PHILIPPINES',\n",
       " 'WESTERN TURKEY',\n",
       " 'ICELAND REGION',\n",
       " 'ISLAND OF HAWAII, HAWAII',\n",
       " 'STRAIT OF GIBRALTAR',\n",
       " 'OFF COAST OF ANTOFAGASTA, CHILE',\n",
       " 'EASTERN TURKEY',\n",
       " 'PUERTO RICO REGION',\n",
       " 'ANTOFAGASTA, CHILE',\n",
       " 'ANTOFAGASTA, CHILE',\n",
       " 'PUERTO RICO REGION',\n",
       " 'GREATER LOS ANGELES AREA, CALIF.',\n",
       " 'JAMAICA REGION',\n",
       " 'LUZON, PHILIPPINES',\n",
       " 'NEVADA',\n",
       " 'MASBATE REGION, PHILIPPINES',\n",
       " 'FIJI REGION',\n",
       " 'ANTOFAGASTA, CHILE',\n",
       " 'SAMAR, PHILIPPINES',\n",
       " 'HALMAHERA, INDONESIA',\n",
       " 'HALMAHERA, INDONESIA',\n",
       " 'ISLAND OF HAWAII, HAWAII',\n",
       " 'ISLAND OF HAWAII, HAWAII',\n",
       " 'SOUTHERN CALIFORNIA',\n",
       " 'STRAIT OF GIBRALTAR',\n",
       " 'TIMOR REGION',\n",
       " 'ANTOFAGASTA, CHILE',\n",
       " 'DOMINICAN REPUBLIC',\n",
       " 'DOMINICAN REPUBLIC',\n",
       " 'GUERRERO, MEXICO',\n",
       " 'CENTRAL PERU',\n",
       " 'JAN MAYEN ISLAND REGION',\n",
       " 'OFFSHORE JALISCO, MEXICO',\n",
       " 'VALPARAISO, CHILE',\n",
       " 'OAXACA, MEXICO',\n",
       " 'ISLAND OF HAWAII, HAWAII',\n",
       " 'GREECE',\n",
       " 'ROMANIA',\n",
       " 'OAXACA, MEXICO',\n",
       " 'ATACAMA, CHILE',\n",
       " 'NORTHERN ITALY',\n",
       " 'GUERRERO, MEXICO',\n",
       " 'OFFSHORE MICHOACAN, MEXICO',\n",
       " 'ISLAND OF HAWAII, HAWAII',\n",
       " 'FIJI REGION',\n",
       " 'MINAHASA, SULAWESI, INDONESIA',\n",
       " 'OFF COAST OF CHIAPAS, MEXICO',\n",
       " 'PUERTO RICO',\n",
       " 'OFF COAST OF ARAUCANIA, CHILE',\n",
       " 'GUERRERO, MEXICO']"
      ]
     },
     "execution_count": 606,
     "metadata": {},
     "output_type": "execute_result"
    }
   ],
   "source": [
    "regions"
   ]
  },
  {
   "cell_type": "code",
   "execution_count": 601,
   "metadata": {},
   "outputs": [],
   "source": [
    "x ={'Date':dates,'Time':times,'Region':real_region,'Latitude':real_latitude,'Longitude':lon}\n",
    "df = pd.DataFrame(x)"
   ]
  },
  {
   "cell_type": "code",
   "execution_count": 605,
   "metadata": {},
   "outputs": [
    {
     "data": {
      "text/html": [
       "<div>\n",
       "<style scoped>\n",
       "    .dataframe tbody tr th:only-of-type {\n",
       "        vertical-align: middle;\n",
       "    }\n",
       "\n",
       "    .dataframe tbody tr th {\n",
       "        vertical-align: top;\n",
       "    }\n",
       "\n",
       "    .dataframe thead th {\n",
       "        text-align: right;\n",
       "    }\n",
       "</style>\n",
       "<table border=\"1\" class=\"dataframe\">\n",
       "  <thead>\n",
       "    <tr style=\"text-align: right;\">\n",
       "      <th></th>\n",
       "      <th>Date</th>\n",
       "      <th>Time</th>\n",
       "      <th>Region</th>\n",
       "      <th>Latitude</th>\n",
       "      <th>Longitude</th>\n",
       "    </tr>\n",
       "  </thead>\n",
       "  <tbody>\n",
       "    <tr>\n",
       "      <th>0</th>\n",
       "      <td>2020-08-26</td>\n",
       "      <td>13:49:43.0</td>\n",
       "      <td>[ MINDORO, PHILIPPINES]</td>\n",
       "      <td>13.23</td>\n",
       "      <td>121.19</td>\n",
       "    </tr>\n",
       "    <tr>\n",
       "      <th>1</th>\n",
       "      <td>2020-08-26</td>\n",
       "      <td>13:43:58.5</td>\n",
       "      <td>[ WESTERN TURKEY]</td>\n",
       "      <td>13.23</td>\n",
       "      <td>29.27</td>\n",
       "    </tr>\n",
       "    <tr>\n",
       "      <th>2</th>\n",
       "      <td>2020-08-26</td>\n",
       "      <td>13:43:45.0</td>\n",
       "      <td>[ ICELAND REGION]</td>\n",
       "      <td>13.23</td>\n",
       "      <td>22.22</td>\n",
       "    </tr>\n",
       "    <tr>\n",
       "      <th>3</th>\n",
       "      <td>2020-08-26</td>\n",
       "      <td>13:30:29.1</td>\n",
       "      <td>[ ISLAND OF HAWAII, HAWAII]</td>\n",
       "      <td>13.23</td>\n",
       "      <td>155.39</td>\n",
       "    </tr>\n",
       "    <tr>\n",
       "      <th>4</th>\n",
       "      <td>2020-08-26</td>\n",
       "      <td>13:21:26.8</td>\n",
       "      <td>[ STRAIT OF GIBRALTAR]</td>\n",
       "      <td>13.23</td>\n",
       "      <td>3.35</td>\n",
       "    </tr>\n",
       "    <tr>\n",
       "      <th>5</th>\n",
       "      <td>2020-08-26</td>\n",
       "      <td>13:20:43.0</td>\n",
       "      <td>[ OFF COAST OF ANTOFAGASTA, CHILE]</td>\n",
       "      <td>13.23</td>\n",
       "      <td>71.73</td>\n",
       "    </tr>\n",
       "    <tr>\n",
       "      <th>6</th>\n",
       "      <td>2020-08-26</td>\n",
       "      <td>13:20:30.0</td>\n",
       "      <td>[ EASTERN TURKEY]</td>\n",
       "      <td>13.23</td>\n",
       "      <td>39.54</td>\n",
       "    </tr>\n",
       "    <tr>\n",
       "      <th>7</th>\n",
       "      <td>2020-08-26</td>\n",
       "      <td>13:12:46.8</td>\n",
       "      <td>[ PUERTO RICO REGION]</td>\n",
       "      <td>13.23</td>\n",
       "      <td>66.91</td>\n",
       "    </tr>\n",
       "    <tr>\n",
       "      <th>8</th>\n",
       "      <td>2020-08-26</td>\n",
       "      <td>13:03:50.0</td>\n",
       "      <td>[ ANTOFAGASTA, CHILE]</td>\n",
       "      <td>13.23</td>\n",
       "      <td>68.47</td>\n",
       "    </tr>\n",
       "    <tr>\n",
       "      <th>9</th>\n",
       "      <td>2020-08-26</td>\n",
       "      <td>12:55:13.0</td>\n",
       "      <td>[ ANTOFAGASTA, CHILE]</td>\n",
       "      <td>13.23</td>\n",
       "      <td>68.49</td>\n",
       "    </tr>\n",
       "    <tr>\n",
       "      <th>10</th>\n",
       "      <td>2020-08-26</td>\n",
       "      <td>12:53:41.9</td>\n",
       "      <td>[ PUERTO RICO REGION]</td>\n",
       "      <td>13.23</td>\n",
       "      <td>66.91</td>\n",
       "    </tr>\n",
       "    <tr>\n",
       "      <th>11</th>\n",
       "      <td>2020-08-26</td>\n",
       "      <td>12:49:23.2</td>\n",
       "      <td>[ GREATER LOS ANGELES AREA, CALIF.]</td>\n",
       "      <td>13.23</td>\n",
       "      <td>119.31</td>\n",
       "    </tr>\n",
       "    <tr>\n",
       "      <th>12</th>\n",
       "      <td>2020-08-26</td>\n",
       "      <td>12:28:08.7</td>\n",
       "      <td>[ JAMAICA REGION]</td>\n",
       "      <td>13.23</td>\n",
       "      <td>77.34</td>\n",
       "    </tr>\n",
       "    <tr>\n",
       "      <th>13</th>\n",
       "      <td>2020-08-26</td>\n",
       "      <td>12:00:12.0</td>\n",
       "      <td>[ LUZON, PHILIPPINES]</td>\n",
       "      <td>13.23</td>\n",
       "      <td>120.02</td>\n",
       "    </tr>\n",
       "    <tr>\n",
       "      <th>14</th>\n",
       "      <td>2020-08-26</td>\n",
       "      <td>11:59:35.4</td>\n",
       "      <td>[ NEVADA]</td>\n",
       "      <td>13.23</td>\n",
       "      <td>117.97</td>\n",
       "    </tr>\n",
       "    <tr>\n",
       "      <th>15</th>\n",
       "      <td>2020-08-26</td>\n",
       "      <td>11:28:07.0</td>\n",
       "      <td>[ MASBATE REGION, PHILIPPINES]</td>\n",
       "      <td>13.23</td>\n",
       "      <td>123.98</td>\n",
       "    </tr>\n",
       "    <tr>\n",
       "      <th>16</th>\n",
       "      <td>2020-08-26</td>\n",
       "      <td>11:26:04.6</td>\n",
       "      <td>[ FIJI REGION]</td>\n",
       "      <td>13.23</td>\n",
       "      <td>178.38</td>\n",
       "    </tr>\n",
       "    <tr>\n",
       "      <th>17</th>\n",
       "      <td>2020-08-26</td>\n",
       "      <td>11:22:46.0</td>\n",
       "      <td>[ ANTOFAGASTA, CHILE]</td>\n",
       "      <td>13.23</td>\n",
       "      <td>68.71</td>\n",
       "    </tr>\n",
       "    <tr>\n",
       "      <th>18</th>\n",
       "      <td>2020-08-26</td>\n",
       "      <td>11:21:17.0</td>\n",
       "      <td>[ SAMAR, PHILIPPINES]</td>\n",
       "      <td>13.23</td>\n",
       "      <td>124.05</td>\n",
       "    </tr>\n",
       "    <tr>\n",
       "      <th>19</th>\n",
       "      <td>2020-08-26</td>\n",
       "      <td>11:16:22.0</td>\n",
       "      <td>[ HALMAHERA, INDONESIA]</td>\n",
       "      <td>13.23</td>\n",
       "      <td>127.88</td>\n",
       "    </tr>\n",
       "    <tr>\n",
       "      <th>20</th>\n",
       "      <td>2020-08-26</td>\n",
       "      <td>11:10:34.0</td>\n",
       "      <td>[ HALMAHERA, INDONESIA]</td>\n",
       "      <td>13.23</td>\n",
       "      <td>128.82</td>\n",
       "    </tr>\n",
       "    <tr>\n",
       "      <th>21</th>\n",
       "      <td>2020-08-26</td>\n",
       "      <td>10:53:26.9</td>\n",
       "      <td>[ ISLAND OF HAWAII, HAWAII]</td>\n",
       "      <td>13.23</td>\n",
       "      <td>155.39</td>\n",
       "    </tr>\n",
       "    <tr>\n",
       "      <th>22</th>\n",
       "      <td>2020-08-26</td>\n",
       "      <td>10:43:25.8</td>\n",
       "      <td>[ ISLAND OF HAWAII, HAWAII]</td>\n",
       "      <td>13.23</td>\n",
       "      <td>155.40</td>\n",
       "    </tr>\n",
       "    <tr>\n",
       "      <th>23</th>\n",
       "      <td>2020-08-26</td>\n",
       "      <td>10:23:38.8</td>\n",
       "      <td>[ SOUTHERN CALIFORNIA]</td>\n",
       "      <td>13.23</td>\n",
       "      <td>116.56</td>\n",
       "    </tr>\n",
       "    <tr>\n",
       "      <th>24</th>\n",
       "      <td>2020-08-26</td>\n",
       "      <td>10:17:35.7</td>\n",
       "      <td>[ STRAIT OF GIBRALTAR]</td>\n",
       "      <td>13.23</td>\n",
       "      <td>6.12</td>\n",
       "    </tr>\n",
       "    <tr>\n",
       "      <th>25</th>\n",
       "      <td>2020-08-26</td>\n",
       "      <td>10:06:38.0</td>\n",
       "      <td>[ TIMOR REGION]</td>\n",
       "      <td>13.23</td>\n",
       "      <td>124.19</td>\n",
       "    </tr>\n",
       "    <tr>\n",
       "      <th>26</th>\n",
       "      <td>2020-08-26</td>\n",
       "      <td>09:55:00.0</td>\n",
       "      <td>[ ANTOFAGASTA, CHILE]</td>\n",
       "      <td>13.23</td>\n",
       "      <td>67.42</td>\n",
       "    </tr>\n",
       "    <tr>\n",
       "      <th>27</th>\n",
       "      <td>2020-08-26</td>\n",
       "      <td>09:48:24.0</td>\n",
       "      <td>[ DOMINICAN REPUBLIC]</td>\n",
       "      <td>13.23</td>\n",
       "      <td>71.21</td>\n",
       "    </tr>\n",
       "    <tr>\n",
       "      <th>28</th>\n",
       "      <td>2020-08-26</td>\n",
       "      <td>09:30:09.0</td>\n",
       "      <td>[ DOMINICAN REPUBLIC]</td>\n",
       "      <td>13.23</td>\n",
       "      <td>70.96</td>\n",
       "    </tr>\n",
       "    <tr>\n",
       "      <th>29</th>\n",
       "      <td>2020-08-26</td>\n",
       "      <td>09:23:16.0</td>\n",
       "      <td>[ GUERRERO, MEXICO]</td>\n",
       "      <td>13.23</td>\n",
       "      <td>98.66</td>\n",
       "    </tr>\n",
       "    <tr>\n",
       "      <th>30</th>\n",
       "      <td>2020-08-26</td>\n",
       "      <td>09:18:44.0</td>\n",
       "      <td>[ CENTRAL PERU]</td>\n",
       "      <td>13.23</td>\n",
       "      <td>75.85</td>\n",
       "    </tr>\n",
       "    <tr>\n",
       "      <th>31</th>\n",
       "      <td>2020-08-26</td>\n",
       "      <td>09:18:31.7</td>\n",
       "      <td>[ JAN MAYEN ISLAND REGION]</td>\n",
       "      <td>13.23</td>\n",
       "      <td>1.50</td>\n",
       "    </tr>\n",
       "    <tr>\n",
       "      <th>32</th>\n",
       "      <td>2020-08-26</td>\n",
       "      <td>09:15:08.0</td>\n",
       "      <td>[ OFFSHORE JALISCO, MEXICO]</td>\n",
       "      <td>13.23</td>\n",
       "      <td>105.36</td>\n",
       "    </tr>\n",
       "    <tr>\n",
       "      <th>33</th>\n",
       "      <td>2020-08-26</td>\n",
       "      <td>09:15:02.0</td>\n",
       "      <td>[ VALPARAISO, CHILE]</td>\n",
       "      <td>13.23</td>\n",
       "      <td>71.29</td>\n",
       "    </tr>\n",
       "    <tr>\n",
       "      <th>34</th>\n",
       "      <td>2020-08-26</td>\n",
       "      <td>09:14:09.0</td>\n",
       "      <td>[ OAXACA, MEXICO]</td>\n",
       "      <td>13.23</td>\n",
       "      <td>97.77</td>\n",
       "    </tr>\n",
       "    <tr>\n",
       "      <th>35</th>\n",
       "      <td>2020-08-26</td>\n",
       "      <td>09:09:03.2</td>\n",
       "      <td>[ ISLAND OF HAWAII, HAWAII]</td>\n",
       "      <td>13.23</td>\n",
       "      <td>155.41</td>\n",
       "    </tr>\n",
       "    <tr>\n",
       "      <th>36</th>\n",
       "      <td>2020-08-26</td>\n",
       "      <td>09:04:09.7</td>\n",
       "      <td>[ GREECE]</td>\n",
       "      <td>13.23</td>\n",
       "      <td>20.29</td>\n",
       "    </tr>\n",
       "    <tr>\n",
       "      <th>37</th>\n",
       "      <td>2020-08-26</td>\n",
       "      <td>09:03:15.7</td>\n",
       "      <td>[ ROMANIA]</td>\n",
       "      <td>13.23</td>\n",
       "      <td>26.61</td>\n",
       "    </tr>\n",
       "    <tr>\n",
       "      <th>38</th>\n",
       "      <td>2020-08-26</td>\n",
       "      <td>09:03:00.0</td>\n",
       "      <td>[ OAXACA, MEXICO]</td>\n",
       "      <td>13.23</td>\n",
       "      <td>98.10</td>\n",
       "    </tr>\n",
       "    <tr>\n",
       "      <th>39</th>\n",
       "      <td>2020-08-26</td>\n",
       "      <td>08:56:53.0</td>\n",
       "      <td>[ ATACAMA, CHILE]</td>\n",
       "      <td>13.23</td>\n",
       "      <td>69.42</td>\n",
       "    </tr>\n",
       "    <tr>\n",
       "      <th>40</th>\n",
       "      <td>2020-08-26</td>\n",
       "      <td>08:54:02.0</td>\n",
       "      <td>[ NORTHERN ITALY]</td>\n",
       "      <td>13.23</td>\n",
       "      <td>10.65</td>\n",
       "    </tr>\n",
       "    <tr>\n",
       "      <th>41</th>\n",
       "      <td>2020-08-26</td>\n",
       "      <td>08:48:10.0</td>\n",
       "      <td>[ GUERRERO, MEXICO]</td>\n",
       "      <td>13.23</td>\n",
       "      <td>100.90</td>\n",
       "    </tr>\n",
       "    <tr>\n",
       "      <th>42</th>\n",
       "      <td>2020-08-26</td>\n",
       "      <td>08:44:05.0</td>\n",
       "      <td>[ OFFSHORE MICHOACAN, MEXICO]</td>\n",
       "      <td>13.23</td>\n",
       "      <td>103.52</td>\n",
       "    </tr>\n",
       "    <tr>\n",
       "      <th>43</th>\n",
       "      <td>2020-08-26</td>\n",
       "      <td>08:41:51.2</td>\n",
       "      <td>[ ISLAND OF HAWAII, HAWAII]</td>\n",
       "      <td>13.23</td>\n",
       "      <td>155.38</td>\n",
       "    </tr>\n",
       "    <tr>\n",
       "      <th>44</th>\n",
       "      <td>2020-08-26</td>\n",
       "      <td>08:39:54.9</td>\n",
       "      <td>[ FIJI REGION]</td>\n",
       "      <td>13.23</td>\n",
       "      <td>179.46</td>\n",
       "    </tr>\n",
       "    <tr>\n",
       "      <th>45</th>\n",
       "      <td>2020-08-26</td>\n",
       "      <td>08:38:47.0</td>\n",
       "      <td>[ MINAHASA, SULAWESI, INDONESIA]</td>\n",
       "      <td>13.23</td>\n",
       "      <td>121.60</td>\n",
       "    </tr>\n",
       "    <tr>\n",
       "      <th>46</th>\n",
       "      <td>2020-08-26</td>\n",
       "      <td>08:35:55.0</td>\n",
       "      <td>[ OFF COAST OF CHIAPAS, MEXICO]</td>\n",
       "      <td>13.23</td>\n",
       "      <td>93.80</td>\n",
       "    </tr>\n",
       "    <tr>\n",
       "      <th>47</th>\n",
       "      <td>2020-08-26</td>\n",
       "      <td>08:34:22.1</td>\n",
       "      <td>[ PUERTO RICO]</td>\n",
       "      <td>13.23</td>\n",
       "      <td>66.98</td>\n",
       "    </tr>\n",
       "    <tr>\n",
       "      <th>48</th>\n",
       "      <td>2020-08-26</td>\n",
       "      <td>08:29:16.0</td>\n",
       "      <td>[ OFF COAST OF ARAUCANIA, CHILE]</td>\n",
       "      <td>13.23</td>\n",
       "      <td>74.85</td>\n",
       "    </tr>\n",
       "    <tr>\n",
       "      <th>49</th>\n",
       "      <td>2020-08-26</td>\n",
       "      <td>08:25:12.0</td>\n",
       "      <td>[ GUERRERO, MEXICO]</td>\n",
       "      <td>13.23</td>\n",
       "      <td>98.45</td>\n",
       "    </tr>\n",
       "  </tbody>\n",
       "</table>\n",
       "</div>"
      ],
      "text/plain": [
       "          Date        Time                               Region Latitude  \\\n",
       "0   2020-08-26  13:49:43.0              [ MINDORO, PHILIPPINES]    13.23   \n",
       "1   2020-08-26  13:43:58.5                    [ WESTERN TURKEY]    13.23   \n",
       "2   2020-08-26  13:43:45.0                    [ ICELAND REGION]    13.23   \n",
       "3   2020-08-26  13:30:29.1          [ ISLAND OF HAWAII, HAWAII]    13.23   \n",
       "4   2020-08-26  13:21:26.8               [ STRAIT OF GIBRALTAR]    13.23   \n",
       "5   2020-08-26  13:20:43.0   [ OFF COAST OF ANTOFAGASTA, CHILE]    13.23   \n",
       "6   2020-08-26  13:20:30.0                    [ EASTERN TURKEY]    13.23   \n",
       "7   2020-08-26  13:12:46.8                [ PUERTO RICO REGION]    13.23   \n",
       "8   2020-08-26  13:03:50.0                [ ANTOFAGASTA, CHILE]    13.23   \n",
       "9   2020-08-26  12:55:13.0                [ ANTOFAGASTA, CHILE]    13.23   \n",
       "10  2020-08-26  12:53:41.9                [ PUERTO RICO REGION]    13.23   \n",
       "11  2020-08-26  12:49:23.2  [ GREATER LOS ANGELES AREA, CALIF.]    13.23   \n",
       "12  2020-08-26  12:28:08.7                    [ JAMAICA REGION]    13.23   \n",
       "13  2020-08-26  12:00:12.0                [ LUZON, PHILIPPINES]    13.23   \n",
       "14  2020-08-26  11:59:35.4                            [ NEVADA]    13.23   \n",
       "15  2020-08-26  11:28:07.0       [ MASBATE REGION, PHILIPPINES]    13.23   \n",
       "16  2020-08-26  11:26:04.6                       [ FIJI REGION]    13.23   \n",
       "17  2020-08-26  11:22:46.0                [ ANTOFAGASTA, CHILE]    13.23   \n",
       "18  2020-08-26  11:21:17.0                [ SAMAR, PHILIPPINES]    13.23   \n",
       "19  2020-08-26  11:16:22.0              [ HALMAHERA, INDONESIA]    13.23   \n",
       "20  2020-08-26  11:10:34.0              [ HALMAHERA, INDONESIA]    13.23   \n",
       "21  2020-08-26  10:53:26.9          [ ISLAND OF HAWAII, HAWAII]    13.23   \n",
       "22  2020-08-26  10:43:25.8          [ ISLAND OF HAWAII, HAWAII]    13.23   \n",
       "23  2020-08-26  10:23:38.8               [ SOUTHERN CALIFORNIA]    13.23   \n",
       "24  2020-08-26  10:17:35.7               [ STRAIT OF GIBRALTAR]    13.23   \n",
       "25  2020-08-26  10:06:38.0                      [ TIMOR REGION]    13.23   \n",
       "26  2020-08-26  09:55:00.0                [ ANTOFAGASTA, CHILE]    13.23   \n",
       "27  2020-08-26  09:48:24.0                [ DOMINICAN REPUBLIC]    13.23   \n",
       "28  2020-08-26  09:30:09.0                [ DOMINICAN REPUBLIC]    13.23   \n",
       "29  2020-08-26  09:23:16.0                  [ GUERRERO, MEXICO]    13.23   \n",
       "30  2020-08-26  09:18:44.0                      [ CENTRAL PERU]    13.23   \n",
       "31  2020-08-26  09:18:31.7           [ JAN MAYEN ISLAND REGION]    13.23   \n",
       "32  2020-08-26  09:15:08.0          [ OFFSHORE JALISCO, MEXICO]    13.23   \n",
       "33  2020-08-26  09:15:02.0                 [ VALPARAISO, CHILE]    13.23   \n",
       "34  2020-08-26  09:14:09.0                    [ OAXACA, MEXICO]    13.23   \n",
       "35  2020-08-26  09:09:03.2          [ ISLAND OF HAWAII, HAWAII]    13.23   \n",
       "36  2020-08-26  09:04:09.7                            [ GREECE]    13.23   \n",
       "37  2020-08-26  09:03:15.7                           [ ROMANIA]    13.23   \n",
       "38  2020-08-26  09:03:00.0                    [ OAXACA, MEXICO]    13.23   \n",
       "39  2020-08-26  08:56:53.0                    [ ATACAMA, CHILE]    13.23   \n",
       "40  2020-08-26  08:54:02.0                    [ NORTHERN ITALY]    13.23   \n",
       "41  2020-08-26  08:48:10.0                  [ GUERRERO, MEXICO]    13.23   \n",
       "42  2020-08-26  08:44:05.0        [ OFFSHORE MICHOACAN, MEXICO]    13.23   \n",
       "43  2020-08-26  08:41:51.2          [ ISLAND OF HAWAII, HAWAII]    13.23   \n",
       "44  2020-08-26  08:39:54.9                       [ FIJI REGION]    13.23   \n",
       "45  2020-08-26  08:38:47.0     [ MINAHASA, SULAWESI, INDONESIA]    13.23   \n",
       "46  2020-08-26  08:35:55.0      [ OFF COAST OF CHIAPAS, MEXICO]    13.23   \n",
       "47  2020-08-26  08:34:22.1                       [ PUERTO RICO]    13.23   \n",
       "48  2020-08-26  08:29:16.0     [ OFF COAST OF ARAUCANIA, CHILE]    13.23   \n",
       "49  2020-08-26  08:25:12.0                  [ GUERRERO, MEXICO]    13.23   \n",
       "\n",
       "   Longitude  \n",
       "0     121.19  \n",
       "1      29.27  \n",
       "2      22.22  \n",
       "3     155.39  \n",
       "4       3.35  \n",
       "5      71.73  \n",
       "6      39.54  \n",
       "7      66.91  \n",
       "8      68.47  \n",
       "9      68.49  \n",
       "10     66.91  \n",
       "11    119.31  \n",
       "12     77.34  \n",
       "13    120.02  \n",
       "14    117.97  \n",
       "15    123.98  \n",
       "16    178.38  \n",
       "17     68.71  \n",
       "18    124.05  \n",
       "19    127.88  \n",
       "20    128.82  \n",
       "21    155.39  \n",
       "22    155.40  \n",
       "23    116.56  \n",
       "24      6.12  \n",
       "25    124.19  \n",
       "26     67.42  \n",
       "27     71.21  \n",
       "28     70.96  \n",
       "29     98.66  \n",
       "30     75.85  \n",
       "31      1.50  \n",
       "32    105.36  \n",
       "33     71.29  \n",
       "34     97.77  \n",
       "35    155.41  \n",
       "36     20.29  \n",
       "37     26.61  \n",
       "38     98.10  \n",
       "39     69.42  \n",
       "40     10.65  \n",
       "41    100.90  \n",
       "42    103.52  \n",
       "43    155.38  \n",
       "44    179.46  \n",
       "45    121.60  \n",
       "46     93.80  \n",
       "47     66.98  \n",
       "48     74.85  \n",
       "49     98.45  "
      ]
     },
     "metadata": {},
     "output_type": "display_data"
    }
   ],
   "source": [
    "display(df)"
   ]
  },
  {
   "cell_type": "markdown",
   "metadata": {},
   "source": [
    "#### Count number of tweets by a given Twitter account."
   ]
  },
  {
   "cell_type": "markdown",
   "metadata": {},
   "source": [
    "You will need to include a ***try/except block*** for account names not found. \n",
    "<br>***Hint:*** the program should count the number of tweets for any provided account"
   ]
  },
  {
   "cell_type": "code",
   "execution_count": 615,
   "metadata": {},
   "outputs": [],
   "source": [
    "# This is the url you will scrape in this exercise \n",
    "# You will need to add the account credentials to this url\n",
    "url = 'https://twitter.com/'"
   ]
  },
  {
   "cell_type": "code",
   "execution_count": 616,
   "metadata": {},
   "outputs": [
    {
     "data": {
      "text/plain": [
       "'\\n\\n\\n\\n\\n\\n\\n\\n\\n\\n\\n\\n\\n\\n\\n\\n\\n\\n\\n\\n\\n\\n\\n\\n\\n\\n\\n\\n\\n\\n\\n\\n\\n\\n\\n\\n\\n\\n\\n\\n\\n\\n\\n\\n\\n\\n\\n\\n\\n\\n\\n\\n\\n\\n\\n\\n\\n\\n\\n\\n\\n\\n\\n\\n\\n\\n\\n\\n\\n\\n\\n\\n\\n\\n\\n\\n\\n\\n\\n\\n\\nhtml,body{height: 100%;}body{-ms-overflow-style:scrollbar;overflow-y:scroll;overscroll-behavior-y:none;}\\n[stylesheet-group=\"0\"]{}\\nhtml{-ms-text-size-adjust:100%;-webkit-text-size-adjust:100%;-webkit-tap-highlight-color:rgba(0,0,0,0);}\\nbody{margin:0;}\\nbutton::-moz-focus-inner,input::-moz-focus-inner{border:0;padding:0;}\\ninput::-webkit-inner-spin-button,input::-webkit-outer-spin-button,input::-webkit-search-cancel-button,input::-webkit-search-decoration,input::-webkit-search-results-button,input::-webkit-search-results-decoration{display:none;}\\n[stylesheet-group=\"0.1\"]{}\\n:focus:not([data-focusvisible-polyfill]){outline: none;}\\n[stylesheet-group=\"1\"]{}\\n.css-1dbjc4n{-ms-flex-align:stretch;-ms-flex-direction:column;-ms-flex-negative:0;-ms-flex-preferred-size:auto;-webkit-align-items:stretch;-webkit-box-align:stretch;-webkit-box-direction:normal;-webkit-box-orient:vertical;-webkit-flex-basis:auto;-webkit-flex-direction:column;-webkit-flex-shrink:0;align-items:stretch;border:0 solid black;box-sizing:border-box;display:-webkit-box;display:-moz-box;display:-ms-flexbox;display:-webkit-flex;display:flex;flex-basis:auto;flex-direction:column;flex-shrink:0;margin-bottom:0px;margin-left:0px;margin-right:0px;margin-top:0px;min-height:0px;min-width:0px;padding-bottom:0px;padding-left:0px;padding-right:0px;padding-top:0px;position:relative;z-index:0;}\\n.css-901oao{border:0 solid black;box-sizing:border-box;color:rgba(0,0,0,1.00);display:inline;font:14px system-ui,-apple-system,BlinkMacSystemFont,\"Segoe UI\",Roboto,Ubuntu,\"Helvetica Neue\",sans-serif;margin-bottom:0px;margin-left:0px;margin-right:0px;margin-top:0px;padding-bottom:0px;padding-left:0px;padding-right:0px;padding-top:0px;white-space:pre-wrap;word-wrap:break-word;}\\n.css-16my406{color:inherit;font:inherit;white-space:inherit;}\\n[stylesheet-group=\"2\"]{}\\n.r-13awgt0{-ms-flex-negative:1;-ms-flex-positive:1;-ms-flex-preferred-size:0%;-webkit-box-flex:1;-webkit-flex-basis:0%;-webkit-flex-grow:1;-webkit-flex-shrink:1;flex-basis:0%;flex-grow:1;flex-shrink:1;}\\n.r-4qtqp9{display:inline-block;}\\n.r-ywje51{margin-bottom:auto;margin-left:auto;margin-right:auto;margin-top:auto;}\\n.r-hvic4v{display:none;}\\n.r-1adg3ll{display:block;}\\n[stylesheet-group=\"2.2\"]{}\\n.r-12vffkv>*{pointer-events:auto;}\\n.r-12vffkv{pointer-events:none!important;}\\n.r-14lw9ot{background-color:rgba(255,255,255,1.00);}\\n.r-1p0dtai{bottom:0px;}\\n.r-1d2f490{left:0px;}\\n.r-1xcajam{position:fixed;}\\n.r-zchlnj{right:0px;}\\n.r-ipm5af{top:0px;}\\n.r-yyyyoo{fill:currentcolor;}\\n.r-1xvli5t{height:1.25em;}\\n.r-dnmrzs{max-width:100%;}\\n.r-bnwqim{position:relative;}\\n.r-1plcrui{vertical-align:text-bottom;}\\n.r-lrvibr{-moz-user-select:none;-ms-user-select:none;-webkit-user-select:none;user-select:none;}\\n.r-13gxpu9{color:rgba(29,161,242,1.00);}\\n.r-wy61xf{height:72px;}\\n.r-u8s1d{position:absolute;}\\n.r-1blnp2b{width:72px;}\\n.r-1ykxob0{top:60%;}\\n.r-1b2b6em{line-height:2em;}\\n.r-q4m81j{text-align:center;}\\n\\n\\n\\n\\nWe\\'ve detected that JavaScript is disabled in your browser. Would you like to proceed to legacy Twitter?\\n\\nYes\\n\\n\\n\\n\\nSomething went wrong, but don’t fret — let’s give it another shot.\\n\\nwindow.__INITIAL_STATE__ = {\"optimist\":[],\"featureSwitch\":{\"config\":{\"2fa_multikey_management_enabled\":{\"value\":false},\"account_country_setting_countries_whitelist\":{\"value\":[\"ad\",\"ae\",\"af\",\"ag\",\"ai\",\"al\",\"am\",\"ao\",\"ar\",\"as\",\"at\",\"au\",\"aw\",\"ax\",\"az\",\"ba\",\"bb\",\"bd\",\"be\",\"bf\",\"bg\",\"bh\",\"bi\",\"bj\",\"bl\",\"bm\",\"bn\",\"bo\",\"bq\",\"br\",\"bs\",\"bt\",\"bv\",\"bw\",\"by\",\"bz\",\"ca\",\"cc\",\"cd\",\"cf\",\"cg\",\"ch\",\"ci\",\"ck\",\"cl\",\"cm\",\"co\",\"cr\",\"cu\",\"cv\",\"cw\",\"cx\",\"cy\",\"cz\",\"de\",\"dj\",\"dk\",\"dm\",\"do\",\"dz\",\"ec\",\"ee\",\"eg\",\"er\",\"es\",\"et\",\"fi\",\"fj\",\"fk\",\"fm\",\"fo\",\"fr\",\"ga\",\"gb\",\"gd\",\"ge\",\"gf\",\"gg\",\"gh\",\"gi\",\"gl\",\"gm\",\"gn\",\"gp\",\"gq\",\"gr\",\"gs\",\"gt\",\"gu\",\"gw\",\"gy\",\"hk\",\"hn\",\"hr\",\"ht\",\"hu\",\"id\",\"ie\",\"il\",\"im\",\"in\",\"io\",\"iq\",\"ir\",\"is\",\"it\",\"je\",\"jm\",\"jo\",\"jp\",\"ke\",\"kg\",\"kh\",\"ki\",\"km\",\"kn\",\"kr\",\"kw\",\"ky\",\"kz\",\"la\",\"lb\",\"lc\",\"li\",\"lk\",\"lr\",\"ls\",\"lt\",\"lu\",\"lv\",\"ly\",\"ma\",\"mc\",\"md\",\"me\",\"mf\",\"mg\",\"mh\",\"mk\",\"ml\",\"mn\",\"mo\",\"mp\",\"mq\",\"mr\",\"ms\",\"mt\",\"mu\",\"mv\",\"mw\",\"mx\",\"my\",\"mz\",\"na\",\"nc\",\"ne\",\"nf\",\"ng\",\"ni\",\"nl\",\"no\",\"np\",\"nr\",\"nu\",\"nz\",\"om\",\"pa\",\"pe\",\"pf\",\"pg\",\"ph\",\"pk\",\"pl\",\"pm\",\"pn\",\"pr\",\"ps\",\"pt\",\"pw\",\"py\",\"qa\",\"re\",\"ro\",\"rs\",\"ru\",\"rw\",\"sa\",\"sb\",\"sc\",\"se\",\"sg\",\"sh\",\"si\",\"sk\",\"sl\",\"sm\",\"sn\",\"so\",\"sr\",\"st\",\"sv\",\"sx\",\"sz\",\"tc\",\"td\",\"tf\",\"tg\",\"th\",\"tj\",\"tk\",\"tl\",\"tm\",\"tn\",\"to\",\"tr\",\"tt\",\"tv\",\"tw\",\"tz\",\"ua\",\"ug\",\"us\",\"uy\",\"uz\",\"va\",\"vc\",\"ve\",\"vi\",\"vn\",\"vu\",\"wf\",\"ws\",\"xk\",\"ye\",\"yt\",\"za\",\"zm\",\"zw\"]},\"author_moderated_replies_urt_container_enabled\":{\"value\":false},\"content_language_setting_enabled\":{\"value\":true},\"conversation_controls_highlighted_education_enabled\":{\"value\":true},\"conversation_controls_limited_replies_consumption_configuration\":{\"value\":\"no_reply\"},\"conversation_controls_limited_replies_creation_enabled\":{\"value\":true},\"dm_reactions_config_active_reactions\":{\"value\":[\"😂:funny\",\"😲:surprised\",\"😢:sad\",\"❤:like\",\"🔥:excited\",\"👍:agree\",\"👎:disagree\"]},\"dm_reactions_config_inactive_reactions\":{\"value\":[\"😠:angry\"]},\"employee_role\":{\"value\":false},\"guest_broadcasting_timeline_decorations_enabled\":{\"value\":true},\"hashflags_animation_like_button_enabled\":{\"value\":true},\"hashflags_animation_lottie_default_enabled\":{\"value\":false},\"home_timeline_latest_timeline_autoswitch_half_life_minutes\":{\"value\":43200},\"home_timeline_latest_timeline_autoswitch_threshold_multiplier\":{\"value\":2},\"home_timeline_latest_timeline_max_time_to_autoswitch_minutes\":{\"value\":5256000},\"home_timeline_latest_timeline_min_time_to_autoswitch_minutes\":{\"value\":5256000},\"home_timeline_latest_timeline_switch_enabled\":{\"value\":true},\"home_timeline_latest_timeline_threshold_to_increase_autoswitch_seconds\":{\"value\":60},\"home_timeline_spheres_copy_variant\":{\"value\":\"list_follow\"},\"home_timeline_spheres_custom_banner_image_reads_enabled\":{\"value\":true},\"home_timeline_spheres_detail_page_muting_enabled\":{\"value\":true},\"home_timeline_spheres_list_cell_thumbnail_enabled\":{\"value\":true},\"home_timeline_spheres_max_user_owned_or_subscribed_lists_count\":{\"value\":5},\"home_timeline_spheres_ranking_mode_control_enabled\":{\"value\":true},\"identity_verification_intake_enabled\":{\"value\":false},\"live_event_docking_enabled\":{\"value\":true},\"live_event_multi_video_auto_advance_dock_enabled\":{\"value\":true},\"live_event_multi_video_auto_advance_enabled\":{\"value\":true},\"live_event_multi_video_auto_advance_fullscreen_enabled\":{\"value\":false},\"live_event_multi_video_auto_advance_transition_duration_seconds\":{\"value\":5},\"live_event_multi_video_enabled\":{\"value\":true},\"live_event_timeline_default_refresh_rate_interval_seconds\":{\"value\":30},\"live_event_timeline_minimum_refresh_rate_interval_seconds\":{\"value\":10},\"live_event_timeline_server_controlled_refresh_rate_enabled\":{\"value\":true},\"live_event_vod_promoted_content_enabled\":{\"value\":true},\"livepipeline_client_enabled\":{\"value\":true},\"livepipeline_dm_features_enabled\":{\"value\":true},\"livepipeline_tweetengagement_enabled\":{\"value\":true},\"moment_annotations_enabled\":{\"value\":true},\"name_accessibility_unicode_detection_enabled\":{\"value\":false},\"network_layer_503_backoff_mode\":{\"value\":\"host\"},\"responsive_web_alt_svc\":{\"value\":false},\"responsive_web_alt_text_badge_enabled\":{\"value\":false},\"responsive_web_api_transition_enabled\":{\"value\":false},\"responsive_web_auto_logout_multiaccount_enabled\":{\"value\":true},\"responsive_web_auto_logout_restrictedauthtoken_enabled\":{\"value\":true},\"responsive_web_auto_logout_twid_enabled\":{\"value\":true},\"responsive_web_birdwatch_consumption_enabled\":{\"value\":false},\"responsive_web_birdwatch_contribution_enabled\":{\"value\":false},\"responsive_web_branch_cpid_enabled\":{\"value\":true},\"responsive_web_branch_sdk_enabled\":{\"value\":true},\"responsive_web_broadcast_page_card_enabled\":{\"value\":true},\"responsive_web_card_preload_mode\":{\"value\":\"prerender\"},\"responsive_web_check_browser_support_enabled\":{\"value\":true},\"responsive_web_cleanup_macaw_swift_indexed_db\":{\"value\":true},\"responsive_web_continue_as_always_enabled\":{\"value\":false},\"responsive_web_continue_as_param_enabled\":{\"value\":true},\"responsive_web_conversation_tree_enabled\":{\"value\":false},\"responsive_web_conversation_tree_selected_state_enabled\":{\"value\":true},\"responsive_web_conversation_tree_toggle\":{\"value\":false},\"responsive_web_csrf_clientside_enabled\":{\"value\":true},\"responsive_web_dark_mode_scrollbars_enabled\":{\"value\":false},\"responsive_web_dcm_2_enabled\":{\"value\":true},\"responsive_web_dm_composer_media_toggle_enabled\":{\"value\":false},\"responsive_web_dm_entry_anchoring_top_anchoring_default_enabled\":{\"value\":true},\"responsive_web_dm_health_convo_block_report_button_enabled\":{\"value\":true},\"responsive_web_dm_health_convo_group_changes_enabled\":{\"value\":true},\"responsive_web_dm_health_convo_inline_profile_info_enabled\":{\"value\":true},\"responsive_web_dm_health_inbox_request_cell_social_proof_enabled\":{\"value\":false},\"responsive_web_dm_quick_access_enabled\":{\"value\":true},\"responsive_web_dm_quick_access_no_empty_drawer_enabled\":{\"value\":true},\"responsive_web_dm_quick_access_with_close_enabled\":{\"value\":false},\"responsive_web_elevated_qt_label_configuration\":{\"value\":\"\"},\"responsive_web_elevated_qt_quote_action_menu_verbiage_enabled\":{\"value\":false},\"responsive_web_elevated_qt_tweet_detail_stat_ordering_enabled\":{\"value\":false},\"responsive_web_eu_countries\":{\"value\":[\"at\",\"be\",\"bg\",\"ch\",\"cy\",\"cz\",\"de\",\"dk\",\"ee\",\"es\",\"fi\",\"fr\",\"gb\",\"gr\",\"hr\",\"hu\",\"ie\",\"is\",\"it\",\"li\",\"lt\",\"lu\",\"lv\",\"mt\",\"nl\",\"no\",\"pl\",\"pt\",\"ro\",\"se\",\"si\",\"sk\"]},\"responsive_web_extension_compatibility_hide\":{\"value\":false},\"responsive_web_extension_compatibility_impression_guard\":{\"value\":true},\"responsive_web_extension_compatibility_override_param\":{\"value\":false},\"responsive_web_extension_compatibility_scribe\":{\"value\":true},\"responsive_web_extension_compatibility_size_threshold\":{\"value\":50},\"responsive_web_fake_root_twitter_domain_for_testing\":{\"value\":false},\"responsive_web_feature_switch_dash_enabled\":{\"value\":false},\"responsive_web_fetch_hashflags_on_boot\":{\"value\":true},\"responsive_web_fleets_dm_consumption_enabled\":{\"value\":false},\"responsive_web_framerate_tracking_home_enabled\":{\"value\":false},\"responsive_web_graphql_amr_timeline\":{\"value\":false},\"responsive_web_graphql_bookmarks\":{\"value\":false},\"responsive_web_graphql_dark_reads_probability\":{\"value\":0},\"responsive_web_graphql_list_crud\":{\"value\":true},\"responsive_web_graphql_list_management_timelines_enabled\":{\"value\":false},\"responsive_web_graphql_list_members_subscribers_enabled\":{\"value\":false},\"responsive_web_graphql_list_operations\":{\"value\":false},\"responsive_web_graphql_tweet_results\":{\"value\":false},\"responsive_web_graphql_user_results\":{\"value\":false},\"responsive_web_graphql_verify_credentials_enabled\":{\"value\":true},\"responsive_web_guest_token_reporting\":{\"value\":true},\"responsive_web_hide_media_previews_enabled\":{\"value\":false},\"responsive_web_history_tracker_enabled\":{\"value\":true},\"responsive_web_hoisting_anchor_invalidation_enabled\":{\"value\":false},\"responsive_web_home_wait_for_seenIds_enabled\":{\"value\":false},\"responsive_web_horizon_video_player_enabled\":{\"value\":true},\"responsive_web_hover_on_mousemove_enabled\":{\"value\":false},\"responsive_web_html_archive_renderer_enabled\":{\"value\":true},\"responsive_web_hw_cards_in_dms_enabled\":{\"value\":true},\"responsive_web_inline_reply_enabled\":{\"value\":false},\"responsive_web_inline_reply_with_fab_enabled\":{\"value\":false},\"responsive_web_instream_video_enabled\":{\"value\":true},\"responsive_web_instream_video_redesign_enabled\":{\"value\":false},\"responsive_web_list_hover_cards_enabled\":{\"value\":true},\"responsive_web_live_video_parity_periscope_auth_enabled\":{\"value\":false},\"responsive_web_login_input_type_email_enabled\":{\"value\":false},\"responsive_web_login_signup_sheet_app_install_cta_enabled\":{\"value\":true},\"responsive_web_media_upload_limit_2g\":{\"value\":250},\"responsive_web_media_upload_limit_3g\":{\"value\":1500},\"responsive_web_media_upload_limit_slow_2g\":{\"value\":150},\"responsive_web_media_upload_md5_hashing_enabled\":{\"value\":false},\"responsive_web_media_upload_target_jpg_pixels_per_byte\":{\"value\":6},\"responsive_web_menu_section_divider_enabled\":{\"value\":false},\"responsive_web_modern_bundle_enabled\":{\"value\":true},\"responsive_web_modern_bundle_sw_enabled\":{\"value\":true},\"responsive_web_moment_maker_annotations_enabled\":{\"value\":false},\"responsive_web_moment_maker_enabled\":{\"value\":false},\"responsive_web_multiple_account_limit\":{\"value\":5},\"responsive_web_narrow_tweet_actions_enabled\":{\"value\":false},\"responsive_web_new_client_events_enabled\":{\"value\":false},\"responsive_web_not_my_account_screen_enabled\":{\"value\":true},\"responsive_web_ntab_verified_mentions_vit_internal_dogfood\":{\"value\":false},\"responsive_web_ocf_sms_autoverify_enabled\":{\"value\":false},\"responsive_web_promoted_trends_event_migration_enabled\":{\"value\":false},\"responsive_web_promoted_tweet_param_append_enabled\":{\"value\":false},\"responsive_web_promoted_tweet_url_rewrite_enabled\":{\"value\":false},\"responsive_web_quick_promote_enabled\":{\"value\":false},\"responsive_web_redirect_to_app_enabled\":{\"value\":true},\"responsive_web_report_page_not_found\":{\"value\":false},\"responsive_web_rich_tweet_landing_enabled\":{\"value\":true},\"responsive_web_scheduling_edit_enabled\":{\"value\":false},\"responsive_web_scheduling_enabled\":{\"value\":false},\"responsive_web_scheduling_entry_point\":{\"value\":\"overflow\"},\"responsive_web_scroller_autopoll_enabled\":{\"value\":false},\"responsive_web_scroller_v3_enabled\":{\"value\":false},\"responsive_web_search_dms_enabled\":{\"value\":true},\"responsive_web_second_degree_replies_nudge_force_enabled\":{\"value\":false},\"responsive_web_second_degree_replies_nudge_get_enabled\":{\"value\":false},\"responsive_web_second_degree_replies_nudge_show_enabled\":{\"value\":false},\"responsive_web_serviceworker_safari_disabled\":{\"value\":false},\"responsive_web_settings_revamp_enabled\":{\"value\":false},\"responsive_web_settings_timeline_refresh_background_interval\":{\"value\":0},\"responsive_web_settings_timeline_refresh_enabled\":{\"value\":false},\"responsive_web_settings_timeline_refresh_instant_default\":{\"value\":true},\"responsive_web_sports_carousel\":{\"value\":false},\"responsive_web_trends_setting_new_endpoints\":{\"value\":true},\"responsive_web_trigger_test_backoff_on_bookmark\":{\"value\":false},\"responsive_web_tweet_drafts_enabled\":{\"value\":false},\"responsive_web_tweets_pill_local_enabled\":{\"value\":true},\"responsive_web_unified_cards_live_event_enabled\":{\"value\":true},\"responsive_web_unified_cards_poll2choice_image_enabled\":{\"value\":true},\"responsive_web_unified_cards_poll2choice_video_enabled\":{\"value\":true},\"responsive_web_unified_cards_poll3choice_image_enabled\":{\"value\":true},\"responsive_web_unified_cards_poll3choice_video_enabled\":{\"value\":true},\"responsive_web_unified_cards_poll4choice_image_enabled\":{\"value\":true},\"responsive_web_unified_cards_poll4choice_video_enabled\":{\"value\":true},\"responsive_web_unsupported_entry_tombstone\":{\"value\":false},\"responsive_web_use_app_prompt_copy_variant\":{\"value\":\"prompt_better\"},\"responsive_web_use_app_prompt_enabled\":{\"value\":true},\"responsive_web_verification_v2_enabled\":{\"value\":true},\"responsive_web_video_native_fullscreen_enabled\":{\"value\":true},\"responsive_web_video_promoted_logging_enabled\":{\"value\":true},\"responsive_web_vod_muted_captions_enabled\":{\"value\":true},\"responsive_web_vs_config_desktop_assumed_item_height\":{\"value\":100},\"responsive_web_vs_config_resize_observer_enabled\":{\"value\":true},\"responsive_web_zipkin_api_requests_enabled\":{\"value\":false},\"responsive_web_zipkin_api_requests_paths_allowlist\":{\"value\":[\"/2/timeline/home.json\"]},\"scribe_api_error_sample_size\":{\"value\":0},\"scribe_api_sample_size\":{\"value\":100},\"scribe_cdn_host_list\":{\"value\":[\"si0.twimg.com\",\"si1.twimg.com\",\"si2.twimg.com\",\"si3.twimg.com\",\"a0.twimg.com\",\"a1.twimg.com\",\"a2.twimg.com\",\"a3.twimg.com\",\"abs.twimg.com\",\"amp.twimg.com\",\"o.twimg.com\",\"pbs.twimg.com\",\"pbs-eb.twimg.com\",\"pbs-ec.twimg.com\",\"pbs-v6.twimg.com\",\"pbs-h1.twimg.com\",\"pbs-h2.twimg.com\",\"video.twimg.com\",\"platform.twitter.com\",\"cdn.api.twitter.com\",\"ton.twimg.com\",\"v.cdn.vine.co\",\"mtc.cdn.vine.co\",\"edge.vncdn.co\",\"mid.vncdn.co\"]},\"scribe_cdn_sample_size\":{\"value\":50},\"search_channels_description_enabled\":{\"value\":true},\"search_channels_discovery_page_enabled\":{\"value\":false},\"search_features_deep_link_request_params_enabled\":{\"value\":true},\"soft_interventions_forward_pivot_enabled\":{\"value\":true},\"soft_interventions_inner_qt_forward_pivot_enabled\":{\"value\":false},\"topic_landing_page_enabled\":{\"value\":true},\"topic_landing_page_share_enabled\":{\"value\":false},\"topics_descriptions_enabled\":{\"value\":true},\"topics_dismiss_control_enabled\":{\"value\":true},\"topics_new_mgmt_enabled\":{\"value\":true},\"topics_new_social_context_bottom_border_enabled\":{\"value\":false},\"topics_new_social_context_enabled\":{\"value\":false},\"topics_new_social_context_icon_color_enabled\":{\"value\":false},\"topics_peek_home_enabled\":{\"value\":false},\"topics_peek_search_enabled\":{\"value\":false},\"traffic_rewrite_map\":{\"value\":[]},\"tweet_limited_actions_config_enabled\":{\"value\":true},\"tweet_limited_actions_config_non_compliant\":{\"value\":[\"reply\",\"retweet\",\"like\",\"send_via_dm\",\"add_to_bookmarks\",\"add_to_moment\",\"pin_to_profile\",\"view_tweet_activity\",\"share_tweet_via\"]},\"unified_cards_cta_color_blue_cta\":{\"value\":true},\"user_display_name_max_limit\":{\"value\":50},\"web_video_bitrate_persistence_enabled\":{\"value\":false},\"web_video_hls_android_mse_enabled\":{\"value\":true},\"web_video_hls_mp4_threshold_sec\":{\"value\":0},\"web_video_hlsjs_max_buffer_length_pause\":{\"value\":3},\"web_video_hlsjs_max_buffer_length_play\":{\"value\":3},\"web_video_hlsjs_version\":{\"value\":\"\"}},\"debug\":{},\"impression_pointers\":{\"responsive_web_redirect_to_app_enabled\":[\"rweb_redirect_to_app_10853\"]},\"impressions\":{\"rweb_redirect_to_app_10853\":{\"key\":\"rweb_redirect_to_app_10853\",\"bucket\":\"treatment\",\"version\":2}},\"featureSetToken\":\"6e4363f23195fc05e9706cb0b4f765c7dbd7f06e\",\"isLoaded\":true,\"isLoading\":false,\"keysRead\":{},\"settingsVersion\":\"67fc501c16e322e17d71f6edc6a87699\"},\"urt\":{},\"entities\":{\"users\":{\"entities\":{},\"errors\":{},\"fetchStatus\":{}},\"tweets\":{\"entities\":{},\"errors\":{},\"fetchStatus\":{}},\"cards\":{\"entities\":{},\"errors\":{},\"fetchStatus\":{}}},\"toasts\":[],\"devices\":{\"browserPush\":{\"fetchStatus\":\"none\",\"pushNotificationsPrompt\":{\"dismissed\":false,\"fetchStatus\":\"none\"},\"subscribed\":false,\"supported\":null},\"devices\":{\"data\":{\"emails\":[],\"phone_numbers\":[]},\"fetchStatus\":\"none\"},\"notificationSettings\":{\"push_settings\":{\"error\":null,\"fetchStatus\":\"none\"},\"push_settings_template\":{\"template\":{\"settings\":[]}},\"sms_settings\":{\"error\":null,\"fetchStatus\":\"none\"},\"sms_settings_template\":{\"template\":{\"settings\":[]}},\"checkin_time\":null}},\"typeaheadUsers\":{\"fetchStatus\":\"none\",\"users\":{},\"denylist\":{},\"lastUpdated\":0,\"index\":{}},\"session\":{\"country\":\"ES\",\"emailLiteLoginEligibility\":{\"fetchStatus\":\"none\"},\"guestId\":\"159845292693875376\",\"language\":\"en\",\"oneFactorLoginEligibility\":{\"fetchStatus\":\"none\"}},\"settings\":{\"local\":{\"nextPushCheckin\":0,\"shouldAutoPlayGif\":false,\"scale\":\"normal\",\"themeColor\":\"blue\",\"highContrastEnabled\":false,\"themeBackground\":\"light\",\"loginPromptLastShown\":0,\"mediaPreviewsEnabled\":true,\"reducedMotionEnabled\":false,\"conversationTreeEnabled\":false,\"showTweetMediaDetailDrawer\":true},\"remote\":{\"settings\":{\"display_sensitive_media\":false},\"fetchStatus\":\"none\"},\"dataSaver\":{\"dataSaverMode\":false},\"transient\":{\"dtabBarInfo\":{\"dtabAll\":null,\"dtabRweb\":null,\"hide\":false},\"loginPromptShown\":false,\"lastViewedDmInboxPath\":\"/messages\",\"themeFocus\":\"\"}},\"hashflags\":{\"fetchStatus\":\"none\",\"hashflags\":{}}};\\nwindow.__META_DATA__ = {\"env\":\"prod\",\"isFromDynamicRenderer\":false,\"isLoggedIn\":false,\"isRTL\":false,\"hasMultiAccountCookie\":false,\"uaParserTags\":[\"m2\",\"rweb_unsupported\",\"msw\"],\"serverDate\":1598452926991,\"sha\":\"2dce191a41c1b53d2eff50493399f2a71135d3c1\"};\\n\\n\\n  document.cookie = decodeURIComponent(\"gt=1298631815780077569; Max-Age=10800; Domain=.twitter.com; Path=/; Secure\");\\n\\n\\n  window.__SCRIPTS_LOADED__ = {};\\n  !function(e){function n(n){for(var o,t,i=n[0],c=n[1],l=n[2],s=0,m=[];s<i.length;s++)t=i[s],Object.prototype.hasOwnProperty.call(a,t)&&a[t]&&m.push(a[t][0]),a[t]=0;for(o in c)Object.prototype.hasOwnProperty.call(c,o)&&(e[o]=c[o]);for(u&&u(n);m.length;)m.shift()();return r.push.apply(r,l||[]),d()}function d(){for(var e,n=0;n<r.length;n++){for(var d=r[n],o=!0,i=1;i<d.length;i++){var c=d[i];0!==a[c]&&(o=!1)}o&&(r.splice(n--,1),e=t(t.s=d[0]))}return e}var o={},a={1:0},r=[];function t(n){if(o[n])return o[n].exports;var d=o[n]={i:n,l:!1,exports:{}};return e[n].call(d.exports,d,d.exports,t),d.l=!0,d.exports}t.e=function(e){var n=[],d=a[e];if(0!==d)if(d)n.push(d[2]);else{var o=new Promise((function(n,o){d=a[e]=[n,o]}));n.push(d[2]=o);var r,i=document.createElement(\"script\");i.charset=\"utf-8\",i.timeout=120,t.nc&&i.setAttribute(\"nonce\",t.nc),i.src=function(e){return t.p+\"\"+({0:\"sharedCore\",3:\"shared~loader.DMDrawer~bundle.Compose~bundle.RichTextCompose~bundle.DirectMessages~bundle.DMRichTextCompose~b\",4:\"shared~bundle.ComposeMedia~bundle.Display~bundle.Ocf~bundle.Settings~bundle.SettingsProfile~bundle.UserLists~\",5:\"shared~bundle.Explore~bundle.GenericTimeline~bundle.LiveEvent~bundle.Place~bundle.Search~bundle.QuoteTweetAct\",6:\"shared~bundle.ComposeMedia~bundle.Ocf~bundle.SettingsProfile~bundle.UserLists\",7:\"shared~bundle.Compose~bundle.RichTextCompose~bundle.PlainTextCompose\",8:\"shared~bundle.DirectMessages~bundle.TweetMediaDetail~bundle.UserAvatar\",9:\"shared~bundle.Place~bundle.Search~bundle.QuoteTweetActivity\",10:\"shared~bundle.RichTextCompose~bundle.DMRichTextCompose~ondemand.RichText\",11:\"shared~bundle.Settings~ondemand.SettingsInternals~bundle.SettingsTransparency\",12:\"shared~loader.DMDrawer~bundle.DirectMessages~bundle.DMRichTextCompose\",13:\"shared~bundle.Display~bundle.Settings\",14:\"shared~bundle.Explore~loader.ExploreSidebar\",15:\"shared~bundle.LiveEvent~bundle.UserMoments\",16:\"shared~bundle.TopicPeek~ondemand.EmojiPicker\",17:\"shared~loader.DashMenu~bundle.Account\",18:\"shared~loader.Typeahead~ondemand.SettingsInternals\",19:\"shared~ondemand.EmojiPickerData~ondemand.EmojiPicker\",20:\"bundle.AboutThisAd\",21:\"bundle.Account\",22:\"bundle.AdvancedSearch\",24:\"bundle.Bookmarks\",25:\"bundle.Collection\",26:\"bundle.Compose\",27:\"bundle.ComposeMedia\",28:\"bundle.ConnectTab\",29:\"bundle.Conversation\",30:\"bundle.ConversationParticipants\",31:\"bundle.DMRichTextCompose\",32:\"bundle.DirectMessages\",33:\"bundle.Display\",34:\"bundle.Download\",35:\"bundle.Explore\",36:\"bundle.ExploreTopics\",37:\"bundle.FollowerRequests\",38:\"bundle.GenericTimeline\",39:\"bundle.GifSearch\",40:\"bundle.HomeTimeline\",41:\"bundle.KeyboardShortcuts\",42:\"bundle.LiveEvent\",43:\"bundle.LoggedOutHome\",44:\"bundle.Login\",45:\"bundle.Logout\",46:\"bundle.Moment\",47:\"bundle.MomentMaker\",48:\"bundle.MultiAccount\",49:\"bundle.NetworkInstrument\",50:\"bundle.NotMyAccount\",51:\"bundle.NotificationDetail\",52:\"bundle.Notifications\",53:\"bundle.Ocf\",54:\"bundle.Place\",55:\"bundle.PlainTextCompose\",56:\"bundle.ProfileRedirect\",57:\"bundle.QuoteTweetActivity\",58:\"bundle.Report\",59:\"bundle.RichTextCompose\",60:\"bundle.Search\",61:\"bundle.Settings\",62:\"bundle.SettingsInternals\",63:\"bundle.SettingsProfile\",64:\"bundle.SettingsRevamp\",65:\"bundle.SettingsTransparency\",66:\"bundle.SmsLogin\",67:\"bundle.TopicPeek\",68:\"bundle.Topics\",69:\"bundle.Trends\",70:\"bundle.TweetActivity\",71:\"bundle.TweetMediaDetail\",72:\"bundle.TweetMediaTags\",73:\"bundle.Twitterversary\",74:\"bundle.UserAvatar\",75:\"bundle.UserFollowLists\",76:\"bundle.UserLists\",77:\"bundle.UserMoments\",78:\"bundle.UserProfile\",79:\"bundle.UserRedirect\",129:\"loader.AbsolutePower\",130:\"loader.AppModules\",131:\"loader.DMDrawer\",132:\"loader.DashMenu\",133:\"loader.ExploreSidebar\",134:\"loader.FeedbackSheet\",135:\"loader.FeedbackTombstone\",136:\"loader.HWCard\",137:\"loader.NewTweetsPill\",138:\"loader.PeriscopeOverlay\",139:\"loader.ProfileClusterFollow\",140:\"loader.PushNotificationsPrompt\",141:\"loader.SideNav\",142:\"loader.SignupModule\",143:\"loader.TimelineRenderer\",144:\"loader.TweetCurationActionMenu\",145:\"loader.Typeahead\",146:\"loader.WideLayout\",147:\"loader.directMessagesData\",148:\"loader.graphQLDarkReads\",149:\"loader.personalizationData\",150:\"loaders.video.PlayerBase\",151:\"loaders.video.PlayerHls13\",152:\"loaders.video.PlayerUi\",153:\"loaders.video.VideoPlayerDefaultUI\",155:\"ondemand.Balloons\",156:\"ondemand.BranchSdk\",157:\"ondemand.CarouselScroller\",158:\"ondemand.ComposeScheduling\",159:\"ondemand.Dropdown\",160:\"ondemand.EditBirthdate\",161:\"ondemand.EditPinned\",162:\"ondemand.EmojiPicker\",163:\"ondemand.HoverCard\",164:\"ondemand.InlinePlayer\",165:\"ondemand.IntentPrompt\",166:\"ondemand.LottieWeb\",167:\"ondemand.MicrosoftInterface\",168:\"ondemand.ProfileSidebar\",169:\"ondemand.RichText\",170:\"ondemand.SettingsInternals\",171:\"ondemand.countries-ar\",172:\"ondemand.countries-bg\",173:\"ondemand.countries-bn\",174:\"ondemand.countries-ca\",175:\"ondemand.countries-cs\",176:\"ondemand.countries-da\",177:\"ondemand.countries-de\",178:\"ondemand.countries-el\",179:\"ondemand.countries-en\",180:\"ondemand.countries-en-GB\",181:\"ondemand.countries-es\",182:\"ondemand.countries-eu\",183:\"ondemand.countries-fa\",184:\"ondemand.countries-fi\",185:\"ondemand.countries-fil\",186:\"ondemand.countries-fr\",187:\"ondemand.countries-ga\",188:\"ondemand.countries-gl\",189:\"ondemand.countries-gu\",190:\"ondemand.countries-he\",191:\"ondemand.countries-hi\",192:\"ondemand.countries-hr\",193:\"ondemand.countries-hu\",194:\"ondemand.countries-id\",195:\"ondemand.countries-it\",196:\"ondemand.countries-ja\",197:\"ondemand.countries-kn\",198:\"ondemand.countries-ko\",199:\"ondemand.countries-mr\",200:\"ondemand.countries-ms\",201:\"ondemand.countries-nb\",202:\"ondemand.countries-nl\",203:\"ondemand.countries-pl\",204:\"ondemand.countries-pt\",205:\"ondemand.countries-ro\",206:\"ondemand.countries-ru\",207:\"ondemand.countries-sk\",208:\"ondemand.countries-sr\",209:\"ondemand.countries-sv\",210:\"ondemand.countries-ta\",211:\"ondemand.countries-th\",212:\"ondemand.countries-tr\",213:\"ondemand.countries-uk\",214:\"ondemand.countries-ur\",215:\"ondemand.countries-zh\",216:\"ondemand.countries-zh-Hant\",217:\"ondemand.emoji.ar\",218:\"ondemand.emoji.bg\",219:\"ondemand.emoji.bn\",220:\"ondemand.emoji.ca\",221:\"ondemand.emoji.cs\",222:\"ondemand.emoji.da\",2224:\"ondemand.emoji.el\",225:\"ondemand.emoji.en\",226:\"ondemand.emoji.en-GB\",227:\"ondemand.emoji.en-ss\",228:\"ondemand.emoji.en-xx\",229:\"ondemand.emoji.es\",230:\"ondemand.emoji.eu\",231:\"ondemand.emoji.fa\",232:\"ondemand.emoji.fi\",233:\"ondemand.emoji.fil\",234:\"ondemand.emoji.fr\",235:\"ondemand.emoji.ga\",236:\"ondemand.emoji.gl\",237:\"ondemand.emoji.gu\",238:\"ondemand.emoji.he\",239:\"ondemand.emoji.hi\",240:\"ondemand.emoji.hr\",241:\"ondemand.emoji.hu\",242:\"ondemand.emoji.id\",243:\"ondemand.emoji.it\",244:\"ondemand.emoji.ja\",245:\"ondemand.emoji.kn\",246:\"ondemand.emoji.ko\",247:\"ondemand.emoji.mr\",248:\"ondemand.emoji.ms\",249:\"ondemand.emoji.nb\",250:\"ondemand.emoji.nl\",251:\"ondemand.emoji.pl\",252:\"ondemand.emoji.pt\",253:\"ondemand.emoji.ro\",254:\"ondemand.emoji.ru\",255:\"ondemand.emoji.sk\",256:\"ondemand.emoji.sr\",257:\"ondemand.emoji.sv\",258:\"ondemand.emoji.ta\",259:\"ondemand.emoji.th\",260:\"ondemand.emoji.tr\",261:\"ondemand.emoji.uk\",262:\"ondemand.emoji.ur\",263:\"ondemand.emoji.vi\",264:\"ondemand.emoji.zh\",265:\"ondemand.emoji.zh-Hant\",266:\"ondemand.framerateTracking\",267:\"ondemand.video.PlayerHls12\"}[e]||e)+\".\"+{0:\"e5e1826\",3:\"f8d216f\",4:\"941eace\",5:\"f53d49a\",6:\"7b3c8f5\",7:\"5bf9760\",8:\"8c11261\",9:\"199f8c8\",10:\"f1677d6\",11:\"f8736b9\",12:\"e7e0508\",13:\"d357344\",14:\"57712c5\",15:\"3291984\",16:\"dcdf615\",17:\"aa94170\",18:\"5ff3c9b\",19:\"c8afc41\",20:\"a71fd2d\",21:\"f647010\",22:\"958dba1\",24:\"65ee5a0\",25:\"776b6cb\",26:\"ad4b199\",27:\"aaad60e\",28:\"858fc06\",29:\"3bea27e\",30:\"19d0112\",31:\"0f59037\",32:\"998a98e\",33:\"633da1c\",34:\"86eb4cc\",35:\"dd8e325\",36:\"c3fe94e\",37:\"60e13cb\",38:\"2d19a0c\",39:\"d9d2267\",40:\"36a6b60\",41:\"8ee5a92\",42:\"f600a84\",43:\"279ff4d\",44:\"cc60b73\",45:\"cabbf0c\",46:\"1bd1b3b\",47:\"14ecaa7\",48:\"e20989e\",49:\"f63ae36\",50:\"559b58d\",51:\"1dd3db2\",52:\"3b25fb6\",53:\"345427b\",54:\"5649f7d\",55:\"a404385\",56:\"1e1e3d6\",57:\"20c7677\",58:\"9efa194\",59:\"86a7703\",60:\"5639dc3\",61:\"2e0442f\",62:\"19e67c0\",63:\"247c917\",64:\"87f15a3\",65:\"1d7c114\",66:\"8c33d59\",67:\"1db4a8a\",68:\"ee31031\",69:\"0c2b9df\",70:\"17ff4cb\",71:\"d83b4cc\",72:\"45f25fd\",73:\"bc1a2c7\",74:\"f60d76e\",75:\"678e833\",76:\"f177b23\",77:\"1b22f9d\",78:\"c1c72e4\",79:\"c84803a\",129:\"6b3a9d2\",130:\"472ddb2\",131:\"3636c17\",132:\"1b4872c\",133:\"b50c0e9\",134:\"5598006\",135:\"7aa7aee\",136:\"b372d79\",137:\"a56fb2f\",138:\"76746ef\",139:\"6929a3d\",140:\"2fc169e\",141:\"2d0370c\",142:\"842510e\",143:\"2112a63\",144:\"3b6f221\",145:\"8d219d9\",146:\"e491704\",147:\"53f8ee7\",148:\"941c2be\",149:\"16ee89d\",150:\"d2db9c6\",151:\"26bd4d3\",152:\"edd9d1b\",153:\"caf2299\",155:\"c3b772f\",156:\"ff2524e\",157:\"f5e17f3\",158:\"a4791c0\",159:\"ebc6390\",160:\"536e0d7\",161:\"97cae4c\",162:\"0fe9ff5\",163:\"1201779\",164:\"0e64c9c\",165:\"dfc1748\",166:\"590aa27\",167:\"bceadb5\",168:\"f9c7ad8\",169:\"ea65c67\",170:\"b0ab0c1\",171:\"2b0d584\",172:\"7627131\",173:\"a1e5da9\",174:\"7c58d50\",175:\"902076b\",176:\"0508798\",177:\"f8d0513\",178:\"7862261\",179:\"e695f19\",180:\"8769a51\",181:\"163a441\",182:\"c36f168\",183:\"8eb9f49\",184:\"ef63e76\",185:\"4ec7162\",186:\"9cbc571\",187:\"b55cfd1\",188:\"c821361\",189:\"c27fc51\",190:\"abe667c\",191:\"cbed4c1\",192:\"c791221\",193:\"3d66cf1\",194:\"1c84d98\",195:\"cf7c864\",196:\"5e61197\",197:\"3a52659\",198:\"b405c79\",199:\"a35645c\",200:\"10d7acc\",201:\"846e605\",202:\"9a74c51\",203:\"f7575a1\",204:\"8213707\",205:\"ae97d4e\",206:\"b8cbf9b\",207:\"d07594a\",208:\"daa4061\",209:\"a1ad1a5\",210:\"746be41\",211:\"c125f31\",212:\"b122d23\",213:\"34320f7\",214:\"2f44715\",215:\"3238f59\",216:\"47d1935\",217:\"06d9a7f\",218:\"76575ab\",219:\"282f2dc\",220:\"d3133db\",221:\"e51ce4d\",222:\"7133e2f\",2224:\"406ad5c\",225:\"eb50719\",226:\"7580455\",227:\"cab47da\",228:\"96bafca\",229:\"69f00f2\",230:\"db6818a\",231:\"08a274a\",232:\"7646661\",233:\"7c29a23\",234:\"ddd6690\",235:\"cdce5a7\",236:\"b000006\",237:\"664c259\",238:\"15da3bb\",239:\"97270dd\",240:\"8dfffc4\",241:\"e7e0e4a\",242:\"1fcfd0a\",243:\"e286d72\",244:\"7036933\",245:\"e60aeb4\",246:\"0535e95\",247:\"e60c691\",248:\"1602e3b\",249:\"9d6a3a4\",250:\"b5f0dc7\",251:\"ecd8db5\",252:\"7635f6f\",253:\"f4babec\",254:\"6943a12\",255:\"b0a8397\",256:\"effc7dd\",257:\"b02b060\",258:\"8553ad4\",259:\"ed5ef86\",260:\"ba0dc97\",261:\"98610d9\",262:\"9a5ca8d\",263:\"944772d\",264:\"778876e\",265:\"38e7d48\",266:\"a544971\",267:\"54c8fd6\"}[e]+\"5.js\"}(e);var c=new Error;r=function(n){i.onerror=i.onload=null,clearTimeout(l);var d=a[e];if(0!==d){if(d){var o=n&&(\"load\"===n.type?\"missing\":n.type),r=n&&n.target&&n.target.src;c.message=\"Loading chunk \"+e+\" failed.\\\\n(\"+o+\": \"+r+\")\",c.name=\"ChunkLoadError\",c.type=o,c.request=r,d[1](c)}a[e]=void 0}};var l=setTimeout((function(){r({type:\"timeout\",target:i})}),12e4);i.onerror=i.onload=r,document.head.appendChild(i)}return Promise.all(n)},t.m=e,t.c=o,t.d=function(e,n,d){t.o(e,n)||Object.defineProperty(e,n,{enumerable:!0,get:d})},t.r=function(e){\"undefined\"!=typeof Symbol&&Symbol.toStringTag&&Object.defineProperty(e,Symbol.toStringTag,{value:\"Module\"}),Object.defineProperty(e,\"__esModule\",{value:!0})},t.t=function(e,n){if(1&n&&(e=t(e)),8&n)return e;if(4&n&&\"object\"==typeof e&&e&&e.__esModule)return e;var d=Object.create(null);if(t.r(d),Object.defineProperty(d,\"default\",{enumerable:!0,value:e}),2&n&&\"string\"!=typeof e)for(var o in e)t.d(d,o,function(n){return e[n]}.bind(null,o));return d},t.n=function(e){var n=e&&e.__esModule?function(){return e.default}:function(){return e};return t.d(n,\"a\",n),n},t.o=function(e,n){return Object.prototype.hasOwnProperty.call(e,n)},t.p=\"https://abs.twimg.com/responsive-web/client-web-legacy/\",t.oe=function(e){throw e};var i=window.webpackJsonp=window.webpackJsonp||[],c=i.push.bind(i);i.push=n,i=i.slice();for(var l=0;l<i.length;l++)n(i[l]);var u=c;d()}([]),window.__SCRIPTS_LOADED__.runtime=!0;\\n\\n\\n\\n\\n\\n\\n\\n  if (!window.__SCRIPTS_LOADED__[\\'main\\']) {\\n    document.getElementById(\\'ScriptLoadFailure\\').style.display = \\'block\\';\\n  }\\n\\n'"
      ]
     },
     "execution_count": 616,
     "metadata": {},
     "output_type": "execute_result"
    }
   ],
   "source": [
    "#your code\n",
    "\n",
    "r = requests.get(url)\n",
    "soup = BeautifulSoup(r.content, 'html.parser')\n",
    "soup.text\n",
    "\n",
    "\n"
   ]
  },
  {
   "cell_type": "code",
   "execution_count": null,
   "metadata": {},
   "outputs": [],
   "source": []
  },
  {
   "cell_type": "code",
   "execution_count": null,
   "metadata": {},
   "outputs": [],
   "source": []
  },
  {
   "cell_type": "code",
   "execution_count": null,
   "metadata": {},
   "outputs": [],
   "source": []
  },
  {
   "cell_type": "code",
   "execution_count": null,
   "metadata": {},
   "outputs": [],
   "source": []
  },
  {
   "cell_type": "code",
   "execution_count": null,
   "metadata": {},
   "outputs": [],
   "source": []
  },
  {
   "cell_type": "code",
   "execution_count": null,
   "metadata": {},
   "outputs": [],
   "source": []
  },
  {
   "cell_type": "markdown",
   "metadata": {},
   "source": [
    "#### Number of followers of a given twitter account"
   ]
  },
  {
   "cell_type": "markdown",
   "metadata": {},
   "source": [
    "You will need to include a ***try/except block*** in case account/s name not found. \n",
    "<br>***Hint:*** the program should count the followers for any provided account"
   ]
  },
  {
   "cell_type": "code",
   "execution_count": null,
   "metadata": {
    "collapsed": true
   },
   "outputs": [],
   "source": [
    "# This is the url you will scrape in this exercise \n",
    "# You will need to add the account credentials to this url\n",
    "url = 'https://twitter.com/'"
   ]
  },
  {
   "cell_type": "code",
   "execution_count": null,
   "metadata": {
    "collapsed": true
   },
   "outputs": [],
   "source": [
    "#your code"
   ]
  },
  {
   "cell_type": "markdown",
   "metadata": {},
   "source": [
    "#### List all language names and number of related articles in the order they appear in wikipedia.org"
   ]
  },
  {
   "cell_type": "code",
   "execution_count": null,
   "metadata": {
    "collapsed": true
   },
   "outputs": [],
   "source": [
    "# This is the url you will scrape in this exercise\n",
    "url = 'https://www.wikipedia.org/'"
   ]
  },
  {
   "cell_type": "code",
   "execution_count": null,
   "metadata": {
    "collapsed": true
   },
   "outputs": [],
   "source": [
    "#your code"
   ]
  },
  {
   "cell_type": "markdown",
   "metadata": {},
   "source": [
    "#### A list with the different kind of datasets available in data.gov.uk "
   ]
  },
  {
   "cell_type": "code",
   "execution_count": null,
   "metadata": {
    "collapsed": true
   },
   "outputs": [],
   "source": [
    "# This is the url you will scrape in this exercise\n",
    "url = 'https://data.gov.uk/'"
   ]
  },
  {
   "cell_type": "code",
   "execution_count": null,
   "metadata": {
    "collapsed": true
   },
   "outputs": [],
   "source": [
    "#your code "
   ]
  },
  {
   "cell_type": "markdown",
   "metadata": {},
   "source": [
    "#### Top 10 languages by number of native speakers stored in a Pandas Dataframe"
   ]
  },
  {
   "cell_type": "code",
   "execution_count": 426,
   "metadata": {},
   "outputs": [],
   "source": [
    "# This is the url you will scrape in this exercise\n",
    "url = 'https://en.wikipedia.org/wiki/List_of_languages_by_number_of_native_speakers'"
   ]
  },
  {
   "cell_type": "code",
   "execution_count": 427,
   "metadata": {},
   "outputs": [
    {
     "data": {
      "text/plain": [
       "'\\n\\n\\n\\nList of languages by number of native speakers - Wikipedia\\ndocument.documentElement.className=\"client-js\";RLCONF={\"wgBreakFrames\":!1,\"wgSeparatorTransformTable\":[\"\",\"\"],\"wgDigitTransformTable\":[\"\",\"\"],\"wgDefaultDateFormat\":\"dmy\",\"wgMonthNames\":[\"\",\"January\",\"February\",\"March\",\"April\",\"May\",\"June\",\"July\",\"August\",\"September\",\"October\",\"November\",\"December\"],\"wgRequestId\":\"dddcf2a4-10a3-4fdb-a956-02d803bdc485\",\"wgCSPNonce\":!1,\"wgCanonicalNamespace\":\"\",\"wgCanonicalSpecialPageName\":!1,\"wgNamespaceNumber\":0,\"wgPageName\":\"List_of_languages_by_number_of_native_speakers\",\"wgTitle\":\"List of languages by number of native speakers\",\"wgCurRevisionId\":974847542,\"wgRevisionId\":974847542,\"wgArticleId\":405385,\"wgIsArticle\":!0,\"wgIsRedirect\":!1,\"wgAction\":\"view\",\"wgUserName\":null,\"wgUserGroups\":[\"*\"],\"wgCategories\":[\"Wikipedia indefinitely semi-protected pages\",\"Articles with short description\",\"Short description is different from Wikidata\",\"Use dmy dates from April 2020\",\"Wikipedia articles in need of updating from November 2018\",\\n\"All Wikipedia articles in need of updating\",\"All accuracy disputes\",\"Articles with disputed statements from January 2017\",\"Lists of languages\"],\"wgPageContentLanguage\":\"en\",\"wgPageContentModel\":\"wikitext\",\"wgRelevantPageName\":\"List_of_languages_by_number_of_native_speakers\",\"wgRelevantArticleId\":405385,\"wgIsProbablyEditable\":!1,\"wgRelevantPageIsProbablyEditable\":!1,\"wgRestrictionEdit\":[\"autoconfirmed\"],\"wgRestrictionMove\":[\"autoconfirmed\"],\"wgMediaViewerOnClick\":!0,\"wgMediaViewerEnabledByDefault\":!0,\"wgPopupsReferencePreviews\":!1,\"wgPopupsConflictsWithNavPopupGadget\":!1,\"wgVisualEditor\":{\"pageLanguageCode\":\"en\",\"pageLanguageDir\":\"ltr\",\"pageVariantFallbacks\":\"en\"},\"wgMFDisplayWikibaseDescriptions\":{\"search\":!0,\"nearby\":!0,\"watchlist\":!0,\"tagline\":!1},\"wgWMESchemaEditAttemptStepOversample\":!1,\"wgULSCurrentAutonym\":\"English\",\"wgNoticeProject\":\"wikipedia\",\"wgCentralAuthMobileDomain\":!1,\"wgEditSubmitButtonLabelPublish\":!0,\"wgULSPosition\":\"interlanguage\",\\n\"wgWikibaseItemId\":\"Q4319\"};RLSTATE={\"ext.globalCssJs.user.styles\":\"ready\",\"site.styles\":\"ready\",\"noscript\":\"ready\",\"user.styles\":\"ready\",\"ext.globalCssJs.user\":\"ready\",\"user\":\"ready\",\"user.options\":\"loading\",\"ext.cite.styles\":\"ready\",\"mediawiki.page.gallery.styles\":\"ready\",\"skins.vector.styles.legacy\":\"ready\",\"jquery.tablesorter.styles\":\"ready\",\"jquery.makeCollapsible.styles\":\"ready\",\"mediawiki.toc.styles\":\"ready\",\"ext.visualEditor.desktopArticleTarget.noscript\":\"ready\",\"ext.uls.interlanguage\":\"ready\",\"ext.wikimediaBadges\":\"ready\",\"wikibase.client.init\":\"ready\"};RLPAGEMODULES=[\"ext.cite.ux-enhancements\",\"site\",\"mediawiki.page.ready\",\"jquery.tablesorter\",\"jquery.makeCollapsible\",\"mediawiki.toc\",\"skins.vector.legacy.js\",\"ext.gadget.ReferenceTooltips\",\"ext.gadget.charinsert\",\"ext.gadget.extra-toolbar-buttons\",\"ext.gadget.refToolbar\",\"ext.gadget.switcher\",\"ext.centralauth.centralautologin\",\"mmv.head\",\"mmv.bootstrap.autostart\",\"ext.popups\",\"ext.visualEditor.desktopArticleTarget.init\",\\n\"ext.visualEditor.targetLoader\",\"ext.eventLogging\",\"ext.wikimediaEvents\",\"ext.navigationTiming\",\"ext.uls.compactlinks\",\"ext.uls.interface\",\"ext.cx.eventlogging.campaigns\",\"ext.quicksurveys.init\",\"ext.centralNotice.geoIP\",\"ext.centralNotice.startUp\"];\\n(RLQ=window.RLQ||[]).push(function(){mw.loader.implement(\"user.options@1hzgi\",function($,jQuery,require,module){/*@nomin*/mw.user.tokens.set({\"patrolToken\":\"+\\\\\\\\\",\"watchToken\":\"+\\\\\\\\\",\"csrfToken\":\"+\\\\\\\\\"});\\n});});\\n\\n\\n\\n\\n\\n\\n\\n\\n\\n\\n\\n\\n\\n\\n\\n\\n\\n\\n\\n\\n\\n\\n\\n\\n\\n\\n\\nList of languages by number of native speakers\\n\\nFrom Wikipedia, the free encyclopedia\\n\\n\\n\\nJump to navigation\\nJump to search\\nFor languages by total speakers, see List of languages by total number of speakers. For languages with the smallest numbers of native speakers, see lists of endangered languages.\\n\\n\\nWikipedia list article\\n\\n\\n Current distribution of human language families\\nThis article ranks human languages by their number of native speakers.\\nHowever, all such rankings should be used with caution, because it is not possible to devise a coherent set of linguistic criteria for distinguishing languages in a dialect continuum.[1]\\nFor example, a language is often defined as a set of varieties that are mutually intelligible, but independent national standard languages may be considered to be separate languages even though they are largely mutually intelligible, as in the case of Danish and Norwegian.[2]\\nConversely, many commonly accepted languages, including German, Italian and even English, encompass varieties that are not mutually intelligible.[1]\\nWhile Arabic is sometimes considered a single language centred on Modern Standard Arabic, other authors describe its mutually unintelligible varieties as separate languages.[3]\\nSimilarly, Chinese is sometimes viewed as a single language because of a shared culture and common literary language.[4]\\nIt is also common to describe various Chinese dialect groups, such as Mandarin, Wu and Yue, as languages, even though each of these groups contains many mutually unintelligible varieties.[5]\\nThere are also difficulties in obtaining reliable counts of speakers, which vary over time because of population change and language shift.\\nIn some areas, there is no reliable census data, the data is not current, or the census may not record languages spoken, or record them ambiguously.\\nSometimes speaker populations are exaggerated for political reasons, or speakers of minority languages may be under-reported in favour of a national language.[6]\\n\\nContents\\n\\n1 Top languages by population\\n\\n1.1 Ethnologue (2019, 22nd edition)\\n1.2 Nationalencyklopedin (2010)\\n1.3 Charts and graphs\\n\\n\\n2 See also\\n3 Notes\\n4 References\\n5 External links\\n\\n\\nTop languages by population\\nEthnologue (2019, 22nd edition)\\nThe following languages are listed as having at least 10 million first language speakers in the 2019 edition of Ethnologue, a language reference published by SIL International, which is based in the United States.[7]\\n\\n\\nLanguages with at least 10 million first-language speakers[7]\\n\\n\\nRank\\n\\nLanguage\\n\\nSpeakers(millions)\\n\\n% of World pop.(March 2019)[8]\\n\\nLanguage family\\n\\nBranch\\n\\n\\n1\\n\\nMandarin Chinese\\n\\n918\\n\\n11.922\\n\\nSino-Tibetan\\n\\nSinitic\\n\\n\\n2\\n\\nSpanish\\n\\n480\\n\\n5.994\\n\\nIndo-European\\n\\nRomance\\n\\n\\n3\\n\\nEnglish\\n\\n379\\n\\n4.922\\n\\nIndo-European\\n\\nGermanic\\n\\n\\n4\\n\\nHindi (Sanskritised Hindustani)[9]\\n\\n341\\n\\n4.429\\n\\nIndo-European\\n\\nIndo-Aryan\\n\\n\\n5\\n\\nBengali\\n\\n228\\n\\n2.961\\n\\nIndo-European\\n\\nIndo-Aryan\\n\\n\\n6\\n\\nPortuguese\\n\\n221\\n\\n2.870\\n\\nIndo-European\\n\\nRomance\\n\\n\\n7\\n\\nRussian\\n\\n154\\n\\n2.000\\n\\nIndo-European\\n\\nBalto-Slavic\\n\\n\\n8\\n\\nJapanese\\n\\n128\\n\\n1.662\\n\\nJaponic\\n\\nJapanese\\n\\n\\n9\\n\\nWestern Punjabi[10]\\n\\n92.7\\n\\n1.204\\n\\nIndo-European\\n\\nIndo-Aryan\\n\\n\\n10\\n\\nMarathi\\n\\n83.1\\n\\n1.079\\n\\nIndo-European\\n\\nIndo-Aryan\\n\\n\\n11\\n\\nTelugu\\n\\n82.0\\n\\n1.065\\n\\nDravidian\\n\\nSouth-Central\\n\\n\\n12\\n\\nWu Chinese\\n\\n81.4\\n\\n1.057\\n\\nSino-Tibetan\\n\\nSinitic\\n\\n\\n13\\n\\nTurkish\\n\\n79.4\\n\\n1.031\\n\\nTurkic\\n\\nOghuz\\n\\n\\n14\\n\\nKorean\\n\\n77.3\\n\\n1.004\\n\\nKoreanic\\n\\nlanguage isolate\\n\\n\\n15\\n\\nFrench\\n\\n77.2\\n\\n1.003\\n\\nIndo-European\\n\\nRomance\\n\\n\\n16\\n\\nGerman\\n\\n76.1\\n\\n0.988\\n\\nIndo-European\\n\\nGermanic\\n\\n\\n17\\n\\nVietnamese\\n\\n76.0\\n\\n0.987\\n\\nAustroasiatic\\n\\nVietic\\n\\n\\n18\\n\\nTamil\\n\\n75.0\\n\\n0.974\\n\\nDravidian\\n\\nSouth\\n\\n\\n19\\n\\nYue Chinese\\n\\n73.1\\n\\n0.949\\n\\nSino-Tibetan\\n\\nSinitic\\n\\n\\n20\\n\\nUrdu (Persianised Hindustani)[9]\\n\\n68.6\\n\\n0.891\\n\\nIndo-European\\n\\nIndo-Aryan\\n\\n\\n21\\n\\nJavanese\\n\\n68.3\\n\\n0.887\\n\\nAustronesian\\n\\nMalayo-Polynesian\\n\\n\\n22\\n\\nItalian\\n\\n64.8\\n\\n0.842\\n\\nIndo-European\\n\\nRomance\\n\\n\\n23\\n\\nEgyptian Arabic\\n\\n64.6\\n\\n0.839\\n\\nAfroasiatic\\n\\nSemitic\\n\\n\\n24\\n\\nGujarati\\n\\n56.4\\n\\n0.732\\n\\nIndo-European\\n\\nIndo-Aryan\\n\\n\\n25\\n\\nIranian Persian\\n\\n52.8\\n\\n0.686\\n\\nIndo-European\\n\\nIranian\\n\\n\\n26\\n\\nBhojpuri\\n\\n52.2\\n\\n0.678\\n\\nIndo-European\\n\\nIndo-Aryan\\n\\n\\n27\\n\\nMin Nan Chinese\\n\\n50.1\\n\\n0.651\\n\\nSino-Tibetan\\n\\nSinitic\\n\\n\\n28\\n\\nHakka Chinese\\n\\n48.2\\n\\n0.626\\n\\nSino-Tibetan\\n\\nSinitic\\n\\n\\n29\\n\\nJin Chinese\\n\\n46.9\\n\\n0.609\\n\\nSino-Tibetan\\n\\nSinitic\\n\\n\\n30\\n\\nHausa\\n\\n43.9\\n\\n0.570\\n\\nAfroasiatic\\n\\nChadic\\n\\n\\n31\\n\\nKannada\\n\\n43.6\\n\\n0.566\\n\\nDravidian\\n\\nSouth\\n\\n\\n32\\n\\nIndonesian (Indonesian Malay)\\n\\n43.4\\n\\n0.564\\n\\nAustronesian\\n\\nMalayo-Polynesian\\n\\n\\n33\\n\\nPolish\\n\\n39.7\\n\\n0.516\\n\\nIndo-European\\n\\nBalto-Slavic\\n\\n\\n34\\n\\nYoruba\\n\\n37.8\\n\\n0.491\\n\\nNiger–Congo\\n\\nVolta–Niger\\n\\n\\n35\\n\\nXiang Chinese\\n\\n37.3\\n\\n0.484\\n\\nSino-Tibetan\\n\\nSinitic\\n\\n\\n36\\n\\nMalayalam\\n\\n37.1\\n\\n0.482\\n\\nDravidian\\n\\nSouth\\n\\n\\n37\\n\\nOdia\\n\\n34.5\\n\\n0.448\\n\\nIndo-European\\n\\nIndo-Aryan\\n\\n\\n38\\n\\nMaithili\\n\\n33.9\\n\\n0.440\\n\\nIndo-European\\n\\nIndo-Aryan\\n\\n\\n39\\n\\nBurmese\\n\\n32.9\\n\\n0.427\\n\\nSino-Tibetan\\n\\nLolo-Burmese\\n\\n\\n40\\n\\nEastern Punjabi[10]\\n\\n32.6\\n\\n0.423\\n\\nIndo-European\\n\\nIndo-Aryan\\n\\n\\n41\\n\\nSunda\\n\\n32.4\\n\\n0.421\\n\\nAustronesian\\n\\nMalayo-Polynesian\\n\\n\\n42\\n\\nSudanese Arabic\\n\\n31.9\\n\\n0.414\\n\\nAfroasiatic\\n\\nSemitic\\n\\n\\n43\\n\\nAlgerian Arabic\\n\\n29.4\\n\\n0.382\\n\\nAfroasiatic\\n\\nSemitic\\n\\n\\n44\\n\\nMoroccan Arabic\\n\\n27.5\\n\\n0.357\\n\\nAfroasiatic\\n\\nSemitic\\n\\n\\n45\\n\\nUkrainian\\n\\n27.3\\n\\n0.355\\n\\nIndo-European\\n\\nBalto-Slavic\\n\\n\\n46\\n\\nIgbo\\n\\n27.0\\n\\n0.351\\n\\nNiger–Congo\\n\\nVolta–Niger\\n\\n\\n47\\n\\nNorthern Uzbek\\n\\n25.1\\n\\n0.326\\n\\nTurkic\\n\\nKarluk\\n\\n\\n48\\n\\nSindhi\\n\\n24.6\\n\\n0.319\\n\\nIndo-European\\n\\nIndo-Aryan\\n\\n\\n49\\n\\nNorth Levantine Arabic\\n\\n24.6\\n\\n0.319\\n\\nAfroasiatic\\n\\nSemitic\\n\\n\\n50\\n\\nRomanian\\n\\n24.3\\n\\n0.316\\n\\nIndo-European\\n\\nRomance\\n\\n\\n51\\n\\nTagalog\\n\\n23.6\\n\\n0.306\\n\\nAustronesian\\n\\nMalayo-Polynesian\\n\\n\\n52\\n\\nDutch\\n\\n23.1\\n\\n0.300\\n\\nIndo-European\\n\\nGermanic\\n\\n\\n53\\n\\nSaʽidi Arabic\\n\\n22.4\\n\\n0.291\\n\\nAfroasiatic\\n\\nSemitic\\n\\n\\n54\\n\\nGan Chinese\\n\\n22.1\\n\\n0.287\\n\\nSino-Tibetan\\n\\nSinitic\\n\\n\\n55\\n\\nAmharic\\n\\n21.9\\n\\n0.284\\n\\nAfroasiatic\\n\\nSemitic\\n\\n\\n56\\n\\nNorthern Pashto\\n\\n20.9\\n\\n0.271\\n\\nIndo-European\\n\\nIranian\\n\\n\\n57\\n\\nMagahi\\n\\n20.7\\n\\n0.269\\n\\nIndo-European\\n\\nIndo-Aryan\\n\\n\\n58\\n\\nThai\\n\\n20.7\\n\\n0.269\\n\\nKra–Dai\\n\\nTai\\n\\n\\n59\\n\\nSaraiki\\n\\n20.0\\n\\n0.260\\n\\nIndo-European\\n\\nIndo-Aryan\\n\\n\\n60\\n\\nKhmer\\n\\n16.6\\n\\n0.216\\n\\nAustroasiatic\\n\\nKhmer\\n\\n\\n61\\n\\nChhattisgarhi\\n\\n16.3\\n\\n0.212\\n\\nIndo-European\\n\\nIndo-Aryan\\n\\n\\n62\\n\\nSomali\\n\\n16.2\\n\\n0.210\\n\\nAfroasiatic\\n\\nCushitic\\n\\n\\n63\\n\\nMalay (Malaysian Malay)\\n\\n16.1\\n\\n0.209\\n\\nAustronesian\\n\\nMalayo-Polynesian\\n\\n\\n64\\n\\nCebuano\\n\\n15.9\\n\\n0.206\\n\\nAustronesian\\n\\nMalayo-Polynesian\\n\\n\\n65\\n\\nNepali\\n\\n15.8\\n\\n0.205\\n\\nIndo-European\\n\\nIndo-Aryan\\n\\n\\n66\\n\\nMesopotamian Arabic\\n\\n15.7\\n\\n0.204\\n\\nAfroasiatic\\n\\nSemitic\\n\\n\\n67\\n\\nAssamese\\n\\n15.3\\n\\n0.199\\n\\nIndo-European\\n\\nIndo-Aryan\\n\\n\\n68\\n\\nSinhalese\\n\\n15.3\\n\\n0.199\\n\\nIndo-European\\n\\nIndo-Aryan\\n\\n\\n69\\n\\nNorthern Kurdish\\n\\n14.6\\n\\n0.190\\n\\nIndo-European\\n\\nIranian\\n\\n\\n70\\n\\nHejazi Arabic\\n\\n14.5\\n\\n0.188\\n\\nAfroasiatic\\n\\nSemitic\\n\\n\\n71\\n\\nNigerian Fulfulde\\n\\n14.5\\n\\n0.188\\n\\nNiger–Congo\\n\\nSenegambian\\n\\n\\n72\\n\\nBavarian\\n\\n14.1\\n\\n0.183\\n\\nIndo-European\\n\\nGermanic\\n\\n\\n73\\n\\nSouth Azerbaijani\\n\\n13.8\\n\\n0.179\\n\\nTurkic\\n\\nOghuz\\n\\n\\n74\\n\\nGreek\\n\\n13.1\\n\\n0.170\\n\\nIndo-European\\n\\nHellenic\\n\\n\\n75\\n\\nChittagonian\\n\\n13.0\\n\\n0.169\\n\\nIndo-European\\n\\nIndo-Aryan\\n\\n\\n76\\n\\nKazakh\\n\\n12.9\\n\\n0.168\\n\\nTurkic\\n\\nKipchak\\n\\n\\n77\\n\\nDeccan\\n\\n12.8\\n\\n0.166\\n\\nIndo-European\\n\\nIndo-Aryan\\n\\n\\n78\\n\\nHungarian\\n\\n12.6\\n\\n0.164\\n\\nUralic\\n\\nUgric\\n\\n\\n79\\n\\nKinyarwanda\\n\\n12.1\\n\\n0.157\\n\\nNiger–Congo\\n\\nBantu\\n\\n\\n80\\n\\nZulu\\n\\n12.1\\n\\n0.157\\n\\nNiger–Congo\\n\\nBantu\\n\\n\\n81\\n\\nSouth Levantine Arabic\\n\\n11.6\\n\\n0.151\\n\\nAfroasiatic\\n\\nSemitic\\n\\n\\n82\\n\\nTunisian Arabic\\n\\n11.6\\n\\n0.151\\n\\nAfroasiatic\\n\\nSemitic\\n\\n\\n83\\n\\nSanaani Spoken Arabic\\n\\n11.4\\n\\n0.148\\n\\nAfroasiatic\\n\\nSemitic\\n\\n\\n84\\n\\nMin Bei Chinese\\n\\n11.0\\n\\n0.143\\n\\nSino-Tibetan\\n\\nSinitic\\n\\n\\n85\\n\\nSouthern Pashto\\n\\n10.9\\n\\n0.142\\n\\nIndo-European\\n\\nIranian\\n\\n\\n86\\n\\nRundi\\n\\n10.8\\n\\n0.140\\n\\nNiger–Congo\\n\\nBantu\\n\\n\\n87\\n\\nCzech\\n\\n10.7\\n\\n0.139\\n\\nIndo-European\\n\\nBalto-Slavic\\n\\n\\n88\\n\\nTaʽizzi-Adeni Arabic\\n\\n10.5\\n\\n0.136\\n\\nAfroasiatic\\n\\nSemitic\\n\\n\\n89\\n\\nUyghur\\n\\n10.4\\n\\n0.135\\n\\nTurkic\\n\\nKarluk\\n\\n\\n90\\n\\nMin Dong Chinese\\n\\n10.3\\n\\n0.134\\n\\nSino-Tibetan\\n\\nSinitic\\n\\n\\n91\\n\\nSylheti\\n\\n10.3\\n\\n0.134\\n\\nIndo-European\\n\\nIndo-Aryan\\n\\nNationalencyklopedin (2010)\\nThis section needs to be updated. The reason given is: the 2010 edition of Nationalencyklopedin has revised figures. Please update this article to reflect recent events or newly available information. (November 2018)\\nThe following table contains the top 100 languages by estimated number of native speakers in the 2007 edition of the Swedish encyclopedia Nationalencyklopedin. As census methods in different countries vary to a considerable extent, and given that some countries do not record language in their censuses, any list of languages by native speakers, or total speakers, is effectively based on estimates. Updated estimates from 2010 are also provided.[11]\\nThe top eleven languages have additional figures from the 2010 edition of the Nationalencyklopedin. Numbers above 95 million are rounded off to the nearest 5 million.\\n\\n\\nTop languages by population per Nationalencyklopedin\\n\\n\\nRank\\n\\nLanguage\\n\\nNativespeakersin millions2007 (2010)\\n\\nPercentageof worldpopulation(2007)\\n\\n\\n1\\nMandarin (entire branch)\\n935 (955)\\n14.1%\\n\\n\\n2\\nSpanish\\n390 (405)\\n5.85%\\n\\n\\n3\\nEnglish\\n365 (360)\\n5.52%\\n\\n\\n4\\nHindi[a]\\n295 (310)\\n4.46%\\n\\n\\n5\\nArabic\\n280 (295)\\n4.23%\\n\\n\\n6\\nPortuguese\\n205 (215)\\n3.08%\\n\\n\\n7\\nBengali\\n200 (205)\\n3.05%\\n\\n\\n8\\nRussian\\n160 (155)\\n2.42%\\n\\n\\n9\\nJapanese\\n125 (125)\\n1.92%\\n\\n\\n10\\nPunjabi\\n95 (100)\\n1.44%\\n\\n\\n11\\nGerman\\n92 (95)\\n1.39%\\n\\n\\n12\\nJavanese\\n82\\n1.25%\\n\\n\\n13\\nWu (inc. Shanghainese)\\n80\\n1.20%\\n\\n\\n14\\nMalay (inc. Indonesian and Malaysian)\\n77\\n1.16%\\n\\n\\n15\\nTelugu\\n76\\n1.15%\\n\\n\\n16\\nVietnamese\\n76\\n1.14%\\n\\n\\n17\\nKorean\\n76\\n1.14%\\n\\n\\n18\\nFrench\\n75\\n1.12%\\n\\n\\n19\\nMarathi\\n73\\n1.10%\\n\\n\\n20\\nTamil\\n70\\n1.06%\\n\\n\\n21\\nUrdu\\n66\\n0.99%\\n\\n\\n22\\nTurkish\\n63\\n0.95%\\n\\n\\n23\\nItalian\\n59\\n0.90%\\n\\n\\n24\\nYue (inc. Cantonese)\\n59\\n0.89%\\n\\n\\n25\\nThai\\n56\\n0.85%\\n\\n\\n26\\nGujarati\\n49\\n0.74%\\n\\n\\n27\\nJin\\n48\\n0.72%\\n\\n\\n28\\nSouthern Min (inc. Hokkien and Teochew)\\n47\\n0.71%\\n\\n\\n29\\nPersian\\n45\\n0.68%\\n\\n\\n30\\nPolish\\n40\\n0.61%\\n\\n\\n31\\nPashto\\n39\\n0.58%\\n\\n\\n32\\nKannada\\n38\\n0.58%\\n\\n\\n33\\nXiang\\n38\\n0.58%\\n\\n\\n34\\nMalayalam\\n38\\n0.57%\\n\\n\\n35\\nSundanese\\n38\\n0.57%\\n\\n\\n36\\nHausa\\n34\\n0.52%\\n\\n\\n37\\nOdia (Oriya)\\n33\\n0.50%\\n\\n\\n38\\nBurmese\\n33\\n0.50%\\n\\n\\n39\\nHakka\\n31\\n0.46%\\n\\n\\n40\\nUkrainian\\n30\\n0.46%\\n\\n\\n41\\nBhojpuri\\n29[b]\\n0.43%\\n\\n\\n42\\nTagalog (Filipino)\\n28\\n0.42%\\n\\n\\n43\\nYoruba\\n28\\n0.42%\\n\\n\\n44\\nMaithili\\n27[b]\\n0.41%\\n\\n\\n45\\nUzbek\\n26\\n0.39%\\n\\n\\n46\\nSindhi\\n26\\n0.39%\\n\\n\\n47\\nAmharic\\n25\\n0.37%\\n\\n\\n48\\nFula\\n24\\n0.37%\\n\\n\\n49\\nRomanian\\n24\\n0.37%\\n\\n\\n50\\nOromo\\n24\\n0.36%\\n\\n\\n51\\nIgbo\\n24\\n0.36%\\n\\n\\n52\\nAzerbaijani\\n23\\n0.34%\\n\\n\\n53\\nAwadhi\\n22[b]\\n0.33%\\n\\n\\n54\\nGan\\n22\\n0.33%\\n\\n\\n55\\nCebuano (Visayan)\\n21\\n0.32%\\n\\n\\n56\\nDutch\\n21\\n0.32%\\n\\n\\n57\\nKurdish\\n21\\n0.31%\\n\\n\\n58\\nSerbo-Croatian\\n19\\n0.28%\\n\\n\\n59\\nMalagasy\\n18\\n0.28%\\n\\n\\n60\\nSaraiki\\n17[c]\\n0.26%\\n\\n\\n61\\nNepali\\n17\\n0.25%\\n\\n\\n62\\nSinhala\\n16\\n0.25%\\n\\n\\n63\\nChittagonian\\n16\\n0.24%\\n\\n\\n64\\nZhuang\\n16\\n0.24%\\n\\n\\n65\\nKhmer\\n16\\n0.24%\\n\\n\\n66\\nTurkmen\\n16\\n0.24%\\n\\n\\n67\\nAssamese\\n15\\n0.23%\\n\\n\\n68\\nMadurese\\n15\\n0.23%\\n\\n\\n69\\nSomali\\n15\\n0.22%\\n\\n\\n70\\nMarwari\\n14[b]\\n0.21%\\n\\n\\n71\\nMagahi\\n14[b]\\n0.21%\\n\\n\\n72\\nHaryanvi\\n14[b]\\n0.21%\\n\\n\\n73\\nHungarian\\n13\\n0.19%\\n\\n\\n74\\nChhattisgarhi\\n12[b]\\n0.19%\\n\\n\\n75\\nGreek\\n12\\n0.18%\\n\\n\\n76\\nChewa\\n12\\n0.17%\\n\\n\\n77\\nDeccan\\n11\\n0.17%\\n\\n\\n78\\nAkan\\n11\\n0.17%\\n\\n\\n79\\nKazakh\\n11\\n0.17%\\n\\n\\n80\\nNorthern Min[disputed  – discuss]\\n10.9\\n0.16%\\n\\n\\n81\\nSylheti\\n10.7\\n0.16%\\n\\n\\n82\\nZulu\\n10.4\\n0.16%\\n\\n\\n83\\nCzech\\n10.0\\n0.15%\\n\\n\\n84\\nKinyarwanda\\n9.8\\n0.15%\\n\\n\\n85\\nDhundhari\\n9.6[b]\\n0.15%\\n\\n\\n86\\nHaitian Creole\\n9.6\\n0.15%\\n\\n\\n87\\nEastern Min (inc. Fuzhou dialect)\\n9.5\\n0.14%\\n\\n\\n88\\nIlocano\\n9.1\\n0.14%\\n\\n\\n89\\nQuechua\\n8.9\\n0.13%\\n\\n\\n90\\nKirundi\\n8.8\\n0.13%\\n\\n\\n91\\nSwedish\\n8.7\\n0.13%\\n\\n\\n92\\nHmong\\n8.4\\n0.13%\\n\\n\\n93\\nShona\\n8.3\\n0.13%\\n\\n\\n94\\nUyghur\\n8.2\\n0.12%\\n\\n\\n95\\nHiligaynon/Ilonggo (Visayan)\\n8.2\\n0.12%\\n\\n\\n96\\nMossi\\n7.6\\n0.11%\\n\\n\\n97\\nXhosa\\n7.6\\n0.11%\\n\\n\\n98\\nBelarusian\\n7.6[d]\\n0.11%\\n\\n\\n99\\nBalochi\\n7.6\\n0.11%\\n\\n\\n100\\nKonkani\\n7.4\\n0.11%\\n\\n\\nTotal\\n\\n\\n5,610\\n85%\\n\\nCharts and graphs\\n\\n\\n\\n\\nBubble chart of languages by proportion of native speakers worldwide[11]\\n\\n\\n\\n\\n\\n\\nLanguages with at least 50 million first-language speakers, millions (according to: Ethnologue[13])\\n\\n\\n\\n\\nSee also\\n\\nGlobal language system\\nLanguages of Africa\\nLanguages used on the Internet\\nLinguistic demography\\nLinguistic diversity index\\nList of ISO 639-3 codes\\nList of languages by number of native speakers in India (uses a different definition of Hindi)\\nList of languages by the number of countries in which they are recognized as an official language\\nList of languages by total number of speakers\\nList of sign languages by number of native signers\\nLists of languages\\nNumber of languages by country\\nWorld language\\n\\nNotes\\n\\n\\n^ Refers to only Modern Standard Hindi here. The Census of India defines Hindi on a loose and broad basis. It does not include the entire Hindustani language, only the Hindi register of it. In addition to Standard Hindi, it incorporates a set of other Indo-Aryan languages written in Devanagari script including Awadhi, Bhojpuri, Haryanvi, Dhundhari etc. under Hindi group which have more than 422 million native speakers as of 2001.[12] However, the census also acknowledges Standard Hindi, the above mentioned languages and others as separate mother tongues of the Hindi language and provides individual figures for all these languages.[12]\\n\\n^ a b c d e f g h This is only a fraction of total speakers; others are counted under \"Hindi\" as they regard their language a Hindi dialect.\\n\\n^ Numbers may also be counted in Punjabi above\\n\\n^ Only half this many use Belarusian as their home language.\\n\\n\\nReferences\\n\\n\\n^ a b Paolillo, John C.; Das, Anupam (31 March 2006). \"Evaluating language statistics: the Ethnologue and beyond\" (PDF). UNESCO Institute of Statistics. pp.\\xa03–5. Retrieved 17 November 2018..mw-parser-output cite.citation{font-style:inherit}.mw-parser-output .citation q{quotes:\"\\\\\"\"\"\\\\\"\"\"\\'\"\"\\'\"}.mw-parser-output .id-lock-free a,.mw-parser-output .citation .cs1-lock-free a{background-image:url(\"//upload.wikimedia.org/wikipedia/commons/thumb/6/65/Lock-green.svg/9px-Lock-green.svg.png\");background-image:linear-gradient(transparent,transparent),url(\"//upload.wikimedia.org/wikipedia/commons/6/65/Lock-green.svg\");background-repeat:no-repeat;background-size:9px;background-position:right .1em center}.mw-parser-output .id-lock-limited a,.mw-parser-output .id-lock-registration a,.mw-parser-output .citation .cs1-lock-limited a,.mw-parser-output .citation .cs1-lock-registration a{background-image:url(\"//upload.wikimedia.org/wikipedia/commons/thumb/d/d6/Lock-gray-alt-2.svg/9px-Lock-gray-alt-2.svg.png\");background-image:linear-gradient(transparent,transparent),url(\"//upload.wikimedia.org/wikipedia/commons/d/d6/Lock-gray-alt-2.svg\");background-repeat:no-repeat;background-size:9px;background-position:right .1em center}.mw-parser-output .id-lock-subscription a,.mw-parser-output .citation .cs1-lock-subscription a{background-image:url(\"//upload.wikimedia.org/wikipedia/commons/thumb/a/aa/Lock-red-alt-2.svg/9px-Lock-red-alt-2.svg.png\");background-image:linear-gradient(transparent,transparent),url(\"//upload.wikimedia.org/wikipedia/commons/a/aa/Lock-red-alt-2.svg\");background-repeat:no-repeat;background-size:9px;background-position:right .1em center}.mw-parser-output .cs1-subscription,.mw-parser-output .cs1-registration{color:#555}.mw-parser-output .cs1-subscription span,.mw-parser-output .cs1-registration span{border-bottom:1px dotted;cursor:help}.mw-parser-output .cs1-ws-icon a{background-image:url(\"//upload.wikimedia.org/wikipedia/commons/thumb/4/4c/Wikisource-logo.svg/12px-Wikisource-logo.svg.png\");background-image:linear-gradient(transparent,transparent),url(\"//upload.wikimedia.org/wikipedia/commons/4/4c/Wikisource-logo.svg\");background-repeat:no-repeat;background-size:12px;background-position:right .1em center}.mw-parser-output code.cs1-code{color:inherit;background:inherit;border:inherit;padding:inherit}.mw-parser-output .cs1-hidden-error{display:none;font-size:100%}.mw-parser-output .cs1-visible-error{font-size:100%}.mw-parser-output .cs1-maint{display:none;color:#33aa33;margin-left:0.3em}.mw-parser-output .cs1-subscription,.mw-parser-output .cs1-registration,.mw-parser-output .cs1-format{font-size:95%}.mw-parser-output .cs1-kern-left,.mw-parser-output .cs1-kern-wl-left{padding-left:0.2em}.mw-parser-output .cs1-kern-right,.mw-parser-output .cs1-kern-wl-right{padding-right:0.2em}.mw-parser-output .citation .mw-selflink{font-weight:inherit}\\n\\n^ Chambers, J.K.; Trudgill, Peter (1998). Dialectology (2nd ed.). Cambridge University Press. ISBN\\xa0978-0-521-59646-6.\\n\\n^ Kaye, Alan S.; Rosenhouse, Judith (1997). \"Arabic Dialects and Maltese\".  In Hetzron, Robert (ed.). The Semitic Languages. Routledge. pp.\\xa0263–311. ISBN\\xa0978-0-415-05767-7.\\n\\n^ Norman, Jerry (1988). Chinese. Cambridge University Press. p.\\xa02. ISBN\\xa0978-0-521-29653-3.\\n\\n^ Norman, Jerry (2003). \"The Chinese dialects: phonology\".  In Thurgood, Graham; LaPolla, Randy J. (eds.). The Sino-Tibetan languages. Routledge. pp.\\xa072–83. ISBN\\xa0978-0-7007-1129-1.\\n\\n^ Crystal, David (1988). The Cambridge Encyclopedia of Language. Cambridge University Press. pp.\\xa0286–287. ISBN\\xa0978-0-521-26438-9.\\n\\n^ a b \"Summary by language size\". Ethnologue. Retrieved 12 March 2019. For items below #26, see individual Ethnologue entry for each language.\\n\\n^ \"World Population Clock: 7.7 Billion People (2019) - Worldometers\". www.worldometers.info. Retrieved 31 March 2019.\\n\\n^ a b Hindi and Urdu are often classified as standardized registers of a single Hindustani language.\\n\\n^ a b Defined at the national border with different writing systems rather than by language\\n\\n^ a b Mikael Parkvall, \"Världens 100 största språk 2007\" (The World\\'s 100 Largest Languages in 2007), in Nationalencyklopedin. Asterisks mark the 2010 estimates for the top dozen languages.\\n\\n^ a b Abstract of speakers\\' strength of languages and mother tongues – 2000, Census of India, 2001\\n\\n^ Summary by language size\\n\\n\\nExternal links\\nThe Ethnologue\\'s most recent list of languages by number of speakers\\nLanguages Spoken by More Than 10 Million People (Archived 2009-10-31) – Encarta list, based on data from Ethnologue, but some figures (e.g. for Arabic) widely vary from it\\nMap of World Languages. Download of MP3 audio files in 1600 language combinations.\\nvteCountries and languages listsCountriesBy languagesSpoken\\nCountries by spoken languages\\nOfficial\\nCountries by the number of recognized official languages\\nArabic\\nChinese\\nDutch/Afrikaans\\nEnglish\\nFrench\\nGerman\\nMalay\\nPersian\\nPortuguese\\nRomanian\\nRussian\\nSpanish\\nTamil\\nEndonyms\\nCountries and capitals in native languages\\nExonyms\\nCountry names in various languages\\nA–C\\nD–I\\nJ–P\\nQ–Z\\nChina\\nGermany\\nIceland\\nIndia\\nIndonesia\\nJapan\\nKorea\\nKosovo\\nMyanmar\\nSingapore\\nSri Lanka\\nVietnam\\nLanguages of the European Union\\nLanguagesBy continent\\nAfrica\\nAmericas\\nNorth\\nSouth\\nAsia\\nEast\\nSouth\\nEurope\\nOceania\\nBy country\\nOfficial languages\\nby state\\nList of languages without official status\\nCountries by the number of recognized official languages\\nLanguages by the number of countries in which they are recognized as an official language\\nNumber of languages\\nBy population\\nBy number of native speakers\\nBy number of total speakers\\nLanguages in censuses\\nBy family\\nLanguage families\\nList of Afro-Asiatic languages\\nList of Austronesian languages\\nList of Indo-European languages\\nList of Mongolic languages\\nList of Tungusic languages\\nList of Turkic languages\\nList of Uralic languages\\nLanguage-basedgeopoliticalorganizations\\nArab League (Arabic)\\nDutch Language Union (Dutch)\\nEnglish Speaking Union\\nFrancophonie (French)\\nCommunity of Portuguese Language Countries (Portuguese)\\nPaíses Africanos de Língua Oficial Portuguesa (Portuguese)\\nLatin Union\\xa0(Romance)\\nHispanidad (Spanish)\\nTurkic Council\\xa0(Turkic)\\nInternational Organization of Turkic Culture\\xa0(Turkic)\\nThree Linguistic Spaces (French, Portuguese and Spanish)\\nSee also\\nLists of languages\\nCategory:Languages\\n\\n\\n\\n\\n\\nRetrieved from \"https://en.wikipedia.org/w/index.php?title=List_of_languages_by_number_of_native_speakers&oldid=974847542\"\\nCategories: Lists of languagesHidden categories: Wikipedia indefinitely semi-protected pagesArticles with short descriptionShort description is different from WikidataUse dmy dates from April 2020Wikipedia articles in need of updating from November 2018All Wikipedia articles in need of updatingAll accuracy disputesArticles with disputed statements from January 2017\\n\\n\\n\\n\\n\\n\\nNavigation menu\\n\\n\\n\\n\\nPersonal tools\\n\\n\\n\\n\\nNot logged inTalkContributionsCreate accountLog in\\n\\n\\n\\n\\n\\n\\nNamespaces\\n\\n\\n\\n\\nArticleTalk\\n\\n\\n\\n\\n\\n\\nVariants\\n\\n\\n\\n\\n\\n\\n\\n\\n\\n\\n\\n\\nViews\\n\\n\\n\\n\\nReadView sourceView history\\n\\n\\n\\n\\n\\n\\nMore\\n\\n\\n\\n\\n\\n\\n\\n\\n\\nSearch\\n\\n\\n\\n\\n\\n\\n\\n\\n\\n\\n\\n\\n\\n\\n\\n\\n\\n\\n\\nNavigation\\n\\n\\n\\n\\nMain pageContentsCurrent eventsRandom articleAbout WikipediaContact usDonateWikipedia store\\n\\n\\n\\n\\n\\nContribute\\n\\n\\n\\n\\nHelpCommunity portalRecent changesUpload file\\n\\n\\n\\n\\n\\nTools\\n\\n\\n\\n\\nWhat links hereRelated changesUpload fileSpecial pagesPermanent linkPage informationCite this pageWikidata item\\n\\n\\n\\n\\n\\nPrint/export\\n\\n\\n\\n\\nDownload as PDFPrintable version\\n\\n\\n\\n\\n\\nIn other projects\\n\\n\\n\\n\\nWiktionary\\n\\n\\n\\n\\n\\nLanguages\\n\\n\\n\\n\\nالعربيةAsturianuAzərbaycancaবাংলাभोजपुरीBrezhonegCatalàČeštinaCymraegDanskΕλληνικάEspañolEsperantoEuskaraفارسیFrançaisGaeilgeGalego한국어हिन्दीHrvatskiBahasa IndonesiaInterlinguaИронItalianoಕನ್ನಡКъарачай-малкъарҚазақшаLatviešuЛезгиLietuviųMagyarМакедонскиमराठीBahasa Melayuမြန်မာဘာသာNederlands日本語Norsk bokmålNorsk nynorskOʻzbekcha/ўзбекчаPapiamentuPolskiPortuguêsRomânăРусскийShqipSimple EnglishSlovenčinaSlovenščinaСрпски / srpskiSrpskohrvatski / српскохрватскиSuomiSvenskaதமிழ்Татарча/tatarçaไทยTürkçeУкраїнськаاردوTiếng Việt吴语Yorùbá粵語Žemaitėška中文\\nEdit links\\n\\n\\n\\n\\n\\n\\n This page was last edited on 25 August 2020, at 10:55\\xa0(UTC).\\nText is available under the Creative Commons Attribution-ShareAlike License;\\nadditional terms may apply.  By using this site, you agree to the Terms of Use and Privacy Policy. Wikipedia® is a registered trademark of the Wikimedia Foundation, Inc., a non-profit organization.\\n\\n\\nPrivacy policy\\nAbout Wikipedia\\nDisclaimers\\nContact Wikipedia\\nMobile view\\nDevelopers\\nStatistics\\nCookie statement\\n\\n\\n\\n\\n\\n\\n\\n(RLQ=window.RLQ||[]).push(function(){mw.config.set({\"wgPageParseReport\":{\"limitreport\":{\"cputime\":\"0.640\",\"walltime\":\"0.805\",\"ppvisitednodes\":{\"value\":3877,\"limit\":1000000},\"postexpandincludesize\":{\"value\":81583,\"limit\":2097152},\"templateargumentsize\":{\"value\":5908,\"limit\":2097152},\"expansiondepth\":{\"value\":15,\"limit\":40},\"expensivefunctioncount\":{\"value\":6,\"limit\":500},\"unstrip-depth\":{\"value\":1,\"limit\":20},\"unstrip-size\":{\"value\":40451,\"limit\":5000000},\"entityaccesscount\":{\"value\":0,\"limit\":400},\"timingprofile\":[\"100.00%  650.904      1 -total\",\" 27.03%  175.920      2 Template:Reflist\",\" 20.00%  130.193    101 Template:Rnd\",\" 16.68%  108.582      3 Template:Cite_web\",\"  8.68%   56.486      7 Template:Main_other\",\"  8.60%   55.949      1 Template:Pp-semi-indef\",\"  7.43%   48.364      1 Template:Update_section\",\"  6.95%   45.251      1 Template:About\",\"  6.75%   43.968      1 Template:Update\",\"  6.08%   39.571      1 Template:Countries_and_languages_lists\"]},\"scribunto\":{\"limitreport-timeusage\":{\"value\":\"0.272\",\"limit\":\"10.000\"},\"limitreport-memusage\":{\"value\":5513976,\"limit\":52428800}},\"cachereport\":{\"origin\":\"mw1281\",\"timestamp\":\"20200825105421\",\"ttl\":2592000,\"transientcontent\":false}}});});\\n{\"@context\":\"https:\\\\/\\\\/schema.org\",\"@type\":\"Article\",\"name\":\"List of languages by number of native speakers\",\"url\":\"https:\\\\/\\\\/en.wikipedia.org\\\\/wiki\\\\/List_of_languages_by_number_of_native_speakers\",\"sameAs\":\"http:\\\\/\\\\/www.wikidata.org\\\\/entity\\\\/Q4319\",\"mainEntity\":\"http:\\\\/\\\\/www.wikidata.org\\\\/entity\\\\/Q4319\",\"author\":{\"@type\":\"Organization\",\"name\":\"Contributors to Wikimedia projects\"},\"publisher\":{\"@type\":\"Organization\",\"name\":\"Wikimedia Foundation, Inc.\",\"logo\":{\"@type\":\"ImageObject\",\"url\":\"https:\\\\/\\\\/www.wikimedia.org\\\\/static\\\\/images\\\\/wmf-hor-googpub.png\"}},\"datePublished\":\"2003-12-17T07:38:59Z\",\"dateModified\":\"2020-08-25T10:55:12Z\",\"image\":\"https:\\\\/\\\\/upload.wikimedia.org\\\\/wikipedia\\\\/commons\\\\/c\\\\/c8\\\\/Human_Language_Families.png\",\"headline\":\"Wikimedia list article\"}\\n(RLQ=window.RLQ||[]).push(function(){mw.config.set({\"wgBackendResponseTime\":172,\"wgHostname\":\"mw1269\"});});\\n'"
      ]
     },
     "execution_count": 427,
     "metadata": {},
     "output_type": "execute_result"
    }
   ],
   "source": [
    "#your code\n",
    "r = requests.get(url)\n",
    "soup = BeautifulSoup(r.content, 'html.parser')\n",
    "soup.text"
   ]
  },
  {
   "cell_type": "code",
   "execution_count": 438,
   "metadata": {},
   "outputs": [],
   "source": [
    "lang =soup.select(\"tbody tr td a\")"
   ]
  },
  {
   "cell_type": "code",
   "execution_count": 439,
   "metadata": {},
   "outputs": [
    {
     "data": {
      "text/plain": [
       "'Mandarin Chinese'"
      ]
     },
     "execution_count": 439,
     "metadata": {},
     "output_type": "execute_result"
    }
   ],
   "source": [
    "lang[0].text\n"
   ]
  },
  {
   "cell_type": "code",
   "execution_count": 444,
   "metadata": {},
   "outputs": [],
   "source": [
    "languages = []\n",
    "for i in lang:\n",
    "    language = i.text\n",
    "    languages.append( language)"
   ]
  },
  {
   "cell_type": "code",
   "execution_count": 445,
   "metadata": {},
   "outputs": [
    {
     "data": {
      "text/plain": [
       "['Mandarin Chinese',\n",
       " 'Sino-Tibetan',\n",
       " 'Sinitic',\n",
       " 'Spanish',\n",
       " 'Indo-European',\n",
       " 'Romance',\n",
       " 'English',\n",
       " 'Indo-European',\n",
       " 'Germanic',\n",
       " 'Hindi']"
      ]
     },
     "execution_count": 445,
     "metadata": {},
     "output_type": "execute_result"
    }
   ],
   "source": [
    "languages[:10]"
   ]
  },
  {
   "cell_type": "markdown",
   "metadata": {},
   "source": [
    "### BONUS QUESTIONS"
   ]
  },
  {
   "cell_type": "markdown",
   "metadata": {},
   "source": [
    "#### Scrape a certain number of tweets of a given Twitter account."
   ]
  },
  {
   "cell_type": "code",
   "execution_count": null,
   "metadata": {
    "collapsed": true
   },
   "outputs": [],
   "source": [
    "# This is the url you will scrape in this exercise \n",
    "# You will need to add the account credentials to this url\n",
    "url = 'https://twitter.com/'"
   ]
  },
  {
   "cell_type": "code",
   "execution_count": null,
   "metadata": {
    "collapsed": true
   },
   "outputs": [],
   "source": [
    "# your code"
   ]
  },
  {
   "cell_type": "markdown",
   "metadata": {},
   "source": [
    "#### IMDB's Top 250 data (movie name, Initial release, director name and stars) as a pandas dataframe"
   ]
  },
  {
   "cell_type": "code",
   "execution_count": null,
   "metadata": {
    "collapsed": true
   },
   "outputs": [],
   "source": [
    "# This is the url you will scrape in this exercise \n",
    "url = 'https://www.imdb.com/chart/top'"
   ]
  },
  {
   "cell_type": "code",
   "execution_count": null,
   "metadata": {
    "collapsed": true
   },
   "outputs": [],
   "source": [
    "# your code"
   ]
  },
  {
   "cell_type": "markdown",
   "metadata": {},
   "source": [
    "#### Movie name, year and a brief summary of the top 10 random movies (IMDB) as a pandas dataframe."
   ]
  },
  {
   "cell_type": "code",
   "execution_count": null,
   "metadata": {
    "collapsed": true
   },
   "outputs": [],
   "source": [
    "#This is the url you will scrape in this exercise\n",
    "url = 'http://www.imdb.com/chart/top'"
   ]
  },
  {
   "cell_type": "code",
   "execution_count": null,
   "metadata": {
    "collapsed": true
   },
   "outputs": [],
   "source": [
    "#your code"
   ]
  },
  {
   "cell_type": "markdown",
   "metadata": {},
   "source": [
    "#### Find the live weather report (temperature, wind speed, description and weather) of a given city."
   ]
  },
  {
   "cell_type": "code",
   "execution_count": null,
   "metadata": {
    "collapsed": true
   },
   "outputs": [],
   "source": [
    "#https://openweathermap.org/current\n",
    "city = city=input('Enter the city:')\n",
    "url = 'http://api.openweathermap.org/data/2.5/weather?'+'q='+city+'&APPID=b35975e18dc93725acb092f7272cc6b8&units=metric'"
   ]
  },
  {
   "cell_type": "code",
   "execution_count": null,
   "metadata": {
    "collapsed": true
   },
   "outputs": [],
   "source": [
    "# your code"
   ]
  },
  {
   "cell_type": "markdown",
   "metadata": {},
   "source": [
    "#### Book name,price and stock availability as a pandas dataframe."
   ]
  },
  {
   "cell_type": "code",
   "execution_count": null,
   "metadata": {
    "collapsed": true
   },
   "outputs": [],
   "source": [
    "# This is the url you will scrape in this exercise. \n",
    "# It is a fictional bookstore created to be scraped. \n",
    "url = 'http://books.toscrape.com/'"
   ]
  },
  {
   "cell_type": "code",
   "execution_count": null,
   "metadata": {
    "collapsed": true
   },
   "outputs": [],
   "source": [
    "#your code"
   ]
  }
 ],
 "metadata": {
  "kernelspec": {
   "display_name": "Python 3",
   "language": "python",
   "name": "python3"
  },
  "language_info": {
   "codemirror_mode": {
    "name": "ipython",
    "version": 3
   },
   "file_extension": ".py",
   "mimetype": "text/x-python",
   "name": "python",
   "nbconvert_exporter": "python",
   "pygments_lexer": "ipython3",
   "version": "3.7.6"
  }
 },
 "nbformat": 4,
 "nbformat_minor": 2
}
